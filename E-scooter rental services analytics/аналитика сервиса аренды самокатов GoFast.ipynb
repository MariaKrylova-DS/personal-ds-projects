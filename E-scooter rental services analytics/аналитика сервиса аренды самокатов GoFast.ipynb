{
 "cells": [
  {
   "cell_type": "markdown",
   "id": "4c6aa33d",
   "metadata": {},
   "source": [
    "#### Описание проекта"
   ]
  },
  {
   "cell_type": "markdown",
   "id": "d6c5b24e",
   "metadata": {},
   "source": [
    "Область анализа - проводится аналитика сервиса аренды самокатов GoFast.<br/>\n",
    "Данные - имеются данные о некоторых пользователях из нескольких городов, а также об их поездках.\n",
    "<br/>\n",
    "Задача проекта - проанализировать данные и проверить некоторые гипотезы, которые могут помочь бизнесу вырасти.<br/>\n",
    "Дополнительная инофрмация - сервис функционирует через мобильное приложение, в котором доступны два тарифа - с подпиской, без подписки:<br/>\n",
    "\n",
    "без подписки\n",
    "- абонентская плата отсутствует;\n",
    "- стоимость одной минуты поездки — 88 рублей;\n",
    "- стоимость старта (начала поездки) — 5050 рублей;\n",
    "\n",
    "с подпиской Ultra\n",
    "- абонентская плата — 199 рублей в месяц;\n",
    "- стоимость одной минуты поездки — 66 рублей;\n",
    "- стоимость старта — бесплатно.\n"
   ]
  },
  {
   "cell_type": "markdown",
   "id": "c42cbe00",
   "metadata": {},
   "source": [
    "#### Загрузка данных"
   ]
  },
  {
   "cell_type": "code",
   "execution_count": 1,
   "id": "72576667",
   "metadata": {},
   "outputs": [],
   "source": [
    "from scipy import stats as st\n",
    "import pandas as pd\n",
    "import numpy as np"
   ]
  },
  {
   "cell_type": "markdown",
   "id": "be78deb7",
   "metadata": {},
   "source": [
    "##### Считаны CSV-файлы с данными с помощью библиотеки pandas и сохранены в датафреймы."
   ]
  },
  {
   "cell_type": "code",
   "execution_count": 2,
   "id": "eff9f206",
   "metadata": {},
   "outputs": [],
   "source": [
    "users=pd.read_csv('')\n",
    "rides=pd.read_csv('')\n",
    "sub=pd.read_csv('')"
   ]
  },
  {
   "cell_type": "markdown",
   "id": "14028ff5",
   "metadata": {},
   "source": [
    "##### Изучена общая информация о каждом датафрейме. Выведены первые 10 строк каждого набора данных."
   ]
  },
  {
   "cell_type": "code",
   "execution_count": 3,
   "id": "e481ca11",
   "metadata": {},
   "outputs": [
    {
     "name": "stdout",
     "output_type": "stream",
     "text": [
      "<class 'pandas.core.frame.DataFrame'>\n",
      "RangeIndex: 1565 entries, 0 to 1564\n",
      "Data columns (total 5 columns):\n",
      " #   Column             Non-Null Count  Dtype \n",
      "---  ------             --------------  ----- \n",
      " 0   user_id            1565 non-null   int64 \n",
      " 1   name               1565 non-null   object\n",
      " 2   age                1565 non-null   int64 \n",
      " 3   city               1565 non-null   object\n",
      " 4   subscription_type  1565 non-null   object\n",
      "dtypes: int64(2), object(3)\n",
      "memory usage: 61.3+ KB\n"
     ]
    }
   ],
   "source": [
    "users.info()"
   ]
  },
  {
   "cell_type": "code",
   "execution_count": 4,
   "id": "23940636",
   "metadata": {},
   "outputs": [
    {
     "data": {
      "text/html": [
       "<div>\n",
       "<style scoped>\n",
       "    .dataframe tbody tr th:only-of-type {\n",
       "        vertical-align: middle;\n",
       "    }\n",
       "\n",
       "    .dataframe tbody tr th {\n",
       "        vertical-align: top;\n",
       "    }\n",
       "\n",
       "    .dataframe thead th {\n",
       "        text-align: right;\n",
       "    }\n",
       "</style>\n",
       "<table border=\"1\" class=\"dataframe\">\n",
       "  <thead>\n",
       "    <tr style=\"text-align: right;\">\n",
       "      <th></th>\n",
       "      <th>user_id</th>\n",
       "      <th>name</th>\n",
       "      <th>age</th>\n",
       "      <th>city</th>\n",
       "      <th>subscription_type</th>\n",
       "    </tr>\n",
       "  </thead>\n",
       "  <tbody>\n",
       "    <tr>\n",
       "      <th>0</th>\n",
       "      <td>1</td>\n",
       "      <td>Кира</td>\n",
       "      <td>22</td>\n",
       "      <td>Тюмень</td>\n",
       "      <td>ultra</td>\n",
       "    </tr>\n",
       "    <tr>\n",
       "      <th>1</th>\n",
       "      <td>2</td>\n",
       "      <td>Станислав</td>\n",
       "      <td>31</td>\n",
       "      <td>Омск</td>\n",
       "      <td>ultra</td>\n",
       "    </tr>\n",
       "    <tr>\n",
       "      <th>2</th>\n",
       "      <td>3</td>\n",
       "      <td>Алексей</td>\n",
       "      <td>20</td>\n",
       "      <td>Москва</td>\n",
       "      <td>ultra</td>\n",
       "    </tr>\n",
       "    <tr>\n",
       "      <th>3</th>\n",
       "      <td>4</td>\n",
       "      <td>Константин</td>\n",
       "      <td>26</td>\n",
       "      <td>Ростов-на-Дону</td>\n",
       "      <td>ultra</td>\n",
       "    </tr>\n",
       "    <tr>\n",
       "      <th>4</th>\n",
       "      <td>5</td>\n",
       "      <td>Адель</td>\n",
       "      <td>28</td>\n",
       "      <td>Омск</td>\n",
       "      <td>ultra</td>\n",
       "    </tr>\n",
       "    <tr>\n",
       "      <th>5</th>\n",
       "      <td>6</td>\n",
       "      <td>Регина</td>\n",
       "      <td>25</td>\n",
       "      <td>Краснодар</td>\n",
       "      <td>ultra</td>\n",
       "    </tr>\n",
       "    <tr>\n",
       "      <th>6</th>\n",
       "      <td>7</td>\n",
       "      <td>Игорь</td>\n",
       "      <td>23</td>\n",
       "      <td>Омск</td>\n",
       "      <td>ultra</td>\n",
       "    </tr>\n",
       "    <tr>\n",
       "      <th>7</th>\n",
       "      <td>8</td>\n",
       "      <td>Юрий</td>\n",
       "      <td>23</td>\n",
       "      <td>Краснодар</td>\n",
       "      <td>ultra</td>\n",
       "    </tr>\n",
       "    <tr>\n",
       "      <th>8</th>\n",
       "      <td>9</td>\n",
       "      <td>Ян</td>\n",
       "      <td>21</td>\n",
       "      <td>Пятигорск</td>\n",
       "      <td>ultra</td>\n",
       "    </tr>\n",
       "    <tr>\n",
       "      <th>9</th>\n",
       "      <td>10</td>\n",
       "      <td>Валерий</td>\n",
       "      <td>18</td>\n",
       "      <td>Екатеринбург</td>\n",
       "      <td>ultra</td>\n",
       "    </tr>\n",
       "  </tbody>\n",
       "</table>\n",
       "</div>"
      ],
      "text/plain": [
       "   user_id        name  age            city subscription_type\n",
       "0        1        Кира   22          Тюмень             ultra\n",
       "1        2   Станислав   31            Омск             ultra\n",
       "2        3     Алексей   20          Москва             ultra\n",
       "3        4  Константин   26  Ростов-на-Дону             ultra\n",
       "4        5       Адель   28            Омск             ultra\n",
       "5        6      Регина   25       Краснодар             ultra\n",
       "6        7       Игорь   23            Омск             ultra\n",
       "7        8        Юрий   23       Краснодар             ultra\n",
       "8        9          Ян   21       Пятигорск             ultra\n",
       "9       10     Валерий   18    Екатеринбург             ultra"
      ]
     },
     "execution_count": 4,
     "metadata": {},
     "output_type": "execute_result"
    }
   ],
   "source": [
    "users.head(10)"
   ]
  },
  {
   "cell_type": "code",
   "execution_count": 5,
   "id": "70c0a054",
   "metadata": {},
   "outputs": [
    {
     "name": "stdout",
     "output_type": "stream",
     "text": [
      "<class 'pandas.core.frame.DataFrame'>\n",
      "RangeIndex: 18068 entries, 0 to 18067\n",
      "Data columns (total 4 columns):\n",
      " #   Column    Non-Null Count  Dtype  \n",
      "---  ------    --------------  -----  \n",
      " 0   user_id   18068 non-null  int64  \n",
      " 1   distance  18068 non-null  float64\n",
      " 2   duration  18068 non-null  float64\n",
      " 3   date      18068 non-null  object \n",
      "dtypes: float64(2), int64(1), object(1)\n",
      "memory usage: 564.8+ KB\n"
     ]
    }
   ],
   "source": [
    "rides.info()"
   ]
  },
  {
   "cell_type": "code",
   "execution_count": 6,
   "id": "d44f699d",
   "metadata": {},
   "outputs": [
    {
     "data": {
      "text/html": [
       "<div>\n",
       "<style scoped>\n",
       "    .dataframe tbody tr th:only-of-type {\n",
       "        vertical-align: middle;\n",
       "    }\n",
       "\n",
       "    .dataframe tbody tr th {\n",
       "        vertical-align: top;\n",
       "    }\n",
       "\n",
       "    .dataframe thead th {\n",
       "        text-align: right;\n",
       "    }\n",
       "</style>\n",
       "<table border=\"1\" class=\"dataframe\">\n",
       "  <thead>\n",
       "    <tr style=\"text-align: right;\">\n",
       "      <th></th>\n",
       "      <th>user_id</th>\n",
       "      <th>distance</th>\n",
       "      <th>duration</th>\n",
       "      <th>date</th>\n",
       "    </tr>\n",
       "  </thead>\n",
       "  <tbody>\n",
       "    <tr>\n",
       "      <th>0</th>\n",
       "      <td>1</td>\n",
       "      <td>4409.919140</td>\n",
       "      <td>25.599769</td>\n",
       "      <td>2021-01-01</td>\n",
       "    </tr>\n",
       "    <tr>\n",
       "      <th>1</th>\n",
       "      <td>1</td>\n",
       "      <td>2617.592153</td>\n",
       "      <td>15.816871</td>\n",
       "      <td>2021-01-18</td>\n",
       "    </tr>\n",
       "    <tr>\n",
       "      <th>2</th>\n",
       "      <td>1</td>\n",
       "      <td>754.159807</td>\n",
       "      <td>6.232113</td>\n",
       "      <td>2021-04-20</td>\n",
       "    </tr>\n",
       "    <tr>\n",
       "      <th>3</th>\n",
       "      <td>1</td>\n",
       "      <td>2694.783254</td>\n",
       "      <td>18.511000</td>\n",
       "      <td>2021-08-11</td>\n",
       "    </tr>\n",
       "    <tr>\n",
       "      <th>4</th>\n",
       "      <td>1</td>\n",
       "      <td>4028.687306</td>\n",
       "      <td>26.265803</td>\n",
       "      <td>2021-08-28</td>\n",
       "    </tr>\n",
       "    <tr>\n",
       "      <th>5</th>\n",
       "      <td>1</td>\n",
       "      <td>2770.890808</td>\n",
       "      <td>16.650138</td>\n",
       "      <td>2021-10-09</td>\n",
       "    </tr>\n",
       "    <tr>\n",
       "      <th>6</th>\n",
       "      <td>1</td>\n",
       "      <td>3039.020292</td>\n",
       "      <td>14.927879</td>\n",
       "      <td>2021-10-19</td>\n",
       "    </tr>\n",
       "    <tr>\n",
       "      <th>7</th>\n",
       "      <td>1</td>\n",
       "      <td>2842.118050</td>\n",
       "      <td>23.117468</td>\n",
       "      <td>2021-11-06</td>\n",
       "    </tr>\n",
       "    <tr>\n",
       "      <th>8</th>\n",
       "      <td>1</td>\n",
       "      <td>3412.690668</td>\n",
       "      <td>15.238072</td>\n",
       "      <td>2021-11-14</td>\n",
       "    </tr>\n",
       "    <tr>\n",
       "      <th>9</th>\n",
       "      <td>1</td>\n",
       "      <td>748.690645</td>\n",
       "      <td>15.041884</td>\n",
       "      <td>2021-11-22</td>\n",
       "    </tr>\n",
       "  </tbody>\n",
       "</table>\n",
       "</div>"
      ],
      "text/plain": [
       "   user_id     distance   duration        date\n",
       "0        1  4409.919140  25.599769  2021-01-01\n",
       "1        1  2617.592153  15.816871  2021-01-18\n",
       "2        1   754.159807   6.232113  2021-04-20\n",
       "3        1  2694.783254  18.511000  2021-08-11\n",
       "4        1  4028.687306  26.265803  2021-08-28\n",
       "5        1  2770.890808  16.650138  2021-10-09\n",
       "6        1  3039.020292  14.927879  2021-10-19\n",
       "7        1  2842.118050  23.117468  2021-11-06\n",
       "8        1  3412.690668  15.238072  2021-11-14\n",
       "9        1   748.690645  15.041884  2021-11-22"
      ]
     },
     "execution_count": 6,
     "metadata": {},
     "output_type": "execute_result"
    }
   ],
   "source": [
    "rides.head(10)"
   ]
  },
  {
   "cell_type": "code",
   "execution_count": 7,
   "id": "afa91ae9",
   "metadata": {},
   "outputs": [
    {
     "name": "stdout",
     "output_type": "stream",
     "text": [
      "<class 'pandas.core.frame.DataFrame'>\n",
      "RangeIndex: 2 entries, 0 to 1\n",
      "Data columns (total 4 columns):\n",
      " #   Column             Non-Null Count  Dtype \n",
      "---  ------             --------------  ----- \n",
      " 0   subscription_type  2 non-null      object\n",
      " 1   minute_price       2 non-null      int64 \n",
      " 2   start_ride_price   2 non-null      int64 \n",
      " 3   subscription_fee   2 non-null      int64 \n",
      "dtypes: int64(3), object(1)\n",
      "memory usage: 192.0+ bytes\n"
     ]
    }
   ],
   "source": [
    "sub.info()"
   ]
  },
  {
   "cell_type": "code",
   "execution_count": 8,
   "id": "330cd0de",
   "metadata": {},
   "outputs": [
    {
     "data": {
      "text/html": [
       "<div>\n",
       "<style scoped>\n",
       "    .dataframe tbody tr th:only-of-type {\n",
       "        vertical-align: middle;\n",
       "    }\n",
       "\n",
       "    .dataframe tbody tr th {\n",
       "        vertical-align: top;\n",
       "    }\n",
       "\n",
       "    .dataframe thead th {\n",
       "        text-align: right;\n",
       "    }\n",
       "</style>\n",
       "<table border=\"1\" class=\"dataframe\">\n",
       "  <thead>\n",
       "    <tr style=\"text-align: right;\">\n",
       "      <th></th>\n",
       "      <th>subscription_type</th>\n",
       "      <th>minute_price</th>\n",
       "      <th>start_ride_price</th>\n",
       "      <th>subscription_fee</th>\n",
       "    </tr>\n",
       "  </thead>\n",
       "  <tbody>\n",
       "    <tr>\n",
       "      <th>0</th>\n",
       "      <td>free</td>\n",
       "      <td>8</td>\n",
       "      <td>50</td>\n",
       "      <td>0</td>\n",
       "    </tr>\n",
       "    <tr>\n",
       "      <th>1</th>\n",
       "      <td>ultra</td>\n",
       "      <td>6</td>\n",
       "      <td>0</td>\n",
       "      <td>199</td>\n",
       "    </tr>\n",
       "  </tbody>\n",
       "</table>\n",
       "</div>"
      ],
      "text/plain": [
       "  subscription_type  minute_price  start_ride_price  subscription_fee\n",
       "0              free             8                50                 0\n",
       "1             ultra             6                 0               199"
      ]
     },
     "execution_count": 8,
     "metadata": {},
     "output_type": "execute_result"
    }
   ],
   "source": [
    "sub.head(10)"
   ]
  },
  {
   "cell_type": "markdown",
   "id": "ddb3712f",
   "metadata": {},
   "source": [
    "Выводы:<br/>\n",
    "- Датафрейм users включает 5 параметров, параметр user_id может быть использован для объедиения таблиц users и rides. Нет пропусков, все параметры заполнены.<br/>\n",
    "- Датафрейм rides включает 4 параметра, для параметра date необходимо изменить тип с object на datetime.  Нет пропусков, все параметры заполнены.<br/>\n",
    "- Датафрейм sub включает 4 параметра, параметр subscription_type может быть использован для объедиения таблиц users и sub. Нет пропусков, все параметры заполнены."
   ]
  },
  {
   "cell_type": "markdown",
   "id": "e95ebca7",
   "metadata": {},
   "source": [
    "#### Предобработка данных"
   ]
  },
  {
   "cell_type": "markdown",
   "id": "c30a03da",
   "metadata": {},
   "source": [
    "##### Приведен столбец date к типу даты pandas."
   ]
  },
  {
   "cell_type": "code",
   "execution_count": 9,
   "id": "85b5a928",
   "metadata": {},
   "outputs": [
    {
     "data": {
      "text/plain": [
       "0   2021-01-01\n",
       "1   2021-01-18\n",
       "2   2021-04-20\n",
       "3   2021-08-11\n",
       "4   2021-08-28\n",
       "Name: date, dtype: datetime64[ns]"
      ]
     },
     "execution_count": 9,
     "metadata": {},
     "output_type": "execute_result"
    }
   ],
   "source": [
    "rides['date']=pd.to_datetime(rides['date'], format='%Y-%m-%d')\n",
    "rides['date'].head()"
   ]
  },
  {
   "cell_type": "markdown",
   "id": "6e361791",
   "metadata": {},
   "source": [
    "##### Создан новый столбец с номером месяца на основе столбца date."
   ]
  },
  {
   "cell_type": "code",
   "execution_count": 10,
   "id": "96126bbf",
   "metadata": {},
   "outputs": [
    {
     "data": {
      "text/plain": [
       "0    1\n",
       "1    1\n",
       "2    4\n",
       "3    8\n",
       "4    8\n",
       "Name: month, dtype: int64"
      ]
     },
     "execution_count": 10,
     "metadata": {},
     "output_type": "execute_result"
    }
   ],
   "source": [
    "rides['month']=rides['date'].dt.month\n",
    "rides['month'].head()"
   ]
  },
  {
   "cell_type": "markdown",
   "id": "171a0b2b",
   "metadata": {},
   "source": [
    "##### Проверка на наличие пропущенных значений и дубликатов в датафреймах. Обработка."
   ]
  },
  {
   "cell_type": "code",
   "execution_count": 11,
   "id": "90d1c0c5",
   "metadata": {},
   "outputs": [
    {
     "name": "stdout",
     "output_type": "stream",
     "text": [
      "Количество пустых значений в users = user_id              0\n",
      "name                 0\n",
      "age                  0\n",
      "city                 0\n",
      "subscription_type    0\n",
      "dtype: int64, в rides = user_id     0\n",
      "distance    0\n",
      "duration    0\n",
      "date        0\n",
      "month       0\n",
      "dtype: int64, в sub = subscription_type    0\n",
      "minute_price         0\n",
      "start_ride_price     0\n",
      "subscription_fee     0\n",
      "dtype: int64\n"
     ]
    }
   ],
   "source": [
    "un=users.isna().sum()\n",
    "rn=rides.isna().sum()\n",
    "sn=sub.isna().sum()\n",
    "print(f'Количество пустых значений в users = {un}, в rides = {rn}, в sub = {sn}')"
   ]
  },
  {
   "cell_type": "code",
   "execution_count": 12,
   "id": "f00ba7bd",
   "metadata": {},
   "outputs": [
    {
     "data": {
      "text/html": [
       "<div>\n",
       "<style scoped>\n",
       "    .dataframe tbody tr th:only-of-type {\n",
       "        vertical-align: middle;\n",
       "    }\n",
       "\n",
       "    .dataframe tbody tr th {\n",
       "        vertical-align: top;\n",
       "    }\n",
       "\n",
       "    .dataframe thead th {\n",
       "        text-align: right;\n",
       "    }\n",
       "</style>\n",
       "<table border=\"1\" class=\"dataframe\">\n",
       "  <thead>\n",
       "    <tr style=\"text-align: right;\">\n",
       "      <th></th>\n",
       "      <th>user_id</th>\n",
       "      <th>name</th>\n",
       "      <th>age</th>\n",
       "      <th>city</th>\n",
       "      <th>subscription_type</th>\n",
       "    </tr>\n",
       "  </thead>\n",
       "  <tbody>\n",
       "  </tbody>\n",
       "</table>\n",
       "</div>"
      ],
      "text/plain": [
       "Empty DataFrame\n",
       "Columns: [user_id, name, age, city, subscription_type]\n",
       "Index: []"
      ]
     },
     "execution_count": 12,
     "metadata": {},
     "output_type": "execute_result"
    }
   ],
   "source": [
    "users[users['age']==0]# нулевых значений в параметре age нет"
   ]
  },
  {
   "cell_type": "code",
   "execution_count": 13,
   "id": "7fc0cbca",
   "metadata": {},
   "outputs": [
    {
     "data": {
      "text/html": [
       "<div>\n",
       "<style scoped>\n",
       "    .dataframe tbody tr th:only-of-type {\n",
       "        vertical-align: middle;\n",
       "    }\n",
       "\n",
       "    .dataframe tbody tr th {\n",
       "        vertical-align: top;\n",
       "    }\n",
       "\n",
       "    .dataframe thead th {\n",
       "        text-align: right;\n",
       "    }\n",
       "</style>\n",
       "<table border=\"1\" class=\"dataframe\">\n",
       "  <thead>\n",
       "    <tr style=\"text-align: right;\">\n",
       "      <th></th>\n",
       "      <th>user_id</th>\n",
       "      <th>distance</th>\n",
       "      <th>duration</th>\n",
       "      <th>date</th>\n",
       "      <th>month</th>\n",
       "    </tr>\n",
       "  </thead>\n",
       "  <tbody>\n",
       "  </tbody>\n",
       "</table>\n",
       "</div>"
      ],
      "text/plain": [
       "Empty DataFrame\n",
       "Columns: [user_id, distance, duration, date, month]\n",
       "Index: []"
      ]
     },
     "execution_count": 13,
     "metadata": {},
     "output_type": "execute_result"
    }
   ],
   "source": [
    "rides[rides['distance']==0]# нулевых значений в параметре distance нет"
   ]
  },
  {
   "cell_type": "code",
   "execution_count": 14,
   "id": "fdc464fe",
   "metadata": {},
   "outputs": [
    {
     "data": {
      "text/html": [
       "<div>\n",
       "<style scoped>\n",
       "    .dataframe tbody tr th:only-of-type {\n",
       "        vertical-align: middle;\n",
       "    }\n",
       "\n",
       "    .dataframe tbody tr th {\n",
       "        vertical-align: top;\n",
       "    }\n",
       "\n",
       "    .dataframe thead th {\n",
       "        text-align: right;\n",
       "    }\n",
       "</style>\n",
       "<table border=\"1\" class=\"dataframe\">\n",
       "  <thead>\n",
       "    <tr style=\"text-align: right;\">\n",
       "      <th></th>\n",
       "      <th>user_id</th>\n",
       "      <th>distance</th>\n",
       "      <th>duration</th>\n",
       "      <th>date</th>\n",
       "      <th>month</th>\n",
       "    </tr>\n",
       "  </thead>\n",
       "  <tbody>\n",
       "  </tbody>\n",
       "</table>\n",
       "</div>"
      ],
      "text/plain": [
       "Empty DataFrame\n",
       "Columns: [user_id, distance, duration, date, month]\n",
       "Index: []"
      ]
     },
     "execution_count": 14,
     "metadata": {},
     "output_type": "execute_result"
    }
   ],
   "source": [
    "rides[rides['duration']==0]# нулевых значений в параметре duration нет"
   ]
  },
  {
   "cell_type": "code",
   "execution_count": 15,
   "id": "a852f93b",
   "metadata": {},
   "outputs": [
    {
     "data": {
      "text/html": [
       "<div>\n",
       "<style scoped>\n",
       "    .dataframe tbody tr th:only-of-type {\n",
       "        vertical-align: middle;\n",
       "    }\n",
       "\n",
       "    .dataframe tbody tr th {\n",
       "        vertical-align: top;\n",
       "    }\n",
       "\n",
       "    .dataframe thead th {\n",
       "        text-align: right;\n",
       "    }\n",
       "</style>\n",
       "<table border=\"1\" class=\"dataframe\">\n",
       "  <thead>\n",
       "    <tr style=\"text-align: right;\">\n",
       "      <th></th>\n",
       "      <th>subscription_type</th>\n",
       "      <th>minute_price</th>\n",
       "      <th>start_ride_price</th>\n",
       "      <th>subscription_fee</th>\n",
       "    </tr>\n",
       "  </thead>\n",
       "  <tbody>\n",
       "  </tbody>\n",
       "</table>\n",
       "</div>"
      ],
      "text/plain": [
       "Empty DataFrame\n",
       "Columns: [subscription_type, minute_price, start_ride_price, subscription_fee]\n",
       "Index: []"
      ]
     },
     "execution_count": 15,
     "metadata": {},
     "output_type": "execute_result"
    }
   ],
   "source": [
    "sub[sub['minute_price']==0]# нулевых значений в параметре minute_price нет"
   ]
  },
  {
   "cell_type": "code",
   "execution_count": 16,
   "id": "4c8b81c3",
   "metadata": {},
   "outputs": [
    {
     "data": {
      "text/html": [
       "<div>\n",
       "<style scoped>\n",
       "    .dataframe tbody tr th:only-of-type {\n",
       "        vertical-align: middle;\n",
       "    }\n",
       "\n",
       "    .dataframe tbody tr th {\n",
       "        vertical-align: top;\n",
       "    }\n",
       "\n",
       "    .dataframe thead th {\n",
       "        text-align: right;\n",
       "    }\n",
       "</style>\n",
       "<table border=\"1\" class=\"dataframe\">\n",
       "  <thead>\n",
       "    <tr style=\"text-align: right;\">\n",
       "      <th></th>\n",
       "      <th>subscription_type</th>\n",
       "      <th>minute_price</th>\n",
       "      <th>start_ride_price</th>\n",
       "      <th>subscription_fee</th>\n",
       "    </tr>\n",
       "  </thead>\n",
       "  <tbody>\n",
       "  </tbody>\n",
       "</table>\n",
       "</div>"
      ],
      "text/plain": [
       "Empty DataFrame\n",
       "Columns: [subscription_type, minute_price, start_ride_price, subscription_fee]\n",
       "Index: []"
      ]
     },
     "execution_count": 16,
     "metadata": {},
     "output_type": "execute_result"
    }
   ],
   "source": [
    "mask1=(sub['subscription_fee']==0)&(sub['subscription_type']=='ultra')\n",
    "#нулевая абонентская плата при подписке - отсутствует\n",
    "sub[mask1]"
   ]
  },
  {
   "cell_type": "code",
   "execution_count": 17,
   "id": "83c0a555",
   "metadata": {},
   "outputs": [
    {
     "data": {
      "text/html": [
       "<div>\n",
       "<style scoped>\n",
       "    .dataframe tbody tr th:only-of-type {\n",
       "        vertical-align: middle;\n",
       "    }\n",
       "\n",
       "    .dataframe tbody tr th {\n",
       "        vertical-align: top;\n",
       "    }\n",
       "\n",
       "    .dataframe thead th {\n",
       "        text-align: right;\n",
       "    }\n",
       "</style>\n",
       "<table border=\"1\" class=\"dataframe\">\n",
       "  <thead>\n",
       "    <tr style=\"text-align: right;\">\n",
       "      <th></th>\n",
       "      <th>subscription_type</th>\n",
       "      <th>minute_price</th>\n",
       "      <th>start_ride_price</th>\n",
       "      <th>subscription_fee</th>\n",
       "    </tr>\n",
       "  </thead>\n",
       "  <tbody>\n",
       "  </tbody>\n",
       "</table>\n",
       "</div>"
      ],
      "text/plain": [
       "Empty DataFrame\n",
       "Columns: [subscription_type, minute_price, start_ride_price, subscription_fee]\n",
       "Index: []"
      ]
     },
     "execution_count": 17,
     "metadata": {},
     "output_type": "execute_result"
    }
   ],
   "source": [
    "mask2=(sub['start_ride_price']==0)&(sub['subscription_type']=='free')\n",
    "#нулевая стоимость старта без подписки - отсутствует\n",
    "sub[mask2]"
   ]
  },
  {
   "cell_type": "code",
   "execution_count": 18,
   "id": "927d7b55",
   "metadata": {},
   "outputs": [
    {
     "name": "stdout",
     "output_type": "stream",
     "text": [
      "Количество явных дубликатов в users = 31, в rides = 0, в sub = 0\n"
     ]
    }
   ],
   "source": [
    "ud=users.duplicated().sum()\n",
    "rd=rides.duplicated().sum()\n",
    "sd=sub.duplicated().sum()\n",
    "print(f'Количество явных дубликатов в users = {ud}, в rides = {rd}, в sub = {sd}')"
   ]
  },
  {
   "cell_type": "code",
   "execution_count": 19,
   "id": "174a9629",
   "metadata": {},
   "outputs": [
    {
     "data": {
      "text/html": [
       "<div>\n",
       "<style scoped>\n",
       "    .dataframe tbody tr th:only-of-type {\n",
       "        vertical-align: middle;\n",
       "    }\n",
       "\n",
       "    .dataframe tbody tr th {\n",
       "        vertical-align: top;\n",
       "    }\n",
       "\n",
       "    .dataframe thead th {\n",
       "        text-align: right;\n",
       "    }\n",
       "</style>\n",
       "<table border=\"1\" class=\"dataframe\">\n",
       "  <thead>\n",
       "    <tr style=\"text-align: right;\">\n",
       "      <th></th>\n",
       "      <th>user_id</th>\n",
       "      <th>name</th>\n",
       "      <th>age</th>\n",
       "      <th>city</th>\n",
       "      <th>subscription_type</th>\n",
       "    </tr>\n",
       "  </thead>\n",
       "  <tbody>\n",
       "    <tr>\n",
       "      <th>1534</th>\n",
       "      <td>293</td>\n",
       "      <td>Агата</td>\n",
       "      <td>26</td>\n",
       "      <td>Краснодар</td>\n",
       "      <td>ultra</td>\n",
       "    </tr>\n",
       "    <tr>\n",
       "      <th>1535</th>\n",
       "      <td>16</td>\n",
       "      <td>Амалия</td>\n",
       "      <td>27</td>\n",
       "      <td>Краснодар</td>\n",
       "      <td>ultra</td>\n",
       "    </tr>\n",
       "    <tr>\n",
       "      <th>1536</th>\n",
       "      <td>909</td>\n",
       "      <td>Константин</td>\n",
       "      <td>20</td>\n",
       "      <td>Екатеринбург</td>\n",
       "      <td>free</td>\n",
       "    </tr>\n",
       "    <tr>\n",
       "      <th>1537</th>\n",
       "      <td>403</td>\n",
       "      <td>Полина</td>\n",
       "      <td>19</td>\n",
       "      <td>Сочи</td>\n",
       "      <td>ultra</td>\n",
       "    </tr>\n",
       "    <tr>\n",
       "      <th>1538</th>\n",
       "      <td>908</td>\n",
       "      <td>Рустам</td>\n",
       "      <td>30</td>\n",
       "      <td>Тюмень</td>\n",
       "      <td>free</td>\n",
       "    </tr>\n",
       "    <tr>\n",
       "      <th>1539</th>\n",
       "      <td>43</td>\n",
       "      <td>Стефания</td>\n",
       "      <td>22</td>\n",
       "      <td>Омск</td>\n",
       "      <td>ultra</td>\n",
       "    </tr>\n",
       "    <tr>\n",
       "      <th>1540</th>\n",
       "      <td>127</td>\n",
       "      <td>Павел</td>\n",
       "      <td>25</td>\n",
       "      <td>Пятигорск</td>\n",
       "      <td>ultra</td>\n",
       "    </tr>\n",
       "    <tr>\n",
       "      <th>1541</th>\n",
       "      <td>659</td>\n",
       "      <td>Злата</td>\n",
       "      <td>27</td>\n",
       "      <td>Ростов-на-Дону</td>\n",
       "      <td>ultra</td>\n",
       "    </tr>\n",
       "    <tr>\n",
       "      <th>1542</th>\n",
       "      <td>204</td>\n",
       "      <td>Руслан</td>\n",
       "      <td>30</td>\n",
       "      <td>Пятигорск</td>\n",
       "      <td>ultra</td>\n",
       "    </tr>\n",
       "    <tr>\n",
       "      <th>1543</th>\n",
       "      <td>153</td>\n",
       "      <td>Герман</td>\n",
       "      <td>23</td>\n",
       "      <td>Москва</td>\n",
       "      <td>ultra</td>\n",
       "    </tr>\n",
       "    <tr>\n",
       "      <th>1544</th>\n",
       "      <td>1245</td>\n",
       "      <td>Регина</td>\n",
       "      <td>27</td>\n",
       "      <td>Пятигорск</td>\n",
       "      <td>free</td>\n",
       "    </tr>\n",
       "    <tr>\n",
       "      <th>1545</th>\n",
       "      <td>807</td>\n",
       "      <td>Александр</td>\n",
       "      <td>28</td>\n",
       "      <td>Екатеринбург</td>\n",
       "      <td>free</td>\n",
       "    </tr>\n",
       "    <tr>\n",
       "      <th>1546</th>\n",
       "      <td>924</td>\n",
       "      <td>Мария</td>\n",
       "      <td>23</td>\n",
       "      <td>Пятигорск</td>\n",
       "      <td>free</td>\n",
       "    </tr>\n",
       "    <tr>\n",
       "      <th>1547</th>\n",
       "      <td>635</td>\n",
       "      <td>Герман</td>\n",
       "      <td>21</td>\n",
       "      <td>Москва</td>\n",
       "      <td>ultra</td>\n",
       "    </tr>\n",
       "    <tr>\n",
       "      <th>1548</th>\n",
       "      <td>136</td>\n",
       "      <td>Марсель</td>\n",
       "      <td>25</td>\n",
       "      <td>Тюмень</td>\n",
       "      <td>ultra</td>\n",
       "    </tr>\n",
       "    <tr>\n",
       "      <th>1549</th>\n",
       "      <td>108</td>\n",
       "      <td>Влада</td>\n",
       "      <td>29</td>\n",
       "      <td>Тюмень</td>\n",
       "      <td>ultra</td>\n",
       "    </tr>\n",
       "    <tr>\n",
       "      <th>1550</th>\n",
       "      <td>737</td>\n",
       "      <td>Мелания</td>\n",
       "      <td>27</td>\n",
       "      <td>Ростов-на-Дону</td>\n",
       "      <td>free</td>\n",
       "    </tr>\n",
       "    <tr>\n",
       "      <th>1551</th>\n",
       "      <td>666</td>\n",
       "      <td>Зарина</td>\n",
       "      <td>29</td>\n",
       "      <td>Москва</td>\n",
       "      <td>ultra</td>\n",
       "    </tr>\n",
       "    <tr>\n",
       "      <th>1552</th>\n",
       "      <td>297</td>\n",
       "      <td>Егор</td>\n",
       "      <td>33</td>\n",
       "      <td>Пятигорск</td>\n",
       "      <td>ultra</td>\n",
       "    </tr>\n",
       "    <tr>\n",
       "      <th>1553</th>\n",
       "      <td>121</td>\n",
       "      <td>Алина</td>\n",
       "      <td>25</td>\n",
       "      <td>Пятигорск</td>\n",
       "      <td>ultra</td>\n",
       "    </tr>\n",
       "    <tr>\n",
       "      <th>1554</th>\n",
       "      <td>1198</td>\n",
       "      <td>Демид</td>\n",
       "      <td>29</td>\n",
       "      <td>Ростов-на-Дону</td>\n",
       "      <td>free</td>\n",
       "    </tr>\n",
       "    <tr>\n",
       "      <th>1555</th>\n",
       "      <td>72</td>\n",
       "      <td>Никита</td>\n",
       "      <td>25</td>\n",
       "      <td>Москва</td>\n",
       "      <td>ultra</td>\n",
       "    </tr>\n",
       "    <tr>\n",
       "      <th>1556</th>\n",
       "      <td>422</td>\n",
       "      <td>Кирилл</td>\n",
       "      <td>27</td>\n",
       "      <td>Сочи</td>\n",
       "      <td>ultra</td>\n",
       "    </tr>\n",
       "    <tr>\n",
       "      <th>1557</th>\n",
       "      <td>611</td>\n",
       "      <td>Владимир</td>\n",
       "      <td>28</td>\n",
       "      <td>Омск</td>\n",
       "      <td>ultra</td>\n",
       "    </tr>\n",
       "    <tr>\n",
       "      <th>1558</th>\n",
       "      <td>1237</td>\n",
       "      <td>Евгения</td>\n",
       "      <td>23</td>\n",
       "      <td>Тюмень</td>\n",
       "      <td>free</td>\n",
       "    </tr>\n",
       "    <tr>\n",
       "      <th>1559</th>\n",
       "      <td>209</td>\n",
       "      <td>Андрей</td>\n",
       "      <td>23</td>\n",
       "      <td>Омск</td>\n",
       "      <td>ultra</td>\n",
       "    </tr>\n",
       "    <tr>\n",
       "      <th>1560</th>\n",
       "      <td>829</td>\n",
       "      <td>Федор</td>\n",
       "      <td>29</td>\n",
       "      <td>Пятигорск</td>\n",
       "      <td>free</td>\n",
       "    </tr>\n",
       "    <tr>\n",
       "      <th>1561</th>\n",
       "      <td>809</td>\n",
       "      <td>Юрий</td>\n",
       "      <td>26</td>\n",
       "      <td>Сочи</td>\n",
       "      <td>free</td>\n",
       "    </tr>\n",
       "    <tr>\n",
       "      <th>1562</th>\n",
       "      <td>307</td>\n",
       "      <td>Ясмина</td>\n",
       "      <td>19</td>\n",
       "      <td>Краснодар</td>\n",
       "      <td>ultra</td>\n",
       "    </tr>\n",
       "    <tr>\n",
       "      <th>1563</th>\n",
       "      <td>47</td>\n",
       "      <td>Юрий</td>\n",
       "      <td>28</td>\n",
       "      <td>Тюмень</td>\n",
       "      <td>ultra</td>\n",
       "    </tr>\n",
       "    <tr>\n",
       "      <th>1564</th>\n",
       "      <td>1045</td>\n",
       "      <td>Артемий</td>\n",
       "      <td>28</td>\n",
       "      <td>Ростов-на-Дону</td>\n",
       "      <td>free</td>\n",
       "    </tr>\n",
       "  </tbody>\n",
       "</table>\n",
       "</div>"
      ],
      "text/plain": [
       "      user_id        name  age            city subscription_type\n",
       "1534      293       Агата   26       Краснодар             ultra\n",
       "1535       16      Амалия   27       Краснодар             ultra\n",
       "1536      909  Константин   20    Екатеринбург              free\n",
       "1537      403      Полина   19            Сочи             ultra\n",
       "1538      908      Рустам   30          Тюмень              free\n",
       "1539       43    Стефания   22            Омск             ultra\n",
       "1540      127       Павел   25       Пятигорск             ultra\n",
       "1541      659       Злата   27  Ростов-на-Дону             ultra\n",
       "1542      204      Руслан   30       Пятигорск             ultra\n",
       "1543      153      Герман   23          Москва             ultra\n",
       "1544     1245      Регина   27       Пятигорск              free\n",
       "1545      807   Александр   28    Екатеринбург              free\n",
       "1546      924       Мария   23       Пятигорск              free\n",
       "1547      635      Герман   21          Москва             ultra\n",
       "1548      136     Марсель   25          Тюмень             ultra\n",
       "1549      108       Влада   29          Тюмень             ultra\n",
       "1550      737     Мелания   27  Ростов-на-Дону              free\n",
       "1551      666      Зарина   29          Москва             ultra\n",
       "1552      297        Егор   33       Пятигорск             ultra\n",
       "1553      121       Алина   25       Пятигорск             ultra\n",
       "1554     1198       Демид   29  Ростов-на-Дону              free\n",
       "1555       72      Никита   25          Москва             ultra\n",
       "1556      422      Кирилл   27            Сочи             ultra\n",
       "1557      611    Владимир   28            Омск             ultra\n",
       "1558     1237     Евгения   23          Тюмень              free\n",
       "1559      209      Андрей   23            Омск             ultra\n",
       "1560      829       Федор   29       Пятигорск              free\n",
       "1561      809        Юрий   26            Сочи              free\n",
       "1562      307      Ясмина   19       Краснодар             ultra\n",
       "1563       47        Юрий   28          Тюмень             ultra\n",
       "1564     1045     Артемий   28  Ростов-на-Дону              free"
      ]
     },
     "execution_count": 19,
     "metadata": {},
     "output_type": "execute_result"
    }
   ],
   "source": [
    "users[users.duplicated()]# явные дубликаты"
   ]
  },
  {
   "cell_type": "code",
   "execution_count": 20,
   "id": "d0db26e1",
   "metadata": {},
   "outputs": [
    {
     "data": {
      "text/plain": [
       "0"
      ]
     },
     "execution_count": 20,
     "metadata": {},
     "output_type": "execute_result"
    }
   ],
   "source": [
    "users=users.drop_duplicates().reset_index(drop=True)#Удаление явных дубликатов, остаются первые строчки, восстанавливаются индексы\n",
    "users.duplicated().sum()"
   ]
  },
  {
   "cell_type": "code",
   "execution_count": 21,
   "id": "2977b08c",
   "metadata": {
    "scrolled": true
   },
   "outputs": [
    {
     "data": {
      "text/plain": [
       "0"
      ]
     },
     "execution_count": 21,
     "metadata": {},
     "output_type": "execute_result"
    }
   ],
   "source": [
    "(users['user_id'].value_counts()>1).sum()#Проверка неявных дубликатов - повторяющихся user_id нет"
   ]
  },
  {
   "cell_type": "code",
   "execution_count": 22,
   "id": "3ff019b8",
   "metadata": {},
   "outputs": [
    {
     "data": {
      "text/plain": [
       "16534"
      ]
     },
     "execution_count": 22,
     "metadata": {},
     "output_type": "execute_result"
    }
   ],
   "source": [
    "rides.user_id.duplicated().sum()# это нормально, одни и те же люди много раз пользовались прилодением."
   ]
  },
  {
   "cell_type": "markdown",
   "id": "1cc4cf04",
   "metadata": {},
   "source": [
    "Выводы:<br/>\n",
    "- Пропуски значений во всех файлах, для всех параметров отсутствуют.\n",
    "- Ошибки типа \"нулевая абонентская плата при подписке\" и \"нулевая стоимость старта без подписки\" отсутствуют.\n",
    "- Явные дубликаты присутствуют только в датафрейме users (31 строчка повторяется полностью). Дубликаты были удалены.\n",
    "- Неявные дубликаты не найдены.\n"
   ]
  },
  {
   "cell_type": "markdown",
   "id": "212593c7",
   "metadata": {},
   "source": [
    "#### Исследовательский анализ данных"
   ]
  },
  {
   "cell_type": "markdown",
   "id": "e3373235",
   "metadata": {},
   "source": [
    "В данной главе описана и визуализирована общая информация о пользователях и поездках."
   ]
  },
  {
   "cell_type": "markdown",
   "id": "ceb37aa2",
   "metadata": {},
   "source": [
    "##### Анализ частоты встречаемости городов"
   ]
  },
  {
   "cell_type": "code",
   "execution_count": 23,
   "id": "54cd8791",
   "metadata": {
    "scrolled": true
   },
   "outputs": [
    {
     "name": "stdout",
     "output_type": "stream",
     "text": [
      " Самый часто встречающийся город - Пятигорск, он встречается 219 раз.\n",
      " На втором месте - Екатеринбург, 204 раз.\n",
      " На третьем - Ростов-на-Дону, 198 раз.\n",
      " Реже всего встречается город - Москва, 168 раз.\n"
     ]
    }
   ],
   "source": [
    "cities=users['city'].value_counts().sort_values(ascending=False)\n",
    "print(f' Самый часто встречающийся город - {cities.index[0]}, он встречается {cities[0]} раз.\\n На втором месте - {cities.index[1]}, {cities[1]} раз.\\n На третьем - {cities.index[2]}, {cities[2]} раз.\\n Реже всего встречается город - {cities.index[len(cities)-1]}, {cities[len(cities)-1]} раз.')"
   ]
  },
  {
   "cell_type": "code",
   "execution_count": 24,
   "id": "33c4a299",
   "metadata": {},
   "outputs": [
    {
     "data": {
      "image/png": "[encoded data removed]",
      "text/plain": [
       "<Figure size 432x288 with 1 Axes>"
      ]
     },
     "metadata": {
      "needs_background": "light"
     },
     "output_type": "display_data"
    }
   ],
   "source": [
    "cit=cities.plot(kind='bar', title='Частота встречаемости городов', xlabel='Названия городов', ylabel='частота встречания')"
   ]
  },
  {
   "cell_type": "markdown",
   "id": "6894894d",
   "metadata": {},
   "source": [
    "Выводы:<br/>\n",
    "Найдены самые часто встречаемые и самые редко встречаемые города, данные по городам визуализировны на bar plot, который подходит для визуализации дискретных данных."
   ]
  },
  {
   "cell_type": "markdown",
   "id": "7f1ed3d0",
   "metadata": {},
   "source": [
    "##### Анализ соотношения пользователей с подпиской и без подписки"
   ]
  },
  {
   "cell_type": "code",
   "execution_count": 25,
   "id": "6df1b4e8",
   "metadata": {},
   "outputs": [],
   "source": [
    "users_free=users[users['subscription_type']=='free']['user_id'].count()\n",
    "users_ultra=users[users['subscription_type']=='ultra']['user_id'].count()"
   ]
  },
  {
   "cell_type": "code",
   "execution_count": 26,
   "id": "1860d51e",
   "metadata": {},
   "outputs": [
    {
     "name": "stdout",
     "output_type": "stream",
     "text": [
      "Количество пользователей без подписки - 835, количество пользователей с подпиской - 699\n"
     ]
    }
   ],
   "source": [
    "print(f'Количество пользователей без подписки - {users_free}, количество пользователей с подпиской - {users_ultra}')"
   ]
  },
  {
   "cell_type": "code",
   "execution_count": 27,
   "id": "59648879",
   "metadata": {},
   "outputs": [
    {
     "data": {
      "text/plain": [
       "17.731421121251632"
      ]
     },
     "execution_count": 27,
     "metadata": {},
     "output_type": "execute_result"
    }
   ],
   "source": [
    "((835-699)/((835+699)/2))*100# разница в процентах между людьми с подпиской и без."
   ]
  },
  {
   "cell_type": "code",
   "execution_count": 28,
   "id": "7e2fe360",
   "metadata": {},
   "outputs": [
    {
     "data": {
      "image/png": "[encoded data removed]",
      "text/plain": [
       "<Figure size 432x288 with 1 Axes>"
      ]
     },
     "metadata": {},
     "output_type": "display_data"
    }
   ],
   "source": [
    "users_pie=pd.DataFrame(data=[[users_free,'free' ], [users_ultra,'ultra']], columns=['people', 'subscription_type'])\n",
    "up=users_pie.groupby(['subscription_type']).sum().plot(kind='pie', y='people', autopct='%1.0f%%', title='Пользователи с подпиской и без подписки')"
   ]
  },
  {
   "cell_type": "markdown",
   "id": "ed98570d",
   "metadata": {},
   "source": [
    "Вывод:<br/>\n",
    "Количество пользователей без подписки больше (56%), чем количество пользователей с подпиской (46%)."
   ]
  },
  {
   "cell_type": "markdown",
   "id": "383d848c",
   "metadata": {},
   "source": [
    "##### Анализ возраст пользователей"
   ]
  },
  {
   "cell_type": "code",
   "execution_count": 29,
   "id": "0dc6f24a",
   "metadata": {},
   "outputs": [],
   "source": [
    "import matplotlib.pyplot as plt"
   ]
  },
  {
   "cell_type": "code",
   "execution_count": 30,
   "id": "914aeb9a",
   "metadata": {
    "scrolled": true
   },
   "outputs": [
    {
     "data": {
      "image/png": "[encoded data removed]",
      "text/plain": [
       "<Figure size 432x288 with 1 Axes>"
      ]
     },
     "metadata": {
      "needs_background": "light"
     },
     "output_type": "display_data"
    }
   ],
   "source": [
    "plot1=users['age'].plot(kind='hist', bins=50, title='График количества пользователей в зависимости от возраста')\n",
    "plot1.set_xlabel(\"Возраст\")\n",
    "plot1.set_ylabel(\"Частота\");\n"
   ]
  },
  {
   "cell_type": "code",
   "execution_count": 31,
   "id": "df086564",
   "metadata": {},
   "outputs": [
    {
     "data": {
      "text/plain": [
       "count     29.000000\n",
       "mean      52.896552\n",
       "std       48.824280\n",
       "min        1.000000\n",
       "25%        9.000000\n",
       "50%       41.000000\n",
       "75%       93.000000\n",
       "max      145.000000\n",
       "Name: age, dtype: float64"
      ]
     },
     "execution_count": 31,
     "metadata": {},
     "output_type": "execute_result"
    }
   ],
   "source": [
    "age_counts=users['age'].value_counts().sort_index()# сортировка по возрасту\n",
    "age_counts.describe()# Изучение статистических параметров"
   ]
  },
  {
   "cell_type": "code",
   "execution_count": 32,
   "id": "e88b546f",
   "metadata": {},
   "outputs": [
    {
     "name": "stdout",
     "output_type": "stream",
     "text": [
      "Для следующих возрастов характерно малое кольчество пользователей: 12 13 36 37 38 39 43\n",
      "Для следующих возрастов характерно большое кольчество пользователей: 14 15 16 17 18 19 20 21 22 23 24 25 26 27 28 29 30 31 32 33 34 35\n"
     ]
    }
   ],
   "source": [
    "ages_under_9=age_counts[age_counts<9].index# Выбирано значение 9 как пороговое значение (первый квартиль)\n",
    "ages_greater_9=age_counts[age_counts>=9].index\n",
    "print('Для следующих возрастов характерно малое кольчество пользователей:', *ages_under_9)\n",
    "print('Для следующих возрастов характерно большое кольчество пользователей:', *ages_greater_9)"
   ]
  },
  {
   "cell_type": "code",
   "execution_count": 33,
   "id": "2b783cac",
   "metadata": {
    "scrolled": true
   },
   "outputs": [
    {
     "data": {
      "image/png": "[encoded data removed]",
      "text/plain": [
       "<Figure size 432x288 with 1 Axes>"
      ]
     },
     "metadata": {
      "needs_background": "light"
     },
     "output_type": "display_data"
    }
   ],
   "source": [
    "plot2=age_counts.plot(kind='bar', title='График количества пользователей в зависимости от возраста', xlabel='Возраст', ylabel='частота')# построен более наглядный график"
   ]
  },
  {
   "cell_type": "markdown",
   "id": "3df66b3d",
   "metadata": {},
   "source": [
    "Вывод:<br/>\n",
    "Графики количества пользователей относительно их возраста представлены нормальным распределением, по которому видно, что совсем юнные пользователи (до 14 лет) редко пользуются сервисом, как и пользователи постарше (после 35 лет). Есть определенное поколение, которое является основными пользователями сервиса. Самое большое количество пользователей сервисом имеет возраст 25 лет.\n"
   ]
  },
  {
   "cell_type": "markdown",
   "id": "38500f07",
   "metadata": {},
   "source": [
    "##### Анализ расстояния, которое пользователь преодолел за одну поездку"
   ]
  },
  {
   "cell_type": "code",
   "execution_count": 34,
   "id": "c0c060ff",
   "metadata": {},
   "outputs": [
    {
     "data": {
      "text/plain": [
       "count    18068.000000\n",
       "mean      3070.659976\n",
       "std       1116.831209\n",
       "min          0.855683\n",
       "25%       2543.226360\n",
       "50%       3133.609994\n",
       "75%       3776.222735\n",
       "max       7211.007745\n",
       "Name: distance, dtype: float64"
      ]
     },
     "execution_count": 34,
     "metadata": {},
     "output_type": "execute_result"
    },
    {
     "data": {
      "image/png": "[encoded data removed]",
      "text/plain": [
       "<Figure size 432x288 with 1 Axes>"
      ]
     },
     "metadata": {
      "needs_background": "light"
     },
     "output_type": "display_data"
    }
   ],
   "source": [
    "plot3=rides['distance'].plot(kind='hist', bins=50, title=\"Анализ проезжаемого расстояния\")#расстояние является непрерывным значением, удобней всего использовать гистограмму.\n",
    "plot3.set_xlabel('Расстояние')\n",
    "plot3.set_ylabel('Частота')\n",
    "rides['distance'].describe()"
   ]
  },
  {
   "cell_type": "code",
   "execution_count": 35,
   "id": "cb00a15a",
   "metadata": {},
   "outputs": [
    {
     "data": {
      "image/png": "[encoded data removed]",
      "text/plain": [
       "<Figure size 432x288 with 1 Axes>"
      ]
     },
     "metadata": {
      "needs_background": "light"
     },
     "output_type": "display_data"
    }
   ],
   "source": [
    "plot4=rides['distance'].plot(kind='box', title='Анализ проезжаемого расстояния')"
   ]
  },
  {
   "cell_type": "markdown",
   "id": "c855b20f",
   "metadata": {},
   "source": [
    "Вывод:\n",
    "В среднем пользователи проезжают около трех километров, половина всех польхователей проезжает от 2,5км до 3,7км. Однако есть пользователи, которые проезжают около 6-7 километров, а также те, кто проехали до 0.8метра(те взяли самокат и сразу вернули) до 800 метров. В целом размах данных обольшой."
   ]
  },
  {
   "cell_type": "markdown",
   "id": "c965ab4f",
   "metadata": {},
   "source": [
    "##### Анализ продолжительности поездок"
   ]
  },
  {
   "cell_type": "code",
   "execution_count": 36,
   "id": "d808a39d",
   "metadata": {},
   "outputs": [
    {
     "data": {
      "image/png": "[encoded data removed]",
      "text/plain": [
       "<Figure size 432x288 with 1 Axes>"
      ]
     },
     "metadata": {
      "needs_background": "light"
     },
     "output_type": "display_data"
    }
   ],
   "source": [
    "plot5=rides['duration'].plot(kind='hist', bins=20, title='Анализ длительности поездки') \n",
    "plot5.set_xlabel('Продолжительность')\n",
    "plot5.set_ylabel('Частота');\n"
   ]
  },
  {
   "cell_type": "code",
   "execution_count": 37,
   "id": "2406afd1",
   "metadata": {},
   "outputs": [
    {
     "data": {
      "image/png": "[encoded data removed]",
      "text/plain": [
       "<Figure size 432x288 with 1 Axes>"
      ]
     },
     "metadata": {
      "needs_background": "light"
     },
     "output_type": "display_data"
    }
   ],
   "source": [
    "plot6=rides['duration'].plot(kind='box', title='Анализ длительности поездки')"
   ]
  },
  {
   "cell_type": "code",
   "execution_count": 38,
   "id": "109d32f5",
   "metadata": {},
   "outputs": [
    {
     "data": {
      "text/plain": [
       "count    18068.000000\n",
       "mean        17.805011\n",
       "std          6.091051\n",
       "min          0.500000\n",
       "25%         13.597563\n",
       "50%         17.678395\n",
       "75%         21.724800\n",
       "max         40.823963\n",
       "Name: duration, dtype: float64"
      ]
     },
     "execution_count": 38,
     "metadata": {},
     "output_type": "execute_result"
    }
   ],
   "source": [
    "rides['duration'].describe()"
   ]
  },
  {
   "cell_type": "code",
   "execution_count": 39,
   "id": "a030bc19",
   "metadata": {},
   "outputs": [
    {
     "data": {
      "image/png": "[encoded data removed]",
      "text/plain": [
       "<Figure size 432x288 with 1 Axes>"
      ]
     },
     "metadata": {
      "needs_background": "light"
     },
     "output_type": "display_data"
    }
   ],
   "source": [
    "#Проверка слишком коротких поездок\n",
    "tail_short=rides[rides['duration']<=1]['duration'].plot(kind='hist', bins=200, title='Значение с короткими поездками')"
   ]
  },
  {
   "cell_type": "code",
   "execution_count": 40,
   "id": "3bc604e0",
   "metadata": {},
   "outputs": [
    {
     "data": {
      "text/plain": [
       "4215    5137.327103\n",
       "Name: distance, dtype: float64"
      ]
     },
     "execution_count": 40,
     "metadata": {},
     "output_type": "execute_result"
    },
    {
     "data": {
      "image/png": "[encoded data removed]",
      "text/plain": [
       "<Figure size 432x288 with 1 Axes>"
      ]
     },
     "metadata": {
      "needs_background": "light"
     },
     "output_type": "display_data"
    }
   ],
   "source": [
    "#Проверка слишком длинных поездок\n",
    "tail_large=rides[rides['duration']>=40]['duration'].plot(kind='hist', bins=200, title='Значение с длинными поездками')\n",
    "rides[rides['duration']>=40]['distance']#дистанция 4 км"
   ]
  },
  {
   "cell_type": "markdown",
   "id": "b9388d14",
   "metadata": {},
   "source": [
    "Вывод:\n",
    "В среднем длительность поездки 17 минут, половина всех пользователей проезжает от 13мин до 21мин. Однако есть пользователи, которые проезжают около 4.1км за 40 минут, а также те, кто проехали меньше минуты. В целом размах данных обольшой."
   ]
  },
  {
   "cell_type": "markdown",
   "id": "4ef51331",
   "metadata": {},
   "source": [
    "#### Объединение данных"
   ]
  },
  {
   "cell_type": "markdown",
   "id": "9332d284",
   "metadata": {},
   "source": [
    "##### Объединение данных о пользователях, поездках и подписках в один датафрейм методом merge()"
   ]
  },
  {
   "cell_type": "code",
   "execution_count": 41,
   "id": "80b5ffd1",
   "metadata": {},
   "outputs": [
    {
     "data": {
      "text/html": [
       "<div>\n",
       "<style scoped>\n",
       "    .dataframe tbody tr th:only-of-type {\n",
       "        vertical-align: middle;\n",
       "    }\n",
       "\n",
       "    .dataframe tbody tr th {\n",
       "        vertical-align: top;\n",
       "    }\n",
       "\n",
       "    .dataframe thead th {\n",
       "        text-align: right;\n",
       "    }\n",
       "</style>\n",
       "<table border=\"1\" class=\"dataframe\">\n",
       "  <thead>\n",
       "    <tr style=\"text-align: right;\">\n",
       "      <th></th>\n",
       "      <th>user_id</th>\n",
       "      <th>distance</th>\n",
       "      <th>duration</th>\n",
       "      <th>date</th>\n",
       "      <th>month</th>\n",
       "      <th>name</th>\n",
       "      <th>age</th>\n",
       "      <th>city</th>\n",
       "      <th>subscription_type</th>\n",
       "    </tr>\n",
       "  </thead>\n",
       "  <tbody>\n",
       "    <tr>\n",
       "      <th>0</th>\n",
       "      <td>1</td>\n",
       "      <td>4409.919140</td>\n",
       "      <td>25.599769</td>\n",
       "      <td>2021-01-01</td>\n",
       "      <td>1</td>\n",
       "      <td>Кира</td>\n",
       "      <td>22</td>\n",
       "      <td>Тюмень</td>\n",
       "      <td>ultra</td>\n",
       "    </tr>\n",
       "    <tr>\n",
       "      <th>1</th>\n",
       "      <td>1</td>\n",
       "      <td>2617.592153</td>\n",
       "      <td>15.816871</td>\n",
       "      <td>2021-01-18</td>\n",
       "      <td>1</td>\n",
       "      <td>Кира</td>\n",
       "      <td>22</td>\n",
       "      <td>Тюмень</td>\n",
       "      <td>ultra</td>\n",
       "    </tr>\n",
       "    <tr>\n",
       "      <th>2</th>\n",
       "      <td>1</td>\n",
       "      <td>754.159807</td>\n",
       "      <td>6.232113</td>\n",
       "      <td>2021-04-20</td>\n",
       "      <td>4</td>\n",
       "      <td>Кира</td>\n",
       "      <td>22</td>\n",
       "      <td>Тюмень</td>\n",
       "      <td>ultra</td>\n",
       "    </tr>\n",
       "    <tr>\n",
       "      <th>3</th>\n",
       "      <td>1</td>\n",
       "      <td>2694.783254</td>\n",
       "      <td>18.511000</td>\n",
       "      <td>2021-08-11</td>\n",
       "      <td>8</td>\n",
       "      <td>Кира</td>\n",
       "      <td>22</td>\n",
       "      <td>Тюмень</td>\n",
       "      <td>ultra</td>\n",
       "    </tr>\n",
       "    <tr>\n",
       "      <th>4</th>\n",
       "      <td>1</td>\n",
       "      <td>4028.687306</td>\n",
       "      <td>26.265803</td>\n",
       "      <td>2021-08-28</td>\n",
       "      <td>8</td>\n",
       "      <td>Кира</td>\n",
       "      <td>22</td>\n",
       "      <td>Тюмень</td>\n",
       "      <td>ultra</td>\n",
       "    </tr>\n",
       "    <tr>\n",
       "      <th>...</th>\n",
       "      <td>...</td>\n",
       "      <td>...</td>\n",
       "      <td>...</td>\n",
       "      <td>...</td>\n",
       "      <td>...</td>\n",
       "      <td>...</td>\n",
       "      <td>...</td>\n",
       "      <td>...</td>\n",
       "      <td>...</td>\n",
       "    </tr>\n",
       "    <tr>\n",
       "      <th>18063</th>\n",
       "      <td>1534</td>\n",
       "      <td>3781.098080</td>\n",
       "      <td>19.822962</td>\n",
       "      <td>2021-11-04</td>\n",
       "      <td>11</td>\n",
       "      <td>Альберт</td>\n",
       "      <td>25</td>\n",
       "      <td>Краснодар</td>\n",
       "      <td>free</td>\n",
       "    </tr>\n",
       "    <tr>\n",
       "      <th>18064</th>\n",
       "      <td>1534</td>\n",
       "      <td>2840.423057</td>\n",
       "      <td>21.409799</td>\n",
       "      <td>2021-11-16</td>\n",
       "      <td>11</td>\n",
       "      <td>Альберт</td>\n",
       "      <td>25</td>\n",
       "      <td>Краснодар</td>\n",
       "      <td>free</td>\n",
       "    </tr>\n",
       "    <tr>\n",
       "      <th>18065</th>\n",
       "      <td>1534</td>\n",
       "      <td>3826.185507</td>\n",
       "      <td>18.435051</td>\n",
       "      <td>2021-11-18</td>\n",
       "      <td>11</td>\n",
       "      <td>Альберт</td>\n",
       "      <td>25</td>\n",
       "      <td>Краснодар</td>\n",
       "      <td>free</td>\n",
       "    </tr>\n",
       "    <tr>\n",
       "      <th>18066</th>\n",
       "      <td>1534</td>\n",
       "      <td>2902.308661</td>\n",
       "      <td>16.674362</td>\n",
       "      <td>2021-11-27</td>\n",
       "      <td>11</td>\n",
       "      <td>Альберт</td>\n",
       "      <td>25</td>\n",
       "      <td>Краснодар</td>\n",
       "      <td>free</td>\n",
       "    </tr>\n",
       "    <tr>\n",
       "      <th>18067</th>\n",
       "      <td>1534</td>\n",
       "      <td>2371.711192</td>\n",
       "      <td>15.893917</td>\n",
       "      <td>2021-12-29</td>\n",
       "      <td>12</td>\n",
       "      <td>Альберт</td>\n",
       "      <td>25</td>\n",
       "      <td>Краснодар</td>\n",
       "      <td>free</td>\n",
       "    </tr>\n",
       "  </tbody>\n",
       "</table>\n",
       "<p>18068 rows × 9 columns</p>\n",
       "</div>"
      ],
      "text/plain": [
       "       user_id     distance   duration       date  month     name  age  \\\n",
       "0            1  4409.919140  25.599769 2021-01-01      1     Кира   22   \n",
       "1            1  2617.592153  15.816871 2021-01-18      1     Кира   22   \n",
       "2            1   754.159807   6.232113 2021-04-20      4     Кира   22   \n",
       "3            1  2694.783254  18.511000 2021-08-11      8     Кира   22   \n",
       "4            1  4028.687306  26.265803 2021-08-28      8     Кира   22   \n",
       "...        ...          ...        ...        ...    ...      ...  ...   \n",
       "18063     1534  3781.098080  19.822962 2021-11-04     11  Альберт   25   \n",
       "18064     1534  2840.423057  21.409799 2021-11-16     11  Альберт   25   \n",
       "18065     1534  3826.185507  18.435051 2021-11-18     11  Альберт   25   \n",
       "18066     1534  2902.308661  16.674362 2021-11-27     11  Альберт   25   \n",
       "18067     1534  2371.711192  15.893917 2021-12-29     12  Альберт   25   \n",
       "\n",
       "            city subscription_type  \n",
       "0         Тюмень             ultra  \n",
       "1         Тюмень             ultra  \n",
       "2         Тюмень             ultra  \n",
       "3         Тюмень             ultra  \n",
       "4         Тюмень             ultra  \n",
       "...          ...               ...  \n",
       "18063  Краснодар              free  \n",
       "18064  Краснодар              free  \n",
       "18065  Краснодар              free  \n",
       "18066  Краснодар              free  \n",
       "18067  Краснодар              free  \n",
       "\n",
       "[18068 rows x 9 columns]"
      ]
     },
     "execution_count": 41,
     "metadata": {},
     "output_type": "execute_result"
    }
   ],
   "source": [
    "# В датафрейму rides более 18000 значений, в то время как в датафрейме users около 1000 значений.\n",
    "# Встает вопрос, как именно обьединять данные (left, right, inner, outer).\n",
    "# Я приняла решение обьединять по rides. Так данные не будут потеряны.\n",
    "merged_users_rides=rides.merge(users, on='user_id', how='left')\n",
    "merged_users_rides"
   ]
  },
  {
   "cell_type": "code",
   "execution_count": 42,
   "id": "f0253472",
   "metadata": {},
   "outputs": [
    {
     "data": {
      "text/html": [
       "<div>\n",
       "<style scoped>\n",
       "    .dataframe tbody tr th:only-of-type {\n",
       "        vertical-align: middle;\n",
       "    }\n",
       "\n",
       "    .dataframe tbody tr th {\n",
       "        vertical-align: top;\n",
       "    }\n",
       "\n",
       "    .dataframe thead th {\n",
       "        text-align: right;\n",
       "    }\n",
       "</style>\n",
       "<table border=\"1\" class=\"dataframe\">\n",
       "  <thead>\n",
       "    <tr style=\"text-align: right;\">\n",
       "      <th></th>\n",
       "      <th>user_id</th>\n",
       "      <th>distance</th>\n",
       "      <th>duration</th>\n",
       "      <th>date</th>\n",
       "      <th>month</th>\n",
       "      <th>name</th>\n",
       "      <th>age</th>\n",
       "      <th>city</th>\n",
       "      <th>subscription_type</th>\n",
       "      <th>minute_price</th>\n",
       "      <th>start_ride_price</th>\n",
       "      <th>subscription_fee</th>\n",
       "    </tr>\n",
       "  </thead>\n",
       "  <tbody>\n",
       "    <tr>\n",
       "      <th>0</th>\n",
       "      <td>1</td>\n",
       "      <td>4409.919140</td>\n",
       "      <td>25.599769</td>\n",
       "      <td>2021-01-01</td>\n",
       "      <td>1</td>\n",
       "      <td>Кира</td>\n",
       "      <td>22</td>\n",
       "      <td>Тюмень</td>\n",
       "      <td>ultra</td>\n",
       "      <td>6</td>\n",
       "      <td>0</td>\n",
       "      <td>199</td>\n",
       "    </tr>\n",
       "    <tr>\n",
       "      <th>1</th>\n",
       "      <td>1</td>\n",
       "      <td>2617.592153</td>\n",
       "      <td>15.816871</td>\n",
       "      <td>2021-01-18</td>\n",
       "      <td>1</td>\n",
       "      <td>Кира</td>\n",
       "      <td>22</td>\n",
       "      <td>Тюмень</td>\n",
       "      <td>ultra</td>\n",
       "      <td>6</td>\n",
       "      <td>0</td>\n",
       "      <td>199</td>\n",
       "    </tr>\n",
       "    <tr>\n",
       "      <th>2</th>\n",
       "      <td>1</td>\n",
       "      <td>754.159807</td>\n",
       "      <td>6.232113</td>\n",
       "      <td>2021-04-20</td>\n",
       "      <td>4</td>\n",
       "      <td>Кира</td>\n",
       "      <td>22</td>\n",
       "      <td>Тюмень</td>\n",
       "      <td>ultra</td>\n",
       "      <td>6</td>\n",
       "      <td>0</td>\n",
       "      <td>199</td>\n",
       "    </tr>\n",
       "    <tr>\n",
       "      <th>3</th>\n",
       "      <td>1</td>\n",
       "      <td>2694.783254</td>\n",
       "      <td>18.511000</td>\n",
       "      <td>2021-08-11</td>\n",
       "      <td>8</td>\n",
       "      <td>Кира</td>\n",
       "      <td>22</td>\n",
       "      <td>Тюмень</td>\n",
       "      <td>ultra</td>\n",
       "      <td>6</td>\n",
       "      <td>0</td>\n",
       "      <td>199</td>\n",
       "    </tr>\n",
       "    <tr>\n",
       "      <th>4</th>\n",
       "      <td>1</td>\n",
       "      <td>4028.687306</td>\n",
       "      <td>26.265803</td>\n",
       "      <td>2021-08-28</td>\n",
       "      <td>8</td>\n",
       "      <td>Кира</td>\n",
       "      <td>22</td>\n",
       "      <td>Тюмень</td>\n",
       "      <td>ultra</td>\n",
       "      <td>6</td>\n",
       "      <td>0</td>\n",
       "      <td>199</td>\n",
       "    </tr>\n",
       "    <tr>\n",
       "      <th>...</th>\n",
       "      <td>...</td>\n",
       "      <td>...</td>\n",
       "      <td>...</td>\n",
       "      <td>...</td>\n",
       "      <td>...</td>\n",
       "      <td>...</td>\n",
       "      <td>...</td>\n",
       "      <td>...</td>\n",
       "      <td>...</td>\n",
       "      <td>...</td>\n",
       "      <td>...</td>\n",
       "      <td>...</td>\n",
       "    </tr>\n",
       "    <tr>\n",
       "      <th>18063</th>\n",
       "      <td>1534</td>\n",
       "      <td>3781.098080</td>\n",
       "      <td>19.822962</td>\n",
       "      <td>2021-11-04</td>\n",
       "      <td>11</td>\n",
       "      <td>Альберт</td>\n",
       "      <td>25</td>\n",
       "      <td>Краснодар</td>\n",
       "      <td>free</td>\n",
       "      <td>8</td>\n",
       "      <td>50</td>\n",
       "      <td>0</td>\n",
       "    </tr>\n",
       "    <tr>\n",
       "      <th>18064</th>\n",
       "      <td>1534</td>\n",
       "      <td>2840.423057</td>\n",
       "      <td>21.409799</td>\n",
       "      <td>2021-11-16</td>\n",
       "      <td>11</td>\n",
       "      <td>Альберт</td>\n",
       "      <td>25</td>\n",
       "      <td>Краснодар</td>\n",
       "      <td>free</td>\n",
       "      <td>8</td>\n",
       "      <td>50</td>\n",
       "      <td>0</td>\n",
       "    </tr>\n",
       "    <tr>\n",
       "      <th>18065</th>\n",
       "      <td>1534</td>\n",
       "      <td>3826.185507</td>\n",
       "      <td>18.435051</td>\n",
       "      <td>2021-11-18</td>\n",
       "      <td>11</td>\n",
       "      <td>Альберт</td>\n",
       "      <td>25</td>\n",
       "      <td>Краснодар</td>\n",
       "      <td>free</td>\n",
       "      <td>8</td>\n",
       "      <td>50</td>\n",
       "      <td>0</td>\n",
       "    </tr>\n",
       "    <tr>\n",
       "      <th>18066</th>\n",
       "      <td>1534</td>\n",
       "      <td>2902.308661</td>\n",
       "      <td>16.674362</td>\n",
       "      <td>2021-11-27</td>\n",
       "      <td>11</td>\n",
       "      <td>Альберт</td>\n",
       "      <td>25</td>\n",
       "      <td>Краснодар</td>\n",
       "      <td>free</td>\n",
       "      <td>8</td>\n",
       "      <td>50</td>\n",
       "      <td>0</td>\n",
       "    </tr>\n",
       "    <tr>\n",
       "      <th>18067</th>\n",
       "      <td>1534</td>\n",
       "      <td>2371.711192</td>\n",
       "      <td>15.893917</td>\n",
       "      <td>2021-12-29</td>\n",
       "      <td>12</td>\n",
       "      <td>Альберт</td>\n",
       "      <td>25</td>\n",
       "      <td>Краснодар</td>\n",
       "      <td>free</td>\n",
       "      <td>8</td>\n",
       "      <td>50</td>\n",
       "      <td>0</td>\n",
       "    </tr>\n",
       "  </tbody>\n",
       "</table>\n",
       "<p>18068 rows × 12 columns</p>\n",
       "</div>"
      ],
      "text/plain": [
       "       user_id     distance   duration       date  month     name  age  \\\n",
       "0            1  4409.919140  25.599769 2021-01-01      1     Кира   22   \n",
       "1            1  2617.592153  15.816871 2021-01-18      1     Кира   22   \n",
       "2            1   754.159807   6.232113 2021-04-20      4     Кира   22   \n",
       "3            1  2694.783254  18.511000 2021-08-11      8     Кира   22   \n",
       "4            1  4028.687306  26.265803 2021-08-28      8     Кира   22   \n",
       "...        ...          ...        ...        ...    ...      ...  ...   \n",
       "18063     1534  3781.098080  19.822962 2021-11-04     11  Альберт   25   \n",
       "18064     1534  2840.423057  21.409799 2021-11-16     11  Альберт   25   \n",
       "18065     1534  3826.185507  18.435051 2021-11-18     11  Альберт   25   \n",
       "18066     1534  2902.308661  16.674362 2021-11-27     11  Альберт   25   \n",
       "18067     1534  2371.711192  15.893917 2021-12-29     12  Альберт   25   \n",
       "\n",
       "            city subscription_type  minute_price  start_ride_price  \\\n",
       "0         Тюмень             ultra             6                 0   \n",
       "1         Тюмень             ultra             6                 0   \n",
       "2         Тюмень             ultra             6                 0   \n",
       "3         Тюмень             ultra             6                 0   \n",
       "4         Тюмень             ultra             6                 0   \n",
       "...          ...               ...           ...               ...   \n",
       "18063  Краснодар              free             8                50   \n",
       "18064  Краснодар              free             8                50   \n",
       "18065  Краснодар              free             8                50   \n",
       "18066  Краснодар              free             8                50   \n",
       "18067  Краснодар              free             8                50   \n",
       "\n",
       "       subscription_fee  \n",
       "0                   199  \n",
       "1                   199  \n",
       "2                   199  \n",
       "3                   199  \n",
       "4                   199  \n",
       "...                 ...  \n",
       "18063                 0  \n",
       "18064                 0  \n",
       "18065                 0  \n",
       "18066                 0  \n",
       "18067                 0  \n",
       "\n",
       "[18068 rows x 12 columns]"
      ]
     },
     "execution_count": 42,
     "metadata": {},
     "output_type": "execute_result"
    }
   ],
   "source": [
    "merged_all=merged_users_rides.merge(sub, on='subscription_type', how='left')# обьединены все три датафрейма\n",
    "merged_all"
   ]
  },
  {
   "cell_type": "markdown",
   "id": "97339332",
   "metadata": {},
   "source": [
    "##### Создание двух датафреймов: c данными о пользователях без подписки, с данными о пользователях с подпиской."
   ]
  },
  {
   "cell_type": "code",
   "execution_count": 43,
   "id": "59d823c8",
   "metadata": {},
   "outputs": [
    {
     "data": {
      "text/plain": [
       "array(['free'], dtype=object)"
      ]
     },
     "execution_count": 43,
     "metadata": {},
     "output_type": "execute_result"
    }
   ],
   "source": [
    "merged_free=merged_all[merged_all['subscription_type']=='free']\n",
    "merged_free['subscription_type'].unique()"
   ]
  },
  {
   "cell_type": "code",
   "execution_count": 44,
   "id": "d94bfbbe",
   "metadata": {},
   "outputs": [
    {
     "data": {
      "text/html": [
       "<div>\n",
       "<style scoped>\n",
       "    .dataframe tbody tr th:only-of-type {\n",
       "        vertical-align: middle;\n",
       "    }\n",
       "\n",
       "    .dataframe tbody tr th {\n",
       "        vertical-align: top;\n",
       "    }\n",
       "\n",
       "    .dataframe thead th {\n",
       "        text-align: right;\n",
       "    }\n",
       "</style>\n",
       "<table border=\"1\" class=\"dataframe\">\n",
       "  <thead>\n",
       "    <tr style=\"text-align: right;\">\n",
       "      <th></th>\n",
       "      <th>user_id</th>\n",
       "      <th>distance</th>\n",
       "      <th>duration</th>\n",
       "      <th>date</th>\n",
       "      <th>month</th>\n",
       "      <th>name</th>\n",
       "      <th>age</th>\n",
       "      <th>city</th>\n",
       "      <th>subscription_type</th>\n",
       "      <th>minute_price</th>\n",
       "      <th>start_ride_price</th>\n",
       "      <th>subscription_fee</th>\n",
       "    </tr>\n",
       "  </thead>\n",
       "  <tbody>\n",
       "    <tr>\n",
       "      <th>6500</th>\n",
       "      <td>700</td>\n",
       "      <td>2515.690719</td>\n",
       "      <td>14.944286</td>\n",
       "      <td>2021-01-02</td>\n",
       "      <td>1</td>\n",
       "      <td>Айдар</td>\n",
       "      <td>22</td>\n",
       "      <td>Омск</td>\n",
       "      <td>free</td>\n",
       "      <td>8</td>\n",
       "      <td>50</td>\n",
       "      <td>0</td>\n",
       "    </tr>\n",
       "    <tr>\n",
       "      <th>6501</th>\n",
       "      <td>700</td>\n",
       "      <td>846.932642</td>\n",
       "      <td>16.234663</td>\n",
       "      <td>2021-02-01</td>\n",
       "      <td>2</td>\n",
       "      <td>Айдар</td>\n",
       "      <td>22</td>\n",
       "      <td>Омск</td>\n",
       "      <td>free</td>\n",
       "      <td>8</td>\n",
       "      <td>50</td>\n",
       "      <td>0</td>\n",
       "    </tr>\n",
       "    <tr>\n",
       "      <th>6502</th>\n",
       "      <td>700</td>\n",
       "      <td>4004.434142</td>\n",
       "      <td>20.016628</td>\n",
       "      <td>2021-02-04</td>\n",
       "      <td>2</td>\n",
       "      <td>Айдар</td>\n",
       "      <td>22</td>\n",
       "      <td>Омск</td>\n",
       "      <td>free</td>\n",
       "      <td>8</td>\n",
       "      <td>50</td>\n",
       "      <td>0</td>\n",
       "    </tr>\n",
       "    <tr>\n",
       "      <th>6503</th>\n",
       "      <td>700</td>\n",
       "      <td>1205.911290</td>\n",
       "      <td>9.782872</td>\n",
       "      <td>2021-02-10</td>\n",
       "      <td>2</td>\n",
       "      <td>Айдар</td>\n",
       "      <td>22</td>\n",
       "      <td>Омск</td>\n",
       "      <td>free</td>\n",
       "      <td>8</td>\n",
       "      <td>50</td>\n",
       "      <td>0</td>\n",
       "    </tr>\n",
       "    <tr>\n",
       "      <th>6504</th>\n",
       "      <td>700</td>\n",
       "      <td>3047.379435</td>\n",
       "      <td>17.427673</td>\n",
       "      <td>2021-02-14</td>\n",
       "      <td>2</td>\n",
       "      <td>Айдар</td>\n",
       "      <td>22</td>\n",
       "      <td>Омск</td>\n",
       "      <td>free</td>\n",
       "      <td>8</td>\n",
       "      <td>50</td>\n",
       "      <td>0</td>\n",
       "    </tr>\n",
       "    <tr>\n",
       "      <th>6505</th>\n",
       "      <td>700</td>\n",
       "      <td>4342.002254</td>\n",
       "      <td>22.368009</td>\n",
       "      <td>2021-02-23</td>\n",
       "      <td>2</td>\n",
       "      <td>Айдар</td>\n",
       "      <td>22</td>\n",
       "      <td>Омск</td>\n",
       "      <td>free</td>\n",
       "      <td>8</td>\n",
       "      <td>50</td>\n",
       "      <td>0</td>\n",
       "    </tr>\n",
       "    <tr>\n",
       "      <th>6506</th>\n",
       "      <td>700</td>\n",
       "      <td>3798.334905</td>\n",
       "      <td>18.243756</td>\n",
       "      <td>2021-03-03</td>\n",
       "      <td>3</td>\n",
       "      <td>Айдар</td>\n",
       "      <td>22</td>\n",
       "      <td>Омск</td>\n",
       "      <td>free</td>\n",
       "      <td>8</td>\n",
       "      <td>50</td>\n",
       "      <td>0</td>\n",
       "    </tr>\n",
       "    <tr>\n",
       "      <th>6507</th>\n",
       "      <td>700</td>\n",
       "      <td>2984.551206</td>\n",
       "      <td>15.424899</td>\n",
       "      <td>2021-04-09</td>\n",
       "      <td>4</td>\n",
       "      <td>Айдар</td>\n",
       "      <td>22</td>\n",
       "      <td>Омск</td>\n",
       "      <td>free</td>\n",
       "      <td>8</td>\n",
       "      <td>50</td>\n",
       "      <td>0</td>\n",
       "    </tr>\n",
       "    <tr>\n",
       "      <th>6508</th>\n",
       "      <td>700</td>\n",
       "      <td>3360.107141</td>\n",
       "      <td>16.765497</td>\n",
       "      <td>2021-06-12</td>\n",
       "      <td>6</td>\n",
       "      <td>Айдар</td>\n",
       "      <td>22</td>\n",
       "      <td>Омск</td>\n",
       "      <td>free</td>\n",
       "      <td>8</td>\n",
       "      <td>50</td>\n",
       "      <td>0</td>\n",
       "    </tr>\n",
       "    <tr>\n",
       "      <th>6509</th>\n",
       "      <td>700</td>\n",
       "      <td>2567.543847</td>\n",
       "      <td>11.312160</td>\n",
       "      <td>2021-06-23</td>\n",
       "      <td>6</td>\n",
       "      <td>Айдар</td>\n",
       "      <td>22</td>\n",
       "      <td>Омск</td>\n",
       "      <td>free</td>\n",
       "      <td>8</td>\n",
       "      <td>50</td>\n",
       "      <td>0</td>\n",
       "    </tr>\n",
       "  </tbody>\n",
       "</table>\n",
       "</div>"
      ],
      "text/plain": [
       "      user_id     distance   duration       date  month   name  age  city  \\\n",
       "6500      700  2515.690719  14.944286 2021-01-02      1  Айдар   22  Омск   \n",
       "6501      700   846.932642  16.234663 2021-02-01      2  Айдар   22  Омск   \n",
       "6502      700  4004.434142  20.016628 2021-02-04      2  Айдар   22  Омск   \n",
       "6503      700  1205.911290   9.782872 2021-02-10      2  Айдар   22  Омск   \n",
       "6504      700  3047.379435  17.427673 2021-02-14      2  Айдар   22  Омск   \n",
       "6505      700  4342.002254  22.368009 2021-02-23      2  Айдар   22  Омск   \n",
       "6506      700  3798.334905  18.243756 2021-03-03      3  Айдар   22  Омск   \n",
       "6507      700  2984.551206  15.424899 2021-04-09      4  Айдар   22  Омск   \n",
       "6508      700  3360.107141  16.765497 2021-06-12      6  Айдар   22  Омск   \n",
       "6509      700  2567.543847  11.312160 2021-06-23      6  Айдар   22  Омск   \n",
       "\n",
       "     subscription_type  minute_price  start_ride_price  subscription_fee  \n",
       "6500              free             8                50                 0  \n",
       "6501              free             8                50                 0  \n",
       "6502              free             8                50                 0  \n",
       "6503              free             8                50                 0  \n",
       "6504              free             8                50                 0  \n",
       "6505              free             8                50                 0  \n",
       "6506              free             8                50                 0  \n",
       "6507              free             8                50                 0  \n",
       "6508              free             8                50                 0  \n",
       "6509              free             8                50                 0  "
      ]
     },
     "execution_count": 44,
     "metadata": {},
     "output_type": "execute_result"
    }
   ],
   "source": [
    "merged_free.head(10)"
   ]
  },
  {
   "cell_type": "code",
   "execution_count": 45,
   "id": "c011df71",
   "metadata": {},
   "outputs": [
    {
     "name": "stdout",
     "output_type": "stream",
     "text": [
      "<class 'pandas.core.frame.DataFrame'>\n",
      "Int64Index: 11568 entries, 6500 to 18067\n",
      "Data columns (total 12 columns):\n",
      " #   Column             Non-Null Count  Dtype         \n",
      "---  ------             --------------  -----         \n",
      " 0   user_id            11568 non-null  int64         \n",
      " 1   distance           11568 non-null  float64       \n",
      " 2   duration           11568 non-null  float64       \n",
      " 3   date               11568 non-null  datetime64[ns]\n",
      " 4   month              11568 non-null  int64         \n",
      " 5   name               11568 non-null  object        \n",
      " 6   age                11568 non-null  int64         \n",
      " 7   city               11568 non-null  object        \n",
      " 8   subscription_type  11568 non-null  object        \n",
      " 9   minute_price       11568 non-null  int64         \n",
      " 10  start_ride_price   11568 non-null  int64         \n",
      " 11  subscription_fee   11568 non-null  int64         \n",
      "dtypes: datetime64[ns](1), float64(2), int64(6), object(3)\n",
      "memory usage: 1.1+ MB\n"
     ]
    }
   ],
   "source": [
    "merged_free.info()"
   ]
  },
  {
   "cell_type": "code",
   "execution_count": 46,
   "id": "145bb085",
   "metadata": {},
   "outputs": [
    {
     "data": {
      "text/plain": [
       "array(['ultra'], dtype=object)"
      ]
     },
     "execution_count": 46,
     "metadata": {},
     "output_type": "execute_result"
    }
   ],
   "source": [
    "merged_ultra=merged_all[merged_all['subscription_type']=='ultra']\n",
    "merged_ultra['subscription_type'].unique()"
   ]
  },
  {
   "cell_type": "code",
   "execution_count": 47,
   "id": "c9580925",
   "metadata": {},
   "outputs": [
    {
     "data": {
      "text/html": [
       "<div>\n",
       "<style scoped>\n",
       "    .dataframe tbody tr th:only-of-type {\n",
       "        vertical-align: middle;\n",
       "    }\n",
       "\n",
       "    .dataframe tbody tr th {\n",
       "        vertical-align: top;\n",
       "    }\n",
       "\n",
       "    .dataframe thead th {\n",
       "        text-align: right;\n",
       "    }\n",
       "</style>\n",
       "<table border=\"1\" class=\"dataframe\">\n",
       "  <thead>\n",
       "    <tr style=\"text-align: right;\">\n",
       "      <th></th>\n",
       "      <th>user_id</th>\n",
       "      <th>distance</th>\n",
       "      <th>duration</th>\n",
       "      <th>date</th>\n",
       "      <th>month</th>\n",
       "      <th>name</th>\n",
       "      <th>age</th>\n",
       "      <th>city</th>\n",
       "      <th>subscription_type</th>\n",
       "      <th>minute_price</th>\n",
       "      <th>start_ride_price</th>\n",
       "      <th>subscription_fee</th>\n",
       "    </tr>\n",
       "  </thead>\n",
       "  <tbody>\n",
       "    <tr>\n",
       "      <th>0</th>\n",
       "      <td>1</td>\n",
       "      <td>4409.919140</td>\n",
       "      <td>25.599769</td>\n",
       "      <td>2021-01-01</td>\n",
       "      <td>1</td>\n",
       "      <td>Кира</td>\n",
       "      <td>22</td>\n",
       "      <td>Тюмень</td>\n",
       "      <td>ultra</td>\n",
       "      <td>6</td>\n",
       "      <td>0</td>\n",
       "      <td>199</td>\n",
       "    </tr>\n",
       "    <tr>\n",
       "      <th>1</th>\n",
       "      <td>1</td>\n",
       "      <td>2617.592153</td>\n",
       "      <td>15.816871</td>\n",
       "      <td>2021-01-18</td>\n",
       "      <td>1</td>\n",
       "      <td>Кира</td>\n",
       "      <td>22</td>\n",
       "      <td>Тюмень</td>\n",
       "      <td>ultra</td>\n",
       "      <td>6</td>\n",
       "      <td>0</td>\n",
       "      <td>199</td>\n",
       "    </tr>\n",
       "    <tr>\n",
       "      <th>2</th>\n",
       "      <td>1</td>\n",
       "      <td>754.159807</td>\n",
       "      <td>6.232113</td>\n",
       "      <td>2021-04-20</td>\n",
       "      <td>4</td>\n",
       "      <td>Кира</td>\n",
       "      <td>22</td>\n",
       "      <td>Тюмень</td>\n",
       "      <td>ultra</td>\n",
       "      <td>6</td>\n",
       "      <td>0</td>\n",
       "      <td>199</td>\n",
       "    </tr>\n",
       "    <tr>\n",
       "      <th>3</th>\n",
       "      <td>1</td>\n",
       "      <td>2694.783254</td>\n",
       "      <td>18.511000</td>\n",
       "      <td>2021-08-11</td>\n",
       "      <td>8</td>\n",
       "      <td>Кира</td>\n",
       "      <td>22</td>\n",
       "      <td>Тюмень</td>\n",
       "      <td>ultra</td>\n",
       "      <td>6</td>\n",
       "      <td>0</td>\n",
       "      <td>199</td>\n",
       "    </tr>\n",
       "    <tr>\n",
       "      <th>4</th>\n",
       "      <td>1</td>\n",
       "      <td>4028.687306</td>\n",
       "      <td>26.265803</td>\n",
       "      <td>2021-08-28</td>\n",
       "      <td>8</td>\n",
       "      <td>Кира</td>\n",
       "      <td>22</td>\n",
       "      <td>Тюмень</td>\n",
       "      <td>ultra</td>\n",
       "      <td>6</td>\n",
       "      <td>0</td>\n",
       "      <td>199</td>\n",
       "    </tr>\n",
       "    <tr>\n",
       "      <th>5</th>\n",
       "      <td>1</td>\n",
       "      <td>2770.890808</td>\n",
       "      <td>16.650138</td>\n",
       "      <td>2021-10-09</td>\n",
       "      <td>10</td>\n",
       "      <td>Кира</td>\n",
       "      <td>22</td>\n",
       "      <td>Тюмень</td>\n",
       "      <td>ultra</td>\n",
       "      <td>6</td>\n",
       "      <td>0</td>\n",
       "      <td>199</td>\n",
       "    </tr>\n",
       "    <tr>\n",
       "      <th>6</th>\n",
       "      <td>1</td>\n",
       "      <td>3039.020292</td>\n",
       "      <td>14.927879</td>\n",
       "      <td>2021-10-19</td>\n",
       "      <td>10</td>\n",
       "      <td>Кира</td>\n",
       "      <td>22</td>\n",
       "      <td>Тюмень</td>\n",
       "      <td>ultra</td>\n",
       "      <td>6</td>\n",
       "      <td>0</td>\n",
       "      <td>199</td>\n",
       "    </tr>\n",
       "    <tr>\n",
       "      <th>7</th>\n",
       "      <td>1</td>\n",
       "      <td>2842.118050</td>\n",
       "      <td>23.117468</td>\n",
       "      <td>2021-11-06</td>\n",
       "      <td>11</td>\n",
       "      <td>Кира</td>\n",
       "      <td>22</td>\n",
       "      <td>Тюмень</td>\n",
       "      <td>ultra</td>\n",
       "      <td>6</td>\n",
       "      <td>0</td>\n",
       "      <td>199</td>\n",
       "    </tr>\n",
       "    <tr>\n",
       "      <th>8</th>\n",
       "      <td>1</td>\n",
       "      <td>3412.690668</td>\n",
       "      <td>15.238072</td>\n",
       "      <td>2021-11-14</td>\n",
       "      <td>11</td>\n",
       "      <td>Кира</td>\n",
       "      <td>22</td>\n",
       "      <td>Тюмень</td>\n",
       "      <td>ultra</td>\n",
       "      <td>6</td>\n",
       "      <td>0</td>\n",
       "      <td>199</td>\n",
       "    </tr>\n",
       "    <tr>\n",
       "      <th>9</th>\n",
       "      <td>1</td>\n",
       "      <td>748.690645</td>\n",
       "      <td>15.041884</td>\n",
       "      <td>2021-11-22</td>\n",
       "      <td>11</td>\n",
       "      <td>Кира</td>\n",
       "      <td>22</td>\n",
       "      <td>Тюмень</td>\n",
       "      <td>ultra</td>\n",
       "      <td>6</td>\n",
       "      <td>0</td>\n",
       "      <td>199</td>\n",
       "    </tr>\n",
       "  </tbody>\n",
       "</table>\n",
       "</div>"
      ],
      "text/plain": [
       "   user_id     distance   duration       date  month  name  age    city  \\\n",
       "0        1  4409.919140  25.599769 2021-01-01      1  Кира   22  Тюмень   \n",
       "1        1  2617.592153  15.816871 2021-01-18      1  Кира   22  Тюмень   \n",
       "2        1   754.159807   6.232113 2021-04-20      4  Кира   22  Тюмень   \n",
       "3        1  2694.783254  18.511000 2021-08-11      8  Кира   22  Тюмень   \n",
       "4        1  4028.687306  26.265803 2021-08-28      8  Кира   22  Тюмень   \n",
       "5        1  2770.890808  16.650138 2021-10-09     10  Кира   22  Тюмень   \n",
       "6        1  3039.020292  14.927879 2021-10-19     10  Кира   22  Тюмень   \n",
       "7        1  2842.118050  23.117468 2021-11-06     11  Кира   22  Тюмень   \n",
       "8        1  3412.690668  15.238072 2021-11-14     11  Кира   22  Тюмень   \n",
       "9        1   748.690645  15.041884 2021-11-22     11  Кира   22  Тюмень   \n",
       "\n",
       "  subscription_type  minute_price  start_ride_price  subscription_fee  \n",
       "0             ultra             6                 0               199  \n",
       "1             ultra             6                 0               199  \n",
       "2             ultra             6                 0               199  \n",
       "3             ultra             6                 0               199  \n",
       "4             ultra             6                 0               199  \n",
       "5             ultra             6                 0               199  \n",
       "6             ultra             6                 0               199  \n",
       "7             ultra             6                 0               199  \n",
       "8             ultra             6                 0               199  \n",
       "9             ultra             6                 0               199  "
      ]
     },
     "execution_count": 47,
     "metadata": {},
     "output_type": "execute_result"
    }
   ],
   "source": [
    "merged_ultra.head(10)"
   ]
  },
  {
   "cell_type": "code",
   "execution_count": 48,
   "id": "b6aded59",
   "metadata": {},
   "outputs": [
    {
     "name": "stdout",
     "output_type": "stream",
     "text": [
      "<class 'pandas.core.frame.DataFrame'>\n",
      "Int64Index: 6500 entries, 0 to 6499\n",
      "Data columns (total 12 columns):\n",
      " #   Column             Non-Null Count  Dtype         \n",
      "---  ------             --------------  -----         \n",
      " 0   user_id            6500 non-null   int64         \n",
      " 1   distance           6500 non-null   float64       \n",
      " 2   duration           6500 non-null   float64       \n",
      " 3   date               6500 non-null   datetime64[ns]\n",
      " 4   month              6500 non-null   int64         \n",
      " 5   name               6500 non-null   object        \n",
      " 6   age                6500 non-null   int64         \n",
      " 7   city               6500 non-null   object        \n",
      " 8   subscription_type  6500 non-null   object        \n",
      " 9   minute_price       6500 non-null   int64         \n",
      " 10  start_ride_price   6500 non-null   int64         \n",
      " 11  subscription_fee   6500 non-null   int64         \n",
      "dtypes: datetime64[ns](1), float64(2), int64(6), object(3)\n",
      "memory usage: 660.2+ KB\n"
     ]
    }
   ],
   "source": [
    "merged_ultra.info()"
   ]
  },
  {
   "cell_type": "code",
   "execution_count": 49,
   "id": "0b337856",
   "metadata": {},
   "outputs": [
    {
     "data": {
      "text/plain": [
       "18068"
      ]
     },
     "execution_count": 49,
     "metadata": {},
     "output_type": "execute_result"
    }
   ],
   "source": [
    "11568+6500#проверка длины на всякий случай. \n",
    "#Эти два датафрейма - непересекающиеся подмножества множества merged_all. \n",
    "#Поэтому сумма их длин равняется длине merged_all. Все верно."
   ]
  },
  {
   "cell_type": "markdown",
   "id": "33b5bb6f",
   "metadata": {},
   "source": [
    "##### Визуализация информации о расстоянии и времени поездок для пользователей обеих категорий"
   ]
  },
  {
   "cell_type": "code",
   "execution_count": 50,
   "id": "fd68eb9f",
   "metadata": {},
   "outputs": [
    {
     "data": {
      "image/png": "[encoded data removed]",
      "text/plain": [
       "<Figure size 432x288 with 1 Axes>"
      ]
     },
     "metadata": {
      "needs_background": "light"
     },
     "output_type": "display_data"
    }
   ],
   "source": [
    "plot_free=merged_free['distance'].plot(kind='hist', histtype='step', title='визуализация информации о расстоянии')\n",
    "plot_ultra=merged_ultra['distance'].plot(kind='hist', histtype='step')\n",
    "plot_ultra.set_xlabel('Расстояние')\n",
    "plt.legend(['free', 'ultra']);"
   ]
  },
  {
   "cell_type": "code",
   "execution_count": 51,
   "id": "c0176d0b",
   "metadata": {},
   "outputs": [
    {
     "data": {
      "image/png": "[encoded data removed]",
      "text/plain": [
       "<Figure size 432x288 with 1 Axes>"
      ]
     },
     "metadata": {
      "needs_background": "light"
     },
     "output_type": "display_data"
    }
   ],
   "source": [
    "plot_free2=merged_free['duration'].plot(kind='hist', histtype='step', title='визуализация информации о длительности')\n",
    "plot_ultra2=merged_ultra['duration'].plot(kind='hist', histtype='step')\n",
    "plot_ultra2.set_xlabel('Длительность')\n",
    "plt.legend(['free', 'ultra']);"
   ]
  },
  {
   "cell_type": "markdown",
   "id": "cfc4cbe1",
   "metadata": {},
   "source": [
    "Выводы:<br/>\n",
    "По данным гистограмм можно сделать вывод, что все распределения в целом стремяться к нормальным. <br/>\n",
    "Для дистанции и продолжительности поездки у множества людей без подписки больше данных, больше размах, большая частота встречания, однако, в целом, медиана и среднее значения достаточно близки для этих двух множеств."
   ]
  },
  {
   "cell_type": "markdown",
   "id": "402d620f",
   "metadata": {},
   "source": [
    "#### Подсчёт выручки"
   ]
  },
  {
   "cell_type": "markdown",
   "id": "a36d34b6",
   "metadata": {},
   "source": [
    "##### Создание датафрейма с агрегированными данными о поездках"
   ]
  },
  {
   "cell_type": "markdown",
   "id": "bfdf2eab",
   "metadata": {},
   "source": [
    "Создание датафрейма с агрегированными данными о поездках на основе датафрейма с объединёнными данными из шага 4: нахождение суммарного расстояния, количества поездок и суммарное время для каждого пользователя за каждый месяц."
   ]
  },
  {
   "cell_type": "code",
   "execution_count": 52,
   "id": "62daaabe",
   "metadata": {},
   "outputs": [
    {
     "data": {
      "text/plain": [
       "Index(['user_id', 'distance', 'duration', 'date', 'month', 'name', 'age',\n",
       "       'city', 'subscription_type', 'minute_price', 'start_ride_price',\n",
       "       'subscription_fee'],\n",
       "      dtype='object')"
      ]
     },
     "execution_count": 52,
     "metadata": {},
     "output_type": "execute_result"
    }
   ],
   "source": [
    "merged_all.columns"
   ]
  },
  {
   "cell_type": "code",
   "execution_count": 53,
   "id": "c2df844e",
   "metadata": {},
   "outputs": [
    {
     "data": {
      "text/html": [
       "<div>\n",
       "<style scoped>\n",
       "    .dataframe tbody tr th:only-of-type {\n",
       "        vertical-align: middle;\n",
       "    }\n",
       "\n",
       "    .dataframe tbody tr th {\n",
       "        vertical-align: top;\n",
       "    }\n",
       "\n",
       "    .dataframe thead th {\n",
       "        text-align: right;\n",
       "    }\n",
       "</style>\n",
       "<table border=\"1\" class=\"dataframe\">\n",
       "  <thead>\n",
       "    <tr style=\"text-align: right;\">\n",
       "      <th>month</th>\n",
       "      <th>1</th>\n",
       "      <th>2</th>\n",
       "      <th>3</th>\n",
       "      <th>4</th>\n",
       "      <th>5</th>\n",
       "      <th>6</th>\n",
       "      <th>7</th>\n",
       "      <th>8</th>\n",
       "      <th>9</th>\n",
       "      <th>10</th>\n",
       "      <th>11</th>\n",
       "      <th>12</th>\n",
       "    </tr>\n",
       "    <tr>\n",
       "      <th>user_id</th>\n",
       "      <th></th>\n",
       "      <th></th>\n",
       "      <th></th>\n",
       "      <th></th>\n",
       "      <th></th>\n",
       "      <th></th>\n",
       "      <th></th>\n",
       "      <th></th>\n",
       "      <th></th>\n",
       "      <th></th>\n",
       "      <th></th>\n",
       "      <th></th>\n",
       "    </tr>\n",
       "  </thead>\n",
       "  <tbody>\n",
       "    <tr>\n",
       "      <th>1</th>\n",
       "      <td>7027.511294</td>\n",
       "      <td>0.000000</td>\n",
       "      <td>0.000000</td>\n",
       "      <td>754.159807</td>\n",
       "      <td>0.000000</td>\n",
       "      <td>0.000000</td>\n",
       "      <td>0.000000</td>\n",
       "      <td>6723.470560</td>\n",
       "      <td>0.000000</td>\n",
       "      <td>5809.911100</td>\n",
       "      <td>7003.499363</td>\n",
       "      <td>6751.629942</td>\n",
       "    </tr>\n",
       "    <tr>\n",
       "      <th>2</th>\n",
       "      <td>0.000000</td>\n",
       "      <td>0.000000</td>\n",
       "      <td>10187.723006</td>\n",
       "      <td>6164.381824</td>\n",
       "      <td>0.000000</td>\n",
       "      <td>3255.338202</td>\n",
       "      <td>6780.722964</td>\n",
       "      <td>923.007439</td>\n",
       "      <td>0.000000</td>\n",
       "      <td>2824.636598</td>\n",
       "      <td>0.000000</td>\n",
       "      <td>3828.248580</td>\n",
       "    </tr>\n",
       "    <tr>\n",
       "      <th>3</th>\n",
       "      <td>3061.777147</td>\n",
       "      <td>5421.152016</td>\n",
       "      <td>0.000000</td>\n",
       "      <td>2956.651632</td>\n",
       "      <td>9064.026918</td>\n",
       "      <td>0.000000</td>\n",
       "      <td>10919.595403</td>\n",
       "      <td>0.000000</td>\n",
       "      <td>2891.012822</td>\n",
       "      <td>0.000000</td>\n",
       "      <td>0.000000</td>\n",
       "      <td>2593.381928</td>\n",
       "    </tr>\n",
       "    <tr>\n",
       "      <th>4</th>\n",
       "      <td>0.000000</td>\n",
       "      <td>6339.696747</td>\n",
       "      <td>0.000000</td>\n",
       "      <td>0.000000</td>\n",
       "      <td>0.000000</td>\n",
       "      <td>6753.041806</td>\n",
       "      <td>10491.175555</td>\n",
       "      <td>4649.488243</td>\n",
       "      <td>0.000000</td>\n",
       "      <td>13260.762274</td>\n",
       "      <td>3343.025291</td>\n",
       "      <td>0.000000</td>\n",
       "    </tr>\n",
       "    <tr>\n",
       "      <th>5</th>\n",
       "      <td>3914.646990</td>\n",
       "      <td>2561.108241</td>\n",
       "      <td>10633.732186</td>\n",
       "      <td>3373.080412</td>\n",
       "      <td>5823.074031</td>\n",
       "      <td>0.000000</td>\n",
       "      <td>3311.974724</td>\n",
       "      <td>2720.817111</td>\n",
       "      <td>0.000000</td>\n",
       "      <td>3218.515955</td>\n",
       "      <td>0.000000</td>\n",
       "      <td>0.000000</td>\n",
       "    </tr>\n",
       "    <tr>\n",
       "      <th>...</th>\n",
       "      <td>...</td>\n",
       "      <td>...</td>\n",
       "      <td>...</td>\n",
       "      <td>...</td>\n",
       "      <td>...</td>\n",
       "      <td>...</td>\n",
       "      <td>...</td>\n",
       "      <td>...</td>\n",
       "      <td>...</td>\n",
       "      <td>...</td>\n",
       "      <td>...</td>\n",
       "      <td>...</td>\n",
       "    </tr>\n",
       "    <tr>\n",
       "      <th>1530</th>\n",
       "      <td>239.330892</td>\n",
       "      <td>2724.331740</td>\n",
       "      <td>6618.024550</td>\n",
       "      <td>9846.644422</td>\n",
       "      <td>7606.452979</td>\n",
       "      <td>2587.068383</td>\n",
       "      <td>0.000000</td>\n",
       "      <td>2237.180181</td>\n",
       "      <td>0.000000</td>\n",
       "      <td>9211.477843</td>\n",
       "      <td>5687.958833</td>\n",
       "      <td>0.000000</td>\n",
       "    </tr>\n",
       "    <tr>\n",
       "      <th>1531</th>\n",
       "      <td>711.666072</td>\n",
       "      <td>3022.478610</td>\n",
       "      <td>0.000000</td>\n",
       "      <td>13021.538366</td>\n",
       "      <td>13526.161364</td>\n",
       "      <td>4041.878778</td>\n",
       "      <td>6163.690446</td>\n",
       "      <td>10526.548720</td>\n",
       "      <td>2544.427146</td>\n",
       "      <td>7606.893322</td>\n",
       "      <td>5889.511398</td>\n",
       "      <td>0.000000</td>\n",
       "    </tr>\n",
       "    <tr>\n",
       "      <th>1532</th>\n",
       "      <td>2615.477834</td>\n",
       "      <td>0.000000</td>\n",
       "      <td>0.000000</td>\n",
       "      <td>842.097458</td>\n",
       "      <td>303.787850</td>\n",
       "      <td>0.000000</td>\n",
       "      <td>3735.879274</td>\n",
       "      <td>8774.460732</td>\n",
       "      <td>0.000000</td>\n",
       "      <td>2891.115711</td>\n",
       "      <td>8627.494480</td>\n",
       "      <td>6111.889853</td>\n",
       "    </tr>\n",
       "    <tr>\n",
       "      <th>1533</th>\n",
       "      <td>3438.600356</td>\n",
       "      <td>310.488247</td>\n",
       "      <td>12822.696276</td>\n",
       "      <td>2514.498956</td>\n",
       "      <td>0.000000</td>\n",
       "      <td>1034.998188</td>\n",
       "      <td>8772.518529</td>\n",
       "      <td>4581.943632</td>\n",
       "      <td>0.000000</td>\n",
       "      <td>0.000000</td>\n",
       "      <td>3414.448028</td>\n",
       "      <td>0.000000</td>\n",
       "    </tr>\n",
       "    <tr>\n",
       "      <th>1534</th>\n",
       "      <td>4678.415899</td>\n",
       "      <td>2103.914120</td>\n",
       "      <td>0.000000</td>\n",
       "      <td>3434.290912</td>\n",
       "      <td>0.000000</td>\n",
       "      <td>3409.468534</td>\n",
       "      <td>0.000000</td>\n",
       "      <td>7622.453034</td>\n",
       "      <td>4928.173852</td>\n",
       "      <td>0.000000</td>\n",
       "      <td>13350.015305</td>\n",
       "      <td>2371.711192</td>\n",
       "    </tr>\n",
       "  </tbody>\n",
       "</table>\n",
       "<p>1534 rows × 12 columns</p>\n",
       "</div>"
      ],
      "text/plain": [
       "month             1            2             3             4             5   \\\n",
       "user_id                                                                       \n",
       "1        7027.511294     0.000000      0.000000    754.159807      0.000000   \n",
       "2           0.000000     0.000000  10187.723006   6164.381824      0.000000   \n",
       "3        3061.777147  5421.152016      0.000000   2956.651632   9064.026918   \n",
       "4           0.000000  6339.696747      0.000000      0.000000      0.000000   \n",
       "5        3914.646990  2561.108241  10633.732186   3373.080412   5823.074031   \n",
       "...              ...          ...           ...           ...           ...   \n",
       "1530      239.330892  2724.331740   6618.024550   9846.644422   7606.452979   \n",
       "1531      711.666072  3022.478610      0.000000  13021.538366  13526.161364   \n",
       "1532     2615.477834     0.000000      0.000000    842.097458    303.787850   \n",
       "1533     3438.600356   310.488247  12822.696276   2514.498956      0.000000   \n",
       "1534     4678.415899  2103.914120      0.000000   3434.290912      0.000000   \n",
       "\n",
       "month             6             7             8            9             10  \\\n",
       "user_id                                                                       \n",
       "1           0.000000      0.000000   6723.470560     0.000000   5809.911100   \n",
       "2        3255.338202   6780.722964    923.007439     0.000000   2824.636598   \n",
       "3           0.000000  10919.595403      0.000000  2891.012822      0.000000   \n",
       "4        6753.041806  10491.175555   4649.488243     0.000000  13260.762274   \n",
       "5           0.000000   3311.974724   2720.817111     0.000000   3218.515955   \n",
       "...              ...           ...           ...          ...           ...   \n",
       "1530     2587.068383      0.000000   2237.180181     0.000000   9211.477843   \n",
       "1531     4041.878778   6163.690446  10526.548720  2544.427146   7606.893322   \n",
       "1532        0.000000   3735.879274   8774.460732     0.000000   2891.115711   \n",
       "1533     1034.998188   8772.518529   4581.943632     0.000000      0.000000   \n",
       "1534     3409.468534      0.000000   7622.453034  4928.173852      0.000000   \n",
       "\n",
       "month              11           12  \n",
       "user_id                             \n",
       "1         7003.499363  6751.629942  \n",
       "2            0.000000  3828.248580  \n",
       "3            0.000000  2593.381928  \n",
       "4         3343.025291     0.000000  \n",
       "5            0.000000     0.000000  \n",
       "...               ...          ...  \n",
       "1530      5687.958833     0.000000  \n",
       "1531      5889.511398     0.000000  \n",
       "1532      8627.494480  6111.889853  \n",
       "1533      3414.448028     0.000000  \n",
       "1534     13350.015305  2371.711192  \n",
       "\n",
       "[1534 rows x 12 columns]"
      ]
     },
     "execution_count": 53,
     "metadata": {},
     "output_type": "execute_result"
    }
   ],
   "source": [
    "merged_all_pivot1=merged_all.pivot_table(index='user_id', columns='month', values='distance', aggfunc='sum').fillna(0)\n",
    "merged_all_pivot1"
   ]
  },
  {
   "cell_type": "code",
   "execution_count": 54,
   "id": "15a4e4ee",
   "metadata": {},
   "outputs": [
    {
     "data": {
      "text/html": [
       "<div>\n",
       "<style scoped>\n",
       "    .dataframe tbody tr th:only-of-type {\n",
       "        vertical-align: middle;\n",
       "    }\n",
       "\n",
       "    .dataframe tbody tr th {\n",
       "        vertical-align: top;\n",
       "    }\n",
       "\n",
       "    .dataframe thead th {\n",
       "        text-align: right;\n",
       "    }\n",
       "</style>\n",
       "<table border=\"1\" class=\"dataframe\">\n",
       "  <thead>\n",
       "    <tr style=\"text-align: right;\">\n",
       "      <th>month</th>\n",
       "      <th>1</th>\n",
       "      <th>2</th>\n",
       "      <th>3</th>\n",
       "      <th>4</th>\n",
       "      <th>5</th>\n",
       "      <th>6</th>\n",
       "      <th>7</th>\n",
       "      <th>8</th>\n",
       "      <th>9</th>\n",
       "      <th>10</th>\n",
       "      <th>11</th>\n",
       "      <th>12</th>\n",
       "    </tr>\n",
       "    <tr>\n",
       "      <th>user_id</th>\n",
       "      <th></th>\n",
       "      <th></th>\n",
       "      <th></th>\n",
       "      <th></th>\n",
       "      <th></th>\n",
       "      <th></th>\n",
       "      <th></th>\n",
       "      <th></th>\n",
       "      <th></th>\n",
       "      <th></th>\n",
       "      <th></th>\n",
       "      <th></th>\n",
       "    </tr>\n",
       "  </thead>\n",
       "  <tbody>\n",
       "    <tr>\n",
       "      <th>1</th>\n",
       "      <td>41.416640</td>\n",
       "      <td>0.000000</td>\n",
       "      <td>0.000000</td>\n",
       "      <td>6.232113</td>\n",
       "      <td>0.000000</td>\n",
       "      <td>0.000000</td>\n",
       "      <td>0.000000</td>\n",
       "      <td>44.776802</td>\n",
       "      <td>0.000000</td>\n",
       "      <td>31.578017</td>\n",
       "      <td>53.397424</td>\n",
       "      <td>27.203912</td>\n",
       "    </tr>\n",
       "    <tr>\n",
       "      <th>2</th>\n",
       "      <td>0.000000</td>\n",
       "      <td>0.000000</td>\n",
       "      <td>60.959959</td>\n",
       "      <td>39.048633</td>\n",
       "      <td>0.000000</td>\n",
       "      <td>13.851127</td>\n",
       "      <td>46.170157</td>\n",
       "      <td>6.914760</td>\n",
       "      <td>0.000000</td>\n",
       "      <td>18.779128</td>\n",
       "      <td>0.000000</td>\n",
       "      <td>11.920514</td>\n",
       "    </tr>\n",
       "    <tr>\n",
       "      <th>3</th>\n",
       "      <td>12.654443</td>\n",
       "      <td>37.568637</td>\n",
       "      <td>0.000000</td>\n",
       "      <td>20.671364</td>\n",
       "      <td>61.404503</td>\n",
       "      <td>0.000000</td>\n",
       "      <td>65.519784</td>\n",
       "      <td>0.000000</td>\n",
       "      <td>22.390055</td>\n",
       "      <td>0.000000</td>\n",
       "      <td>0.000000</td>\n",
       "      <td>12.984728</td>\n",
       "    </tr>\n",
       "    <tr>\n",
       "      <th>4</th>\n",
       "      <td>0.000000</td>\n",
       "      <td>48.150598</td>\n",
       "      <td>0.000000</td>\n",
       "      <td>0.000000</td>\n",
       "      <td>0.000000</td>\n",
       "      <td>43.607518</td>\n",
       "      <td>55.249009</td>\n",
       "      <td>35.896929</td>\n",
       "      <td>0.000000</td>\n",
       "      <td>77.992731</td>\n",
       "      <td>27.666796</td>\n",
       "      <td>0.000000</td>\n",
       "    </tr>\n",
       "    <tr>\n",
       "      <th>5</th>\n",
       "      <td>12.395153</td>\n",
       "      <td>11.087710</td>\n",
       "      <td>55.666862</td>\n",
       "      <td>14.904990</td>\n",
       "      <td>31.299780</td>\n",
       "      <td>0.000000</td>\n",
       "      <td>11.948739</td>\n",
       "      <td>17.046260</td>\n",
       "      <td>0.000000</td>\n",
       "      <td>19.724438</td>\n",
       "      <td>0.000000</td>\n",
       "      <td>0.000000</td>\n",
       "    </tr>\n",
       "    <tr>\n",
       "      <th>...</th>\n",
       "      <td>...</td>\n",
       "      <td>...</td>\n",
       "      <td>...</td>\n",
       "      <td>...</td>\n",
       "      <td>...</td>\n",
       "      <td>...</td>\n",
       "      <td>...</td>\n",
       "      <td>...</td>\n",
       "      <td>...</td>\n",
       "      <td>...</td>\n",
       "      <td>...</td>\n",
       "      <td>...</td>\n",
       "    </tr>\n",
       "    <tr>\n",
       "      <th>1530</th>\n",
       "      <td>17.511214</td>\n",
       "      <td>16.859991</td>\n",
       "      <td>27.713398</td>\n",
       "      <td>58.783751</td>\n",
       "      <td>37.495375</td>\n",
       "      <td>16.174137</td>\n",
       "      <td>0.000000</td>\n",
       "      <td>10.836122</td>\n",
       "      <td>0.000000</td>\n",
       "      <td>71.009735</td>\n",
       "      <td>35.983116</td>\n",
       "      <td>0.000000</td>\n",
       "    </tr>\n",
       "    <tr>\n",
       "      <th>1531</th>\n",
       "      <td>12.581480</td>\n",
       "      <td>37.712217</td>\n",
       "      <td>0.000000</td>\n",
       "      <td>78.106482</td>\n",
       "      <td>70.163200</td>\n",
       "      <td>27.264021</td>\n",
       "      <td>37.757287</td>\n",
       "      <td>56.751318</td>\n",
       "      <td>20.633281</td>\n",
       "      <td>32.615199</td>\n",
       "      <td>34.607723</td>\n",
       "      <td>0.000000</td>\n",
       "    </tr>\n",
       "    <tr>\n",
       "      <th>1532</th>\n",
       "      <td>14.846434</td>\n",
       "      <td>0.000000</td>\n",
       "      <td>0.000000</td>\n",
       "      <td>8.608989</td>\n",
       "      <td>7.792490</td>\n",
       "      <td>0.000000</td>\n",
       "      <td>17.339698</td>\n",
       "      <td>45.644560</td>\n",
       "      <td>0.000000</td>\n",
       "      <td>20.129839</td>\n",
       "      <td>57.669912</td>\n",
       "      <td>40.128222</td>\n",
       "    </tr>\n",
       "    <tr>\n",
       "      <th>1533</th>\n",
       "      <td>20.315801</td>\n",
       "      <td>10.642389</td>\n",
       "      <td>92.163898</td>\n",
       "      <td>17.429371</td>\n",
       "      <td>0.000000</td>\n",
       "      <td>6.299996</td>\n",
       "      <td>46.907162</td>\n",
       "      <td>21.163887</td>\n",
       "      <td>0.000000</td>\n",
       "      <td>0.000000</td>\n",
       "      <td>25.657792</td>\n",
       "      <td>0.000000</td>\n",
       "    </tr>\n",
       "    <tr>\n",
       "      <th>1534</th>\n",
       "      <td>15.228198</td>\n",
       "      <td>13.425579</td>\n",
       "      <td>0.000000</td>\n",
       "      <td>14.366248</td>\n",
       "      <td>0.000000</td>\n",
       "      <td>24.812678</td>\n",
       "      <td>0.000000</td>\n",
       "      <td>47.205960</td>\n",
       "      <td>22.560373</td>\n",
       "      <td>0.000000</td>\n",
       "      <td>76.342174</td>\n",
       "      <td>15.893917</td>\n",
       "    </tr>\n",
       "  </tbody>\n",
       "</table>\n",
       "<p>1534 rows × 12 columns</p>\n",
       "</div>"
      ],
      "text/plain": [
       "month           1          2          3          4          5          6   \\\n",
       "user_id                                                                     \n",
       "1        41.416640   0.000000   0.000000   6.232113   0.000000   0.000000   \n",
       "2         0.000000   0.000000  60.959959  39.048633   0.000000  13.851127   \n",
       "3        12.654443  37.568637   0.000000  20.671364  61.404503   0.000000   \n",
       "4         0.000000  48.150598   0.000000   0.000000   0.000000  43.607518   \n",
       "5        12.395153  11.087710  55.666862  14.904990  31.299780   0.000000   \n",
       "...            ...        ...        ...        ...        ...        ...   \n",
       "1530     17.511214  16.859991  27.713398  58.783751  37.495375  16.174137   \n",
       "1531     12.581480  37.712217   0.000000  78.106482  70.163200  27.264021   \n",
       "1532     14.846434   0.000000   0.000000   8.608989   7.792490   0.000000   \n",
       "1533     20.315801  10.642389  92.163898  17.429371   0.000000   6.299996   \n",
       "1534     15.228198  13.425579   0.000000  14.366248   0.000000  24.812678   \n",
       "\n",
       "month           7          8          9          10         11         12  \n",
       "user_id                                                                    \n",
       "1         0.000000  44.776802   0.000000  31.578017  53.397424  27.203912  \n",
       "2        46.170157   6.914760   0.000000  18.779128   0.000000  11.920514  \n",
       "3        65.519784   0.000000  22.390055   0.000000   0.000000  12.984728  \n",
       "4        55.249009  35.896929   0.000000  77.992731  27.666796   0.000000  \n",
       "5        11.948739  17.046260   0.000000  19.724438   0.000000   0.000000  \n",
       "...            ...        ...        ...        ...        ...        ...  \n",
       "1530      0.000000  10.836122   0.000000  71.009735  35.983116   0.000000  \n",
       "1531     37.757287  56.751318  20.633281  32.615199  34.607723   0.000000  \n",
       "1532     17.339698  45.644560   0.000000  20.129839  57.669912  40.128222  \n",
       "1533     46.907162  21.163887   0.000000   0.000000  25.657792   0.000000  \n",
       "1534      0.000000  47.205960  22.560373   0.000000  76.342174  15.893917  \n",
       "\n",
       "[1534 rows x 12 columns]"
      ]
     },
     "execution_count": 54,
     "metadata": {},
     "output_type": "execute_result"
    }
   ],
   "source": [
    "merged_all_pivot2=merged_all.pivot_table(index='user_id', columns='month', values='duration', aggfunc='sum').fillna(0)\n",
    "merged_all_pivot2"
   ]
  },
  {
   "cell_type": "code",
   "execution_count": 55,
   "id": "0d90ab73",
   "metadata": {},
   "outputs": [
    {
     "data": {
      "text/html": [
       "<div>\n",
       "<style scoped>\n",
       "    .dataframe tbody tr th:only-of-type {\n",
       "        vertical-align: middle;\n",
       "    }\n",
       "\n",
       "    .dataframe tbody tr th {\n",
       "        vertical-align: top;\n",
       "    }\n",
       "\n",
       "    .dataframe thead th {\n",
       "        text-align: right;\n",
       "    }\n",
       "</style>\n",
       "<table border=\"1\" class=\"dataframe\">\n",
       "  <thead>\n",
       "    <tr style=\"text-align: right;\">\n",
       "      <th>month</th>\n",
       "      <th>1</th>\n",
       "      <th>2</th>\n",
       "      <th>3</th>\n",
       "      <th>4</th>\n",
       "      <th>5</th>\n",
       "      <th>6</th>\n",
       "      <th>7</th>\n",
       "      <th>8</th>\n",
       "      <th>9</th>\n",
       "      <th>10</th>\n",
       "      <th>11</th>\n",
       "      <th>12</th>\n",
       "    </tr>\n",
       "    <tr>\n",
       "      <th>user_id</th>\n",
       "      <th></th>\n",
       "      <th></th>\n",
       "      <th></th>\n",
       "      <th></th>\n",
       "      <th></th>\n",
       "      <th></th>\n",
       "      <th></th>\n",
       "      <th></th>\n",
       "      <th></th>\n",
       "      <th></th>\n",
       "      <th></th>\n",
       "      <th></th>\n",
       "    </tr>\n",
       "  </thead>\n",
       "  <tbody>\n",
       "    <tr>\n",
       "      <th>1</th>\n",
       "      <td>2.0</td>\n",
       "      <td>0.0</td>\n",
       "      <td>0.0</td>\n",
       "      <td>1.0</td>\n",
       "      <td>0.0</td>\n",
       "      <td>0.0</td>\n",
       "      <td>0.0</td>\n",
       "      <td>2.0</td>\n",
       "      <td>0.0</td>\n",
       "      <td>2.0</td>\n",
       "      <td>3.0</td>\n",
       "      <td>2.0</td>\n",
       "    </tr>\n",
       "    <tr>\n",
       "      <th>2</th>\n",
       "      <td>0.0</td>\n",
       "      <td>0.0</td>\n",
       "      <td>3.0</td>\n",
       "      <td>2.0</td>\n",
       "      <td>0.0</td>\n",
       "      <td>1.0</td>\n",
       "      <td>2.0</td>\n",
       "      <td>1.0</td>\n",
       "      <td>0.0</td>\n",
       "      <td>1.0</td>\n",
       "      <td>0.0</td>\n",
       "      <td>1.0</td>\n",
       "    </tr>\n",
       "    <tr>\n",
       "      <th>3</th>\n",
       "      <td>1.0</td>\n",
       "      <td>2.0</td>\n",
       "      <td>0.0</td>\n",
       "      <td>1.0</td>\n",
       "      <td>3.0</td>\n",
       "      <td>0.0</td>\n",
       "      <td>3.0</td>\n",
       "      <td>0.0</td>\n",
       "      <td>1.0</td>\n",
       "      <td>0.0</td>\n",
       "      <td>0.0</td>\n",
       "      <td>1.0</td>\n",
       "    </tr>\n",
       "    <tr>\n",
       "      <th>4</th>\n",
       "      <td>0.0</td>\n",
       "      <td>2.0</td>\n",
       "      <td>0.0</td>\n",
       "      <td>0.0</td>\n",
       "      <td>0.0</td>\n",
       "      <td>2.0</td>\n",
       "      <td>3.0</td>\n",
       "      <td>1.0</td>\n",
       "      <td>0.0</td>\n",
       "      <td>4.0</td>\n",
       "      <td>2.0</td>\n",
       "      <td>0.0</td>\n",
       "    </tr>\n",
       "    <tr>\n",
       "      <th>5</th>\n",
       "      <td>1.0</td>\n",
       "      <td>1.0</td>\n",
       "      <td>3.0</td>\n",
       "      <td>1.0</td>\n",
       "      <td>2.0</td>\n",
       "      <td>0.0</td>\n",
       "      <td>1.0</td>\n",
       "      <td>1.0</td>\n",
       "      <td>0.0</td>\n",
       "      <td>1.0</td>\n",
       "      <td>0.0</td>\n",
       "      <td>0.0</td>\n",
       "    </tr>\n",
       "    <tr>\n",
       "      <th>...</th>\n",
       "      <td>...</td>\n",
       "      <td>...</td>\n",
       "      <td>...</td>\n",
       "      <td>...</td>\n",
       "      <td>...</td>\n",
       "      <td>...</td>\n",
       "      <td>...</td>\n",
       "      <td>...</td>\n",
       "      <td>...</td>\n",
       "      <td>...</td>\n",
       "      <td>...</td>\n",
       "      <td>...</td>\n",
       "    </tr>\n",
       "    <tr>\n",
       "      <th>1530</th>\n",
       "      <td>2.0</td>\n",
       "      <td>1.0</td>\n",
       "      <td>2.0</td>\n",
       "      <td>2.0</td>\n",
       "      <td>2.0</td>\n",
       "      <td>1.0</td>\n",
       "      <td>0.0</td>\n",
       "      <td>1.0</td>\n",
       "      <td>0.0</td>\n",
       "      <td>4.0</td>\n",
       "      <td>2.0</td>\n",
       "      <td>0.0</td>\n",
       "    </tr>\n",
       "    <tr>\n",
       "      <th>1531</th>\n",
       "      <td>1.0</td>\n",
       "      <td>2.0</td>\n",
       "      <td>0.0</td>\n",
       "      <td>4.0</td>\n",
       "      <td>4.0</td>\n",
       "      <td>2.0</td>\n",
       "      <td>2.0</td>\n",
       "      <td>3.0</td>\n",
       "      <td>1.0</td>\n",
       "      <td>2.0</td>\n",
       "      <td>2.0</td>\n",
       "      <td>0.0</td>\n",
       "    </tr>\n",
       "    <tr>\n",
       "      <th>1532</th>\n",
       "      <td>1.0</td>\n",
       "      <td>0.0</td>\n",
       "      <td>0.0</td>\n",
       "      <td>1.0</td>\n",
       "      <td>1.0</td>\n",
       "      <td>0.0</td>\n",
       "      <td>1.0</td>\n",
       "      <td>2.0</td>\n",
       "      <td>0.0</td>\n",
       "      <td>1.0</td>\n",
       "      <td>4.0</td>\n",
       "      <td>2.0</td>\n",
       "    </tr>\n",
       "    <tr>\n",
       "      <th>1533</th>\n",
       "      <td>1.0</td>\n",
       "      <td>1.0</td>\n",
       "      <td>4.0</td>\n",
       "      <td>1.0</td>\n",
       "      <td>0.0</td>\n",
       "      <td>1.0</td>\n",
       "      <td>3.0</td>\n",
       "      <td>1.0</td>\n",
       "      <td>0.0</td>\n",
       "      <td>0.0</td>\n",
       "      <td>1.0</td>\n",
       "      <td>0.0</td>\n",
       "    </tr>\n",
       "    <tr>\n",
       "      <th>1534</th>\n",
       "      <td>1.0</td>\n",
       "      <td>1.0</td>\n",
       "      <td>0.0</td>\n",
       "      <td>1.0</td>\n",
       "      <td>0.0</td>\n",
       "      <td>2.0</td>\n",
       "      <td>0.0</td>\n",
       "      <td>2.0</td>\n",
       "      <td>1.0</td>\n",
       "      <td>0.0</td>\n",
       "      <td>4.0</td>\n",
       "      <td>1.0</td>\n",
       "    </tr>\n",
       "  </tbody>\n",
       "</table>\n",
       "<p>1534 rows × 12 columns</p>\n",
       "</div>"
      ],
      "text/plain": [
       "month     1    2    3    4    5    6    7    8    9    10   11   12\n",
       "user_id                                                            \n",
       "1        2.0  0.0  0.0  1.0  0.0  0.0  0.0  2.0  0.0  2.0  3.0  2.0\n",
       "2        0.0  0.0  3.0  2.0  0.0  1.0  2.0  1.0  0.0  1.0  0.0  1.0\n",
       "3        1.0  2.0  0.0  1.0  3.0  0.0  3.0  0.0  1.0  0.0  0.0  1.0\n",
       "4        0.0  2.0  0.0  0.0  0.0  2.0  3.0  1.0  0.0  4.0  2.0  0.0\n",
       "5        1.0  1.0  3.0  1.0  2.0  0.0  1.0  1.0  0.0  1.0  0.0  0.0\n",
       "...      ...  ...  ...  ...  ...  ...  ...  ...  ...  ...  ...  ...\n",
       "1530     2.0  1.0  2.0  2.0  2.0  1.0  0.0  1.0  0.0  4.0  2.0  0.0\n",
       "1531     1.0  2.0  0.0  4.0  4.0  2.0  2.0  3.0  1.0  2.0  2.0  0.0\n",
       "1532     1.0  0.0  0.0  1.0  1.0  0.0  1.0  2.0  0.0  1.0  4.0  2.0\n",
       "1533     1.0  1.0  4.0  1.0  0.0  1.0  3.0  1.0  0.0  0.0  1.0  0.0\n",
       "1534     1.0  1.0  0.0  1.0  0.0  2.0  0.0  2.0  1.0  0.0  4.0  1.0\n",
       "\n",
       "[1534 rows x 12 columns]"
      ]
     },
     "execution_count": 55,
     "metadata": {},
     "output_type": "execute_result"
    }
   ],
   "source": [
    "merged_all_pivot3=merged_all.pivot_table(index='user_id', columns='month', values='date', aggfunc='count').fillna(0)\n",
    "merged_all_pivot3"
   ]
  },
  {
   "cell_type": "markdown",
   "id": "8cf055d0",
   "metadata": {},
   "source": [
    "##### Внесение данных о помесячной выручке, которую принёс каждый пользователь."
   ]
  },
  {
   "cell_type": "markdown",
   "id": "4db04c9d",
   "metadata": {},
   "source": [
    "В этот же датафрейм добавлен столбец с помесячной выручкой, которую принёс каждый пользователь. Для этого сделано обращение к информации об условиях оплаты для подписчиков и тех, у кого нет подписки. Продолжительность каждой поездки в каждой строке исходного датафрейма для подсчёта стоимости округляется до следующего целого числа."
   ]
  },
  {
   "cell_type": "code",
   "execution_count": 56,
   "id": "6c2c21d0",
   "metadata": {},
   "outputs": [
    {
     "data": {
      "text/html": [
       "<div>\n",
       "<style scoped>\n",
       "    .dataframe tbody tr th:only-of-type {\n",
       "        vertical-align: middle;\n",
       "    }\n",
       "\n",
       "    .dataframe tbody tr th {\n",
       "        vertical-align: top;\n",
       "    }\n",
       "\n",
       "    .dataframe thead th {\n",
       "        text-align: right;\n",
       "    }\n",
       "</style>\n",
       "<table border=\"1\" class=\"dataframe\">\n",
       "  <thead>\n",
       "    <tr style=\"text-align: right;\">\n",
       "      <th></th>\n",
       "      <th>user_id</th>\n",
       "      <th>distance</th>\n",
       "      <th>duration</th>\n",
       "      <th>date</th>\n",
       "      <th>month</th>\n",
       "      <th>name</th>\n",
       "      <th>age</th>\n",
       "      <th>city</th>\n",
       "      <th>subscription_type</th>\n",
       "      <th>minute_price</th>\n",
       "      <th>start_ride_price</th>\n",
       "      <th>subscription_fee</th>\n",
       "    </tr>\n",
       "  </thead>\n",
       "  <tbody>\n",
       "    <tr>\n",
       "      <th>0</th>\n",
       "      <td>1</td>\n",
       "      <td>4409.919140</td>\n",
       "      <td>25.599769</td>\n",
       "      <td>2021-01-01</td>\n",
       "      <td>1</td>\n",
       "      <td>Кира</td>\n",
       "      <td>22</td>\n",
       "      <td>Тюмень</td>\n",
       "      <td>ultra</td>\n",
       "      <td>6</td>\n",
       "      <td>0</td>\n",
       "      <td>199</td>\n",
       "    </tr>\n",
       "    <tr>\n",
       "      <th>1</th>\n",
       "      <td>1</td>\n",
       "      <td>2617.592153</td>\n",
       "      <td>15.816871</td>\n",
       "      <td>2021-01-18</td>\n",
       "      <td>1</td>\n",
       "      <td>Кира</td>\n",
       "      <td>22</td>\n",
       "      <td>Тюмень</td>\n",
       "      <td>ultra</td>\n",
       "      <td>6</td>\n",
       "      <td>0</td>\n",
       "      <td>199</td>\n",
       "    </tr>\n",
       "    <tr>\n",
       "      <th>2</th>\n",
       "      <td>1</td>\n",
       "      <td>754.159807</td>\n",
       "      <td>6.232113</td>\n",
       "      <td>2021-04-20</td>\n",
       "      <td>4</td>\n",
       "      <td>Кира</td>\n",
       "      <td>22</td>\n",
       "      <td>Тюмень</td>\n",
       "      <td>ultra</td>\n",
       "      <td>6</td>\n",
       "      <td>0</td>\n",
       "      <td>199</td>\n",
       "    </tr>\n",
       "    <tr>\n",
       "      <th>3</th>\n",
       "      <td>1</td>\n",
       "      <td>2694.783254</td>\n",
       "      <td>18.511000</td>\n",
       "      <td>2021-08-11</td>\n",
       "      <td>8</td>\n",
       "      <td>Кира</td>\n",
       "      <td>22</td>\n",
       "      <td>Тюмень</td>\n",
       "      <td>ultra</td>\n",
       "      <td>6</td>\n",
       "      <td>0</td>\n",
       "      <td>199</td>\n",
       "    </tr>\n",
       "    <tr>\n",
       "      <th>4</th>\n",
       "      <td>1</td>\n",
       "      <td>4028.687306</td>\n",
       "      <td>26.265803</td>\n",
       "      <td>2021-08-28</td>\n",
       "      <td>8</td>\n",
       "      <td>Кира</td>\n",
       "      <td>22</td>\n",
       "      <td>Тюмень</td>\n",
       "      <td>ultra</td>\n",
       "      <td>6</td>\n",
       "      <td>0</td>\n",
       "      <td>199</td>\n",
       "    </tr>\n",
       "    <tr>\n",
       "      <th>...</th>\n",
       "      <td>...</td>\n",
       "      <td>...</td>\n",
       "      <td>...</td>\n",
       "      <td>...</td>\n",
       "      <td>...</td>\n",
       "      <td>...</td>\n",
       "      <td>...</td>\n",
       "      <td>...</td>\n",
       "      <td>...</td>\n",
       "      <td>...</td>\n",
       "      <td>...</td>\n",
       "      <td>...</td>\n",
       "    </tr>\n",
       "    <tr>\n",
       "      <th>18063</th>\n",
       "      <td>1534</td>\n",
       "      <td>3781.098080</td>\n",
       "      <td>19.822962</td>\n",
       "      <td>2021-11-04</td>\n",
       "      <td>11</td>\n",
       "      <td>Альберт</td>\n",
       "      <td>25</td>\n",
       "      <td>Краснодар</td>\n",
       "      <td>free</td>\n",
       "      <td>8</td>\n",
       "      <td>50</td>\n",
       "      <td>0</td>\n",
       "    </tr>\n",
       "    <tr>\n",
       "      <th>18064</th>\n",
       "      <td>1534</td>\n",
       "      <td>2840.423057</td>\n",
       "      <td>21.409799</td>\n",
       "      <td>2021-11-16</td>\n",
       "      <td>11</td>\n",
       "      <td>Альберт</td>\n",
       "      <td>25</td>\n",
       "      <td>Краснодар</td>\n",
       "      <td>free</td>\n",
       "      <td>8</td>\n",
       "      <td>50</td>\n",
       "      <td>0</td>\n",
       "    </tr>\n",
       "    <tr>\n",
       "      <th>18065</th>\n",
       "      <td>1534</td>\n",
       "      <td>3826.185507</td>\n",
       "      <td>18.435051</td>\n",
       "      <td>2021-11-18</td>\n",
       "      <td>11</td>\n",
       "      <td>Альберт</td>\n",
       "      <td>25</td>\n",
       "      <td>Краснодар</td>\n",
       "      <td>free</td>\n",
       "      <td>8</td>\n",
       "      <td>50</td>\n",
       "      <td>0</td>\n",
       "    </tr>\n",
       "    <tr>\n",
       "      <th>18066</th>\n",
       "      <td>1534</td>\n",
       "      <td>2902.308661</td>\n",
       "      <td>16.674362</td>\n",
       "      <td>2021-11-27</td>\n",
       "      <td>11</td>\n",
       "      <td>Альберт</td>\n",
       "      <td>25</td>\n",
       "      <td>Краснодар</td>\n",
       "      <td>free</td>\n",
       "      <td>8</td>\n",
       "      <td>50</td>\n",
       "      <td>0</td>\n",
       "    </tr>\n",
       "    <tr>\n",
       "      <th>18067</th>\n",
       "      <td>1534</td>\n",
       "      <td>2371.711192</td>\n",
       "      <td>15.893917</td>\n",
       "      <td>2021-12-29</td>\n",
       "      <td>12</td>\n",
       "      <td>Альберт</td>\n",
       "      <td>25</td>\n",
       "      <td>Краснодар</td>\n",
       "      <td>free</td>\n",
       "      <td>8</td>\n",
       "      <td>50</td>\n",
       "      <td>0</td>\n",
       "    </tr>\n",
       "  </tbody>\n",
       "</table>\n",
       "<p>18068 rows × 12 columns</p>\n",
       "</div>"
      ],
      "text/plain": [
       "       user_id     distance   duration       date  month     name  age  \\\n",
       "0            1  4409.919140  25.599769 2021-01-01      1     Кира   22   \n",
       "1            1  2617.592153  15.816871 2021-01-18      1     Кира   22   \n",
       "2            1   754.159807   6.232113 2021-04-20      4     Кира   22   \n",
       "3            1  2694.783254  18.511000 2021-08-11      8     Кира   22   \n",
       "4            1  4028.687306  26.265803 2021-08-28      8     Кира   22   \n",
       "...        ...          ...        ...        ...    ...      ...  ...   \n",
       "18063     1534  3781.098080  19.822962 2021-11-04     11  Альберт   25   \n",
       "18064     1534  2840.423057  21.409799 2021-11-16     11  Альберт   25   \n",
       "18065     1534  3826.185507  18.435051 2021-11-18     11  Альберт   25   \n",
       "18066     1534  2902.308661  16.674362 2021-11-27     11  Альберт   25   \n",
       "18067     1534  2371.711192  15.893917 2021-12-29     12  Альберт   25   \n",
       "\n",
       "            city subscription_type  minute_price  start_ride_price  \\\n",
       "0         Тюмень             ultra             6                 0   \n",
       "1         Тюмень             ultra             6                 0   \n",
       "2         Тюмень             ultra             6                 0   \n",
       "3         Тюмень             ultra             6                 0   \n",
       "4         Тюмень             ultra             6                 0   \n",
       "...          ...               ...           ...               ...   \n",
       "18063  Краснодар              free             8                50   \n",
       "18064  Краснодар              free             8                50   \n",
       "18065  Краснодар              free             8                50   \n",
       "18066  Краснодар              free             8                50   \n",
       "18067  Краснодар              free             8                50   \n",
       "\n",
       "       subscription_fee  \n",
       "0                   199  \n",
       "1                   199  \n",
       "2                   199  \n",
       "3                   199  \n",
       "4                   199  \n",
       "...                 ...  \n",
       "18063                 0  \n",
       "18064                 0  \n",
       "18065                 0  \n",
       "18066                 0  \n",
       "18067                 0  \n",
       "\n",
       "[18068 rows x 12 columns]"
      ]
     },
     "execution_count": 56,
     "metadata": {},
     "output_type": "execute_result"
    }
   ],
   "source": [
    "merged_all"
   ]
  },
  {
   "cell_type": "code",
   "execution_count": 57,
   "id": "9fa8bc0e",
   "metadata": {},
   "outputs": [],
   "source": [
    "merged_all['total_ride_price'] = np.ceil(merged_all.duration)*merged_all.minute_price + merged_all.start_ride_price"
   ]
  },
  {
   "cell_type": "code",
   "execution_count": 58,
   "id": "df2c86fe",
   "metadata": {},
   "outputs": [
    {
     "data": {
      "text/html": [
       "<div>\n",
       "<style scoped>\n",
       "    .dataframe tbody tr th:only-of-type {\n",
       "        vertical-align: middle;\n",
       "    }\n",
       "\n",
       "    .dataframe tbody tr th {\n",
       "        vertical-align: top;\n",
       "    }\n",
       "\n",
       "    .dataframe thead th {\n",
       "        text-align: right;\n",
       "    }\n",
       "</style>\n",
       "<table border=\"1\" class=\"dataframe\">\n",
       "  <thead>\n",
       "    <tr style=\"text-align: right;\">\n",
       "      <th></th>\n",
       "      <th>user_id</th>\n",
       "      <th>month</th>\n",
       "      <th>total_ride_price</th>\n",
       "      <th>subscription_fee</th>\n",
       "      <th>total</th>\n",
       "    </tr>\n",
       "  </thead>\n",
       "  <tbody>\n",
       "    <tr>\n",
       "      <th>0</th>\n",
       "      <td>1</td>\n",
       "      <td>1</td>\n",
       "      <td>252.0</td>\n",
       "      <td>199</td>\n",
       "      <td>451.0</td>\n",
       "    </tr>\n",
       "    <tr>\n",
       "      <th>1</th>\n",
       "      <td>1</td>\n",
       "      <td>4</td>\n",
       "      <td>42.0</td>\n",
       "      <td>199</td>\n",
       "      <td>241.0</td>\n",
       "    </tr>\n",
       "    <tr>\n",
       "      <th>2</th>\n",
       "      <td>1</td>\n",
       "      <td>8</td>\n",
       "      <td>276.0</td>\n",
       "      <td>199</td>\n",
       "      <td>475.0</td>\n",
       "    </tr>\n",
       "    <tr>\n",
       "      <th>3</th>\n",
       "      <td>1</td>\n",
       "      <td>10</td>\n",
       "      <td>192.0</td>\n",
       "      <td>199</td>\n",
       "      <td>391.0</td>\n",
       "    </tr>\n",
       "    <tr>\n",
       "      <th>4</th>\n",
       "      <td>1</td>\n",
       "      <td>11</td>\n",
       "      <td>336.0</td>\n",
       "      <td>199</td>\n",
       "      <td>535.0</td>\n",
       "    </tr>\n",
       "    <tr>\n",
       "      <th>...</th>\n",
       "      <td>...</td>\n",
       "      <td>...</td>\n",
       "      <td>...</td>\n",
       "      <td>...</td>\n",
       "      <td>...</td>\n",
       "    </tr>\n",
       "    <tr>\n",
       "      <th>11326</th>\n",
       "      <td>1534</td>\n",
       "      <td>6</td>\n",
       "      <td>308.0</td>\n",
       "      <td>0</td>\n",
       "      <td>308.0</td>\n",
       "    </tr>\n",
       "    <tr>\n",
       "      <th>11327</th>\n",
       "      <td>1534</td>\n",
       "      <td>8</td>\n",
       "      <td>484.0</td>\n",
       "      <td>0</td>\n",
       "      <td>484.0</td>\n",
       "    </tr>\n",
       "    <tr>\n",
       "      <th>11328</th>\n",
       "      <td>1534</td>\n",
       "      <td>9</td>\n",
       "      <td>234.0</td>\n",
       "      <td>0</td>\n",
       "      <td>234.0</td>\n",
       "    </tr>\n",
       "    <tr>\n",
       "      <th>11329</th>\n",
       "      <td>1534</td>\n",
       "      <td>11</td>\n",
       "      <td>824.0</td>\n",
       "      <td>0</td>\n",
       "      <td>824.0</td>\n",
       "    </tr>\n",
       "    <tr>\n",
       "      <th>11330</th>\n",
       "      <td>1534</td>\n",
       "      <td>12</td>\n",
       "      <td>178.0</td>\n",
       "      <td>0</td>\n",
       "      <td>178.0</td>\n",
       "    </tr>\n",
       "  </tbody>\n",
       "</table>\n",
       "<p>11331 rows × 5 columns</p>\n",
       "</div>"
      ],
      "text/plain": [
       "       user_id  month  total_ride_price  subscription_fee  total\n",
       "0            1      1             252.0               199  451.0\n",
       "1            1      4              42.0               199  241.0\n",
       "2            1      8             276.0               199  475.0\n",
       "3            1     10             192.0               199  391.0\n",
       "4            1     11             336.0               199  535.0\n",
       "...        ...    ...               ...               ...    ...\n",
       "11326     1534      6             308.0                 0  308.0\n",
       "11327     1534      8             484.0                 0  484.0\n",
       "11328     1534      9             234.0                 0  234.0\n",
       "11329     1534     11             824.0                 0  824.0\n",
       "11330     1534     12             178.0                 0  178.0\n",
       "\n",
       "[11331 rows x 5 columns]"
      ]
     },
     "execution_count": 58,
     "metadata": {},
     "output_type": "execute_result"
    }
   ],
   "source": [
    "merged_all_monthly = merged_all.groupby(['user_id', 'month'], as_index=False).agg({\n",
    "    'total_ride_price': 'sum',\n",
    "    'subscription_fee': 'first'\n",
    "})\n",
    "merged_all_monthly['total'] = merged_all_monthly.total_ride_price + merged_all_monthly.subscription_fee\n",
    "merged_all_monthly"
   ]
  },
  {
   "cell_type": "code",
   "execution_count": 59,
   "id": "ca93361b",
   "metadata": {},
   "outputs": [],
   "source": [
    "merged_all=merged_all.merge(\n",
    "    merged_all_monthly[['user_id', 'month', 'total']],\n",
    "    on=['user_id', 'month'],\n",
    "    how='left'\n",
    ")"
   ]
  },
  {
   "cell_type": "markdown",
   "id": "cb9cc62c",
   "metadata": {},
   "source": [
    "Вывод<br/>\n",
    "Построены сводные таблицы, которые позволяют провести аналитику частоты пользования сервисом для разных пользователей. А также посмотреть длительность и дистанцию поездок для каждого пользователя помесячно. Из таблиц видно, что большинство пользователей пользуются сервисом не каждый месяц. Возможно причинами этого являются: время года, личный график и прочее. <br/><br/>\n",
    "Также, в общую таблицу с данными добавлен столбец о помесячной выручке, которую принес каждый пользователь. Эти таблицы являются хорошей основой для последущего анализа и отвергания/не отвергания выдвинутых гипотез."
   ]
  },
  {
   "cell_type": "markdown",
   "id": "41545ac0",
   "metadata": {},
   "source": [
    "#### Проверка гипотез"
   ]
  },
  {
   "cell_type": "markdown",
   "id": "57d38ad1",
   "metadata": {},
   "source": [
    "На данном шаге будут рассмотрены различные гипотезы. Гипотезы помогут понять какие акции необходимо провести, чтобы увеличить количество пользователей с подпиской."
   ]
  },
  {
   "cell_type": "markdown",
   "id": "59e00361",
   "metadata": {},
   "source": [
    "##### Гипотеза 1 - Пользователи с подпиской татят больше времени на поездки. "
   ]
  },
  {
   "cell_type": "code",
   "execution_count": 60,
   "id": "eb2fa25a",
   "metadata": {},
   "outputs": [
    {
     "name": "stdout",
     "output_type": "stream",
     "text": [
      "p-value: 5.6757813771289775e-37\n",
      "Отвергаем нулевую гипотезу\n"
     ]
    }
   ],
   "source": [
    "from scipy import stats as st\n",
    "# задан уровень статистической значимости\n",
    "alpha = 0.05\n",
    "\n",
    "# проводится ttest для двух выборок, в качестве альтернативной используем одностороннюю гипотезу «больше»\n",
    "results = st.ttest_ind(merged_ultra['duration'], merged_free['duration'], equal_var=False, alternative='greater')\n",
    "\n",
    "print(f'p-value: {results.pvalue}')\n",
    "\n",
    "# проверяется p-value\n",
    "if results.pvalue < alpha:\n",
    "    print('Отвергаем нулевую гипотезу')\n",
    "else:\n",
    "    print('Нет оснований отвергнуть нулевую гипотезу')"
   ]
  },
  {
   "cell_type": "markdown",
   "id": "57bebc3b",
   "metadata": {
    "scrolled": false
   },
   "source": [
    "Выводы: <br/>\n",
    "H0 - нулевая гипотеза - пользователи без подписки и с подпиской тратят равное время на поездки, нет \"выгодной\" категории.<br/>\n",
    "H1 - альтернативная односторонняя гипотеза - пользователи с подпиской тратят больше времени на поездки, чем пользователи без подписки.\n",
    "Пользователи с подпиской - 'выгодные'.\n",
    "\n",
    "Проверена гипотеза с помощью статистического теста. Был использован специальный метод для проверки гипотезы о равенстве среднего двух генеральных совокупностей по взятым из них выборкам scipy.stats.ttest_ind(array1, array2, equal_var, alternative). Была сформулирована нулевая и альтернативная односторонняя гипотезы. Был использован уровень статистической значисмости 5% и рассчитан p-value. Параметр, отвечающий за разницу дисперсий equal_var=False. Нулевая гипотеза отвергнута, соответственно можно сказать, что пользователи с подпиской тратят больше времени на поездки, чем пользователи без подписки, нсоответственно, пользователи с подпиской - 'выгодные'. Интересно, что по анализу агрегированных данных сделан другой вывод."
   ]
  },
  {
   "cell_type": "markdown",
   "id": "7a0be8a5",
   "metadata": {},
   "source": [
    "##### Гипотеза 2 - Среднее расстояние, которое проезжают пользователи с подпиской за одну поездку, не превышает 3130 метров"
   ]
  },
  {
   "cell_type": "markdown",
   "id": "4d97ad16",
   "metadata": {},
   "source": [
    "Расстояние одной поездки в 3130 метров — оптимальное с точки зрения износа самоката."
   ]
  },
  {
   "cell_type": "code",
   "execution_count": 61,
   "id": "2b368abe",
   "metadata": {},
   "outputs": [
    {
     "data": {
      "text/plain": [
       "3115.4453880370247"
      ]
     },
     "execution_count": 61,
     "metadata": {},
     "output_type": "execute_result"
    }
   ],
   "source": [
    "#H0=mean_distance<=3130\n",
    "#H1=mean_distance>3130\n",
    "mean_distance=merged_ultra['distance'].sum()/merged_ultra['user_id'].value_counts().sum()\n",
    "mean_distance"
   ]
  },
  {
   "cell_type": "code",
   "execution_count": 62,
   "id": "f182131f",
   "metadata": {},
   "outputs": [
    {
     "name": "stdout",
     "output_type": "stream",
     "text": [
      "p-значение: 0.9195368847849785\n",
      "Не отвергаем нулевую гипотезу\n"
     ]
    }
   ],
   "source": [
    "limit_distance_value = 3130\n",
    "\n",
    "alpha = 0.05 # уровень статистической значимости\n",
    "\n",
    "results = st.ttest_1samp(merged_ultra['distance'], limit_distance_value, alternative='greater')\n",
    "\n",
    "print('p-значение:', results.pvalue)\n",
    "\n",
    "if (results.pvalue < alpha):\n",
    "    print('Отвергаем нулевую гипотезу')\n",
    "else: \n",
    "    print('Не отвергаем нулевую гипотезу')"
   ]
  },
  {
   "cell_type": "markdown",
   "id": "477d9225",
   "metadata": {},
   "source": [
    "Выводы<br/>\n",
    "H0 - нулевая гипотеза предполагает, что среднее расстояние, которое проезжают пользователи с подпиской не превышает 3130 метров.<br/> \n",
    "H1 - альтернативна односторонняя, правосторонняя гипотеза - среднее расстояние которые проезжают пользователи с подпиской ultra в среднем за поездку больше 3130 метров.<br/>\n",
    "По имеющимся данным - гипотеза не отвергнута. Среднее расстояние, которое проезжают пользователи ultra в среднем за одну поездку меньше 3130 метров.  "
   ]
  },
  {
   "cell_type": "markdown",
   "id": "d033563f",
   "metadata": {},
   "source": [
    "##### Гипотеза 3 - Помесячная выручка от пользователей с подпиской по месяцам выше, чем выручка от пользователей без подписки."
   ]
  },
  {
   "cell_type": "code",
   "execution_count": 63,
   "id": "c1fe8276",
   "metadata": {},
   "outputs": [],
   "source": [
    "#Созданы две выборки: с подпиской, без подписки\n",
    "array_free=merged_all_monthly[merged_all_monthly['subscription_fee']==0]['total']\n",
    "array_ultra=merged_all_monthly[merged_all_monthly['subscription_fee']==199]['total']"
   ]
  },
  {
   "cell_type": "code",
   "execution_count": 64,
   "id": "1f3601b0",
   "metadata": {},
   "outputs": [
    {
     "name": "stdout",
     "output_type": "stream",
     "text": [
      "p-value: 8.874140893976874e-40\n",
      "Отвергаем нулевую гипотезу\n"
     ]
    }
   ],
   "source": [
    "from scipy import stats as st\n",
    "# задан уровень статистической значимости\n",
    "alpha = 0.05\n",
    "\n",
    "# проводится ttest для двух выборок, в качестве альтернативной используем одностороннюю гипотезу «больше»\n",
    "results = st.ttest_ind(array_ultra, array_free, equal_var=False, alternative='greater')\n",
    "\n",
    "print(f'p-value: {results.pvalue}')\n",
    "\n",
    "# проверяется p-value\n",
    "if results.pvalue < alpha:\n",
    "    print('Отвергаем нулевую гипотезу')\n",
    "else:\n",
    "    print('Нет оснований отвергнуть нулевую гипотезу')"
   ]
  },
  {
   "cell_type": "markdown",
   "id": "d5f9f004",
   "metadata": {},
   "source": [
    "Выводы:<br/> \n",
    "H0 - нулевая гипотеза - помесячная выручка от пользователей с подпиской равна помесячной выручке от пользователей без подписки.<br/>  H1 - альтернативная односторонняя гипотеза, правосторонняя \"greater\" - помесячная выручка от пользователей с подпиской выше, чем от пользователей без подписки.<br/> \n",
    "Нулевая гипотеза о равенстве была отвергнута, соответственно можно говорить о том, что помесячная выручка от пользователей с подпиской выше, чем от пользователей без подписки. Интересно, что предыдущим анализом это не подтвердилось."
   ]
  },
  {
   "cell_type": "markdown",
   "id": "61213c5e",
   "metadata": {},
   "source": [
    "#### Распределения"
   ]
  },
  {
   "cell_type": "markdown",
   "id": "72ec11a4",
   "metadata": {},
   "source": [
    "8.1 Отделу маркетинга GoFast поставили задачу: нужно провести акцию с раздачей промокодов на один бесплатный месяц подписки, в рамках которой как минимум 100 существующих клиентов должны продлить эту подписку. То есть по завершении периода действия подписки пользователь может либо отказаться от неё, либо продлить, совершив соответствующий платёж. \n",
    "Эта акция уже проводилась ранее и по итогу выяснилось, что после бесплатного пробного периода подписку продлевают 10%. В этом разделе проведен анализ, какое минимальное количество промокодов нужно разослать, чтобы вероятность не выполнить план была примерно 5%."
   ]
  },
  {
   "cell_type": "code",
   "execution_count": 65,
   "id": "d4939ba2",
   "metadata": {},
   "outputs": [
    {
     "data": {
      "text/plain": [
       "0.9502390990500975"
      ]
     },
     "execution_count": 65,
     "metadata": {},
     "output_type": "execute_result"
    }
   ],
   "source": [
    "from scipy.stats import binom\n",
    "n, p = 1161, .1#подобранное число было 1172 (при 100), стало 1161 (при 99)\n",
    "rv = binom(n, p)\n",
    "\n",
    "1-rv.cdf(99) #1-вероятность подписки 100 человек"
   ]
  },
  {
   "cell_type": "code",
   "execution_count": 66,
   "id": "0e51f499",
   "metadata": {},
   "outputs": [],
   "source": [
    "Ns = range(1000, 1500)# автоматический подбор от 1000 до 2000\n",
    "ps, ns = [], []\n",
    "p = .1\n",
    "for i in Ns:\n",
    "    rv = binom(i, p)\n",
    "    pp = rv.cdf(99)*100# вероятность успеха для 100 человек\n",
    "    if pp < 5: break # когда достигнет 5% неуспеха, будет прерван цикл\n",
    "    ps.append(pp)\n",
    "    ns.append(i)\n",
    "    "
   ]
  },
  {
   "cell_type": "code",
   "execution_count": 67,
   "id": "d8ae8a98",
   "metadata": {},
   "outputs": [
    {
     "data": {
      "text/plain": [
       "1161"
      ]
     },
     "execution_count": 67,
     "metadata": {},
     "output_type": "execute_result"
    }
   ],
   "source": [
    "i# найденное количество человек - это последнее число в списке pp"
   ]
  },
  {
   "cell_type": "code",
   "execution_count": 68,
   "id": "38584833",
   "metadata": {
    "scrolled": true
   },
   "outputs": [
    {
     "data": {
      "image/png": "[encoded data removed]",
      "text/plain": [
       "<Figure size 432x288 with 1 Axes>"
      ]
     },
     "metadata": {
      "needs_background": "light"
     },
     "output_type": "display_data"
    }
   ],
   "source": [
    "plt.plot(ns, ps); # визуализация"
   ]
  },
  {
   "cell_type": "markdown",
   "id": "3c9b782e",
   "metadata": {},
   "source": [
    "8.2 Отдел маркетинга рассылает клиентам push-уведомления в мобильном приложении. Клиенты могут открыть его или не открывать. Известно, что уведомления открывают около 40 % получивших клиентов. Отдел планирует разослать 1 млн уведомлений. С помощью аппроксимации построен примерный график распределения и оценена вероятность того, что уведомление откроют не более 399,5 тыс. пользователей."
   ]
  },
  {
   "cell_type": "code",
   "execution_count": 69,
   "id": "d68891f7",
   "metadata": {},
   "outputs": [],
   "source": [
    "p=0.4 #p стремится к 0.5, соответственно, скошенности биномиального распределения не должно быть.\n",
    "#хорошее условие для апроксимации\n",
    "n=1000000\n",
    "n_value_less=399500"
   ]
  },
  {
   "cell_type": "code",
   "execution_count": 70,
   "id": "dbce53da",
   "metadata": {},
   "outputs": [
    {
     "data": {
      "text/plain": [
       "400000"
      ]
     },
     "execution_count": 70,
     "metadata": {},
     "output_type": "execute_result"
    }
   ],
   "source": [
    "#Вычисление матожидания\n",
    "M=round(n*p)\n",
    "M"
   ]
  },
  {
   "cell_type": "code",
   "execution_count": 71,
   "id": "fe430cd6",
   "metadata": {},
   "outputs": [
    {
     "data": {
      "text/plain": [
       "240000"
      ]
     },
     "execution_count": 71,
     "metadata": {},
     "output_type": "execute_result"
    }
   ],
   "source": [
    "#Вычисление дисперсии\n",
    "D=round(n*p*(1-p))\n",
    "D"
   ]
  },
  {
   "cell_type": "code",
   "execution_count": 72,
   "id": "05b96696",
   "metadata": {},
   "outputs": [
    {
     "data": {
      "text/plain": [
       "399875.885773901"
      ]
     },
     "execution_count": 72,
     "metadata": {},
     "output_type": "execute_result"
    }
   ],
   "source": [
    "# перевод в нормальное распределение\n",
    "mu=M\n",
    "sigma=D**0.5\n",
    "from scipy.stats import norm\n",
    "distr=st.norm(mu, sigma)\n",
    "result1=distr.ppf(0.4)\n",
    "result1"
   ]
  },
  {
   "cell_type": "code",
   "execution_count": 73,
   "id": "2516953f",
   "metadata": {},
   "outputs": [
    {
     "data": {
      "text/plain": [
       "0.8467661502640835"
      ]
     },
     "execution_count": 73,
     "metadata": {},
     "output_type": "execute_result"
    }
   ],
   "source": [
    "1-distr.cdf(399499)# вероятность, что откроют 399,5 тыс человек или менее равна 84%."
   ]
  },
  {
   "cell_type": "markdown",
   "id": "d5c57fe7",
   "metadata": {},
   "source": [
    "#### Заключение"
   ]
  },
  {
   "cell_type": "markdown",
   "id": "6f652f16",
   "metadata": {},
   "source": [
    "Описание проекта. В данной главе раскрыты цели проекта, область применения, набор данных и некоторые детали по данным.\n",
    "\n",
    "Загрузка данных. Данная глава разделяется на две подглавы. В подглаве 2.1 были загружены и считаны 3 CSV файла, в подглаве 2.2 была изучена общая информация и выведены первые строки файлов. Вывод по главе: <br/> \n",
    "- Датафрейм users включает 5 параметров, параметр user_id может быть использован для объедиения таблиц users и rides. Нет пропусков, все параметры заполнены.<br/>\n",
    "- Датафрейм rides включает 4 параметра, для параметра date необходимо изменить тип с object на datetime. Нет пропусков, все параметры заполнены.<br/>\n",
    "- Датафрейм sub включает 4 параметра, параметр subscription_type может быть использован для объедиения таблиц users и sub. Нет пропусков, все параметры заполнены\n",
    "\n",
    "Предобработка данных. Глава разделена на 3 подглавы.В подглаве 3.1 Столбец date в файле rides приведен к правильному формату. В подглаве 3.2 создан столбец с месяцами. В главе 3.3 данные были изучены на предмет дубликатов. Выводы по главе:<br/>\n",
    "- Пропуски значений во всех файлах, для всех параметров отсутствуют.\n",
    "- Ошибки типа \"нулевая абонентская плата при подписке\" и \"нулевая стоимость старта без подписки\" отсутствуют.\n",
    "- Явные дубликаты присутствуют только в датафрейме users (31 строчка повторяется полностью). - Дубликаты были удалены.\n",
    "- Неявные дубликаты не найдены.\n",
    "\n",
    "Исследовательский анализ данных. Глава разделена на 5 подглав. \n",
    " - В подглаве 4.1 проведен анализ частоты встречаемости городов. Выявлены самые популярные и непопулярные города.\n",
    " - В подглаве 4.2 Выполнен анализ соотношения пользователей с подпиской и без подписки. Без подписки пользователей больше (примерно на 17%), чем с подпиской.\n",
    " - В подглаве 4.3 Проведен анализ возраста пользователей и выделена возрастная группа, которая является самой активной (14-35 лет).\n",
    " - В подглаве 4.4 проведен анализ расстояний, которые преодолевали пользователи (среднее 3км), в подглаве 4.5 проведен анализ длительности поездок (среднее 18 минут).\n",
    "\n",
    "Объединение данных. В данной главе 3 подглавы.\n",
    " - В подглаве 5.1 все файлы были объеденены в единый датафрейм merged_all. \n",
    " - В подглаве 5.2 были созданы 2 датафрейма: с подпиской и без. \n",
    " - В подглаве 5.3 визуализированны данные о поездках(длительность и расстояние) для пользователей с подпиской и без.\n",
    "\n",
    "Подсчет выручки. Глава разделена на две подглавы. \n",
    " - В подглаве 6.1 создан датафрейм с агрегированными данными о поездках. \n",
    " - В подглаве 6.2 в датасет merged_all внесены данные о помесячной выручке от каждого пользователя.\n",
    "\n",
    "Проверка гипотез. Глава состоит из 4 подглав, каждая из которых относится к определенной гипотезе:<br/>\n",
    " - Гипотеза 1 - Пользователи с подпиской тратят больше времени на поездки - не отвергнута\n",
    " - Гипотеза 2 - Среднее расстояние, которое проезжают пользователи с подпиской за одну поездку, не превышает 3130 метров - не отвергнута\n",
    " - Гипотеза 3 - Помесячная выручка от пользователей с подпиской по месяцам выше, чем выручка от пользователей без подписки - отвергнута\n",
    "\n",
    "Распределения. В главе решены статистические задачи."
   ]
  },
  {
   "cell_type": "code",
   "execution_count": null,
   "id": "8206dde4",
   "metadata": {},
   "outputs": [],
   "source": []
  }
 ],
 "metadata": {
  "ExecuteTimeLog": [
   {
    "duration": 423,
    "start_time": "2023-12-13T02:04:42.543Z"
   },
   {
    "duration": 186,
    "start_time": "2023-12-13T02:04:43.887Z"
   },
   {
    "duration": 13,
    "start_time": "2023-12-13T02:04:44.307Z"
   },
   {
    "duration": 15,
    "start_time": "2023-12-13T02:04:46.857Z"
   },
   {
    "duration": 13,
    "start_time": "2023-12-13T02:05:39.312Z"
   },
   {
    "duration": 9,
    "start_time": "2023-12-13T02:05:51.037Z"
   },
   {
    "duration": 8,
    "start_time": "2023-12-13T02:05:55.136Z"
   },
   {
    "duration": 12,
    "start_time": "2023-12-13T02:06:17.971Z"
   },
   {
    "duration": 7,
    "start_time": "2023-12-13T02:06:18.583Z"
   },
   {
    "duration": 65,
    "start_time": "2023-12-13T03:42:55.682Z"
   },
   {
    "duration": 10,
    "start_time": "2023-12-13T03:42:56.662Z"
   },
   {
    "duration": 9,
    "start_time": "2023-12-13T03:42:57.108Z"
   },
   {
    "duration": 10,
    "start_time": "2023-12-13T03:42:57.378Z"
   },
   {
    "duration": 11,
    "start_time": "2023-12-13T03:42:57.576Z"
   },
   {
    "duration": 12,
    "start_time": "2023-12-13T03:42:57.761Z"
   },
   {
    "duration": 7,
    "start_time": "2023-12-13T03:42:58.070Z"
   },
   {
    "duration": 63,
    "start_time": "2023-12-13T03:45:28.893Z"
   },
   {
    "duration": 66,
    "start_time": "2023-12-13T03:47:23.174Z"
   },
   {
    "duration": 14,
    "start_time": "2023-12-13T03:47:24.632Z"
   },
   {
    "duration": 8,
    "start_time": "2023-12-13T03:47:25.355Z"
   },
   {
    "duration": 12,
    "start_time": "2023-12-13T03:47:25.853Z"
   },
   {
    "duration": 8,
    "start_time": "2023-12-13T03:47:26.494Z"
   },
   {
    "duration": 10,
    "start_time": "2023-12-13T03:47:27.110Z"
   },
   {
    "duration": 7,
    "start_time": "2023-12-13T03:47:27.815Z"
   },
   {
    "duration": 393,
    "start_time": "2023-12-13T03:59:03.849Z"
   },
   {
    "duration": 67,
    "start_time": "2023-12-13T03:59:04.244Z"
   },
   {
    "duration": 10,
    "start_time": "2023-12-13T03:59:04.313Z"
   },
   {
    "duration": 30,
    "start_time": "2023-12-13T03:59:04.326Z"
   },
   {
    "duration": 26,
    "start_time": "2023-12-13T03:59:04.358Z"
   },
   {
    "duration": 15,
    "start_time": "2023-12-13T03:59:04.386Z"
   },
   {
    "duration": 9,
    "start_time": "2023-12-13T03:59:04.402Z"
   },
   {
    "duration": 12,
    "start_time": "2023-12-13T03:59:04.413Z"
   },
   {
    "duration": 10,
    "start_time": "2023-12-13T04:02:14.282Z"
   },
   {
    "duration": 49,
    "start_time": "2023-12-13T04:02:24.041Z"
   },
   {
    "duration": 7,
    "start_time": "2023-12-13T04:04:15.823Z"
   },
   {
    "duration": 62,
    "start_time": "2023-12-13T04:09:47.352Z"
   },
   {
    "duration": 7,
    "start_time": "2023-12-13T04:10:13.391Z"
   },
   {
    "duration": 9,
    "start_time": "2023-12-13T04:11:33.680Z"
   },
   {
    "duration": 10,
    "start_time": "2023-12-13T04:16:42.201Z"
   },
   {
    "duration": 7,
    "start_time": "2023-12-13T04:17:33.510Z"
   },
   {
    "duration": 12,
    "start_time": "2023-12-13T04:18:48.503Z"
   },
   {
    "duration": 5,
    "start_time": "2023-12-13T04:21:51.369Z"
   },
   {
    "duration": 9,
    "start_time": "2023-12-13T04:22:12.020Z"
   },
   {
    "duration": 7,
    "start_time": "2023-12-13T04:22:54.726Z"
   },
   {
    "duration": 6,
    "start_time": "2023-12-13T04:25:10.160Z"
   },
   {
    "duration": 14,
    "start_time": "2023-12-13T04:25:28.230Z"
   },
   {
    "duration": 6,
    "start_time": "2023-12-13T04:25:39.033Z"
   },
   {
    "duration": 12,
    "start_time": "2023-12-13T04:26:07.502Z"
   },
   {
    "duration": 12,
    "start_time": "2023-12-13T04:26:13.622Z"
   },
   {
    "duration": 6,
    "start_time": "2023-12-13T04:26:44.841Z"
   },
   {
    "duration": 7,
    "start_time": "2023-12-13T04:26:56.760Z"
   },
   {
    "duration": 7,
    "start_time": "2023-12-13T04:28:17.097Z"
   },
   {
    "duration": 8,
    "start_time": "2023-12-13T04:28:22.770Z"
   },
   {
    "duration": 7,
    "start_time": "2023-12-13T04:28:41.822Z"
   },
   {
    "duration": 5,
    "start_time": "2023-12-13T04:28:47.300Z"
   },
   {
    "duration": 6,
    "start_time": "2023-12-13T04:29:12.791Z"
   },
   {
    "duration": 5,
    "start_time": "2023-12-13T04:29:51.346Z"
   },
   {
    "duration": 6,
    "start_time": "2023-12-13T04:30:48.862Z"
   },
   {
    "duration": 5,
    "start_time": "2023-12-13T04:31:29.001Z"
   },
   {
    "duration": 11,
    "start_time": "2023-12-13T04:33:01.972Z"
   },
   {
    "duration": 7,
    "start_time": "2023-12-13T04:34:00.173Z"
   },
   {
    "duration": 13,
    "start_time": "2023-12-13T04:34:16.843Z"
   },
   {
    "duration": 7,
    "start_time": "2023-12-13T04:35:24.259Z"
   },
   {
    "duration": 6,
    "start_time": "2023-12-13T04:36:33.143Z"
   },
   {
    "duration": 7,
    "start_time": "2023-12-13T04:36:47.394Z"
   },
   {
    "duration": 5,
    "start_time": "2023-12-13T04:37:33.991Z"
   },
   {
    "duration": 6,
    "start_time": "2023-12-13T04:38:07.063Z"
   },
   {
    "duration": 7,
    "start_time": "2023-12-13T04:39:20.530Z"
   },
   {
    "duration": 8,
    "start_time": "2023-12-13T04:41:03.154Z"
   },
   {
    "duration": 7,
    "start_time": "2023-12-13T04:41:05.306Z"
   },
   {
    "duration": 7,
    "start_time": "2023-12-13T04:42:58.793Z"
   },
   {
    "duration": 6,
    "start_time": "2023-12-13T04:43:21.477Z"
   },
   {
    "duration": 8,
    "start_time": "2023-12-13T04:49:21.346Z"
   },
   {
    "duration": 12,
    "start_time": "2023-12-13T04:49:47.355Z"
   },
   {
    "duration": 7,
    "start_time": "2023-12-13T04:50:28.499Z"
   },
   {
    "duration": 4,
    "start_time": "2023-12-13T04:52:16.454Z"
   },
   {
    "duration": 7,
    "start_time": "2023-12-13T04:52:30.495Z"
   },
   {
    "duration": 380,
    "start_time": "2023-12-13T04:52:44.359Z"
   },
   {
    "duration": 66,
    "start_time": "2023-12-13T04:52:44.740Z"
   },
   {
    "duration": 11,
    "start_time": "2023-12-13T04:52:44.808Z"
   },
   {
    "duration": 16,
    "start_time": "2023-12-13T04:52:44.821Z"
   },
   {
    "duration": 11,
    "start_time": "2023-12-13T04:52:44.839Z"
   },
   {
    "duration": 8,
    "start_time": "2023-12-13T04:52:44.852Z"
   },
   {
    "duration": 9,
    "start_time": "2023-12-13T04:52:44.862Z"
   },
   {
    "duration": 7,
    "start_time": "2023-12-13T04:52:44.873Z"
   },
   {
    "duration": 9,
    "start_time": "2023-12-13T04:52:44.881Z"
   },
   {
    "duration": 7,
    "start_time": "2023-12-13T04:52:44.893Z"
   },
   {
    "duration": 45,
    "start_time": "2023-12-13T04:52:44.902Z"
   },
   {
    "duration": 7,
    "start_time": "2023-12-13T04:52:44.949Z"
   },
   {
    "duration": 7,
    "start_time": "2023-12-13T04:52:44.958Z"
   },
   {
    "duration": 6,
    "start_time": "2023-12-13T04:52:44.966Z"
   },
   {
    "duration": 7,
    "start_time": "2023-12-13T04:52:44.974Z"
   },
   {
    "duration": 8,
    "start_time": "2023-12-13T04:52:44.982Z"
   },
   {
    "duration": 77,
    "start_time": "2023-12-13T04:52:44.992Z"
   },
   {
    "duration": 63,
    "start_time": "2023-12-13T04:52:45.071Z"
   },
   {
    "duration": 12,
    "start_time": "2023-12-13T04:52:45.136Z"
   },
   {
    "duration": 11,
    "start_time": "2023-12-13T04:52:45.150Z"
   },
   {
    "duration": 18,
    "start_time": "2023-12-13T04:52:45.163Z"
   },
   {
    "duration": 60,
    "start_time": "2023-12-13T04:57:01.665Z"
   },
   {
    "duration": 5,
    "start_time": "2023-12-13T04:57:08.342Z"
   },
   {
    "duration": 5,
    "start_time": "2023-12-13T04:58:14.127Z"
   },
   {
    "duration": 4,
    "start_time": "2023-12-13T22:52:07.747Z"
   },
   {
    "duration": 48,
    "start_time": "2023-12-13T22:55:25.552Z"
   },
   {
    "duration": 388,
    "start_time": "2023-12-13T22:55:35.871Z"
   },
   {
    "duration": 442,
    "start_time": "2023-12-13T22:55:36.261Z"
   },
   {
    "duration": 13,
    "start_time": "2023-12-13T22:55:36.704Z"
   },
   {
    "duration": 21,
    "start_time": "2023-12-13T22:55:36.720Z"
   },
   {
    "duration": 42,
    "start_time": "2023-12-13T22:55:36.743Z"
   },
   {
    "duration": 29,
    "start_time": "2023-12-13T22:55:36.786Z"
   },
   {
    "duration": 43,
    "start_time": "2023-12-13T22:55:36.817Z"
   },
   {
    "duration": 17,
    "start_time": "2023-12-13T22:55:36.862Z"
   },
   {
    "duration": 12,
    "start_time": "2023-12-13T22:55:36.880Z"
   },
   {
    "duration": 8,
    "start_time": "2023-12-13T22:55:36.895Z"
   },
   {
    "duration": 10,
    "start_time": "2023-12-13T22:55:36.904Z"
   },
   {
    "duration": 9,
    "start_time": "2023-12-13T22:55:36.915Z"
   },
   {
    "duration": 24,
    "start_time": "2023-12-13T22:55:36.925Z"
   },
   {
    "duration": 7,
    "start_time": "2023-12-13T22:55:36.951Z"
   },
   {
    "duration": 8,
    "start_time": "2023-12-13T22:55:36.960Z"
   },
   {
    "duration": 7,
    "start_time": "2023-12-13T22:55:36.970Z"
   },
   {
    "duration": 18,
    "start_time": "2023-12-13T22:55:36.979Z"
   },
   {
    "duration": 43,
    "start_time": "2023-12-13T22:55:36.999Z"
   },
   {
    "duration": 12,
    "start_time": "2023-12-13T22:55:37.044Z"
   },
   {
    "duration": 7,
    "start_time": "2023-12-13T22:55:37.058Z"
   },
   {
    "duration": 15,
    "start_time": "2023-12-13T22:55:37.067Z"
   },
   {
    "duration": 7,
    "start_time": "2023-12-13T22:55:37.084Z"
   },
   {
    "duration": 6,
    "start_time": "2023-12-13T22:55:37.092Z"
   },
   {
    "duration": 6,
    "start_time": "2023-12-13T22:56:14.437Z"
   },
   {
    "duration": 6,
    "start_time": "2023-12-13T22:56:24.382Z"
   },
   {
    "duration": 4,
    "start_time": "2023-12-13T22:57:28.660Z"
   },
   {
    "duration": 6,
    "start_time": "2023-12-13T22:57:33.066Z"
   },
   {
    "duration": 7,
    "start_time": "2023-12-13T22:57:41.157Z"
   },
   {
    "duration": 69,
    "start_time": "2023-12-13T22:57:45.303Z"
   },
   {
    "duration": 5,
    "start_time": "2023-12-13T22:57:54.535Z"
   },
   {
    "duration": 10,
    "start_time": "2023-12-13T22:58:17.520Z"
   },
   {
    "duration": 7,
    "start_time": "2023-12-13T22:58:25.097Z"
   },
   {
    "duration": 6,
    "start_time": "2023-12-13T22:58:34.703Z"
   },
   {
    "duration": 11,
    "start_time": "2023-12-13T23:02:36.475Z"
   },
   {
    "duration": 5,
    "start_time": "2023-12-13T23:02:48.821Z"
   },
   {
    "duration": 4,
    "start_time": "2023-12-13T23:02:57.433Z"
   },
   {
    "duration": 5,
    "start_time": "2023-12-13T23:03:16.466Z"
   },
   {
    "duration": 6,
    "start_time": "2023-12-13T23:03:33.739Z"
   },
   {
    "duration": 5,
    "start_time": "2023-12-13T23:03:42.744Z"
   },
   {
    "duration": 567,
    "start_time": "2023-12-13T23:05:42.667Z"
   },
   {
    "duration": 129,
    "start_time": "2023-12-13T23:06:03.057Z"
   },
   {
    "duration": 124,
    "start_time": "2023-12-13T23:06:53.299Z"
   },
   {
    "duration": 127,
    "start_time": "2023-12-13T23:07:05.824Z"
   },
   {
    "duration": 134,
    "start_time": "2023-12-13T23:07:20.875Z"
   },
   {
    "duration": 185,
    "start_time": "2023-12-13T23:07:30.335Z"
   },
   {
    "duration": 50,
    "start_time": "2023-12-13T23:10:05.609Z"
   },
   {
    "duration": 391,
    "start_time": "2023-12-13T23:10:06.182Z"
   },
   {
    "duration": 67,
    "start_time": "2023-12-13T23:10:06.575Z"
   },
   {
    "duration": 11,
    "start_time": "2023-12-13T23:10:06.644Z"
   },
   {
    "duration": 60,
    "start_time": "2023-12-13T23:10:06.657Z"
   },
   {
    "duration": 33,
    "start_time": "2023-12-13T23:10:06.719Z"
   },
   {
    "duration": 34,
    "start_time": "2023-12-13T23:10:06.754Z"
   },
   {
    "duration": 35,
    "start_time": "2023-12-13T23:10:06.790Z"
   },
   {
    "duration": 40,
    "start_time": "2023-12-13T23:10:06.827Z"
   },
   {
    "duration": 41,
    "start_time": "2023-12-13T23:10:06.869Z"
   },
   {
    "duration": 35,
    "start_time": "2023-12-13T23:10:06.913Z"
   },
   {
    "duration": 42,
    "start_time": "2023-12-13T23:10:06.951Z"
   },
   {
    "duration": 50,
    "start_time": "2023-12-13T23:10:06.994Z"
   },
   {
    "duration": 29,
    "start_time": "2023-12-13T23:10:07.045Z"
   },
   {
    "duration": 26,
    "start_time": "2023-12-13T23:10:07.076Z"
   },
   {
    "duration": 24,
    "start_time": "2023-12-13T23:10:07.104Z"
   },
   {
    "duration": 32,
    "start_time": "2023-12-13T23:10:07.130Z"
   },
   {
    "duration": 38,
    "start_time": "2023-12-13T23:10:07.164Z"
   },
   {
    "duration": 56,
    "start_time": "2023-12-13T23:10:07.203Z"
   },
   {
    "duration": 44,
    "start_time": "2023-12-13T23:10:07.260Z"
   },
   {
    "duration": 15,
    "start_time": "2023-12-13T23:10:07.306Z"
   },
   {
    "duration": 25,
    "start_time": "2023-12-13T23:10:07.322Z"
   },
   {
    "duration": 16,
    "start_time": "2023-12-13T23:10:07.349Z"
   },
   {
    "duration": 24,
    "start_time": "2023-12-13T23:10:07.366Z"
   },
   {
    "duration": 494,
    "start_time": "2023-12-13T23:10:07.391Z"
   },
   {
    "duration": 127,
    "start_time": "2023-12-13T23:10:17.270Z"
   },
   {
    "duration": 130,
    "start_time": "2023-12-13T23:10:30.874Z"
   },
   {
    "duration": 160,
    "start_time": "2023-12-13T23:10:49.222Z"
   },
   {
    "duration": 141,
    "start_time": "2023-12-13T23:11:12.912Z"
   },
   {
    "duration": 3,
    "start_time": "2023-12-13T23:11:56.057Z"
   },
   {
    "duration": 426,
    "start_time": "2023-12-14T03:43:30.943Z"
   },
   {
    "duration": 187,
    "start_time": "2023-12-14T03:43:31.370Z"
   },
   {
    "duration": 12,
    "start_time": "2023-12-14T03:43:31.558Z"
   },
   {
    "duration": 50,
    "start_time": "2023-12-14T03:43:31.572Z"
   },
   {
    "duration": 27,
    "start_time": "2023-12-14T03:43:31.623Z"
   },
   {
    "duration": 23,
    "start_time": "2023-12-14T03:43:31.652Z"
   },
   {
    "duration": 31,
    "start_time": "2023-12-14T03:43:31.676Z"
   },
   {
    "duration": 22,
    "start_time": "2023-12-14T03:43:31.709Z"
   },
   {
    "duration": 25,
    "start_time": "2023-12-14T03:43:31.733Z"
   },
   {
    "duration": 12,
    "start_time": "2023-12-14T03:43:31.761Z"
   },
   {
    "duration": 19,
    "start_time": "2023-12-14T03:43:31.775Z"
   },
   {
    "duration": 30,
    "start_time": "2023-12-14T03:43:31.795Z"
   },
   {
    "duration": 24,
    "start_time": "2023-12-14T03:43:31.826Z"
   },
   {
    "duration": 10,
    "start_time": "2023-12-14T03:43:31.851Z"
   },
   {
    "duration": 29,
    "start_time": "2023-12-14T03:43:31.863Z"
   },
   {
    "duration": 22,
    "start_time": "2023-12-14T03:43:31.894Z"
   },
   {
    "duration": 33,
    "start_time": "2023-12-14T03:43:31.918Z"
   },
   {
    "duration": 18,
    "start_time": "2023-12-14T03:43:31.952Z"
   },
   {
    "duration": 12,
    "start_time": "2023-12-14T03:43:31.972Z"
   },
   {
    "duration": 17,
    "start_time": "2023-12-14T03:43:31.985Z"
   },
   {
    "duration": 7,
    "start_time": "2023-12-14T03:43:32.004Z"
   },
   {
    "duration": 21,
    "start_time": "2023-12-14T03:43:32.013Z"
   },
   {
    "duration": 24,
    "start_time": "2023-12-14T03:43:32.035Z"
   },
   {
    "duration": 595,
    "start_time": "2023-12-14T03:43:32.060Z"
   },
   {
    "duration": 4,
    "start_time": "2023-12-14T03:43:32.657Z"
   },
   {
    "duration": 5,
    "start_time": "2023-12-14T03:43:44.184Z"
   },
   {
    "duration": 5,
    "start_time": "2023-12-14T03:44:14.951Z"
   },
   {
    "duration": 4,
    "start_time": "2023-12-14T03:44:21.603Z"
   },
   {
    "duration": 4,
    "start_time": "2023-12-14T03:44:44.330Z"
   },
   {
    "duration": 3,
    "start_time": "2023-12-14T03:44:58.258Z"
   },
   {
    "duration": 77,
    "start_time": "2023-12-14T03:45:31.231Z"
   },
   {
    "duration": 5,
    "start_time": "2023-12-14T03:45:42.290Z"
   },
   {
    "duration": 3,
    "start_time": "2023-12-14T03:47:08.814Z"
   },
   {
    "duration": 4,
    "start_time": "2023-12-14T03:47:22.916Z"
   },
   {
    "duration": 79,
    "start_time": "2023-12-14T03:49:50.339Z"
   },
   {
    "duration": 4,
    "start_time": "2023-12-14T03:50:01.740Z"
   },
   {
    "duration": 6,
    "start_time": "2023-12-14T03:50:08.723Z"
   },
   {
    "duration": 17,
    "start_time": "2023-12-14T03:50:50.070Z"
   },
   {
    "duration": 8,
    "start_time": "2023-12-14T03:51:58.785Z"
   },
   {
    "duration": 9,
    "start_time": "2023-12-14T03:52:18.883Z"
   },
   {
    "duration": 7,
    "start_time": "2023-12-14T03:53:07.378Z"
   },
   {
    "duration": 10,
    "start_time": "2023-12-14T03:59:05.947Z"
   },
   {
    "duration": 322,
    "start_time": "2023-12-14T03:59:53.866Z"
   },
   {
    "duration": 8,
    "start_time": "2023-12-14T04:00:22.600Z"
   },
   {
    "duration": 1159,
    "start_time": "2023-12-14T04:00:55.193Z"
   },
   {
    "duration": 70,
    "start_time": "2023-12-14T04:01:05.158Z"
   },
   {
    "duration": 63,
    "start_time": "2023-12-14T04:04:19.854Z"
   },
   {
    "duration": 68,
    "start_time": "2023-12-14T04:05:18.758Z"
   },
   {
    "duration": 80,
    "start_time": "2023-12-14T04:06:32.813Z"
   },
   {
    "duration": 174,
    "start_time": "2023-12-14T04:06:37.397Z"
   },
   {
    "duration": 207,
    "start_time": "2023-12-14T04:06:50.271Z"
   },
   {
    "duration": 120,
    "start_time": "2023-12-14T04:07:04.200Z"
   },
   {
    "duration": 115,
    "start_time": "2023-12-14T04:07:12.530Z"
   },
   {
    "duration": 134,
    "start_time": "2023-12-14T04:08:17.329Z"
   },
   {
    "duration": 8,
    "start_time": "2023-12-14T04:35:00.023Z"
   },
   {
    "duration": 5,
    "start_time": "2023-12-14T04:35:34.202Z"
   },
   {
    "duration": 7,
    "start_time": "2023-12-14T04:35:50.972Z"
   },
   {
    "duration": 5,
    "start_time": "2023-12-14T04:35:59.917Z"
   },
   {
    "duration": 5,
    "start_time": "2023-12-14T04:38:08.725Z"
   },
   {
    "duration": 5,
    "start_time": "2023-12-14T04:38:30.161Z"
   },
   {
    "duration": 5,
    "start_time": "2023-12-14T04:38:45.920Z"
   },
   {
    "duration": 6,
    "start_time": "2023-12-14T04:39:00.582Z"
   },
   {
    "duration": 10,
    "start_time": "2023-12-14T04:40:52.381Z"
   },
   {
    "duration": 8,
    "start_time": "2023-12-14T04:41:05.340Z"
   },
   {
    "duration": 5,
    "start_time": "2023-12-14T04:42:00.459Z"
   },
   {
    "duration": 6,
    "start_time": "2023-12-14T04:43:26.243Z"
   },
   {
    "duration": 50,
    "start_time": "2023-12-15T02:01:46.244Z"
   },
   {
    "duration": 5,
    "start_time": "2023-12-15T02:01:56.300Z"
   },
   {
    "duration": 5,
    "start_time": "2023-12-15T02:02:00.213Z"
   },
   {
    "duration": 360,
    "start_time": "2023-12-15T02:02:08.824Z"
   },
   {
    "duration": 196,
    "start_time": "2023-12-15T02:02:09.185Z"
   },
   {
    "duration": 12,
    "start_time": "2023-12-15T02:02:09.383Z"
   },
   {
    "duration": 18,
    "start_time": "2023-12-15T02:02:09.398Z"
   },
   {
    "duration": 10,
    "start_time": "2023-12-15T02:02:09.418Z"
   },
   {
    "duration": 8,
    "start_time": "2023-12-15T02:02:09.429Z"
   },
   {
    "duration": 13,
    "start_time": "2023-12-15T02:02:09.438Z"
   },
   {
    "duration": 8,
    "start_time": "2023-12-15T02:02:09.481Z"
   },
   {
    "duration": 20,
    "start_time": "2023-12-15T02:02:09.490Z"
   },
   {
    "duration": 6,
    "start_time": "2023-12-15T02:02:09.513Z"
   },
   {
    "duration": 7,
    "start_time": "2023-12-15T02:02:09.520Z"
   },
   {
    "duration": 7,
    "start_time": "2023-12-15T02:02:09.528Z"
   },
   {
    "duration": 10,
    "start_time": "2023-12-15T02:02:09.537Z"
   },
   {
    "duration": 37,
    "start_time": "2023-12-15T02:02:09.549Z"
   },
   {
    "duration": 6,
    "start_time": "2023-12-15T02:02:09.587Z"
   },
   {
    "duration": 15,
    "start_time": "2023-12-15T02:02:09.594Z"
   },
   {
    "duration": 12,
    "start_time": "2023-12-15T02:02:09.610Z"
   },
   {
    "duration": 13,
    "start_time": "2023-12-15T02:02:09.624Z"
   },
   {
    "duration": 11,
    "start_time": "2023-12-15T02:02:09.638Z"
   },
   {
    "duration": 33,
    "start_time": "2023-12-15T02:02:09.650Z"
   },
   {
    "duration": 5,
    "start_time": "2023-12-15T02:02:09.684Z"
   },
   {
    "duration": 23,
    "start_time": "2023-12-15T02:02:09.690Z"
   },
   {
    "duration": 5,
    "start_time": "2023-12-15T02:02:09.714Z"
   },
   {
    "duration": 566,
    "start_time": "2023-12-15T02:02:09.720Z"
   },
   {
    "duration": 5,
    "start_time": "2023-12-15T02:02:10.287Z"
   },
   {
    "duration": 5,
    "start_time": "2023-12-15T02:02:10.293Z"
   },
   {
    "duration": 141,
    "start_time": "2023-12-15T02:02:10.299Z"
   },
   {
    "duration": 5,
    "start_time": "2023-12-15T02:02:10.444Z"
   },
   {
    "duration": 4,
    "start_time": "2023-12-15T02:02:30.284Z"
   },
   {
    "duration": 81,
    "start_time": "2023-12-15T02:02:39.015Z"
   },
   {
    "duration": 6,
    "start_time": "2023-12-15T02:02:46.780Z"
   },
   {
    "duration": 7,
    "start_time": "2023-12-15T02:04:18.034Z"
   },
   {
    "duration": 8,
    "start_time": "2023-12-15T02:04:57.689Z"
   },
   {
    "duration": 6,
    "start_time": "2023-12-15T02:05:01.091Z"
   },
   {
    "duration": 6,
    "start_time": "2023-12-15T02:05:14.115Z"
   },
   {
    "duration": 5,
    "start_time": "2023-12-15T02:05:20.562Z"
   },
   {
    "duration": 8,
    "start_time": "2023-12-15T02:05:33.168Z"
   },
   {
    "duration": 94,
    "start_time": "2023-12-15T02:07:25.689Z"
   },
   {
    "duration": 5,
    "start_time": "2023-12-15T02:07:28.837Z"
   },
   {
    "duration": 5,
    "start_time": "2023-12-15T02:08:17.976Z"
   },
   {
    "duration": 4,
    "start_time": "2023-12-15T02:08:30.424Z"
   },
   {
    "duration": 5,
    "start_time": "2023-12-15T02:08:36.847Z"
   },
   {
    "duration": 6,
    "start_time": "2023-12-15T02:09:06.762Z"
   },
   {
    "duration": 5,
    "start_time": "2023-12-15T02:09:24.955Z"
   },
   {
    "duration": 5,
    "start_time": "2023-12-15T02:09:32.372Z"
   },
   {
    "duration": 3,
    "start_time": "2023-12-15T02:09:42.554Z"
   },
   {
    "duration": 7,
    "start_time": "2023-12-15T02:09:49.125Z"
   },
   {
    "duration": 5,
    "start_time": "2023-12-15T02:10:27.938Z"
   },
   {
    "duration": 6,
    "start_time": "2023-12-15T02:10:37.866Z"
   },
   {
    "duration": 9,
    "start_time": "2023-12-15T02:12:18.646Z"
   },
   {
    "duration": 130,
    "start_time": "2023-12-15T02:13:54.670Z"
   },
   {
    "duration": 10,
    "start_time": "2023-12-15T02:14:55.301Z"
   },
   {
    "duration": 7,
    "start_time": "2023-12-15T02:15:36.584Z"
   },
   {
    "duration": 6,
    "start_time": "2023-12-15T02:16:33.035Z"
   },
   {
    "duration": 131,
    "start_time": "2023-12-15T02:16:53.781Z"
   },
   {
    "duration": 7,
    "start_time": "2023-12-15T02:17:09.741Z"
   },
   {
    "duration": 8,
    "start_time": "2023-12-15T02:17:23.001Z"
   },
   {
    "duration": 7,
    "start_time": "2023-12-15T02:17:40.419Z"
   },
   {
    "duration": 165,
    "start_time": "2023-12-15T02:18:17.041Z"
   },
   {
    "duration": 8,
    "start_time": "2023-12-15T02:18:27.558Z"
   },
   {
    "duration": 9,
    "start_time": "2023-12-15T02:18:30.723Z"
   },
   {
    "duration": 7,
    "start_time": "2023-12-15T02:18:42.931Z"
   },
   {
    "duration": 10,
    "start_time": "2023-12-15T02:18:53.505Z"
   },
   {
    "duration": 7,
    "start_time": "2023-12-15T02:18:57.249Z"
   },
   {
    "duration": 5,
    "start_time": "2023-12-15T02:20:32.579Z"
   },
   {
    "duration": 7,
    "start_time": "2023-12-15T02:20:54.261Z"
   },
   {
    "duration": 238,
    "start_time": "2023-12-15T02:21:20.831Z"
   },
   {
    "duration": 116,
    "start_time": "2023-12-15T02:21:28.441Z"
   },
   {
    "duration": 171,
    "start_time": "2023-12-15T02:21:37.906Z"
   },
   {
    "duration": 160,
    "start_time": "2023-12-15T02:22:20.950Z"
   },
   {
    "duration": 232,
    "start_time": "2023-12-15T02:22:51.792Z"
   },
   {
    "duration": 190,
    "start_time": "2023-12-15T02:25:15.366Z"
   },
   {
    "duration": 243,
    "start_time": "2023-12-15T02:25:21.259Z"
   },
   {
    "duration": 389,
    "start_time": "2023-12-15T02:25:51.582Z"
   },
   {
    "duration": 69,
    "start_time": "2023-12-15T02:25:51.973Z"
   },
   {
    "duration": 10,
    "start_time": "2023-12-15T02:25:52.044Z"
   },
   {
    "duration": 54,
    "start_time": "2023-12-15T02:25:52.056Z"
   },
   {
    "duration": 35,
    "start_time": "2023-12-15T02:25:52.111Z"
   },
   {
    "duration": 34,
    "start_time": "2023-12-15T02:25:52.148Z"
   },
   {
    "duration": 39,
    "start_time": "2023-12-15T02:25:52.184Z"
   },
   {
    "duration": 24,
    "start_time": "2023-12-15T02:25:52.225Z"
   },
   {
    "duration": 49,
    "start_time": "2023-12-15T02:25:52.251Z"
   },
   {
    "duration": 14,
    "start_time": "2023-12-15T02:25:52.305Z"
   },
   {
    "duration": 8,
    "start_time": "2023-12-15T02:25:52.320Z"
   },
   {
    "duration": 17,
    "start_time": "2023-12-15T02:25:52.330Z"
   },
   {
    "duration": 32,
    "start_time": "2023-12-15T02:25:52.349Z"
   },
   {
    "duration": 7,
    "start_time": "2023-12-15T02:25:52.383Z"
   },
   {
    "duration": 23,
    "start_time": "2023-12-15T02:25:52.391Z"
   },
   {
    "duration": 11,
    "start_time": "2023-12-15T02:25:52.415Z"
   },
   {
    "duration": 21,
    "start_time": "2023-12-15T02:25:52.428Z"
   },
   {
    "duration": 39,
    "start_time": "2023-12-15T02:25:52.450Z"
   },
   {
    "duration": 13,
    "start_time": "2023-12-15T02:25:52.491Z"
   },
   {
    "duration": 9,
    "start_time": "2023-12-15T02:25:52.505Z"
   },
   {
    "duration": 5,
    "start_time": "2023-12-15T02:25:52.515Z"
   },
   {
    "duration": 22,
    "start_time": "2023-12-15T02:25:52.522Z"
   },
   {
    "duration": 6,
    "start_time": "2023-12-15T02:25:52.546Z"
   },
   {
    "duration": 408,
    "start_time": "2023-12-15T02:25:52.554Z"
   },
   {
    "duration": 5,
    "start_time": "2023-12-15T02:25:52.964Z"
   },
   {
    "duration": 55,
    "start_time": "2023-12-15T02:25:52.971Z"
   },
   {
    "duration": 156,
    "start_time": "2023-12-15T02:25:53.028Z"
   },
   {
    "duration": 173,
    "start_time": "2023-12-15T02:25:53.187Z"
   },
   {
    "duration": 21,
    "start_time": "2023-12-15T02:25:53.361Z"
   },
   {
    "duration": 212,
    "start_time": "2023-12-15T02:25:53.383Z"
   },
   {
    "duration": 68,
    "start_time": "2023-12-15T02:26:33.476Z"
   },
   {
    "duration": 7,
    "start_time": "2023-12-15T02:26:39.766Z"
   },
   {
    "duration": 7,
    "start_time": "2023-12-15T02:26:49.546Z"
   },
   {
    "duration": 126,
    "start_time": "2023-12-15T02:26:52.720Z"
   },
   {
    "duration": 89,
    "start_time": "2023-12-15T02:40:24.801Z"
   },
   {
    "duration": 7,
    "start_time": "2023-12-15T02:41:23.411Z"
   },
   {
    "duration": 8,
    "start_time": "2023-12-15T02:42:12.940Z"
   },
   {
    "duration": 8,
    "start_time": "2023-12-15T02:43:09.707Z"
   },
   {
    "duration": 8,
    "start_time": "2023-12-15T02:43:28.134Z"
   },
   {
    "duration": 146,
    "start_time": "2023-12-15T02:43:57.912Z"
   },
   {
    "duration": 185,
    "start_time": "2023-12-15T02:44:44.135Z"
   },
   {
    "duration": 181,
    "start_time": "2023-12-15T02:46:16.121Z"
   },
   {
    "duration": 172,
    "start_time": "2023-12-15T02:46:37.150Z"
   },
   {
    "duration": 169,
    "start_time": "2023-12-15T02:47:02.898Z"
   },
   {
    "duration": 171,
    "start_time": "2023-12-15T02:47:50.387Z"
   },
   {
    "duration": 171,
    "start_time": "2023-12-15T02:48:17.460Z"
   },
   {
    "duration": 167,
    "start_time": "2023-12-15T02:48:39.539Z"
   },
   {
    "duration": 177,
    "start_time": "2023-12-15T02:50:03.363Z"
   },
   {
    "duration": 245,
    "start_time": "2023-12-15T02:50:08.496Z"
   },
   {
    "duration": 167,
    "start_time": "2023-12-15T02:50:21.279Z"
   },
   {
    "duration": 167,
    "start_time": "2023-12-15T02:50:36.144Z"
   },
   {
    "duration": 198,
    "start_time": "2023-12-15T02:50:44.756Z"
   },
   {
    "duration": 184,
    "start_time": "2023-12-15T02:50:51.692Z"
   },
   {
    "duration": 368,
    "start_time": "2023-12-15T02:52:02.154Z"
   },
   {
    "duration": 211,
    "start_time": "2023-12-15T02:52:20.739Z"
   },
   {
    "duration": 165,
    "start_time": "2023-12-15T02:52:50.968Z"
   },
   {
    "duration": 163,
    "start_time": "2023-12-15T02:53:04.324Z"
   },
   {
    "duration": 179,
    "start_time": "2023-12-15T02:53:34.911Z"
   },
   {
    "duration": 205,
    "start_time": "2023-12-15T02:54:05.146Z"
   },
   {
    "duration": 171,
    "start_time": "2023-12-15T02:54:32.153Z"
   },
   {
    "duration": 178,
    "start_time": "2023-12-15T02:54:39.233Z"
   },
   {
    "duration": 176,
    "start_time": "2023-12-15T02:55:04.141Z"
   },
   {
    "duration": 162,
    "start_time": "2023-12-15T02:55:08.368Z"
   },
   {
    "duration": 2,
    "start_time": "2023-12-15T02:57:04.607Z"
   },
   {
    "duration": 162,
    "start_time": "2023-12-15T02:57:21.079Z"
   },
   {
    "duration": 161,
    "start_time": "2023-12-15T02:57:30.867Z"
   },
   {
    "duration": 177,
    "start_time": "2023-12-15T02:58:00.217Z"
   },
   {
    "duration": 170,
    "start_time": "2023-12-15T03:07:34.666Z"
   },
   {
    "duration": 208,
    "start_time": "2023-12-15T03:07:45.688Z"
   },
   {
    "duration": 203,
    "start_time": "2023-12-15T03:08:53.765Z"
   },
   {
    "duration": 209,
    "start_time": "2023-12-15T03:09:40.536Z"
   },
   {
    "duration": 173,
    "start_time": "2023-12-15T03:10:09.217Z"
   },
   {
    "duration": 225,
    "start_time": "2023-12-15T03:10:30.697Z"
   },
   {
    "duration": 227,
    "start_time": "2023-12-15T03:10:55.209Z"
   },
   {
    "duration": 7,
    "start_time": "2023-12-15T03:18:21.618Z"
   },
   {
    "duration": 153,
    "start_time": "2023-12-15T03:18:43.014Z"
   },
   {
    "duration": 382,
    "start_time": "2023-12-15T03:20:11.510Z"
   },
   {
    "duration": 68,
    "start_time": "2023-12-15T03:20:11.893Z"
   },
   {
    "duration": 11,
    "start_time": "2023-12-15T03:20:11.963Z"
   },
   {
    "duration": 19,
    "start_time": "2023-12-15T03:20:11.976Z"
   },
   {
    "duration": 19,
    "start_time": "2023-12-15T03:20:11.996Z"
   },
   {
    "duration": 10,
    "start_time": "2023-12-15T03:20:12.016Z"
   },
   {
    "duration": 10,
    "start_time": "2023-12-15T03:20:12.028Z"
   },
   {
    "duration": 25,
    "start_time": "2023-12-15T03:20:12.040Z"
   },
   {
    "duration": 27,
    "start_time": "2023-12-15T03:20:12.067Z"
   },
   {
    "duration": 9,
    "start_time": "2023-12-15T03:20:12.097Z"
   },
   {
    "duration": 7,
    "start_time": "2023-12-15T03:20:12.107Z"
   },
   {
    "duration": 11,
    "start_time": "2023-12-15T03:20:12.116Z"
   },
   {
    "duration": 7,
    "start_time": "2023-12-15T03:20:12.128Z"
   },
   {
    "duration": 7,
    "start_time": "2023-12-15T03:20:12.136Z"
   },
   {
    "duration": 41,
    "start_time": "2023-12-15T03:20:12.144Z"
   },
   {
    "duration": 7,
    "start_time": "2023-12-15T03:20:12.187Z"
   },
   {
    "duration": 17,
    "start_time": "2023-12-15T03:20:12.196Z"
   },
   {
    "duration": 11,
    "start_time": "2023-12-15T03:20:12.214Z"
   },
   {
    "duration": 20,
    "start_time": "2023-12-15T03:20:12.226Z"
   },
   {
    "duration": 9,
    "start_time": "2023-12-15T03:20:12.247Z"
   },
   {
    "duration": 24,
    "start_time": "2023-12-15T03:20:12.258Z"
   },
   {
    "duration": 4,
    "start_time": "2023-12-15T03:20:12.284Z"
   },
   {
    "duration": 5,
    "start_time": "2023-12-15T03:20:12.289Z"
   },
   {
    "duration": 409,
    "start_time": "2023-12-15T03:20:12.296Z"
   },
   {
    "duration": 6,
    "start_time": "2023-12-15T03:20:12.706Z"
   },
   {
    "duration": 31,
    "start_time": "2023-12-15T03:20:12.714Z"
   },
   {
    "duration": 130,
    "start_time": "2023-12-15T03:20:12.747Z"
   },
   {
    "duration": 3,
    "start_time": "2023-12-15T03:20:12.881Z"
   },
   {
    "duration": 211,
    "start_time": "2023-12-15T03:20:12.885Z"
   },
   {
    "duration": 8,
    "start_time": "2023-12-15T03:20:13.097Z"
   },
   {
    "duration": 15,
    "start_time": "2023-12-15T03:20:13.107Z"
   },
   {
    "duration": 250,
    "start_time": "2023-12-15T03:20:13.124Z"
   },
   {
    "duration": 182,
    "start_time": "2023-12-15T03:20:13.382Z"
   },
   {
    "duration": 16671,
    "start_time": "2023-12-15T03:20:44.541Z"
   },
   {
    "duration": 199,
    "start_time": "2023-12-15T03:21:18.920Z"
   },
   {
    "duration": 138,
    "start_time": "2023-12-15T03:21:48.014Z"
   },
   {
    "duration": 101,
    "start_time": "2023-12-15T03:26:04.684Z"
   },
   {
    "duration": 300,
    "start_time": "2023-12-15T03:27:56.923Z"
   },
   {
    "duration": 111,
    "start_time": "2023-12-15T03:28:50.561Z"
   },
   {
    "duration": 98,
    "start_time": "2023-12-15T03:29:04.592Z"
   },
   {
    "duration": 8,
    "start_time": "2023-12-15T03:29:18.228Z"
   },
   {
    "duration": 138,
    "start_time": "2023-12-15T03:30:24.181Z"
   },
   {
    "duration": 134,
    "start_time": "2023-12-15T03:30:29.148Z"
   },
   {
    "duration": 136,
    "start_time": "2023-12-15T03:31:36.134Z"
   },
   {
    "duration": 145,
    "start_time": "2023-12-15T03:32:39.969Z"
   },
   {
    "duration": 164,
    "start_time": "2023-12-15T03:34:04.407Z"
   },
   {
    "duration": 25,
    "start_time": "2023-12-15T04:58:20.823Z"
   },
   {
    "duration": 8,
    "start_time": "2023-12-15T05:00:10.997Z"
   },
   {
    "duration": 23,
    "start_time": "2023-12-15T05:00:25.065Z"
   },
   {
    "duration": 8,
    "start_time": "2023-12-15T05:03:33.332Z"
   },
   {
    "duration": 6,
    "start_time": "2023-12-15T05:04:08.322Z"
   },
   {
    "duration": 12,
    "start_time": "2023-12-15T05:04:38.014Z"
   },
   {
    "duration": 14,
    "start_time": "2023-12-15T05:05:06.122Z"
   },
   {
    "duration": 12,
    "start_time": "2023-12-15T05:05:28.342Z"
   },
   {
    "duration": 11,
    "start_time": "2023-12-15T05:05:45.232Z"
   },
   {
    "duration": 3,
    "start_time": "2023-12-15T05:06:31.421Z"
   },
   {
    "duration": 155,
    "start_time": "2023-12-15T06:33:33.033Z"
   },
   {
    "duration": 160,
    "start_time": "2023-12-15T06:34:03.888Z"
   },
   {
    "duration": 126,
    "start_time": "2023-12-15T06:34:13.827Z"
   },
   {
    "duration": 209,
    "start_time": "2023-12-15T06:35:48.089Z"
   },
   {
    "duration": 136,
    "start_time": "2023-12-15T06:36:32.088Z"
   },
   {
    "duration": 173,
    "start_time": "2023-12-15T06:37:00.935Z"
   },
   {
    "duration": 173,
    "start_time": "2023-12-15T06:37:13.359Z"
   },
   {
    "duration": 156,
    "start_time": "2023-12-15T06:37:31.695Z"
   },
   {
    "duration": 162,
    "start_time": "2023-12-15T06:37:45.807Z"
   },
   {
    "duration": 126,
    "start_time": "2023-12-15T06:38:13.236Z"
   },
   {
    "duration": 138,
    "start_time": "2023-12-15T06:40:14.860Z"
   },
   {
    "duration": 148,
    "start_time": "2023-12-15T06:40:37.629Z"
   },
   {
    "duration": 159,
    "start_time": "2023-12-15T06:40:46.322Z"
   },
   {
    "duration": 132,
    "start_time": "2023-12-15T06:41:36.890Z"
   },
   {
    "duration": 136,
    "start_time": "2023-12-15T06:41:56.173Z"
   },
   {
    "duration": 134,
    "start_time": "2023-12-15T06:42:03.591Z"
   },
   {
    "duration": 214,
    "start_time": "2023-12-15T06:42:08.430Z"
   },
   {
    "duration": 163,
    "start_time": "2023-12-15T06:42:23.478Z"
   },
   {
    "duration": 135,
    "start_time": "2023-12-15T06:42:32.336Z"
   },
   {
    "duration": 140,
    "start_time": "2023-12-15T06:42:39.649Z"
   },
   {
    "duration": 129,
    "start_time": "2023-12-15T06:44:19.575Z"
   },
   {
    "duration": 74,
    "start_time": "2023-12-16T02:40:25.748Z"
   },
   {
    "duration": 403,
    "start_time": "2023-12-16T02:40:34.878Z"
   },
   {
    "duration": 199,
    "start_time": "2023-12-16T02:40:35.283Z"
   },
   {
    "duration": 11,
    "start_time": "2023-12-16T02:40:35.484Z"
   },
   {
    "duration": 30,
    "start_time": "2023-12-16T02:40:35.496Z"
   },
   {
    "duration": 17,
    "start_time": "2023-12-16T02:40:35.527Z"
   },
   {
    "duration": 8,
    "start_time": "2023-12-16T02:40:35.545Z"
   },
   {
    "duration": 19,
    "start_time": "2023-12-16T02:40:35.556Z"
   },
   {
    "duration": 32,
    "start_time": "2023-12-16T02:40:35.577Z"
   },
   {
    "duration": 41,
    "start_time": "2023-12-16T02:40:35.611Z"
   },
   {
    "duration": 13,
    "start_time": "2023-12-16T02:40:35.655Z"
   },
   {
    "duration": 37,
    "start_time": "2023-12-16T02:40:35.669Z"
   },
   {
    "duration": 13,
    "start_time": "2023-12-16T02:40:35.707Z"
   },
   {
    "duration": 29,
    "start_time": "2023-12-16T02:40:35.721Z"
   },
   {
    "duration": 28,
    "start_time": "2023-12-16T02:40:35.751Z"
   },
   {
    "duration": 11,
    "start_time": "2023-12-16T02:40:35.780Z"
   },
   {
    "duration": 10,
    "start_time": "2023-12-16T02:40:35.793Z"
   },
   {
    "duration": 22,
    "start_time": "2023-12-16T02:40:35.804Z"
   },
   {
    "duration": 19,
    "start_time": "2023-12-16T02:40:35.828Z"
   },
   {
    "duration": 12,
    "start_time": "2023-12-16T02:40:35.848Z"
   },
   {
    "duration": 7,
    "start_time": "2023-12-16T02:40:35.862Z"
   },
   {
    "duration": 5,
    "start_time": "2023-12-16T02:40:35.871Z"
   },
   {
    "duration": 9,
    "start_time": "2023-12-16T02:40:35.877Z"
   },
   {
    "duration": 24,
    "start_time": "2023-12-16T02:40:35.888Z"
   },
   {
    "duration": 587,
    "start_time": "2023-12-16T02:40:35.913Z"
   },
   {
    "duration": 12,
    "start_time": "2023-12-16T02:40:36.502Z"
   },
   {
    "duration": 12,
    "start_time": "2023-12-16T02:40:36.516Z"
   },
   {
    "duration": 145,
    "start_time": "2023-12-16T02:40:36.530Z"
   },
   {
    "duration": 2,
    "start_time": "2023-12-16T02:40:36.678Z"
   },
   {
    "duration": 216,
    "start_time": "2023-12-16T02:40:36.682Z"
   },
   {
    "duration": 18,
    "start_time": "2023-12-16T02:40:36.899Z"
   },
   {
    "duration": 7,
    "start_time": "2023-12-16T02:40:36.919Z"
   },
   {
    "duration": 265,
    "start_time": "2023-12-16T02:40:36.928Z"
   },
   {
    "duration": 230,
    "start_time": "2023-12-16T02:40:37.195Z"
   },
   {
    "duration": 124,
    "start_time": "2023-12-16T02:40:37.426Z"
   },
   {
    "duration": 187,
    "start_time": "2023-12-16T02:40:37.553Z"
   },
   {
    "duration": 112,
    "start_time": "2023-12-16T02:40:37.741Z"
   },
   {
    "duration": 9,
    "start_time": "2023-12-16T02:40:37.855Z"
   },
   {
    "duration": 33,
    "start_time": "2023-12-16T02:40:37.865Z"
   },
   {
    "duration": 32,
    "start_time": "2023-12-16T02:40:37.900Z"
   },
   {
    "duration": 10,
    "start_time": "2023-12-16T02:40:37.934Z"
   },
   {
    "duration": 18,
    "start_time": "2023-12-16T02:40:37.945Z"
   },
   {
    "duration": 11,
    "start_time": "2023-12-16T02:40:37.964Z"
   },
   {
    "duration": 7,
    "start_time": "2023-12-16T02:40:37.977Z"
   },
   {
    "duration": 38,
    "start_time": "2023-12-16T02:40:37.986Z"
   },
   {
    "duration": 13,
    "start_time": "2023-12-16T02:40:38.025Z"
   },
   {
    "duration": 9,
    "start_time": "2023-12-16T02:40:38.041Z"
   },
   {
    "duration": 205,
    "start_time": "2023-12-16T02:40:38.051Z"
   },
   {
    "duration": 166,
    "start_time": "2023-12-16T02:40:38.258Z"
   },
   {
    "duration": 66,
    "start_time": "2023-12-16T02:40:38.425Z"
   },
   {
    "duration": 4,
    "start_time": "2023-12-16T02:41:41.321Z"
   },
   {
    "duration": 16,
    "start_time": "2023-12-16T02:48:11.466Z"
   },
   {
    "duration": 18,
    "start_time": "2023-12-16T02:48:14.556Z"
   },
   {
    "duration": 41,
    "start_time": "2023-12-16T02:48:25.546Z"
   },
   {
    "duration": 30,
    "start_time": "2023-12-16T02:49:19.799Z"
   },
   {
    "duration": 32,
    "start_time": "2023-12-16T02:52:10.785Z"
   },
   {
    "duration": 30,
    "start_time": "2023-12-16T02:52:22.695Z"
   },
   {
    "duration": 42,
    "start_time": "2023-12-16T02:54:04.367Z"
   },
   {
    "duration": 98,
    "start_time": "2023-12-16T02:54:24.050Z"
   },
   {
    "duration": 32,
    "start_time": "2023-12-16T02:54:29.863Z"
   },
   {
    "duration": 27,
    "start_time": "2023-12-16T02:57:06.722Z"
   },
   {
    "duration": 27,
    "start_time": "2023-12-16T02:57:12.256Z"
   },
   {
    "duration": 30,
    "start_time": "2023-12-16T02:57:16.913Z"
   },
   {
    "duration": 10,
    "start_time": "2023-12-16T03:02:18.629Z"
   },
   {
    "duration": 413,
    "start_time": "2023-12-16T03:03:44.539Z"
   },
   {
    "duration": 77,
    "start_time": "2023-12-16T03:03:44.954Z"
   },
   {
    "duration": 17,
    "start_time": "2023-12-16T03:03:45.032Z"
   },
   {
    "duration": 57,
    "start_time": "2023-12-16T03:03:45.052Z"
   },
   {
    "duration": 27,
    "start_time": "2023-12-16T03:03:45.110Z"
   },
   {
    "duration": 11,
    "start_time": "2023-12-16T03:03:45.139Z"
   },
   {
    "duration": 9,
    "start_time": "2023-12-16T03:03:45.151Z"
   },
   {
    "duration": 17,
    "start_time": "2023-12-16T03:03:45.161Z"
   },
   {
    "duration": 12,
    "start_time": "2023-12-16T03:03:45.179Z"
   },
   {
    "duration": 35,
    "start_time": "2023-12-16T03:03:45.194Z"
   },
   {
    "duration": 9,
    "start_time": "2023-12-16T03:03:45.230Z"
   },
   {
    "duration": 10,
    "start_time": "2023-12-16T03:03:45.240Z"
   },
   {
    "duration": 9,
    "start_time": "2023-12-16T03:03:45.251Z"
   },
   {
    "duration": 7,
    "start_time": "2023-12-16T03:03:45.261Z"
   },
   {
    "duration": 9,
    "start_time": "2023-12-16T03:03:45.269Z"
   },
   {
    "duration": 9,
    "start_time": "2023-12-16T03:03:45.279Z"
   },
   {
    "duration": 32,
    "start_time": "2023-12-16T03:03:45.289Z"
   },
   {
    "duration": 17,
    "start_time": "2023-12-16T03:03:45.323Z"
   },
   {
    "duration": 14,
    "start_time": "2023-12-16T03:03:45.342Z"
   },
   {
    "duration": 7,
    "start_time": "2023-12-16T03:03:45.358Z"
   },
   {
    "duration": 14,
    "start_time": "2023-12-16T03:03:45.366Z"
   },
   {
    "duration": 9,
    "start_time": "2023-12-16T03:03:45.382Z"
   },
   {
    "duration": 6,
    "start_time": "2023-12-16T03:03:45.392Z"
   },
   {
    "duration": 397,
    "start_time": "2023-12-16T03:03:45.399Z"
   },
   {
    "duration": 6,
    "start_time": "2023-12-16T03:03:45.798Z"
   },
   {
    "duration": 25,
    "start_time": "2023-12-16T03:03:45.806Z"
   },
   {
    "duration": 142,
    "start_time": "2023-12-16T03:03:45.832Z"
   },
   {
    "duration": 2,
    "start_time": "2023-12-16T03:03:45.978Z"
   },
   {
    "duration": 212,
    "start_time": "2023-12-16T03:03:45.981Z"
   },
   {
    "duration": 9,
    "start_time": "2023-12-16T03:03:46.194Z"
   },
   {
    "duration": 26,
    "start_time": "2023-12-16T03:03:46.204Z"
   },
   {
    "duration": 244,
    "start_time": "2023-12-16T03:03:46.232Z"
   },
   {
    "duration": 187,
    "start_time": "2023-12-16T03:03:46.478Z"
   },
   {
    "duration": 108,
    "start_time": "2023-12-16T03:03:46.667Z"
   },
   {
    "duration": 164,
    "start_time": "2023-12-16T03:03:46.776Z"
   },
   {
    "duration": 114,
    "start_time": "2023-12-16T03:03:46.941Z"
   },
   {
    "duration": 8,
    "start_time": "2023-12-16T03:03:47.056Z"
   },
   {
    "duration": 26,
    "start_time": "2023-12-16T03:03:47.066Z"
   },
   {
    "duration": 42,
    "start_time": "2023-12-16T03:03:47.094Z"
   },
   {
    "duration": 10,
    "start_time": "2023-12-16T03:03:47.138Z"
   },
   {
    "duration": 33,
    "start_time": "2023-12-16T03:03:47.150Z"
   },
   {
    "duration": 14,
    "start_time": "2023-12-16T03:03:47.185Z"
   },
   {
    "duration": 12,
    "start_time": "2023-12-16T03:03:47.201Z"
   },
   {
    "duration": 18,
    "start_time": "2023-12-16T03:03:47.215Z"
   },
   {
    "duration": 17,
    "start_time": "2023-12-16T03:03:47.235Z"
   },
   {
    "duration": 4,
    "start_time": "2023-12-16T03:03:47.253Z"
   },
   {
    "duration": 174,
    "start_time": "2023-12-16T03:03:47.258Z"
   },
   {
    "duration": 160,
    "start_time": "2023-12-16T03:03:47.434Z"
   },
   {
    "duration": 4,
    "start_time": "2023-12-16T03:03:47.595Z"
   },
   {
    "duration": 43,
    "start_time": "2023-12-16T03:03:47.601Z"
   },
   {
    "duration": 29,
    "start_time": "2023-12-16T03:03:47.646Z"
   },
   {
    "duration": 56,
    "start_time": "2023-12-16T03:03:47.676Z"
   },
   {
    "duration": 5,
    "start_time": "2023-12-16T03:03:47.734Z"
   },
   {
    "duration": 4,
    "start_time": "2023-12-16T03:09:45.847Z"
   },
   {
    "duration": 30,
    "start_time": "2023-12-16T03:10:07.499Z"
   },
   {
    "duration": 21,
    "start_time": "2023-12-16T03:12:15.184Z"
   },
   {
    "duration": 434,
    "start_time": "2023-12-16T03:15:10.694Z"
   },
   {
    "duration": 71,
    "start_time": "2023-12-16T03:15:11.130Z"
   },
   {
    "duration": 13,
    "start_time": "2023-12-16T03:15:11.202Z"
   },
   {
    "duration": 41,
    "start_time": "2023-12-16T03:15:11.216Z"
   },
   {
    "duration": 18,
    "start_time": "2023-12-16T03:15:11.259Z"
   },
   {
    "duration": 23,
    "start_time": "2023-12-16T03:15:11.278Z"
   },
   {
    "duration": 10,
    "start_time": "2023-12-16T03:15:11.303Z"
   },
   {
    "duration": 12,
    "start_time": "2023-12-16T03:15:11.325Z"
   },
   {
    "duration": 20,
    "start_time": "2023-12-16T03:15:11.339Z"
   },
   {
    "duration": 21,
    "start_time": "2023-12-16T03:15:11.363Z"
   },
   {
    "duration": 15,
    "start_time": "2023-12-16T03:15:11.386Z"
   },
   {
    "duration": 28,
    "start_time": "2023-12-16T03:15:11.403Z"
   },
   {
    "duration": 12,
    "start_time": "2023-12-16T03:15:11.433Z"
   },
   {
    "duration": 10,
    "start_time": "2023-12-16T03:15:11.447Z"
   },
   {
    "duration": 13,
    "start_time": "2023-12-16T03:15:11.459Z"
   },
   {
    "duration": 12,
    "start_time": "2023-12-16T03:15:11.473Z"
   },
   {
    "duration": 17,
    "start_time": "2023-12-16T03:15:11.486Z"
   },
   {
    "duration": 22,
    "start_time": "2023-12-16T03:15:11.504Z"
   },
   {
    "duration": 11,
    "start_time": "2023-12-16T03:15:11.528Z"
   },
   {
    "duration": 11,
    "start_time": "2023-12-16T03:15:11.540Z"
   },
   {
    "duration": 5,
    "start_time": "2023-12-16T03:15:11.553Z"
   },
   {
    "duration": 14,
    "start_time": "2023-12-16T03:15:11.559Z"
   },
   {
    "duration": 22,
    "start_time": "2023-12-16T03:15:11.574Z"
   },
   {
    "duration": 412,
    "start_time": "2023-12-16T03:15:11.598Z"
   },
   {
    "duration": 17,
    "start_time": "2023-12-16T03:15:12.012Z"
   },
   {
    "duration": 3,
    "start_time": "2023-12-16T03:15:12.030Z"
   },
   {
    "duration": 131,
    "start_time": "2023-12-16T03:15:12.035Z"
   },
   {
    "duration": 4,
    "start_time": "2023-12-16T03:15:12.169Z"
   },
   {
    "duration": 200,
    "start_time": "2023-12-16T03:15:12.175Z"
   },
   {
    "duration": 8,
    "start_time": "2023-12-16T03:15:12.377Z"
   },
   {
    "duration": 10,
    "start_time": "2023-12-16T03:15:12.386Z"
   },
   {
    "duration": 262,
    "start_time": "2023-12-16T03:15:12.398Z"
   },
   {
    "duration": 214,
    "start_time": "2023-12-16T03:15:12.662Z"
   },
   {
    "duration": 106,
    "start_time": "2023-12-16T03:15:12.877Z"
   },
   {
    "duration": 162,
    "start_time": "2023-12-16T03:15:12.985Z"
   },
   {
    "duration": 107,
    "start_time": "2023-12-16T03:15:13.149Z"
   },
   {
    "duration": 8,
    "start_time": "2023-12-16T03:15:13.257Z"
   },
   {
    "duration": 22,
    "start_time": "2023-12-16T03:15:13.267Z"
   },
   {
    "duration": 45,
    "start_time": "2023-12-16T03:15:13.290Z"
   },
   {
    "duration": 8,
    "start_time": "2023-12-16T03:15:13.337Z"
   },
   {
    "duration": 22,
    "start_time": "2023-12-16T03:15:13.347Z"
   },
   {
    "duration": 11,
    "start_time": "2023-12-16T03:15:13.371Z"
   },
   {
    "duration": 6,
    "start_time": "2023-12-16T03:15:13.383Z"
   },
   {
    "duration": 40,
    "start_time": "2023-12-16T03:15:13.391Z"
   },
   {
    "duration": 11,
    "start_time": "2023-12-16T03:15:13.433Z"
   },
   {
    "duration": 4,
    "start_time": "2023-12-16T03:15:13.446Z"
   },
   {
    "duration": 160,
    "start_time": "2023-12-16T03:15:13.451Z"
   },
   {
    "duration": 160,
    "start_time": "2023-12-16T03:15:13.612Z"
   },
   {
    "duration": 4,
    "start_time": "2023-12-16T03:15:13.773Z"
   },
   {
    "duration": 54,
    "start_time": "2023-12-16T03:15:13.779Z"
   },
   {
    "duration": 28,
    "start_time": "2023-12-16T03:15:13.835Z"
   },
   {
    "duration": 32,
    "start_time": "2023-12-16T03:15:13.865Z"
   },
   {
    "duration": 36,
    "start_time": "2023-12-16T03:15:13.899Z"
   },
   {
    "duration": 7,
    "start_time": "2023-12-16T03:15:13.936Z"
   },
   {
    "duration": 17,
    "start_time": "2023-12-16T03:19:24.404Z"
   },
   {
    "duration": 18,
    "start_time": "2023-12-16T03:19:48.366Z"
   },
   {
    "duration": 6,
    "start_time": "2023-12-16T03:22:06.130Z"
   },
   {
    "duration": 5,
    "start_time": "2023-12-16T03:22:14.848Z"
   },
   {
    "duration": 21,
    "start_time": "2023-12-16T03:22:22.614Z"
   },
   {
    "duration": 16,
    "start_time": "2023-12-16T03:23:12.554Z"
   },
   {
    "duration": 19,
    "start_time": "2023-12-16T03:24:22.615Z"
   },
   {
    "duration": 18,
    "start_time": "2023-12-16T03:25:02.535Z"
   },
   {
    "duration": 19,
    "start_time": "2023-12-16T03:25:40.578Z"
   },
   {
    "duration": 18,
    "start_time": "2023-12-16T03:26:29.812Z"
   },
   {
    "duration": 4,
    "start_time": "2023-12-16T03:30:16.733Z"
   },
   {
    "duration": 21,
    "start_time": "2023-12-16T03:30:22.196Z"
   },
   {
    "duration": 15,
    "start_time": "2023-12-16T03:33:28.592Z"
   },
   {
    "duration": 20,
    "start_time": "2023-12-16T03:34:04.713Z"
   },
   {
    "duration": 20,
    "start_time": "2023-12-16T03:34:48.449Z"
   },
   {
    "duration": 74,
    "start_time": "2023-12-16T03:36:16.941Z"
   },
   {
    "duration": 21,
    "start_time": "2023-12-16T03:36:34.525Z"
   },
   {
    "duration": 21,
    "start_time": "2023-12-16T03:39:44.539Z"
   },
   {
    "duration": 3,
    "start_time": "2023-12-16T03:40:59.069Z"
   },
   {
    "duration": 14,
    "start_time": "2023-12-16T03:41:47.602Z"
   },
   {
    "duration": 30,
    "start_time": "2023-12-16T03:45:02.997Z"
   },
   {
    "duration": 4,
    "start_time": "2023-12-17T04:12:58.711Z"
   },
   {
    "duration": 45,
    "start_time": "2023-12-17T04:18:28.241Z"
   },
   {
    "duration": 381,
    "start_time": "2023-12-17T04:18:39.550Z"
   },
   {
    "duration": 199,
    "start_time": "2023-12-17T04:18:39.933Z"
   },
   {
    "duration": 11,
    "start_time": "2023-12-17T04:18:40.133Z"
   },
   {
    "duration": 17,
    "start_time": "2023-12-17T04:18:40.146Z"
   },
   {
    "duration": 10,
    "start_time": "2023-12-17T04:18:40.164Z"
   },
   {
    "duration": 15,
    "start_time": "2023-12-17T04:18:40.175Z"
   },
   {
    "duration": 26,
    "start_time": "2023-12-17T04:18:40.191Z"
   },
   {
    "duration": 11,
    "start_time": "2023-12-17T04:18:40.218Z"
   },
   {
    "duration": 14,
    "start_time": "2023-12-17T04:18:40.230Z"
   },
   {
    "duration": 5,
    "start_time": "2023-12-17T04:18:40.247Z"
   },
   {
    "duration": 14,
    "start_time": "2023-12-17T04:18:40.253Z"
   },
   {
    "duration": 9,
    "start_time": "2023-12-17T04:18:40.268Z"
   },
   {
    "duration": 17,
    "start_time": "2023-12-17T04:18:40.279Z"
   },
   {
    "duration": 6,
    "start_time": "2023-12-17T04:18:40.298Z"
   },
   {
    "duration": 28,
    "start_time": "2023-12-17T04:18:40.306Z"
   },
   {
    "duration": 19,
    "start_time": "2023-12-17T04:18:40.335Z"
   },
   {
    "duration": 10,
    "start_time": "2023-12-17T04:18:40.356Z"
   },
   {
    "duration": 12,
    "start_time": "2023-12-17T04:18:40.367Z"
   },
   {
    "duration": 11,
    "start_time": "2023-12-17T04:18:40.380Z"
   },
   {
    "duration": 7,
    "start_time": "2023-12-17T04:18:40.393Z"
   },
   {
    "duration": 4,
    "start_time": "2023-12-17T04:18:40.402Z"
   },
   {
    "duration": 9,
    "start_time": "2023-12-17T04:18:40.408Z"
   },
   {
    "duration": 5,
    "start_time": "2023-12-17T04:18:40.418Z"
   },
   {
    "duration": 532,
    "start_time": "2023-12-17T04:18:40.424Z"
   },
   {
    "duration": 6,
    "start_time": "2023-12-17T04:18:40.957Z"
   },
   {
    "duration": 5,
    "start_time": "2023-12-17T04:18:40.965Z"
   },
   {
    "duration": 146,
    "start_time": "2023-12-17T04:18:40.971Z"
   },
   {
    "duration": 3,
    "start_time": "2023-12-17T04:18:41.122Z"
   },
   {
    "duration": 204,
    "start_time": "2023-12-17T04:18:41.126Z"
   },
   {
    "duration": 10,
    "start_time": "2023-12-17T04:18:41.332Z"
   },
   {
    "duration": 8,
    "start_time": "2023-12-17T04:18:41.346Z"
   },
   {
    "duration": 261,
    "start_time": "2023-12-17T04:18:41.355Z"
   },
   {
    "duration": 192,
    "start_time": "2023-12-17T04:18:41.617Z"
   },
   {
    "duration": 100,
    "start_time": "2023-12-17T04:18:41.814Z"
   },
   {
    "duration": 152,
    "start_time": "2023-12-17T04:18:41.916Z"
   },
   {
    "duration": 107,
    "start_time": "2023-12-17T04:18:42.070Z"
   },
   {
    "duration": 8,
    "start_time": "2023-12-17T04:18:42.178Z"
   },
   {
    "duration": 45,
    "start_time": "2023-12-17T04:18:42.188Z"
   },
   {
    "duration": 24,
    "start_time": "2023-12-17T04:18:42.235Z"
   },
   {
    "duration": 28,
    "start_time": "2023-12-17T04:18:42.260Z"
   },
   {
    "duration": 12,
    "start_time": "2023-12-17T04:18:42.290Z"
   },
   {
    "duration": 13,
    "start_time": "2023-12-17T04:18:42.303Z"
   },
   {
    "duration": 17,
    "start_time": "2023-12-17T04:18:42.318Z"
   },
   {
    "duration": 12,
    "start_time": "2023-12-17T04:18:42.336Z"
   },
   {
    "duration": 16,
    "start_time": "2023-12-17T04:18:42.349Z"
   },
   {
    "duration": 3,
    "start_time": "2023-12-17T04:18:42.366Z"
   },
   {
    "duration": 158,
    "start_time": "2023-12-17T04:18:42.371Z"
   },
   {
    "duration": 145,
    "start_time": "2023-12-17T04:18:42.530Z"
   },
   {
    "duration": 4,
    "start_time": "2023-12-17T04:18:42.676Z"
   },
   {
    "duration": 40,
    "start_time": "2023-12-17T04:18:42.682Z"
   },
   {
    "duration": 27,
    "start_time": "2023-12-17T04:18:42.724Z"
   },
   {
    "duration": 30,
    "start_time": "2023-12-17T04:18:42.752Z"
   },
   {
    "duration": 40,
    "start_time": "2023-12-17T04:18:42.783Z"
   },
   {
    "duration": 4,
    "start_time": "2023-12-17T04:18:42.825Z"
   },
   {
    "duration": 20,
    "start_time": "2023-12-17T04:18:42.831Z"
   },
   {
    "duration": 28,
    "start_time": "2023-12-17T04:18:42.853Z"
   },
   {
    "duration": 4,
    "start_time": "2023-12-17T04:18:42.883Z"
   },
   {
    "duration": 10,
    "start_time": "2023-12-17T04:19:15.086Z"
   },
   {
    "duration": 10,
    "start_time": "2023-12-17T04:20:39.189Z"
   },
   {
    "duration": 3,
    "start_time": "2023-12-17T04:22:03.254Z"
   },
   {
    "duration": 9,
    "start_time": "2023-12-17T04:22:13.697Z"
   },
   {
    "duration": 3,
    "start_time": "2023-12-17T04:23:37.340Z"
   },
   {
    "duration": 8,
    "start_time": "2023-12-17T04:23:47.491Z"
   },
   {
    "duration": 372,
    "start_time": "2023-12-17T04:24:03.346Z"
   },
   {
    "duration": 8,
    "start_time": "2023-12-17T04:24:08.019Z"
   },
   {
    "duration": 9,
    "start_time": "2023-12-17T04:25:31.943Z"
   },
   {
    "duration": 10,
    "start_time": "2023-12-17T04:25:54.930Z"
   },
   {
    "duration": 6,
    "start_time": "2023-12-17T04:26:33.791Z"
   },
   {
    "duration": 7,
    "start_time": "2023-12-17T04:26:54.085Z"
   },
   {
    "duration": 7,
    "start_time": "2023-12-17T04:26:58.192Z"
   },
   {
    "duration": 7,
    "start_time": "2023-12-17T04:27:02.751Z"
   },
   {
    "duration": 14,
    "start_time": "2023-12-17T04:29:37.426Z"
   },
   {
    "duration": 11,
    "start_time": "2023-12-17T04:29:57.427Z"
   },
   {
    "duration": 8,
    "start_time": "2023-12-17T04:30:04.388Z"
   },
   {
    "duration": 8,
    "start_time": "2023-12-17T04:30:15.191Z"
   },
   {
    "duration": 9,
    "start_time": "2023-12-17T04:30:46.963Z"
   },
   {
    "duration": 10,
    "start_time": "2023-12-17T04:30:54.254Z"
   },
   {
    "duration": 4,
    "start_time": "2023-12-17T04:31:20.385Z"
   },
   {
    "duration": 1289,
    "start_time": "2023-12-17T04:32:03.976Z"
   },
   {
    "duration": 1219,
    "start_time": "2023-12-17T04:32:21.573Z"
   },
   {
    "duration": 1321,
    "start_time": "2023-12-17T04:32:28.003Z"
   },
   {
    "duration": 1206,
    "start_time": "2023-12-17T04:32:46.306Z"
   },
   {
    "duration": 1373,
    "start_time": "2023-12-17T04:33:15.067Z"
   },
   {
    "duration": 1149,
    "start_time": "2023-12-17T04:33:19.121Z"
   },
   {
    "duration": 3,
    "start_time": "2023-12-17T04:34:32.469Z"
   },
   {
    "duration": 10,
    "start_time": "2023-12-17T04:34:55.223Z"
   },
   {
    "duration": 4,
    "start_time": "2023-12-17T04:35:20.876Z"
   },
   {
    "duration": 8,
    "start_time": "2023-12-17T04:35:52.204Z"
   },
   {
    "duration": 10,
    "start_time": "2023-12-17T04:37:47.975Z"
   },
   {
    "duration": 11,
    "start_time": "2023-12-17T04:37:50.737Z"
   },
   {
    "duration": 82,
    "start_time": "2023-12-17T23:03:30.388Z"
   },
   {
    "duration": 438,
    "start_time": "2023-12-17T23:03:56.403Z"
   },
   {
    "duration": 274,
    "start_time": "2023-12-17T23:03:56.843Z"
   },
   {
    "duration": 11,
    "start_time": "2023-12-17T23:03:57.119Z"
   },
   {
    "duration": 16,
    "start_time": "2023-12-17T23:03:57.132Z"
   },
   {
    "duration": 12,
    "start_time": "2023-12-17T23:03:57.149Z"
   },
   {
    "duration": 9,
    "start_time": "2023-12-17T23:03:57.162Z"
   },
   {
    "duration": 11,
    "start_time": "2023-12-17T23:03:57.173Z"
   },
   {
    "duration": 9,
    "start_time": "2023-12-17T23:03:57.185Z"
   },
   {
    "duration": 39,
    "start_time": "2023-12-17T23:03:57.195Z"
   },
   {
    "duration": 7,
    "start_time": "2023-12-17T23:03:57.238Z"
   },
   {
    "duration": 8,
    "start_time": "2023-12-17T23:03:57.246Z"
   },
   {
    "duration": 8,
    "start_time": "2023-12-17T23:03:57.256Z"
   },
   {
    "duration": 7,
    "start_time": "2023-12-17T23:03:57.266Z"
   },
   {
    "duration": 8,
    "start_time": "2023-12-17T23:03:57.275Z"
   },
   {
    "duration": 8,
    "start_time": "2023-12-17T23:03:57.285Z"
   },
   {
    "duration": 9,
    "start_time": "2023-12-17T23:03:57.331Z"
   },
   {
    "duration": 10,
    "start_time": "2023-12-17T23:03:57.342Z"
   },
   {
    "duration": 21,
    "start_time": "2023-12-17T23:03:57.353Z"
   },
   {
    "duration": 13,
    "start_time": "2023-12-17T23:03:57.375Z"
   },
   {
    "duration": 9,
    "start_time": "2023-12-17T23:03:57.390Z"
   },
   {
    "duration": 31,
    "start_time": "2023-12-17T23:03:57.401Z"
   },
   {
    "duration": 8,
    "start_time": "2023-12-17T23:03:57.433Z"
   },
   {
    "duration": 6,
    "start_time": "2023-12-17T23:03:57.443Z"
   },
   {
    "duration": 603,
    "start_time": "2023-12-17T23:03:57.451Z"
   },
   {
    "duration": 7,
    "start_time": "2023-12-17T23:03:58.055Z"
   },
   {
    "duration": 11,
    "start_time": "2023-12-17T23:03:58.063Z"
   },
   {
    "duration": 139,
    "start_time": "2023-12-17T23:03:58.075Z"
   },
   {
    "duration": 3,
    "start_time": "2023-12-17T23:03:58.217Z"
   },
   {
    "duration": 193,
    "start_time": "2023-12-17T23:03:58.231Z"
   },
   {
    "duration": 13,
    "start_time": "2023-12-17T23:03:58.426Z"
   },
   {
    "duration": 24,
    "start_time": "2023-12-17T23:03:58.441Z"
   },
   {
    "duration": 245,
    "start_time": "2023-12-17T23:03:58.467Z"
   },
   {
    "duration": 221,
    "start_time": "2023-12-17T23:03:58.714Z"
   },
   {
    "duration": 111,
    "start_time": "2023-12-17T23:03:58.936Z"
   },
   {
    "duration": 159,
    "start_time": "2023-12-17T23:03:59.049Z"
   },
   {
    "duration": 113,
    "start_time": "2023-12-17T23:03:59.210Z"
   },
   {
    "duration": 12,
    "start_time": "2023-12-17T23:03:59.325Z"
   },
   {
    "duration": 28,
    "start_time": "2023-12-17T23:03:59.339Z"
   },
   {
    "duration": 24,
    "start_time": "2023-12-17T23:03:59.369Z"
   },
   {
    "duration": 36,
    "start_time": "2023-12-17T23:03:59.394Z"
   },
   {
    "duration": 13,
    "start_time": "2023-12-17T23:03:59.432Z"
   },
   {
    "duration": 20,
    "start_time": "2023-12-17T23:03:59.447Z"
   },
   {
    "duration": 7,
    "start_time": "2023-12-17T23:03:59.469Z"
   },
   {
    "duration": 58,
    "start_time": "2023-12-17T23:03:59.477Z"
   },
   {
    "duration": 16,
    "start_time": "2023-12-17T23:03:59.537Z"
   },
   {
    "duration": 5,
    "start_time": "2023-12-17T23:03:59.555Z"
   },
   {
    "duration": 181,
    "start_time": "2023-12-17T23:03:59.561Z"
   },
   {
    "duration": 165,
    "start_time": "2023-12-17T23:03:59.743Z"
   },
   {
    "duration": 5,
    "start_time": "2023-12-17T23:03:59.910Z"
   },
   {
    "duration": 39,
    "start_time": "2023-12-17T23:03:59.918Z"
   },
   {
    "duration": 27,
    "start_time": "2023-12-17T23:03:59.959Z"
   },
   {
    "duration": 48,
    "start_time": "2023-12-17T23:03:59.988Z"
   },
   {
    "duration": 18,
    "start_time": "2023-12-17T23:04:00.038Z"
   },
   {
    "duration": 48,
    "start_time": "2023-12-17T23:04:00.058Z"
   },
   {
    "duration": 47,
    "start_time": "2023-12-17T23:04:00.108Z"
   },
   {
    "duration": 32,
    "start_time": "2023-12-17T23:04:00.156Z"
   },
   {
    "duration": 21,
    "start_time": "2023-12-17T23:04:00.189Z"
   },
   {
    "duration": 48,
    "start_time": "2023-12-17T23:04:00.211Z"
   },
   {
    "duration": 42,
    "start_time": "2023-12-17T23:04:00.261Z"
   },
   {
    "duration": 69,
    "start_time": "2023-12-17T23:31:04.960Z"
   },
   {
    "duration": 696,
    "start_time": "2023-12-17T23:31:28.513Z"
   },
   {
    "duration": 453,
    "start_time": "2023-12-17T23:38:08.631Z"
   },
   {
    "duration": 68,
    "start_time": "2023-12-17T23:38:09.086Z"
   },
   {
    "duration": 13,
    "start_time": "2023-12-17T23:38:09.156Z"
   },
   {
    "duration": 23,
    "start_time": "2023-12-17T23:38:09.172Z"
   },
   {
    "duration": 12,
    "start_time": "2023-12-17T23:38:09.197Z"
   },
   {
    "duration": 29,
    "start_time": "2023-12-17T23:38:09.210Z"
   },
   {
    "duration": 12,
    "start_time": "2023-12-17T23:38:09.241Z"
   },
   {
    "duration": 9,
    "start_time": "2023-12-17T23:38:09.254Z"
   },
   {
    "duration": 24,
    "start_time": "2023-12-17T23:38:09.265Z"
   },
   {
    "duration": 10,
    "start_time": "2023-12-17T23:38:09.294Z"
   },
   {
    "duration": 36,
    "start_time": "2023-12-17T23:38:09.306Z"
   },
   {
    "duration": 11,
    "start_time": "2023-12-17T23:38:09.345Z"
   },
   {
    "duration": 16,
    "start_time": "2023-12-17T23:38:09.358Z"
   },
   {
    "duration": 16,
    "start_time": "2023-12-17T23:38:09.377Z"
   },
   {
    "duration": 21,
    "start_time": "2023-12-17T23:38:09.396Z"
   },
   {
    "duration": 18,
    "start_time": "2023-12-17T23:38:09.431Z"
   },
   {
    "duration": 19,
    "start_time": "2023-12-17T23:38:09.452Z"
   },
   {
    "duration": 22,
    "start_time": "2023-12-17T23:38:09.473Z"
   },
   {
    "duration": 12,
    "start_time": "2023-12-17T23:38:09.497Z"
   },
   {
    "duration": 8,
    "start_time": "2023-12-17T23:38:09.511Z"
   },
   {
    "duration": 14,
    "start_time": "2023-12-17T23:38:09.521Z"
   },
   {
    "duration": 5,
    "start_time": "2023-12-17T23:38:09.540Z"
   },
   {
    "duration": 13,
    "start_time": "2023-12-17T23:38:09.546Z"
   },
   {
    "duration": 429,
    "start_time": "2023-12-17T23:38:09.561Z"
   },
   {
    "duration": 6,
    "start_time": "2023-12-17T23:38:09.992Z"
   },
   {
    "duration": 53,
    "start_time": "2023-12-17T23:38:09.999Z"
   },
   {
    "duration": 157,
    "start_time": "2023-12-17T23:38:10.054Z"
   },
   {
    "duration": 2,
    "start_time": "2023-12-17T23:38:10.215Z"
   },
   {
    "duration": 232,
    "start_time": "2023-12-17T23:38:10.218Z"
   },
   {
    "duration": 10,
    "start_time": "2023-12-17T23:38:10.452Z"
   },
   {
    "duration": 9,
    "start_time": "2023-12-17T23:38:10.463Z"
   },
   {
    "duration": 287,
    "start_time": "2023-12-17T23:38:10.473Z"
   },
   {
    "duration": 230,
    "start_time": "2023-12-17T23:38:10.762Z"
   },
   {
    "duration": 127,
    "start_time": "2023-12-17T23:38:10.994Z"
   },
   {
    "duration": 176,
    "start_time": "2023-12-17T23:38:11.130Z"
   },
   {
    "duration": 129,
    "start_time": "2023-12-17T23:38:11.308Z"
   },
   {
    "duration": 11,
    "start_time": "2023-12-17T23:38:11.439Z"
   },
   {
    "duration": 34,
    "start_time": "2023-12-17T23:38:11.453Z"
   },
   {
    "duration": 44,
    "start_time": "2023-12-17T23:38:11.489Z"
   },
   {
    "duration": 21,
    "start_time": "2023-12-17T23:38:11.535Z"
   },
   {
    "duration": 16,
    "start_time": "2023-12-17T23:38:11.558Z"
   },
   {
    "duration": 16,
    "start_time": "2023-12-17T23:38:11.576Z"
   },
   {
    "duration": 38,
    "start_time": "2023-12-17T23:38:11.594Z"
   },
   {
    "duration": 22,
    "start_time": "2023-12-17T23:38:11.636Z"
   },
   {
    "duration": 13,
    "start_time": "2023-12-17T23:38:11.660Z"
   },
   {
    "duration": 17,
    "start_time": "2023-12-17T23:38:11.675Z"
   },
   {
    "duration": 185,
    "start_time": "2023-12-17T23:38:11.694Z"
   },
   {
    "duration": 200,
    "start_time": "2023-12-17T23:38:11.881Z"
   },
   {
    "duration": 5,
    "start_time": "2023-12-17T23:38:12.083Z"
   },
   {
    "duration": 44,
    "start_time": "2023-12-17T23:38:12.090Z"
   },
   {
    "duration": 45,
    "start_time": "2023-12-17T23:38:12.135Z"
   },
   {
    "duration": 63,
    "start_time": "2023-12-17T23:38:12.182Z"
   },
   {
    "duration": 22,
    "start_time": "2023-12-17T23:38:12.249Z"
   },
   {
    "duration": 6,
    "start_time": "2023-12-17T23:38:12.273Z"
   },
   {
    "duration": 28,
    "start_time": "2023-12-17T23:38:12.280Z"
   },
   {
    "duration": 52,
    "start_time": "2023-12-17T23:38:12.310Z"
   },
   {
    "duration": 11,
    "start_time": "2023-12-17T23:38:12.363Z"
   },
   {
    "duration": 20,
    "start_time": "2023-12-17T23:38:12.376Z"
   },
   {
    "duration": 6,
    "start_time": "2023-12-17T23:38:12.397Z"
   },
   {
    "duration": 704,
    "start_time": "2023-12-17T23:38:12.404Z"
   },
   {
    "duration": 104,
    "start_time": "2023-12-17T23:40:45.294Z"
   },
   {
    "duration": 93,
    "start_time": "2023-12-17T23:40:58.226Z"
   },
   {
    "duration": 931,
    "start_time": "2023-12-17T23:46:01.570Z"
   },
   {
    "duration": 75,
    "start_time": "2023-12-17T23:46:02.503Z"
   },
   {
    "duration": 13,
    "start_time": "2023-12-17T23:46:02.579Z"
   },
   {
    "duration": 28,
    "start_time": "2023-12-17T23:46:02.593Z"
   },
   {
    "duration": 28,
    "start_time": "2023-12-17T23:46:02.624Z"
   },
   {
    "duration": 15,
    "start_time": "2023-12-17T23:46:02.653Z"
   },
   {
    "duration": 19,
    "start_time": "2023-12-17T23:46:02.670Z"
   },
   {
    "duration": 20,
    "start_time": "2023-12-17T23:46:02.691Z"
   },
   {
    "duration": 24,
    "start_time": "2023-12-17T23:46:02.713Z"
   },
   {
    "duration": 18,
    "start_time": "2023-12-17T23:46:02.739Z"
   },
   {
    "duration": 13,
    "start_time": "2023-12-17T23:46:02.759Z"
   },
   {
    "duration": 24,
    "start_time": "2023-12-17T23:46:02.774Z"
   },
   {
    "duration": 20,
    "start_time": "2023-12-17T23:46:02.800Z"
   },
   {
    "duration": 21,
    "start_time": "2023-12-17T23:46:02.824Z"
   },
   {
    "duration": 15,
    "start_time": "2023-12-17T23:46:02.847Z"
   },
   {
    "duration": 25,
    "start_time": "2023-12-17T23:46:02.864Z"
   },
   {
    "duration": 20,
    "start_time": "2023-12-17T23:46:02.891Z"
   },
   {
    "duration": 39,
    "start_time": "2023-12-17T23:46:02.913Z"
   },
   {
    "duration": 14,
    "start_time": "2023-12-17T23:46:02.954Z"
   },
   {
    "duration": 8,
    "start_time": "2023-12-17T23:46:02.970Z"
   },
   {
    "duration": 6,
    "start_time": "2023-12-17T23:46:02.980Z"
   },
   {
    "duration": 12,
    "start_time": "2023-12-17T23:46:02.988Z"
   },
   {
    "duration": 8,
    "start_time": "2023-12-17T23:46:03.001Z"
   },
   {
    "duration": 485,
    "start_time": "2023-12-17T23:46:03.011Z"
   },
   {
    "duration": 6,
    "start_time": "2023-12-17T23:46:03.498Z"
   },
   {
    "duration": 16,
    "start_time": "2023-12-17T23:46:03.506Z"
   },
   {
    "duration": 154,
    "start_time": "2023-12-17T23:46:03.524Z"
   },
   {
    "duration": 3,
    "start_time": "2023-12-17T23:46:03.680Z"
   },
   {
    "duration": 231,
    "start_time": "2023-12-17T23:46:03.685Z"
   },
   {
    "duration": 21,
    "start_time": "2023-12-17T23:46:03.917Z"
   },
   {
    "duration": 10,
    "start_time": "2023-12-17T23:46:03.939Z"
   },
   {
    "duration": 262,
    "start_time": "2023-12-17T23:46:03.951Z"
   },
   {
    "duration": 163,
    "start_time": "2023-12-17T23:46:04.214Z"
   },
   {
    "duration": 139,
    "start_time": "2023-12-17T23:46:04.378Z"
   },
   {
    "duration": 178,
    "start_time": "2023-12-17T23:46:04.518Z"
   },
   {
    "duration": 115,
    "start_time": "2023-12-17T23:46:04.698Z"
   },
   {
    "duration": 20,
    "start_time": "2023-12-17T23:46:04.815Z"
   },
   {
    "duration": 29,
    "start_time": "2023-12-17T23:46:04.839Z"
   },
   {
    "duration": 25,
    "start_time": "2023-12-17T23:46:04.870Z"
   },
   {
    "duration": 11,
    "start_time": "2023-12-17T23:46:04.897Z"
   },
   {
    "duration": 19,
    "start_time": "2023-12-17T23:46:04.930Z"
   },
   {
    "duration": 29,
    "start_time": "2023-12-17T23:46:04.951Z"
   },
   {
    "duration": 9,
    "start_time": "2023-12-17T23:46:04.982Z"
   },
   {
    "duration": 14,
    "start_time": "2023-12-17T23:46:04.993Z"
   },
   {
    "duration": 39,
    "start_time": "2023-12-17T23:46:05.009Z"
   },
   {
    "duration": 10,
    "start_time": "2023-12-17T23:46:05.050Z"
   },
   {
    "duration": 172,
    "start_time": "2023-12-17T23:46:05.062Z"
   },
   {
    "duration": 163,
    "start_time": "2023-12-17T23:46:05.235Z"
   },
   {
    "duration": 4,
    "start_time": "2023-12-17T23:46:05.400Z"
   },
   {
    "duration": 47,
    "start_time": "2023-12-17T23:46:05.406Z"
   },
   {
    "duration": 29,
    "start_time": "2023-12-17T23:46:05.455Z"
   },
   {
    "duration": 57,
    "start_time": "2023-12-17T23:46:05.486Z"
   },
   {
    "duration": 119,
    "start_time": "2023-12-17T23:46:05.556Z"
   },
   {
    "duration": 6,
    "start_time": "2023-12-17T23:46:05.678Z"
   },
   {
    "duration": 26,
    "start_time": "2023-12-17T23:46:05.686Z"
   },
   {
    "duration": 54,
    "start_time": "2023-12-17T23:46:05.713Z"
   },
   {
    "duration": 14,
    "start_time": "2023-12-17T23:46:05.769Z"
   },
   {
    "duration": 15,
    "start_time": "2023-12-17T23:46:05.785Z"
   },
   {
    "duration": 43,
    "start_time": "2023-12-17T23:46:05.802Z"
   },
   {
    "duration": 215,
    "start_time": "2023-12-17T23:46:05.848Z"
   },
   {
    "duration": 85,
    "start_time": "2023-12-17T23:46:39.167Z"
   },
   {
    "duration": 112,
    "start_time": "2023-12-17T23:46:44.991Z"
   },
   {
    "duration": 25,
    "start_time": "2023-12-17T23:50:21.616Z"
   },
   {
    "duration": 6,
    "start_time": "2023-12-17T23:52:21.815Z"
   },
   {
    "duration": 56,
    "start_time": "2023-12-17T23:56:17.540Z"
   },
   {
    "duration": 59,
    "start_time": "2023-12-17T23:56:39.480Z"
   },
   {
    "duration": 67,
    "start_time": "2023-12-17T23:57:47.213Z"
   },
   {
    "duration": 59,
    "start_time": "2023-12-17T23:58:21.508Z"
   },
   {
    "duration": 11,
    "start_time": "2023-12-17T23:58:39.210Z"
   },
   {
    "duration": 14,
    "start_time": "2023-12-17T23:59:00.421Z"
   },
   {
    "duration": 14,
    "start_time": "2023-12-17T23:59:13.593Z"
   },
   {
    "duration": 974,
    "start_time": "2023-12-18T00:00:01.220Z"
   },
   {
    "duration": 77,
    "start_time": "2023-12-18T00:00:02.209Z"
   },
   {
    "duration": 1588,
    "start_time": "2023-12-18T00:00:02.288Z"
   },
   {
    "duration": 104,
    "start_time": "2023-12-18T00:00:03.879Z"
   },
   {
    "duration": 31,
    "start_time": "2023-12-18T00:00:03.985Z"
   },
   {
    "duration": 35,
    "start_time": "2023-12-18T00:00:04.017Z"
   },
   {
    "duration": 31,
    "start_time": "2023-12-18T00:00:04.054Z"
   },
   {
    "duration": 31,
    "start_time": "2023-12-18T00:00:04.087Z"
   },
   {
    "duration": 57,
    "start_time": "2023-12-18T00:00:04.120Z"
   },
   {
    "duration": 71,
    "start_time": "2023-12-18T00:00:04.180Z"
   },
   {
    "duration": 32,
    "start_time": "2023-12-18T00:00:04.253Z"
   },
   {
    "duration": 49,
    "start_time": "2023-12-18T00:00:04.287Z"
   },
   {
    "duration": 35,
    "start_time": "2023-12-18T00:00:04.340Z"
   },
   {
    "duration": 14,
    "start_time": "2023-12-18T00:00:04.376Z"
   },
   {
    "duration": 24,
    "start_time": "2023-12-18T00:00:04.392Z"
   },
   {
    "duration": 36,
    "start_time": "2023-12-18T00:00:04.417Z"
   },
   {
    "duration": 18,
    "start_time": "2023-12-18T00:00:04.454Z"
   },
   {
    "duration": 42,
    "start_time": "2023-12-18T00:00:04.474Z"
   },
   {
    "duration": 50,
    "start_time": "2023-12-18T00:00:04.518Z"
   },
   {
    "duration": 22,
    "start_time": "2023-12-18T00:00:04.570Z"
   },
   {
    "duration": 20,
    "start_time": "2023-12-18T00:00:04.594Z"
   },
   {
    "duration": 38,
    "start_time": "2023-12-18T00:00:04.616Z"
   },
   {
    "duration": 27,
    "start_time": "2023-12-18T00:00:04.656Z"
   },
   {
    "duration": 621,
    "start_time": "2023-12-18T00:00:04.686Z"
   },
   {
    "duration": 7,
    "start_time": "2023-12-18T00:00:05.308Z"
   },
   {
    "duration": 22,
    "start_time": "2023-12-18T00:00:05.316Z"
   },
   {
    "duration": 140,
    "start_time": "2023-12-18T00:00:05.340Z"
   },
   {
    "duration": 2,
    "start_time": "2023-12-18T00:00:05.486Z"
   },
   {
    "duration": 220,
    "start_time": "2023-12-18T00:00:05.490Z"
   },
   {
    "duration": 26,
    "start_time": "2023-12-18T00:00:05.712Z"
   },
   {
    "duration": 36,
    "start_time": "2023-12-18T00:00:05.741Z"
   },
   {
    "duration": 306,
    "start_time": "2023-12-18T00:00:05.778Z"
   },
   {
    "duration": 166,
    "start_time": "2023-12-18T00:00:06.086Z"
   },
   {
    "duration": 124,
    "start_time": "2023-12-18T00:00:06.254Z"
   },
   {
    "duration": 180,
    "start_time": "2023-12-18T00:00:06.380Z"
   },
   {
    "duration": 125,
    "start_time": "2023-12-18T00:00:06.562Z"
   },
   {
    "duration": 107,
    "start_time": "2023-12-18T00:00:06.689Z"
   },
   {
    "duration": 103,
    "start_time": "2023-12-18T00:00:06.797Z"
   },
   {
    "duration": 125,
    "start_time": "2023-12-18T00:00:06.901Z"
   },
   {
    "duration": 15,
    "start_time": "2023-12-18T00:00:07.027Z"
   },
   {
    "duration": 43,
    "start_time": "2023-12-18T00:00:07.046Z"
   },
   {
    "duration": 51,
    "start_time": "2023-12-18T00:00:07.091Z"
   },
   {
    "duration": 91,
    "start_time": "2023-12-18T00:00:07.148Z"
   },
   {
    "duration": 51,
    "start_time": "2023-12-18T00:00:07.242Z"
   },
   {
    "duration": 42,
    "start_time": "2023-12-18T00:00:07.295Z"
   },
   {
    "duration": 29,
    "start_time": "2023-12-18T00:00:07.339Z"
   },
   {
    "duration": 200,
    "start_time": "2023-12-18T00:00:07.370Z"
   },
   {
    "duration": 273,
    "start_time": "2023-12-18T00:00:07.572Z"
   },
   {
    "duration": 4,
    "start_time": "2023-12-18T00:00:07.847Z"
   },
   {
    "duration": 70,
    "start_time": "2023-12-18T00:00:07.853Z"
   },
   {
    "duration": 36,
    "start_time": "2023-12-18T00:00:07.924Z"
   },
   {
    "duration": 34,
    "start_time": "2023-12-18T00:00:07.962Z"
   },
   {
    "duration": 37,
    "start_time": "2023-12-18T00:00:07.998Z"
   },
   {
    "duration": 9,
    "start_time": "2023-12-18T00:00:08.040Z"
   },
   {
    "duration": 34,
    "start_time": "2023-12-18T00:00:08.050Z"
   },
   {
    "duration": 38,
    "start_time": "2023-12-18T00:00:08.086Z"
   },
   {
    "duration": 19,
    "start_time": "2023-12-18T00:00:08.126Z"
   },
   {
    "duration": 12,
    "start_time": "2023-12-18T00:00:08.148Z"
   },
   {
    "duration": 10,
    "start_time": "2023-12-18T00:00:08.162Z"
   },
   {
    "duration": 33,
    "start_time": "2023-12-18T00:00:08.173Z"
   },
   {
    "duration": 58,
    "start_time": "2023-12-18T00:00:08.209Z"
   },
   {
    "duration": 143,
    "start_time": "2023-12-18T00:00:08.269Z"
   },
   {
    "duration": 920,
    "start_time": "2023-12-18T00:00:59.247Z"
   },
   {
    "duration": 83,
    "start_time": "2023-12-18T00:01:00.170Z"
   },
   {
    "duration": 13,
    "start_time": "2023-12-18T00:01:00.255Z"
   },
   {
    "duration": 51,
    "start_time": "2023-12-18T00:01:00.270Z"
   },
   {
    "duration": 46,
    "start_time": "2023-12-18T00:01:00.323Z"
   },
   {
    "duration": 33,
    "start_time": "2023-12-18T00:01:00.371Z"
   },
   {
    "duration": 65,
    "start_time": "2023-12-18T00:01:00.405Z"
   },
   {
    "duration": 40,
    "start_time": "2023-12-18T00:01:00.472Z"
   },
   {
    "duration": 57,
    "start_time": "2023-12-18T00:01:00.513Z"
   },
   {
    "duration": 75,
    "start_time": "2023-12-18T00:01:00.573Z"
   },
   {
    "duration": 41,
    "start_time": "2023-12-18T00:01:00.650Z"
   },
   {
    "duration": 53,
    "start_time": "2023-12-18T00:01:00.693Z"
   },
   {
    "duration": 20,
    "start_time": "2023-12-18T00:01:00.748Z"
   },
   {
    "duration": 33,
    "start_time": "2023-12-18T00:01:00.769Z"
   },
   {
    "duration": 45,
    "start_time": "2023-12-18T00:01:00.803Z"
   },
   {
    "duration": 33,
    "start_time": "2023-12-18T00:01:00.849Z"
   },
   {
    "duration": 39,
    "start_time": "2023-12-18T00:01:00.884Z"
   },
   {
    "duration": 50,
    "start_time": "2023-12-18T00:01:00.925Z"
   },
   {
    "duration": 71,
    "start_time": "2023-12-18T00:01:00.977Z"
   },
   {
    "duration": 23,
    "start_time": "2023-12-18T00:01:01.050Z"
   },
   {
    "duration": 38,
    "start_time": "2023-12-18T00:01:01.076Z"
   },
   {
    "duration": 13,
    "start_time": "2023-12-18T00:01:01.116Z"
   },
   {
    "duration": 27,
    "start_time": "2023-12-18T00:01:01.135Z"
   },
   {
    "duration": 520,
    "start_time": "2023-12-18T00:01:01.164Z"
   },
   {
    "duration": 7,
    "start_time": "2023-12-18T00:01:01.685Z"
   },
   {
    "duration": 54,
    "start_time": "2023-12-18T00:01:01.694Z"
   },
   {
    "duration": 204,
    "start_time": "2023-12-18T00:01:01.749Z"
   },
   {
    "duration": 2,
    "start_time": "2023-12-18T00:01:01.957Z"
   },
   {
    "duration": 265,
    "start_time": "2023-12-18T00:01:01.961Z"
   },
   {
    "duration": 26,
    "start_time": "2023-12-18T00:01:02.230Z"
   },
   {
    "duration": 33,
    "start_time": "2023-12-18T00:01:02.258Z"
   },
   {
    "duration": 320,
    "start_time": "2023-12-18T00:01:02.294Z"
   },
   {
    "duration": 203,
    "start_time": "2023-12-18T00:01:02.616Z"
   },
   {
    "duration": 130,
    "start_time": "2023-12-18T00:01:02.821Z"
   },
   {
    "duration": 185,
    "start_time": "2023-12-18T00:01:02.953Z"
   },
   {
    "duration": 117,
    "start_time": "2023-12-18T00:01:03.140Z"
   },
   {
    "duration": 9,
    "start_time": "2023-12-18T00:01:03.258Z"
   },
   {
    "duration": 39,
    "start_time": "2023-12-18T00:01:03.269Z"
   },
   {
    "duration": 38,
    "start_time": "2023-12-18T00:01:03.310Z"
   },
   {
    "duration": 10,
    "start_time": "2023-12-18T00:01:03.350Z"
   },
   {
    "duration": 35,
    "start_time": "2023-12-18T00:01:03.361Z"
   },
   {
    "duration": 16,
    "start_time": "2023-12-18T00:01:03.398Z"
   },
   {
    "duration": 25,
    "start_time": "2023-12-18T00:01:03.416Z"
   },
   {
    "duration": 15,
    "start_time": "2023-12-18T00:01:03.443Z"
   },
   {
    "duration": 40,
    "start_time": "2023-12-18T00:01:03.459Z"
   },
   {
    "duration": 15,
    "start_time": "2023-12-18T00:01:03.501Z"
   },
   {
    "duration": 182,
    "start_time": "2023-12-18T00:01:03.518Z"
   },
   {
    "duration": 272,
    "start_time": "2023-12-18T00:01:03.703Z"
   },
   {
    "duration": 5,
    "start_time": "2023-12-18T00:01:03.976Z"
   },
   {
    "duration": 55,
    "start_time": "2023-12-18T00:01:03.982Z"
   },
   {
    "duration": 31,
    "start_time": "2023-12-18T00:01:04.039Z"
   },
   {
    "duration": 33,
    "start_time": "2023-12-18T00:01:04.072Z"
   },
   {
    "duration": 40,
    "start_time": "2023-12-18T00:01:04.107Z"
   },
   {
    "duration": 6,
    "start_time": "2023-12-18T00:01:04.149Z"
   },
   {
    "duration": 35,
    "start_time": "2023-12-18T00:01:04.157Z"
   },
   {
    "duration": 48,
    "start_time": "2023-12-18T00:01:04.194Z"
   },
   {
    "duration": 14,
    "start_time": "2023-12-18T00:01:04.245Z"
   },
   {
    "duration": 14,
    "start_time": "2023-12-18T00:01:04.260Z"
   },
   {
    "duration": 7,
    "start_time": "2023-12-18T00:01:04.276Z"
   },
   {
    "duration": 18,
    "start_time": "2023-12-18T00:01:04.285Z"
   },
   {
    "duration": 42,
    "start_time": "2023-12-18T00:01:04.304Z"
   },
   {
    "duration": 127,
    "start_time": "2023-12-18T00:01:04.348Z"
   },
   {
    "duration": 938,
    "start_time": "2023-12-18T00:01:50.313Z"
   },
   {
    "duration": 69,
    "start_time": "2023-12-18T00:01:51.253Z"
   },
   {
    "duration": 18,
    "start_time": "2023-12-18T00:01:51.324Z"
   },
   {
    "duration": 17,
    "start_time": "2023-12-18T00:01:51.347Z"
   },
   {
    "duration": 12,
    "start_time": "2023-12-18T00:01:51.366Z"
   },
   {
    "duration": 9,
    "start_time": "2023-12-18T00:01:51.380Z"
   },
   {
    "duration": 11,
    "start_time": "2023-12-18T00:01:51.391Z"
   },
   {
    "duration": 8,
    "start_time": "2023-12-18T00:01:51.433Z"
   },
   {
    "duration": 26,
    "start_time": "2023-12-18T00:01:51.443Z"
   },
   {
    "duration": 14,
    "start_time": "2023-12-18T00:01:51.471Z"
   },
   {
    "duration": 10,
    "start_time": "2023-12-18T00:01:51.487Z"
   },
   {
    "duration": 10,
    "start_time": "2023-12-18T00:01:51.499Z"
   },
   {
    "duration": 30,
    "start_time": "2023-12-18T00:01:51.511Z"
   },
   {
    "duration": 9,
    "start_time": "2023-12-18T00:01:51.549Z"
   },
   {
    "duration": 22,
    "start_time": "2023-12-18T00:01:51.560Z"
   },
   {
    "duration": 21,
    "start_time": "2023-12-18T00:01:51.584Z"
   },
   {
    "duration": 15,
    "start_time": "2023-12-18T00:01:51.607Z"
   },
   {
    "duration": 12,
    "start_time": "2023-12-18T00:01:52.502Z"
   },
   {
    "duration": 15,
    "start_time": "2023-12-18T00:01:52.516Z"
   },
   {
    "duration": 18,
    "start_time": "2023-12-18T00:01:52.536Z"
   },
   {
    "duration": 6,
    "start_time": "2023-12-18T00:01:52.555Z"
   },
   {
    "duration": 6,
    "start_time": "2023-12-18T00:01:52.563Z"
   },
   {
    "duration": 18,
    "start_time": "2023-12-18T00:01:52.571Z"
   },
   {
    "duration": 470,
    "start_time": "2023-12-18T00:01:52.591Z"
   },
   {
    "duration": 5,
    "start_time": "2023-12-18T00:01:53.063Z"
   },
   {
    "duration": 6,
    "start_time": "2023-12-18T00:01:53.070Z"
   },
   {
    "duration": 165,
    "start_time": "2023-12-18T00:01:53.078Z"
   },
   {
    "duration": 3,
    "start_time": "2023-12-18T00:01:53.247Z"
   },
   {
    "duration": 218,
    "start_time": "2023-12-18T00:01:53.252Z"
   },
   {
    "duration": 11,
    "start_time": "2023-12-18T00:01:53.472Z"
   },
   {
    "duration": 18,
    "start_time": "2023-12-18T00:01:53.486Z"
   },
   {
    "duration": 337,
    "start_time": "2023-12-18T00:01:53.506Z"
   },
   {
    "duration": 171,
    "start_time": "2023-12-18T00:01:53.845Z"
   },
   {
    "duration": 121,
    "start_time": "2023-12-18T00:01:54.018Z"
   },
   {
    "duration": 174,
    "start_time": "2023-12-18T00:01:54.149Z"
   },
   {
    "duration": 125,
    "start_time": "2023-12-18T00:01:54.324Z"
   },
   {
    "duration": 9,
    "start_time": "2023-12-18T00:01:54.451Z"
   },
   {
    "duration": 27,
    "start_time": "2023-12-18T00:01:54.461Z"
   },
   {
    "duration": 46,
    "start_time": "2023-12-18T00:01:54.490Z"
   },
   {
    "duration": 14,
    "start_time": "2023-12-18T00:01:54.538Z"
   },
   {
    "duration": 14,
    "start_time": "2023-12-18T00:01:54.554Z"
   },
   {
    "duration": 15,
    "start_time": "2023-12-18T00:01:54.570Z"
   },
   {
    "duration": 9,
    "start_time": "2023-12-18T00:01:54.587Z"
   },
   {
    "duration": 49,
    "start_time": "2023-12-18T00:01:54.598Z"
   },
   {
    "duration": 12,
    "start_time": "2023-12-18T00:01:54.649Z"
   },
   {
    "duration": 8,
    "start_time": "2023-12-18T00:01:54.662Z"
   },
   {
    "duration": 205,
    "start_time": "2023-12-18T00:01:54.672Z"
   },
   {
    "duration": 179,
    "start_time": "2023-12-18T00:01:54.879Z"
   },
   {
    "duration": 5,
    "start_time": "2023-12-18T00:01:55.059Z"
   },
   {
    "duration": 38,
    "start_time": "2023-12-18T00:01:55.065Z"
   },
   {
    "duration": 47,
    "start_time": "2023-12-18T00:01:55.105Z"
   },
   {
    "duration": 118,
    "start_time": "2023-12-18T00:01:55.154Z"
   },
   {
    "duration": 21,
    "start_time": "2023-12-18T00:01:55.274Z"
   },
   {
    "duration": 14,
    "start_time": "2023-12-18T00:01:55.297Z"
   },
   {
    "duration": 37,
    "start_time": "2023-12-18T00:01:55.312Z"
   },
   {
    "duration": 33,
    "start_time": "2023-12-18T00:01:55.350Z"
   },
   {
    "duration": 11,
    "start_time": "2023-12-18T00:01:55.385Z"
   },
   {
    "duration": 43,
    "start_time": "2023-12-18T00:01:55.399Z"
   },
   {
    "duration": 9,
    "start_time": "2023-12-18T00:01:55.443Z"
   },
   {
    "duration": 6,
    "start_time": "2023-12-18T00:01:55.454Z"
   },
   {
    "duration": 45,
    "start_time": "2023-12-18T00:01:55.461Z"
   },
   {
    "duration": 13,
    "start_time": "2023-12-18T00:03:12.577Z"
   },
   {
    "duration": 914,
    "start_time": "2023-12-18T00:03:28.795Z"
   },
   {
    "duration": 77,
    "start_time": "2023-12-18T00:03:29.711Z"
   },
   {
    "duration": 12,
    "start_time": "2023-12-18T00:03:29.790Z"
   },
   {
    "duration": 17,
    "start_time": "2023-12-18T00:03:29.804Z"
   },
   {
    "duration": 21,
    "start_time": "2023-12-18T00:03:29.822Z"
   },
   {
    "duration": 10,
    "start_time": "2023-12-18T00:03:29.845Z"
   },
   {
    "duration": 11,
    "start_time": "2023-12-18T00:03:29.856Z"
   },
   {
    "duration": 13,
    "start_time": "2023-12-18T00:03:29.869Z"
   },
   {
    "duration": 20,
    "start_time": "2023-12-18T00:03:29.884Z"
   },
   {
    "duration": 13,
    "start_time": "2023-12-18T00:03:29.907Z"
   },
   {
    "duration": 24,
    "start_time": "2023-12-18T00:03:29.922Z"
   },
   {
    "duration": 11,
    "start_time": "2023-12-18T00:03:29.949Z"
   },
   {
    "duration": 13,
    "start_time": "2023-12-18T00:03:29.967Z"
   },
   {
    "duration": 10,
    "start_time": "2023-12-18T00:03:29.982Z"
   },
   {
    "duration": 8,
    "start_time": "2023-12-18T00:03:29.994Z"
   },
   {
    "duration": 64,
    "start_time": "2023-12-18T00:03:30.004Z"
   },
   {
    "duration": 44,
    "start_time": "2023-12-18T00:03:30.070Z"
   },
   {
    "duration": 62,
    "start_time": "2023-12-18T00:03:30.116Z"
   },
   {
    "duration": 41,
    "start_time": "2023-12-18T00:03:30.180Z"
   },
   {
    "duration": 42,
    "start_time": "2023-12-18T00:03:30.223Z"
   },
   {
    "duration": 26,
    "start_time": "2023-12-18T00:03:30.267Z"
   },
   {
    "duration": 29,
    "start_time": "2023-12-18T00:03:30.295Z"
   },
   {
    "duration": 29,
    "start_time": "2023-12-18T00:03:30.326Z"
   },
   {
    "duration": 454,
    "start_time": "2023-12-18T00:03:30.356Z"
   },
   {
    "duration": 6,
    "start_time": "2023-12-18T00:03:30.811Z"
   },
   {
    "duration": 50,
    "start_time": "2023-12-18T00:03:30.819Z"
   },
   {
    "duration": 170,
    "start_time": "2023-12-18T00:03:30.871Z"
   },
   {
    "duration": 5,
    "start_time": "2023-12-18T00:03:31.048Z"
   },
   {
    "duration": 302,
    "start_time": "2023-12-18T00:03:31.055Z"
   },
   {
    "duration": 11,
    "start_time": "2023-12-18T00:03:31.359Z"
   },
   {
    "duration": 64,
    "start_time": "2023-12-18T00:03:31.372Z"
   },
   {
    "duration": 303,
    "start_time": "2023-12-18T00:03:31.438Z"
   },
   {
    "duration": 167,
    "start_time": "2023-12-18T00:03:31.743Z"
   },
   {
    "duration": 120,
    "start_time": "2023-12-18T00:03:31.912Z"
   },
   {
    "duration": 178,
    "start_time": "2023-12-18T00:03:32.034Z"
   },
   {
    "duration": 135,
    "start_time": "2023-12-18T00:03:32.214Z"
   },
   {
    "duration": 9,
    "start_time": "2023-12-18T00:03:32.351Z"
   },
   {
    "duration": 66,
    "start_time": "2023-12-18T00:03:32.362Z"
   },
   {
    "duration": 56,
    "start_time": "2023-12-18T00:03:32.430Z"
   },
   {
    "duration": 13,
    "start_time": "2023-12-18T00:03:32.488Z"
   },
   {
    "duration": 93,
    "start_time": "2023-12-18T00:03:32.503Z"
   },
   {
    "duration": 119,
    "start_time": "2023-12-18T00:03:32.598Z"
   },
   {
    "duration": 50,
    "start_time": "2023-12-18T00:03:32.719Z"
   },
   {
    "duration": 93,
    "start_time": "2023-12-18T00:03:32.770Z"
   },
   {
    "duration": 93,
    "start_time": "2023-12-18T00:03:32.865Z"
   },
   {
    "duration": 37,
    "start_time": "2023-12-18T00:03:32.961Z"
   },
   {
    "duration": 206,
    "start_time": "2023-12-18T00:03:33.000Z"
   },
   {
    "duration": 252,
    "start_time": "2023-12-18T00:03:33.209Z"
   },
   {
    "duration": 4,
    "start_time": "2023-12-18T00:03:33.463Z"
   },
   {
    "duration": 33,
    "start_time": "2023-12-18T00:03:33.468Z"
   },
   {
    "duration": 51,
    "start_time": "2023-12-18T00:03:33.503Z"
   },
   {
    "duration": 41,
    "start_time": "2023-12-18T00:03:33.555Z"
   },
   {
    "duration": 36,
    "start_time": "2023-12-18T00:03:33.599Z"
   },
   {
    "duration": 10,
    "start_time": "2023-12-18T00:03:33.640Z"
   },
   {
    "duration": 22,
    "start_time": "2023-12-18T00:03:33.652Z"
   },
   {
    "duration": 14,
    "start_time": "2023-12-18T00:03:33.676Z"
   },
   {
    "duration": 10,
    "start_time": "2023-12-18T00:03:33.692Z"
   },
   {
    "duration": 44,
    "start_time": "2023-12-18T00:03:33.704Z"
   },
   {
    "duration": 11,
    "start_time": "2023-12-18T00:03:33.750Z"
   },
   {
    "duration": 8,
    "start_time": "2023-12-18T00:03:33.762Z"
   },
   {
    "duration": 41,
    "start_time": "2023-12-18T00:03:33.771Z"
   },
   {
    "duration": 24,
    "start_time": "2023-12-18T00:03:33.814Z"
   },
   {
    "duration": 8,
    "start_time": "2023-12-18T00:05:07.145Z"
   },
   {
    "duration": 20,
    "start_time": "2023-12-18T00:05:19.607Z"
   },
   {
    "duration": 19,
    "start_time": "2023-12-18T00:08:02.178Z"
   },
   {
    "duration": 24,
    "start_time": "2023-12-18T00:08:13.072Z"
   },
   {
    "duration": 22,
    "start_time": "2023-12-18T00:08:39.601Z"
   },
   {
    "duration": 20,
    "start_time": "2023-12-18T00:10:14.973Z"
   },
   {
    "duration": 26,
    "start_time": "2023-12-18T00:10:24.810Z"
   },
   {
    "duration": 14,
    "start_time": "2023-12-18T00:11:32.063Z"
   },
   {
    "duration": 22,
    "start_time": "2023-12-18T00:11:38.083Z"
   },
   {
    "duration": 7,
    "start_time": "2023-12-18T00:32:47.993Z"
   },
   {
    "duration": 5,
    "start_time": "2023-12-18T00:32:48.665Z"
   },
   {
    "duration": 101,
    "start_time": "2023-12-18T02:25:26.251Z"
   },
   {
    "duration": 13,
    "start_time": "2023-12-18T02:25:53.251Z"
   },
   {
    "duration": 1927,
    "start_time": "2023-12-18T02:26:20.964Z"
   },
   {
    "duration": 2493,
    "start_time": "2023-12-18T02:26:47.839Z"
   },
   {
    "duration": 1557,
    "start_time": "2023-12-18T02:26:59.162Z"
   },
   {
    "duration": 2531,
    "start_time": "2023-12-18T02:28:57.147Z"
   },
   {
    "duration": 15,
    "start_time": "2023-12-18T02:34:04.977Z"
   },
   {
    "duration": 27,
    "start_time": "2023-12-18T05:40:11.576Z"
   },
   {
    "duration": 1629,
    "start_time": "2023-12-18T05:40:28.848Z"
   },
   {
    "duration": 15,
    "start_time": "2023-12-18T05:41:52.500Z"
   },
   {
    "duration": 12,
    "start_time": "2023-12-18T05:43:09.746Z"
   },
   {
    "duration": 5,
    "start_time": "2023-12-18T06:20:00.260Z"
   },
   {
    "duration": 4,
    "start_time": "2023-12-18T06:20:34.118Z"
   },
   {
    "duration": 5,
    "start_time": "2023-12-18T06:21:35.260Z"
   },
   {
    "duration": 11,
    "start_time": "2023-12-18T06:21:46.298Z"
   },
   {
    "duration": 11,
    "start_time": "2023-12-18T06:22:04.811Z"
   },
   {
    "duration": 5,
    "start_time": "2023-12-18T06:23:51.579Z"
   },
   {
    "duration": 7,
    "start_time": "2023-12-18T06:24:01.049Z"
   },
   {
    "duration": 6,
    "start_time": "2023-12-18T06:24:19.827Z"
   },
   {
    "duration": 8,
    "start_time": "2023-12-18T06:24:30.132Z"
   },
   {
    "duration": 5,
    "start_time": "2023-12-18T06:25:28.851Z"
   },
   {
    "duration": 6,
    "start_time": "2023-12-18T06:27:16.988Z"
   },
   {
    "duration": 197,
    "start_time": "2023-12-18T06:29:20.369Z"
   },
   {
    "duration": 138,
    "start_time": "2023-12-18T06:29:42.802Z"
   },
   {
    "duration": 161,
    "start_time": "2023-12-18T06:29:52.847Z"
   },
   {
    "duration": 135,
    "start_time": "2023-12-18T06:29:53.815Z"
   },
   {
    "duration": 7,
    "start_time": "2023-12-18T06:30:19.141Z"
   },
   {
    "duration": 6,
    "start_time": "2023-12-18T06:30:22.689Z"
   },
   {
    "duration": 112,
    "start_time": "2023-12-18T06:31:01.929Z"
   },
   {
    "duration": 113,
    "start_time": "2023-12-18T06:31:19.603Z"
   },
   {
    "duration": 110,
    "start_time": "2023-12-18T06:32:02.096Z"
   },
   {
    "duration": 113,
    "start_time": "2023-12-18T06:32:10.900Z"
   },
   {
    "duration": 122,
    "start_time": "2023-12-18T06:32:12.838Z"
   },
   {
    "duration": 96,
    "start_time": "2023-12-18T06:32:32.409Z"
   },
   {
    "duration": 122,
    "start_time": "2023-12-18T06:32:39.046Z"
   },
   {
    "duration": 6,
    "start_time": "2023-12-18T06:32:44.993Z"
   },
   {
    "duration": 5,
    "start_time": "2023-12-18T06:32:52.206Z"
   },
   {
    "duration": 5,
    "start_time": "2023-12-18T06:33:03.594Z"
   },
   {
    "duration": 6,
    "start_time": "2023-12-18T06:33:14.244Z"
   },
   {
    "duration": 5,
    "start_time": "2023-12-18T06:33:24.879Z"
   },
   {
    "duration": 6,
    "start_time": "2023-12-18T06:33:30.893Z"
   },
   {
    "duration": 874,
    "start_time": "2023-12-18T06:33:43.188Z"
   },
   {
    "duration": 134,
    "start_time": "2023-12-18T06:33:46.411Z"
   },
   {
    "duration": 3,
    "start_time": "2023-12-18T06:35:08.185Z"
   },
   {
    "duration": 20,
    "start_time": "2023-12-18T06:35:10.381Z"
   },
   {
    "duration": 6,
    "start_time": "2023-12-18T06:35:35.246Z"
   },
   {
    "duration": 4,
    "start_time": "2023-12-18T06:35:49.813Z"
   },
   {
    "duration": 7,
    "start_time": "2023-12-18T21:19:15.185Z"
   },
   {
    "duration": 877,
    "start_time": "2023-12-18T21:19:24.111Z"
   },
   {
    "duration": 194,
    "start_time": "2023-12-18T21:19:24.990Z"
   },
   {
    "duration": 12,
    "start_time": "2023-12-18T21:19:25.185Z"
   },
   {
    "duration": 24,
    "start_time": "2023-12-18T21:19:25.198Z"
   },
   {
    "duration": 16,
    "start_time": "2023-12-18T21:19:25.224Z"
   },
   {
    "duration": 16,
    "start_time": "2023-12-18T21:19:25.242Z"
   },
   {
    "duration": 9,
    "start_time": "2023-12-18T21:19:25.259Z"
   },
   {
    "duration": 20,
    "start_time": "2023-12-18T21:19:25.269Z"
   },
   {
    "duration": 24,
    "start_time": "2023-12-18T21:19:25.290Z"
   },
   {
    "duration": 22,
    "start_time": "2023-12-18T21:19:25.316Z"
   },
   {
    "duration": 17,
    "start_time": "2023-12-18T21:19:25.339Z"
   },
   {
    "duration": 18,
    "start_time": "2023-12-18T21:19:25.358Z"
   },
   {
    "duration": 7,
    "start_time": "2023-12-18T21:19:25.377Z"
   },
   {
    "duration": 5,
    "start_time": "2023-12-18T21:19:25.386Z"
   },
   {
    "duration": 37,
    "start_time": "2023-12-18T21:19:25.393Z"
   },
   {
    "duration": 15,
    "start_time": "2023-12-18T21:19:25.431Z"
   },
   {
    "duration": 30,
    "start_time": "2023-12-18T21:19:25.447Z"
   },
   {
    "duration": 29,
    "start_time": "2023-12-18T21:19:25.478Z"
   },
   {
    "duration": 20,
    "start_time": "2023-12-18T21:19:25.508Z"
   },
   {
    "duration": 34,
    "start_time": "2023-12-18T21:19:25.529Z"
   },
   {
    "duration": 43,
    "start_time": "2023-12-18T21:19:25.564Z"
   },
   {
    "duration": 19,
    "start_time": "2023-12-18T21:19:25.608Z"
   },
   {
    "duration": 15,
    "start_time": "2023-12-18T21:19:25.628Z"
   },
   {
    "duration": 624,
    "start_time": "2023-12-18T21:19:25.644Z"
   },
   {
    "duration": 5,
    "start_time": "2023-12-18T21:19:26.270Z"
   },
   {
    "duration": 14,
    "start_time": "2023-12-18T21:19:26.276Z"
   },
   {
    "duration": 132,
    "start_time": "2023-12-18T21:19:26.291Z"
   },
   {
    "duration": 3,
    "start_time": "2023-12-18T21:19:26.426Z"
   },
   {
    "duration": 194,
    "start_time": "2023-12-18T21:19:26.430Z"
   },
   {
    "duration": 9,
    "start_time": "2023-12-18T21:19:26.626Z"
   },
   {
    "duration": 7,
    "start_time": "2023-12-18T21:19:26.636Z"
   },
   {
    "duration": 253,
    "start_time": "2023-12-18T21:19:26.644Z"
   },
   {
    "duration": 152,
    "start_time": "2023-12-18T21:19:26.898Z"
   },
   {
    "duration": 100,
    "start_time": "2023-12-18T21:19:27.051Z"
   },
   {
    "duration": 160,
    "start_time": "2023-12-18T21:19:27.152Z"
   },
   {
    "duration": 159,
    "start_time": "2023-12-18T21:19:27.314Z"
   },
   {
    "duration": 18,
    "start_time": "2023-12-18T21:19:27.474Z"
   },
   {
    "duration": 58,
    "start_time": "2023-12-18T21:19:27.493Z"
   },
   {
    "duration": 22,
    "start_time": "2023-12-18T21:19:27.552Z"
   },
   {
    "duration": 13,
    "start_time": "2023-12-18T21:19:27.576Z"
   },
   {
    "duration": 14,
    "start_time": "2023-12-18T21:19:27.591Z"
   },
   {
    "duration": 14,
    "start_time": "2023-12-18T21:19:27.606Z"
   },
   {
    "duration": 8,
    "start_time": "2023-12-18T21:19:27.621Z"
   },
   {
    "duration": 14,
    "start_time": "2023-12-18T21:19:27.631Z"
   },
   {
    "duration": 19,
    "start_time": "2023-12-18T21:19:27.646Z"
   },
   {
    "duration": 3,
    "start_time": "2023-12-18T21:19:27.666Z"
   },
   {
    "duration": 153,
    "start_time": "2023-12-18T21:19:27.688Z"
   },
   {
    "duration": 147,
    "start_time": "2023-12-18T21:19:27.843Z"
   },
   {
    "duration": 4,
    "start_time": "2023-12-18T21:19:27.992Z"
   },
   {
    "duration": 47,
    "start_time": "2023-12-18T21:19:27.997Z"
   },
   {
    "duration": 28,
    "start_time": "2023-12-18T21:19:28.045Z"
   },
   {
    "duration": 37,
    "start_time": "2023-12-18T21:19:28.074Z"
   },
   {
    "duration": 17,
    "start_time": "2023-12-18T21:19:28.112Z"
   },
   {
    "duration": 8,
    "start_time": "2023-12-18T21:19:28.131Z"
   },
   {
    "duration": 24,
    "start_time": "2023-12-18T21:19:28.140Z"
   },
   {
    "duration": 33,
    "start_time": "2023-12-18T21:19:28.166Z"
   },
   {
    "duration": 9,
    "start_time": "2023-12-18T21:19:28.200Z"
   },
   {
    "duration": 39,
    "start_time": "2023-12-18T21:19:28.211Z"
   },
   {
    "duration": 7,
    "start_time": "2023-12-18T21:19:28.252Z"
   },
   {
    "duration": 7,
    "start_time": "2023-12-18T21:19:28.260Z"
   },
   {
    "duration": 25,
    "start_time": "2023-12-18T21:19:28.269Z"
   },
   {
    "duration": 21,
    "start_time": "2023-12-18T21:19:28.296Z"
   },
   {
    "duration": 3,
    "start_time": "2023-12-18T21:19:28.319Z"
   },
   {
    "duration": 769,
    "start_time": "2023-12-18T21:19:28.323Z"
   },
   {
    "duration": 3,
    "start_time": "2023-12-18T21:19:29.094Z"
   },
   {
    "duration": 16,
    "start_time": "2023-12-18T21:19:29.098Z"
   },
   {
    "duration": 4,
    "start_time": "2023-12-18T21:19:29.116Z"
   },
   {
    "duration": 117,
    "start_time": "2023-12-18T21:19:29.122Z"
   },
   {
    "duration": 1453,
    "start_time": "2023-12-18T21:19:29.240Z"
   },
   {
    "duration": 3,
    "start_time": "2023-12-18T21:19:30.695Z"
   },
   {
    "duration": 352,
    "start_time": "2023-12-18T21:19:30.700Z"
   },
   {
    "duration": 53,
    "start_time": "2023-12-18T21:19:31.054Z"
   },
   {
    "duration": 4,
    "start_time": "2023-12-18T22:28:54.608Z"
   },
   {
    "duration": 4,
    "start_time": "2023-12-18T22:29:55.493Z"
   },
   {
    "duration": 5,
    "start_time": "2023-12-18T22:30:51.496Z"
   },
   {
    "duration": 6,
    "start_time": "2023-12-18T22:31:07.751Z"
   },
   {
    "duration": 5,
    "start_time": "2023-12-18T22:31:37.745Z"
   },
   {
    "duration": 5,
    "start_time": "2023-12-18T22:31:49.815Z"
   },
   {
    "duration": 5,
    "start_time": "2023-12-18T22:31:58.438Z"
   },
   {
    "duration": 6,
    "start_time": "2023-12-18T22:32:13.440Z"
   },
   {
    "duration": 6,
    "start_time": "2023-12-18T22:35:28.416Z"
   },
   {
    "duration": 4,
    "start_time": "2023-12-18T22:36:14.250Z"
   },
   {
    "duration": 5,
    "start_time": "2023-12-18T22:36:41.166Z"
   },
   {
    "duration": 15,
    "start_time": "2023-12-18T22:37:43.218Z"
   },
   {
    "duration": 13,
    "start_time": "2023-12-18T22:38:13.589Z"
   },
   {
    "duration": 3,
    "start_time": "2023-12-18T22:38:21.424Z"
   },
   {
    "duration": 13,
    "start_time": "2023-12-18T22:38:30.518Z"
   },
   {
    "duration": 86,
    "start_time": "2023-12-18T22:39:23.574Z"
   },
   {
    "duration": 3,
    "start_time": "2023-12-18T22:39:34.257Z"
   },
   {
    "duration": 14,
    "start_time": "2023-12-18T22:40:52.471Z"
   },
   {
    "duration": 4,
    "start_time": "2023-12-18T22:41:25.256Z"
   },
   {
    "duration": 5,
    "start_time": "2023-12-18T22:41:30.101Z"
   },
   {
    "duration": 5,
    "start_time": "2023-12-18T22:41:41.921Z"
   },
   {
    "duration": 101,
    "start_time": "2023-12-18T22:42:37.426Z"
   },
   {
    "duration": 386,
    "start_time": "2023-12-18T22:42:49.332Z"
   },
   {
    "duration": 97,
    "start_time": "2023-12-18T22:42:50.024Z"
   },
   {
    "duration": 4,
    "start_time": "2023-12-18T22:47:48.081Z"
   },
   {
    "duration": 298,
    "start_time": "2023-12-18T22:48:33.723Z"
   },
   {
    "duration": 3,
    "start_time": "2023-12-18T22:48:37.987Z"
   },
   {
    "duration": 4,
    "start_time": "2023-12-18T22:48:46.414Z"
   },
   {
    "duration": 299,
    "start_time": "2023-12-18T22:49:15.893Z"
   },
   {
    "duration": 3,
    "start_time": "2023-12-18T22:49:17.430Z"
   },
   {
    "duration": 383,
    "start_time": "2023-12-18T22:49:24.205Z"
   },
   {
    "duration": 5,
    "start_time": "2023-12-18T22:49:48.183Z"
   },
   {
    "duration": 176,
    "start_time": "2023-12-18T22:49:56.458Z"
   },
   {
    "duration": 3,
    "start_time": "2023-12-18T22:50:07.528Z"
   },
   {
    "duration": 72,
    "start_time": "2023-12-18T22:50:43.265Z"
   },
   {
    "duration": 188,
    "start_time": "2023-12-18T22:50:51.753Z"
   },
   {
    "duration": 142,
    "start_time": "2023-12-18T22:51:00.825Z"
   },
   {
    "duration": 3,
    "start_time": "2023-12-18T22:51:01.936Z"
   },
   {
    "duration": 107,
    "start_time": "2023-12-18T22:51:03.542Z"
   },
   {
    "duration": 139,
    "start_time": "2023-12-18T22:51:44.856Z"
   },
   {
    "duration": 4,
    "start_time": "2023-12-18T22:51:45.723Z"
   },
   {
    "duration": 116,
    "start_time": "2023-12-18T22:51:49.664Z"
   },
   {
    "duration": 10,
    "start_time": "2023-12-19T00:50:19.410Z"
   },
   {
    "duration": 3,
    "start_time": "2023-12-19T00:50:22.760Z"
   },
   {
    "duration": 3,
    "start_time": "2023-12-19T00:50:29.728Z"
   },
   {
    "duration": 7,
    "start_time": "2023-12-19T00:50:40.094Z"
   },
   {
    "duration": 8,
    "start_time": "2023-12-19T00:50:43.414Z"
   },
   {
    "duration": 3,
    "start_time": "2023-12-19T00:50:55.835Z"
   },
   {
    "duration": 2,
    "start_time": "2023-12-19T00:53:02.261Z"
   },
   {
    "duration": 4,
    "start_time": "2023-12-19T00:53:06.223Z"
   },
   {
    "duration": 4,
    "start_time": "2023-12-19T00:53:15.146Z"
   },
   {
    "duration": 3,
    "start_time": "2023-12-19T00:59:42.390Z"
   },
   {
    "duration": 4,
    "start_time": "2023-12-19T01:00:35.640Z"
   },
   {
    "duration": 6,
    "start_time": "2023-12-19T01:00:45.319Z"
   },
   {
    "duration": 8,
    "start_time": "2023-12-19T01:04:11.443Z"
   },
   {
    "duration": 5,
    "start_time": "2023-12-19T01:08:28.598Z"
   },
   {
    "duration": 4,
    "start_time": "2023-12-19T01:36:16.866Z"
   },
   {
    "duration": 78,
    "start_time": "2023-12-19T01:37:50.396Z"
   },
   {
    "duration": 3,
    "start_time": "2023-12-19T01:38:04.799Z"
   },
   {
    "duration": 4,
    "start_time": "2023-12-19T01:40:59.652Z"
   },
   {
    "duration": 847,
    "start_time": "2023-12-19T02:01:27.752Z"
   },
   {
    "duration": 69,
    "start_time": "2023-12-19T02:01:28.601Z"
   },
   {
    "duration": 13,
    "start_time": "2023-12-19T02:01:28.671Z"
   },
   {
    "duration": 18,
    "start_time": "2023-12-19T02:01:28.686Z"
   },
   {
    "duration": 14,
    "start_time": "2023-12-19T02:01:28.705Z"
   },
   {
    "duration": 23,
    "start_time": "2023-12-19T02:01:28.720Z"
   },
   {
    "duration": 19,
    "start_time": "2023-12-19T02:01:28.745Z"
   },
   {
    "duration": 17,
    "start_time": "2023-12-19T02:01:28.765Z"
   },
   {
    "duration": 19,
    "start_time": "2023-12-19T02:01:28.783Z"
   },
   {
    "duration": 17,
    "start_time": "2023-12-19T02:01:28.805Z"
   },
   {
    "duration": 7,
    "start_time": "2023-12-19T02:01:28.824Z"
   },
   {
    "duration": 7,
    "start_time": "2023-12-19T02:01:28.833Z"
   },
   {
    "duration": 7,
    "start_time": "2023-12-19T02:01:28.841Z"
   },
   {
    "duration": 6,
    "start_time": "2023-12-19T02:01:28.850Z"
   },
   {
    "duration": 15,
    "start_time": "2023-12-19T02:01:28.857Z"
   },
   {
    "duration": 16,
    "start_time": "2023-12-19T02:01:28.873Z"
   },
   {
    "duration": 13,
    "start_time": "2023-12-19T02:01:28.890Z"
   },
   {
    "duration": 12,
    "start_time": "2023-12-19T02:01:28.904Z"
   },
   {
    "duration": 11,
    "start_time": "2023-12-19T02:01:28.918Z"
   },
   {
    "duration": 16,
    "start_time": "2023-12-19T02:01:28.930Z"
   },
   {
    "duration": 5,
    "start_time": "2023-12-19T02:01:28.948Z"
   },
   {
    "duration": 11,
    "start_time": "2023-12-19T02:01:28.954Z"
   },
   {
    "duration": 23,
    "start_time": "2023-12-19T02:01:28.966Z"
   },
   {
    "duration": 421,
    "start_time": "2023-12-19T02:01:28.991Z"
   },
   {
    "duration": 4,
    "start_time": "2023-12-19T02:01:29.414Z"
   },
   {
    "duration": 3,
    "start_time": "2023-12-19T02:01:29.420Z"
   },
   {
    "duration": 12,
    "start_time": "2023-12-19T02:01:29.424Z"
   },
   {
    "duration": 137,
    "start_time": "2023-12-19T02:01:29.440Z"
   },
   {
    "duration": 2,
    "start_time": "2023-12-19T02:01:29.578Z"
   },
   {
    "duration": 198,
    "start_time": "2023-12-19T02:01:29.588Z"
   },
   {
    "duration": 9,
    "start_time": "2023-12-19T02:01:29.787Z"
   },
   {
    "duration": 31,
    "start_time": "2023-12-19T02:01:29.797Z"
   },
   {
    "duration": 240,
    "start_time": "2023-12-19T02:01:29.829Z"
   },
   {
    "duration": 145,
    "start_time": "2023-12-19T02:01:30.071Z"
   },
   {
    "duration": 103,
    "start_time": "2023-12-19T02:01:30.218Z"
   },
   {
    "duration": 158,
    "start_time": "2023-12-19T02:01:30.323Z"
   },
   {
    "duration": 107,
    "start_time": "2023-12-19T02:01:30.482Z"
   },
   {
    "duration": 83,
    "start_time": "2023-12-19T02:01:30.591Z"
   },
   {
    "duration": 100,
    "start_time": "2023-12-19T02:01:30.675Z"
   },
   {
    "duration": 63,
    "start_time": "2023-12-19T02:01:30.776Z"
   },
   {
    "duration": 307,
    "start_time": "2023-12-19T02:01:30.841Z"
   },
   {
    "duration": 198,
    "start_time": "2023-12-19T02:01:31.151Z"
   },
   {
    "duration": 75,
    "start_time": "2023-12-19T02:01:31.350Z"
   },
   {
    "duration": 42,
    "start_time": "2023-12-19T02:01:31.427Z"
   },
   {
    "duration": 67,
    "start_time": "2023-12-19T02:01:31.470Z"
   },
   {
    "duration": 110,
    "start_time": "2023-12-19T02:01:31.539Z"
   },
   {
    "duration": 148,
    "start_time": "2023-12-19T02:01:31.650Z"
   },
   {
    "duration": 271,
    "start_time": "2023-12-19T02:01:31.799Z"
   },
   {
    "duration": 145,
    "start_time": "2023-12-19T02:01:32.071Z"
   },
   {
    "duration": 4,
    "start_time": "2023-12-19T02:01:32.217Z"
   },
   {
    "duration": 70,
    "start_time": "2023-12-19T02:01:32.223Z"
   },
   {
    "duration": 56,
    "start_time": "2023-12-19T02:01:32.295Z"
   },
   {
    "duration": 94,
    "start_time": "2023-12-19T02:01:32.353Z"
   },
   {
    "duration": 16,
    "start_time": "2023-12-19T02:01:32.449Z"
   },
   {
    "duration": 65,
    "start_time": "2023-12-19T02:01:32.467Z"
   },
   {
    "duration": 28,
    "start_time": "2023-12-19T02:01:32.533Z"
   },
   {
    "duration": 27,
    "start_time": "2023-12-19T02:01:32.563Z"
   },
   {
    "duration": 16,
    "start_time": "2023-12-19T02:01:32.591Z"
   },
   {
    "duration": 25,
    "start_time": "2023-12-19T02:01:32.608Z"
   },
   {
    "duration": 21,
    "start_time": "2023-12-19T02:01:32.635Z"
   },
   {
    "duration": 18,
    "start_time": "2023-12-19T02:01:32.658Z"
   },
   {
    "duration": 51,
    "start_time": "2023-12-19T02:01:32.678Z"
   },
   {
    "duration": 48,
    "start_time": "2023-12-19T02:01:32.730Z"
   },
   {
    "duration": 6,
    "start_time": "2023-12-19T02:01:32.779Z"
   },
   {
    "duration": 156,
    "start_time": "2023-12-19T02:01:32.786Z"
   },
   {
    "duration": 3,
    "start_time": "2023-12-19T02:01:32.944Z"
   },
   {
    "duration": 122,
    "start_time": "2023-12-19T02:01:32.949Z"
   },
   {
    "duration": 3,
    "start_time": "2023-12-19T02:01:33.072Z"
   },
   {
    "duration": 33,
    "start_time": "2023-12-19T02:01:33.076Z"
   },
   {
    "duration": 12,
    "start_time": "2023-12-19T02:01:33.111Z"
   },
   {
    "duration": 10,
    "start_time": "2023-12-19T02:01:33.124Z"
   },
   {
    "duration": 10,
    "start_time": "2023-12-19T02:01:33.135Z"
   },
   {
    "duration": 959,
    "start_time": "2023-12-19T12:09:32.368Z"
   },
   {
    "duration": 215,
    "start_time": "2023-12-19T12:09:33.329Z"
   },
   {
    "duration": 11,
    "start_time": "2023-12-19T12:09:33.546Z"
   },
   {
    "duration": 16,
    "start_time": "2023-12-19T12:09:33.559Z"
   },
   {
    "duration": 12,
    "start_time": "2023-12-19T12:09:33.614Z"
   },
   {
    "duration": 8,
    "start_time": "2023-12-19T12:09:33.627Z"
   },
   {
    "duration": 16,
    "start_time": "2023-12-19T12:09:33.637Z"
   },
   {
    "duration": 61,
    "start_time": "2023-12-19T12:09:33.655Z"
   },
   {
    "duration": 23,
    "start_time": "2023-12-19T12:09:33.717Z"
   },
   {
    "duration": 6,
    "start_time": "2023-12-19T12:09:33.743Z"
   },
   {
    "duration": 7,
    "start_time": "2023-12-19T12:09:33.751Z"
   },
   {
    "duration": 7,
    "start_time": "2023-12-19T12:09:33.760Z"
   },
   {
    "duration": 8,
    "start_time": "2023-12-19T12:09:33.815Z"
   },
   {
    "duration": 7,
    "start_time": "2023-12-19T12:09:33.824Z"
   },
   {
    "duration": 10,
    "start_time": "2023-12-19T12:09:33.832Z"
   },
   {
    "duration": 7,
    "start_time": "2023-12-19T12:09:33.843Z"
   },
   {
    "duration": 64,
    "start_time": "2023-12-19T12:09:33.852Z"
   },
   {
    "duration": 11,
    "start_time": "2023-12-19T12:09:33.917Z"
   },
   {
    "duration": 19,
    "start_time": "2023-12-19T12:09:33.930Z"
   },
   {
    "duration": 7,
    "start_time": "2023-12-19T12:09:33.950Z"
   },
   {
    "duration": 5,
    "start_time": "2023-12-19T12:09:33.959Z"
   },
   {
    "duration": 4,
    "start_time": "2023-12-19T12:09:34.015Z"
   },
   {
    "duration": 5,
    "start_time": "2023-12-19T12:09:34.021Z"
   },
   {
    "duration": 767,
    "start_time": "2023-12-19T12:09:34.028Z"
   },
   {
    "duration": 6,
    "start_time": "2023-12-19T12:09:34.797Z"
   },
   {
    "duration": 21,
    "start_time": "2023-12-19T12:09:34.804Z"
   },
   {
    "duration": 25,
    "start_time": "2023-12-19T12:09:34.827Z"
   },
   {
    "duration": 131,
    "start_time": "2023-12-19T12:09:34.857Z"
   },
   {
    "duration": 3,
    "start_time": "2023-12-19T12:09:34.989Z"
   },
   {
    "duration": 223,
    "start_time": "2023-12-19T12:09:34.993Z"
   },
   {
    "duration": 8,
    "start_time": "2023-12-19T12:09:35.218Z"
   },
   {
    "duration": 74,
    "start_time": "2023-12-19T12:09:35.228Z"
   },
   {
    "duration": 256,
    "start_time": "2023-12-19T12:09:35.304Z"
   },
   {
    "duration": 210,
    "start_time": "2023-12-19T12:09:35.614Z"
   },
   {
    "duration": 115,
    "start_time": "2023-12-19T12:09:35.826Z"
   },
   {
    "duration": 173,
    "start_time": "2023-12-19T12:09:35.943Z"
   },
   {
    "duration": 107,
    "start_time": "2023-12-19T12:09:36.118Z"
   },
   {
    "duration": 8,
    "start_time": "2023-12-19T12:09:36.226Z"
   },
   {
    "duration": 37,
    "start_time": "2023-12-19T12:09:36.236Z"
   },
   {
    "duration": 24,
    "start_time": "2023-12-19T12:09:36.274Z"
   },
   {
    "duration": 20,
    "start_time": "2023-12-19T12:09:36.300Z"
   },
   {
    "duration": 22,
    "start_time": "2023-12-19T12:09:36.322Z"
   },
   {
    "duration": 81,
    "start_time": "2023-12-19T12:09:36.346Z"
   },
   {
    "duration": 8,
    "start_time": "2023-12-19T12:09:36.428Z"
   },
   {
    "duration": 16,
    "start_time": "2023-12-19T12:09:36.437Z"
   },
   {
    "duration": 24,
    "start_time": "2023-12-19T12:09:36.454Z"
   },
   {
    "duration": 8,
    "start_time": "2023-12-19T12:09:36.479Z"
   },
   {
    "duration": 163,
    "start_time": "2023-12-19T12:09:36.488Z"
   },
   {
    "duration": 157,
    "start_time": "2023-12-19T12:09:36.652Z"
   },
   {
    "duration": 142,
    "start_time": "2023-12-19T12:09:36.814Z"
   },
   {
    "duration": 4,
    "start_time": "2023-12-19T12:09:36.958Z"
   },
   {
    "duration": 39,
    "start_time": "2023-12-19T12:09:36.963Z"
   },
   {
    "duration": 32,
    "start_time": "2023-12-19T12:09:37.004Z"
   },
   {
    "duration": 30,
    "start_time": "2023-12-19T12:09:37.038Z"
   },
   {
    "duration": 16,
    "start_time": "2023-12-19T12:09:37.069Z"
   },
   {
    "duration": 5,
    "start_time": "2023-12-19T12:09:37.087Z"
   },
   {
    "duration": 24,
    "start_time": "2023-12-19T12:09:37.115Z"
   },
   {
    "duration": 14,
    "start_time": "2023-12-19T12:09:37.140Z"
   },
   {
    "duration": 10,
    "start_time": "2023-12-19T12:09:37.155Z"
   },
   {
    "duration": 20,
    "start_time": "2023-12-19T12:09:37.167Z"
   },
   {
    "duration": 6,
    "start_time": "2023-12-19T12:09:37.189Z"
   },
   {
    "duration": 5,
    "start_time": "2023-12-19T12:09:37.215Z"
   },
   {
    "duration": 29,
    "start_time": "2023-12-19T12:09:37.221Z"
   },
   {
    "duration": 22,
    "start_time": "2023-12-19T12:09:37.251Z"
   },
   {
    "duration": 13,
    "start_time": "2023-12-19T12:09:37.275Z"
   },
   {
    "duration": 159,
    "start_time": "2023-12-19T12:09:37.289Z"
   },
   {
    "duration": 8,
    "start_time": "2023-12-19T12:09:37.450Z"
   },
   {
    "duration": 125,
    "start_time": "2023-12-19T12:09:37.459Z"
   },
   {
    "duration": 3,
    "start_time": "2023-12-19T12:09:37.585Z"
   },
   {
    "duration": 12,
    "start_time": "2023-12-19T12:09:37.589Z"
   },
   {
    "duration": 10,
    "start_time": "2023-12-19T12:09:37.603Z"
   },
   {
    "duration": 16,
    "start_time": "2023-12-19T12:09:37.614Z"
   },
   {
    "duration": 7,
    "start_time": "2023-12-19T12:09:37.631Z"
   },
   {
    "duration": 152,
    "start_time": "2023-12-19T12:10:10.165Z"
   },
   {
    "duration": 150,
    "start_time": "2023-12-19T12:11:09.794Z"
   },
   {
    "duration": 157,
    "start_time": "2023-12-19T12:11:19.667Z"
   },
   {
    "duration": 153,
    "start_time": "2023-12-19T12:11:31.145Z"
   },
   {
    "duration": 20,
    "start_time": "2023-12-19T12:17:13.991Z"
   },
   {
    "duration": 798,
    "start_time": "2023-12-24T03:08:21.032Z"
   },
   {
    "duration": 181,
    "start_time": "2023-12-24T03:08:21.832Z"
   },
   {
    "duration": 12,
    "start_time": "2023-12-24T03:08:22.014Z"
   },
   {
    "duration": 21,
    "start_time": "2023-12-24T03:08:22.028Z"
   },
   {
    "duration": 10,
    "start_time": "2023-12-24T03:08:22.050Z"
   },
   {
    "duration": 19,
    "start_time": "2023-12-24T03:08:22.062Z"
   },
   {
    "duration": 11,
    "start_time": "2023-12-24T03:08:22.082Z"
   },
   {
    "duration": 21,
    "start_time": "2023-12-24T03:08:22.095Z"
   },
   {
    "duration": 13,
    "start_time": "2023-12-24T03:08:22.117Z"
   },
   {
    "duration": 7,
    "start_time": "2023-12-24T03:08:22.132Z"
   },
   {
    "duration": 7,
    "start_time": "2023-12-24T03:08:22.140Z"
   },
   {
    "duration": 7,
    "start_time": "2023-12-24T03:08:22.148Z"
   },
   {
    "duration": 10,
    "start_time": "2023-12-24T03:08:22.157Z"
   },
   {
    "duration": 6,
    "start_time": "2023-12-24T03:08:22.169Z"
   },
   {
    "duration": 41,
    "start_time": "2023-12-24T03:08:22.176Z"
   },
   {
    "duration": 14,
    "start_time": "2023-12-24T03:08:22.220Z"
   },
   {
    "duration": 36,
    "start_time": "2023-12-24T03:08:22.236Z"
   },
   {
    "duration": 25,
    "start_time": "2023-12-24T03:08:22.274Z"
   },
   {
    "duration": 12,
    "start_time": "2023-12-24T03:08:22.301Z"
   },
   {
    "duration": 15,
    "start_time": "2023-12-24T03:08:22.315Z"
   },
   {
    "duration": 12,
    "start_time": "2023-12-24T03:08:22.332Z"
   },
   {
    "duration": 24,
    "start_time": "2023-12-24T03:08:22.345Z"
   },
   {
    "duration": 21,
    "start_time": "2023-12-24T03:08:22.371Z"
   },
   {
    "duration": 570,
    "start_time": "2023-12-24T03:08:22.394Z"
   },
   {
    "duration": 6,
    "start_time": "2023-12-24T03:08:22.966Z"
   },
   {
    "duration": 5,
    "start_time": "2023-12-24T03:08:22.973Z"
   },
   {
    "duration": 9,
    "start_time": "2023-12-24T03:08:22.979Z"
   },
   {
    "duration": 137,
    "start_time": "2023-12-24T03:08:22.993Z"
   },
   {
    "duration": 3,
    "start_time": "2023-12-24T03:08:23.132Z"
   },
   {
    "duration": 203,
    "start_time": "2023-12-24T03:08:23.136Z"
   },
   {
    "duration": 10,
    "start_time": "2023-12-24T03:08:23.341Z"
   },
   {
    "duration": 25,
    "start_time": "2023-12-24T03:08:23.352Z"
   },
   {
    "duration": 230,
    "start_time": "2023-12-24T03:08:23.379Z"
   },
   {
    "duration": 142,
    "start_time": "2023-12-24T03:08:23.611Z"
   },
   {
    "duration": 103,
    "start_time": "2023-12-24T03:08:23.755Z"
   },
   {
    "duration": 158,
    "start_time": "2023-12-24T03:08:23.859Z"
   },
   {
    "duration": 106,
    "start_time": "2023-12-24T03:08:24.018Z"
   },
   {
    "duration": 9,
    "start_time": "2023-12-24T03:08:24.126Z"
   },
   {
    "duration": 29,
    "start_time": "2023-12-24T03:08:24.136Z"
   },
   {
    "duration": 24,
    "start_time": "2023-12-24T03:08:24.167Z"
   },
   {
    "duration": 31,
    "start_time": "2023-12-24T03:08:24.192Z"
   },
   {
    "duration": 28,
    "start_time": "2023-12-24T03:08:24.224Z"
   },
   {
    "duration": 101,
    "start_time": "2023-12-24T03:08:24.254Z"
   },
   {
    "duration": 6,
    "start_time": "2023-12-24T03:08:24.357Z"
   },
   {
    "duration": 30,
    "start_time": "2023-12-24T03:08:24.365Z"
   },
   {
    "duration": 19,
    "start_time": "2023-12-24T03:08:24.397Z"
   },
   {
    "duration": 9,
    "start_time": "2023-12-24T03:08:24.418Z"
   },
   {
    "duration": 161,
    "start_time": "2023-12-24T03:08:24.428Z"
   },
   {
    "duration": 157,
    "start_time": "2023-12-24T03:08:24.590Z"
   },
   {
    "duration": 160,
    "start_time": "2023-12-24T03:08:24.749Z"
   },
   {
    "duration": 3,
    "start_time": "2023-12-24T03:08:24.915Z"
   },
   {
    "duration": 30,
    "start_time": "2023-12-24T03:08:24.920Z"
   },
   {
    "duration": 27,
    "start_time": "2023-12-24T03:08:24.952Z"
   },
   {
    "duration": 56,
    "start_time": "2023-12-24T03:08:24.981Z"
   },
   {
    "duration": 17,
    "start_time": "2023-12-24T03:08:25.039Z"
   },
   {
    "duration": 13,
    "start_time": "2023-12-24T03:08:25.057Z"
   },
   {
    "duration": 25,
    "start_time": "2023-12-24T03:08:25.072Z"
   },
   {
    "duration": 21,
    "start_time": "2023-12-24T03:08:25.099Z"
   },
   {
    "duration": 9,
    "start_time": "2023-12-24T03:08:25.122Z"
   },
   {
    "duration": 13,
    "start_time": "2023-12-24T03:08:25.132Z"
   },
   {
    "duration": 8,
    "start_time": "2023-12-24T03:08:25.146Z"
   },
   {
    "duration": 8,
    "start_time": "2023-12-24T03:08:25.155Z"
   },
   {
    "duration": 49,
    "start_time": "2023-12-24T03:08:25.164Z"
   },
   {
    "duration": 22,
    "start_time": "2023-12-24T03:08:25.215Z"
   },
   {
    "duration": 6,
    "start_time": "2023-12-24T03:08:25.238Z"
   },
   {
    "duration": 153,
    "start_time": "2023-12-24T03:08:25.245Z"
   },
   {
    "duration": 17,
    "start_time": "2023-12-24T03:08:25.400Z"
   },
   {
    "duration": 128,
    "start_time": "2023-12-24T03:08:25.418Z"
   },
   {
    "duration": 4,
    "start_time": "2023-12-24T03:08:25.547Z"
   },
   {
    "duration": 16,
    "start_time": "2023-12-24T03:08:25.552Z"
   },
   {
    "duration": 14,
    "start_time": "2023-12-24T03:08:25.570Z"
   },
   {
    "duration": 9,
    "start_time": "2023-12-24T03:08:25.586Z"
   },
   {
    "duration": 17,
    "start_time": "2023-12-24T03:08:25.597Z"
   },
   {
    "duration": 2,
    "start_time": "2023-12-24T03:09:39.300Z"
   },
   {
    "duration": 833,
    "start_time": "2023-12-24T03:13:01.156Z"
   },
   {
    "duration": 63,
    "start_time": "2023-12-24T03:13:01.991Z"
   },
   {
    "duration": 12,
    "start_time": "2023-12-24T03:13:02.055Z"
   },
   {
    "duration": 57,
    "start_time": "2023-12-24T03:13:02.069Z"
   },
   {
    "duration": 28,
    "start_time": "2023-12-24T03:13:02.127Z"
   },
   {
    "duration": 56,
    "start_time": "2023-12-24T03:13:02.157Z"
   },
   {
    "duration": 66,
    "start_time": "2023-12-24T03:13:02.215Z"
   },
   {
    "duration": 39,
    "start_time": "2023-12-24T03:13:02.282Z"
   },
   {
    "duration": 43,
    "start_time": "2023-12-24T03:13:02.323Z"
   },
   {
    "duration": 48,
    "start_time": "2023-12-24T03:13:02.369Z"
   },
   {
    "duration": 20,
    "start_time": "2023-12-24T03:13:02.419Z"
   },
   {
    "duration": 42,
    "start_time": "2023-12-24T03:13:02.441Z"
   },
   {
    "duration": 21,
    "start_time": "2023-12-24T03:13:02.484Z"
   },
   {
    "duration": 45,
    "start_time": "2023-12-24T03:13:02.506Z"
   },
   {
    "duration": 36,
    "start_time": "2023-12-24T03:13:02.553Z"
   },
   {
    "duration": 43,
    "start_time": "2023-12-24T03:13:02.590Z"
   },
   {
    "duration": 40,
    "start_time": "2023-12-24T03:13:02.635Z"
   },
   {
    "duration": 14,
    "start_time": "2023-12-24T03:13:02.676Z"
   },
   {
    "duration": 16,
    "start_time": "2023-12-24T03:13:02.691Z"
   },
   {
    "duration": 9,
    "start_time": "2023-12-24T03:13:02.708Z"
   },
   {
    "duration": 8,
    "start_time": "2023-12-24T03:13:02.718Z"
   },
   {
    "duration": 5,
    "start_time": "2023-12-24T03:13:02.727Z"
   },
   {
    "duration": 8,
    "start_time": "2023-12-24T03:13:02.734Z"
   },
   {
    "duration": 401,
    "start_time": "2023-12-24T03:13:02.743Z"
   },
   {
    "duration": 5,
    "start_time": "2023-12-24T03:13:03.146Z"
   },
   {
    "duration": 6,
    "start_time": "2023-12-24T03:13:03.152Z"
   },
   {
    "duration": 10,
    "start_time": "2023-12-24T03:13:03.159Z"
   },
   {
    "duration": 136,
    "start_time": "2023-12-24T03:13:03.172Z"
   },
   {
    "duration": 6,
    "start_time": "2023-12-24T03:13:03.309Z"
   },
   {
    "duration": 194,
    "start_time": "2023-12-24T03:13:03.316Z"
   },
   {
    "duration": 8,
    "start_time": "2023-12-24T03:13:03.514Z"
   },
   {
    "duration": 7,
    "start_time": "2023-12-24T03:13:03.523Z"
   },
   {
    "duration": 243,
    "start_time": "2023-12-24T03:13:03.532Z"
   },
   {
    "duration": 148,
    "start_time": "2023-12-24T03:13:03.776Z"
   },
   {
    "duration": 107,
    "start_time": "2023-12-24T03:13:03.925Z"
   },
   {
    "duration": 154,
    "start_time": "2023-12-24T03:13:04.034Z"
   },
   {
    "duration": 103,
    "start_time": "2023-12-24T03:13:04.190Z"
   },
   {
    "duration": 8,
    "start_time": "2023-12-24T03:13:04.295Z"
   },
   {
    "duration": 55,
    "start_time": "2023-12-24T03:13:04.304Z"
   },
   {
    "duration": 22,
    "start_time": "2023-12-24T03:13:04.360Z"
   },
   {
    "duration": 9,
    "start_time": "2023-12-24T03:13:04.384Z"
   },
   {
    "duration": 11,
    "start_time": "2023-12-24T03:13:04.394Z"
   },
   {
    "duration": 18,
    "start_time": "2023-12-24T03:13:04.406Z"
   },
   {
    "duration": 8,
    "start_time": "2023-12-24T03:13:04.425Z"
   },
   {
    "duration": 15,
    "start_time": "2023-12-24T03:13:04.434Z"
   },
   {
    "duration": 16,
    "start_time": "2023-12-24T03:13:04.451Z"
   },
   {
    "duration": 3,
    "start_time": "2023-12-24T03:13:04.468Z"
   },
   {
    "duration": 155,
    "start_time": "2023-12-24T03:13:04.473Z"
   },
   {
    "duration": 150,
    "start_time": "2023-12-24T03:13:04.629Z"
   },
   {
    "duration": 217,
    "start_time": "2023-12-24T03:13:04.781Z"
   },
   {
    "duration": 16,
    "start_time": "2023-12-24T03:13:04.999Z"
   },
   {
    "duration": 36,
    "start_time": "2023-12-24T03:13:05.016Z"
   },
   {
    "duration": 30,
    "start_time": "2023-12-24T03:13:05.054Z"
   },
   {
    "duration": 45,
    "start_time": "2023-12-24T03:13:05.085Z"
   },
   {
    "duration": 16,
    "start_time": "2023-12-24T03:13:05.132Z"
   },
   {
    "duration": 14,
    "start_time": "2023-12-24T03:13:05.149Z"
   },
   {
    "duration": 25,
    "start_time": "2023-12-24T03:13:05.164Z"
   },
   {
    "duration": 25,
    "start_time": "2023-12-24T03:13:05.191Z"
   },
   {
    "duration": 2,
    "start_time": "2023-12-24T03:13:05.218Z"
   },
   {
    "duration": 5,
    "start_time": "2023-12-24T03:13:05.222Z"
   },
   {
    "duration": 9,
    "start_time": "2023-12-24T03:13:05.229Z"
   },
   {
    "duration": 9,
    "start_time": "2023-12-24T03:13:05.239Z"
   },
   {
    "duration": 30,
    "start_time": "2023-12-24T03:13:05.249Z"
   },
   {
    "duration": 22,
    "start_time": "2023-12-24T03:13:05.280Z"
   },
   {
    "duration": 19,
    "start_time": "2023-12-24T03:13:05.303Z"
   },
   {
    "duration": 153,
    "start_time": "2023-12-24T03:13:05.324Z"
   },
   {
    "duration": 6,
    "start_time": "2023-12-24T03:13:05.478Z"
   },
   {
    "duration": 111,
    "start_time": "2023-12-24T03:13:05.486Z"
   },
   {
    "duration": 3,
    "start_time": "2023-12-24T03:13:05.598Z"
   },
   {
    "duration": 19,
    "start_time": "2023-12-24T03:13:05.602Z"
   },
   {
    "duration": 6,
    "start_time": "2023-12-24T03:13:05.622Z"
   },
   {
    "duration": 11,
    "start_time": "2023-12-24T03:13:05.629Z"
   },
   {
    "duration": 19,
    "start_time": "2023-12-24T03:13:05.641Z"
   },
   {
    "duration": 151,
    "start_time": "2023-12-24T03:15:03.062Z"
   },
   {
    "duration": 5,
    "start_time": "2023-12-24T03:15:45.506Z"
   },
   {
    "duration": 5,
    "start_time": "2023-12-24T03:18:25.906Z"
   },
   {
    "duration": 3,
    "start_time": "2023-12-24T03:30:51.167Z"
   },
   {
    "duration": 18,
    "start_time": "2023-12-24T05:17:24.819Z"
   },
   {
    "duration": 79,
    "start_time": "2023-12-24T05:19:27.798Z"
   },
   {
    "duration": 11,
    "start_time": "2023-12-24T05:19:35.903Z"
   },
   {
    "duration": 12,
    "start_time": "2023-12-24T05:19:50.443Z"
   },
   {
    "duration": 7,
    "start_time": "2023-12-24T05:20:02.643Z"
   },
   {
    "duration": 4,
    "start_time": "2023-12-24T05:20:25.055Z"
   },
   {
    "duration": 6,
    "start_time": "2023-12-24T05:20:39.470Z"
   },
   {
    "duration": 7,
    "start_time": "2023-12-24T05:22:21.852Z"
   },
   {
    "duration": 6,
    "start_time": "2023-12-24T05:50:37.733Z"
   },
   {
    "duration": 6,
    "start_time": "2023-12-24T05:52:03.580Z"
   },
   {
    "duration": 6,
    "start_time": "2023-12-24T05:56:04.037Z"
   },
   {
    "duration": 149,
    "start_time": "2023-12-24T06:09:44.809Z"
   },
   {
    "duration": 144,
    "start_time": "2023-12-24T06:10:11.358Z"
   },
   {
    "duration": 149,
    "start_time": "2023-12-24T06:10:31.817Z"
   },
   {
    "duration": 140,
    "start_time": "2023-12-24T06:10:44.380Z"
   },
   {
    "duration": 162,
    "start_time": "2023-12-24T06:11:07.389Z"
   },
   {
    "duration": 150,
    "start_time": "2023-12-24T06:11:26.075Z"
   },
   {
    "duration": 269,
    "start_time": "2023-12-24T06:14:49.873Z"
   },
   {
    "duration": 3,
    "start_time": "2023-12-24T06:20:09.676Z"
   },
   {
    "duration": 13,
    "start_time": "2023-12-24T06:21:01.132Z"
   },
   {
    "duration": 367,
    "start_time": "2023-12-24T06:21:56.319Z"
   },
   {
    "duration": 285,
    "start_time": "2023-12-24T06:22:11.528Z"
   },
   {
    "duration": 126,
    "start_time": "2023-12-24T06:22:28.634Z"
   },
   {
    "duration": 345,
    "start_time": "2023-12-24T06:22:40.505Z"
   },
   {
    "duration": 433,
    "start_time": "2023-12-24T06:22:59.799Z"
   },
   {
    "duration": 320,
    "start_time": "2023-12-24T06:23:51.806Z"
   },
   {
    "duration": 338,
    "start_time": "2023-12-24T06:25:56.953Z"
   },
   {
    "duration": 342,
    "start_time": "2023-12-24T06:27:32.332Z"
   },
   {
    "duration": 838,
    "start_time": "2023-12-24T07:12:31.582Z"
   },
   {
    "duration": 64,
    "start_time": "2023-12-24T07:12:32.422Z"
   },
   {
    "duration": 11,
    "start_time": "2023-12-24T07:12:32.487Z"
   },
   {
    "duration": 19,
    "start_time": "2023-12-24T07:12:32.501Z"
   },
   {
    "duration": 10,
    "start_time": "2023-12-24T07:12:32.521Z"
   },
   {
    "duration": 8,
    "start_time": "2023-12-24T07:12:32.532Z"
   },
   {
    "duration": 9,
    "start_time": "2023-12-24T07:12:32.541Z"
   },
   {
    "duration": 7,
    "start_time": "2023-12-24T07:12:32.551Z"
   },
   {
    "duration": 34,
    "start_time": "2023-12-24T07:12:32.559Z"
   },
   {
    "duration": 6,
    "start_time": "2023-12-24T07:12:32.595Z"
   },
   {
    "duration": 11,
    "start_time": "2023-12-24T07:12:32.603Z"
   },
   {
    "duration": 7,
    "start_time": "2023-12-24T07:12:32.616Z"
   },
   {
    "duration": 7,
    "start_time": "2023-12-24T07:12:32.624Z"
   },
   {
    "duration": 12,
    "start_time": "2023-12-24T07:12:32.632Z"
   },
   {
    "duration": 6,
    "start_time": "2023-12-24T07:12:32.645Z"
   },
   {
    "duration": 14,
    "start_time": "2023-12-24T07:12:32.652Z"
   },
   {
    "duration": 20,
    "start_time": "2023-12-24T07:12:32.667Z"
   },
   {
    "duration": 24,
    "start_time": "2023-12-24T07:12:32.688Z"
   },
   {
    "duration": 17,
    "start_time": "2023-12-24T07:12:32.713Z"
   },
   {
    "duration": 7,
    "start_time": "2023-12-24T07:12:32.731Z"
   },
   {
    "duration": 7,
    "start_time": "2023-12-24T07:12:32.740Z"
   },
   {
    "duration": 13,
    "start_time": "2023-12-24T07:12:32.748Z"
   },
   {
    "duration": 14,
    "start_time": "2023-12-24T07:12:32.763Z"
   },
   {
    "duration": 380,
    "start_time": "2023-12-24T07:12:32.779Z"
   },
   {
    "duration": 5,
    "start_time": "2023-12-24T07:12:33.161Z"
   },
   {
    "duration": 10,
    "start_time": "2023-12-24T07:12:33.167Z"
   },
   {
    "duration": 7,
    "start_time": "2023-12-24T07:12:33.178Z"
   },
   {
    "duration": 131,
    "start_time": "2023-12-24T07:12:33.188Z"
   },
   {
    "duration": 3,
    "start_time": "2023-12-24T07:12:33.320Z"
   },
   {
    "duration": 224,
    "start_time": "2023-12-24T07:12:33.325Z"
   },
   {
    "duration": 9,
    "start_time": "2023-12-24T07:12:33.550Z"
   },
   {
    "duration": 22,
    "start_time": "2023-12-24T07:12:33.560Z"
   },
   {
    "duration": 231,
    "start_time": "2023-12-24T07:12:33.583Z"
   },
   {
    "duration": 200,
    "start_time": "2023-12-24T07:12:33.816Z"
   },
   {
    "duration": 99,
    "start_time": "2023-12-24T07:12:34.017Z"
   },
   {
    "duration": 156,
    "start_time": "2023-12-24T07:12:34.117Z"
   },
   {
    "duration": 100,
    "start_time": "2023-12-24T07:12:34.274Z"
   },
   {
    "duration": 8,
    "start_time": "2023-12-24T07:12:34.376Z"
   },
   {
    "duration": 417,
    "start_time": "2023-12-24T07:12:34.387Z"
   },
   {
    "duration": 339,
    "start_time": "2023-12-24T07:12:34.806Z"
   },
   {
    "duration": 21,
    "start_time": "2023-12-24T07:12:35.147Z"
   },
   {
    "duration": 23,
    "start_time": "2023-12-24T07:12:35.170Z"
   },
   {
    "duration": 26,
    "start_time": "2023-12-24T07:12:35.194Z"
   },
   {
    "duration": 34,
    "start_time": "2023-12-24T07:12:35.222Z"
   },
   {
    "duration": 13,
    "start_time": "2023-12-24T07:12:35.257Z"
   },
   {
    "duration": 7,
    "start_time": "2023-12-24T07:12:35.272Z"
   },
   {
    "duration": 19,
    "start_time": "2023-12-24T07:12:35.280Z"
   },
   {
    "duration": 18,
    "start_time": "2023-12-24T07:12:35.300Z"
   },
   {
    "duration": 4,
    "start_time": "2023-12-24T07:12:35.319Z"
   },
   {
    "duration": 162,
    "start_time": "2023-12-24T07:12:35.324Z"
   },
   {
    "duration": 164,
    "start_time": "2023-12-24T07:12:35.487Z"
   },
   {
    "duration": 185,
    "start_time": "2023-12-24T07:12:35.653Z"
   },
   {
    "duration": 4,
    "start_time": "2023-12-24T07:12:35.839Z"
   },
   {
    "duration": 35,
    "start_time": "2023-12-24T07:12:35.844Z"
   },
   {
    "duration": 35,
    "start_time": "2023-12-24T07:12:35.880Z"
   },
   {
    "duration": 31,
    "start_time": "2023-12-24T07:12:35.917Z"
   },
   {
    "duration": 16,
    "start_time": "2023-12-24T07:12:35.950Z"
   },
   {
    "duration": 16,
    "start_time": "2023-12-24T07:12:35.967Z"
   },
   {
    "duration": 41,
    "start_time": "2023-12-24T07:12:35.984Z"
   },
   {
    "duration": 13,
    "start_time": "2023-12-24T07:12:36.026Z"
   },
   {
    "duration": 5,
    "start_time": "2023-12-24T07:12:36.041Z"
   },
   {
    "duration": 5,
    "start_time": "2023-12-24T07:12:36.047Z"
   },
   {
    "duration": 18,
    "start_time": "2023-12-24T07:12:36.053Z"
   },
   {
    "duration": 22,
    "start_time": "2023-12-24T07:12:36.073Z"
   },
   {
    "duration": 4,
    "start_time": "2023-12-24T07:12:36.100Z"
   },
   {
    "duration": 16,
    "start_time": "2023-12-24T07:12:36.106Z"
   },
   {
    "duration": 17,
    "start_time": "2023-12-24T07:12:36.123Z"
   },
   {
    "duration": 8,
    "start_time": "2023-12-24T07:12:36.142Z"
   },
   {
    "duration": 14,
    "start_time": "2023-12-24T07:12:36.152Z"
   },
   {
    "duration": 4,
    "start_time": "2023-12-24T07:12:36.168Z"
   },
   {
    "duration": 10,
    "start_time": "2023-12-24T07:12:36.173Z"
   },
   {
    "duration": 168,
    "start_time": "2023-12-24T07:12:36.185Z"
   },
   {
    "duration": 3,
    "start_time": "2023-12-24T07:12:36.355Z"
   },
   {
    "duration": 121,
    "start_time": "2023-12-24T07:12:36.360Z"
   },
   {
    "duration": 3,
    "start_time": "2023-12-24T07:12:36.482Z"
   },
   {
    "duration": 17,
    "start_time": "2023-12-24T07:12:36.486Z"
   },
   {
    "duration": 21,
    "start_time": "2023-12-24T07:12:36.504Z"
   },
   {
    "duration": 7,
    "start_time": "2023-12-24T07:12:36.526Z"
   },
   {
    "duration": 12,
    "start_time": "2023-12-24T07:12:36.535Z"
   },
   {
    "duration": 134,
    "start_time": "2023-12-24T07:19:42.264Z"
   },
   {
    "duration": 132,
    "start_time": "2023-12-24T07:19:53.246Z"
   },
   {
    "duration": 4,
    "start_time": "2023-12-24T07:19:56.206Z"
   },
   {
    "duration": 5,
    "start_time": "2023-12-24T07:20:18.776Z"
   },
   {
    "duration": 5,
    "start_time": "2023-12-24T07:20:35.059Z"
   },
   {
    "duration": 5,
    "start_time": "2023-12-24T07:25:06.243Z"
   },
   {
    "duration": 5,
    "start_time": "2023-12-24T07:25:11.966Z"
   },
   {
    "duration": 6,
    "start_time": "2023-12-24T07:26:27.809Z"
   },
   {
    "duration": 5,
    "start_time": "2023-12-24T07:26:44.588Z"
   },
   {
    "duration": 76,
    "start_time": "2023-12-24T07:27:07.702Z"
   },
   {
    "duration": 79,
    "start_time": "2023-12-24T07:27:17.742Z"
   },
   {
    "duration": 7,
    "start_time": "2023-12-24T07:27:24.707Z"
   },
   {
    "duration": 5,
    "start_time": "2023-12-24T07:27:35.401Z"
   },
   {
    "duration": 6,
    "start_time": "2023-12-24T07:28:18.559Z"
   },
   {
    "duration": 2,
    "start_time": "2023-12-24T07:30:31.914Z"
   },
   {
    "duration": 3,
    "start_time": "2023-12-24T07:30:32.671Z"
   },
   {
    "duration": 4,
    "start_time": "2023-12-24T07:30:33.594Z"
   },
   {
    "duration": 6,
    "start_time": "2023-12-24T07:30:35.158Z"
   },
   {
    "duration": 6,
    "start_time": "2023-12-24T07:32:40.091Z"
   },
   {
    "duration": 4,
    "start_time": "2023-12-24T07:33:21.760Z"
   },
   {
    "duration": 5,
    "start_time": "2023-12-24T07:33:28.167Z"
   },
   {
    "duration": 4,
    "start_time": "2023-12-24T07:34:08.756Z"
   },
   {
    "duration": 897,
    "start_time": "2023-12-24T07:40:50.311Z"
   },
   {
    "duration": 64,
    "start_time": "2023-12-24T07:40:51.210Z"
   },
   {
    "duration": 12,
    "start_time": "2023-12-24T07:40:51.275Z"
   },
   {
    "duration": 15,
    "start_time": "2023-12-24T07:40:51.289Z"
   },
   {
    "duration": 18,
    "start_time": "2023-12-24T07:40:51.305Z"
   },
   {
    "duration": 24,
    "start_time": "2023-12-24T07:40:51.325Z"
   },
   {
    "duration": 9,
    "start_time": "2023-12-24T07:40:51.351Z"
   },
   {
    "duration": 8,
    "start_time": "2023-12-24T07:40:51.361Z"
   },
   {
    "duration": 14,
    "start_time": "2023-12-24T07:40:51.371Z"
   },
   {
    "duration": 10,
    "start_time": "2023-12-24T07:40:51.388Z"
   },
   {
    "duration": 19,
    "start_time": "2023-12-24T07:40:51.399Z"
   },
   {
    "duration": 7,
    "start_time": "2023-12-24T07:40:51.419Z"
   },
   {
    "duration": 7,
    "start_time": "2023-12-24T07:40:51.427Z"
   },
   {
    "duration": 6,
    "start_time": "2023-12-24T07:40:51.435Z"
   },
   {
    "duration": 25,
    "start_time": "2023-12-24T07:40:51.442Z"
   },
   {
    "duration": 7,
    "start_time": "2023-12-24T07:40:51.468Z"
   },
   {
    "duration": 21,
    "start_time": "2023-12-24T07:40:51.477Z"
   },
   {
    "duration": 24,
    "start_time": "2023-12-24T07:40:51.499Z"
   },
   {
    "duration": 11,
    "start_time": "2023-12-24T07:40:51.525Z"
   },
   {
    "duration": 12,
    "start_time": "2023-12-24T07:40:51.538Z"
   },
   {
    "duration": 5,
    "start_time": "2023-12-24T07:40:51.551Z"
   },
   {
    "duration": 19,
    "start_time": "2023-12-24T07:40:51.557Z"
   },
   {
    "duration": 5,
    "start_time": "2023-12-24T07:40:51.577Z"
   },
   {
    "duration": 386,
    "start_time": "2023-12-24T07:40:51.583Z"
   },
   {
    "duration": 5,
    "start_time": "2023-12-24T07:40:51.971Z"
   },
   {
    "duration": 8,
    "start_time": "2023-12-24T07:40:51.977Z"
   },
   {
    "duration": 19,
    "start_time": "2023-12-24T07:40:51.986Z"
   },
   {
    "duration": 123,
    "start_time": "2023-12-24T07:40:52.008Z"
   },
   {
    "duration": 3,
    "start_time": "2023-12-24T07:40:52.132Z"
   },
   {
    "duration": 202,
    "start_time": "2023-12-24T07:40:52.136Z"
   },
   {
    "duration": 11,
    "start_time": "2023-12-24T07:40:52.341Z"
   },
   {
    "duration": 7,
    "start_time": "2023-12-24T07:40:52.353Z"
   },
   {
    "duration": 271,
    "start_time": "2023-12-24T07:40:52.361Z"
   },
   {
    "duration": 214,
    "start_time": "2023-12-24T07:40:52.633Z"
   },
   {
    "duration": 108,
    "start_time": "2023-12-24T07:40:52.849Z"
   },
   {
    "duration": 166,
    "start_time": "2023-12-24T07:40:52.958Z"
   },
   {
    "duration": 111,
    "start_time": "2023-12-24T07:40:53.126Z"
   },
   {
    "duration": 9,
    "start_time": "2023-12-24T07:40:53.239Z"
   },
   {
    "duration": 429,
    "start_time": "2023-12-24T07:40:53.249Z"
   },
   {
    "duration": 391,
    "start_time": "2023-12-24T07:40:53.680Z"
   },
   {
    "duration": 24,
    "start_time": "2023-12-24T07:40:54.073Z"
   },
   {
    "duration": 36,
    "start_time": "2023-12-24T07:40:54.099Z"
   },
   {
    "duration": 10,
    "start_time": "2023-12-24T07:40:54.137Z"
   },
   {
    "duration": 17,
    "start_time": "2023-12-24T07:40:54.148Z"
   },
   {
    "duration": 16,
    "start_time": "2023-12-24T07:40:54.166Z"
   },
   {
    "duration": 32,
    "start_time": "2023-12-24T07:40:54.184Z"
   },
   {
    "duration": 18,
    "start_time": "2023-12-24T07:40:54.218Z"
   },
   {
    "duration": 15,
    "start_time": "2023-12-24T07:40:54.238Z"
   },
   {
    "duration": 4,
    "start_time": "2023-12-24T07:40:54.255Z"
   },
   {
    "duration": 201,
    "start_time": "2023-12-24T07:40:54.260Z"
   },
   {
    "duration": 158,
    "start_time": "2023-12-24T07:40:54.463Z"
   },
   {
    "duration": 171,
    "start_time": "2023-12-24T07:40:54.623Z"
   },
   {
    "duration": 4,
    "start_time": "2023-12-24T07:40:54.796Z"
   },
   {
    "duration": 45,
    "start_time": "2023-12-24T07:40:54.802Z"
   },
   {
    "duration": 39,
    "start_time": "2023-12-24T07:40:54.849Z"
   },
   {
    "duration": 48,
    "start_time": "2023-12-24T07:40:54.890Z"
   },
   {
    "duration": 18,
    "start_time": "2023-12-24T07:40:54.940Z"
   },
   {
    "duration": 7,
    "start_time": "2023-12-24T07:40:54.960Z"
   },
   {
    "duration": 47,
    "start_time": "2023-12-24T07:40:54.969Z"
   },
   {
    "duration": 15,
    "start_time": "2023-12-24T07:40:55.018Z"
   },
   {
    "duration": 6,
    "start_time": "2023-12-24T07:40:55.035Z"
   },
   {
    "duration": 19,
    "start_time": "2023-12-24T07:40:55.043Z"
   },
   {
    "duration": 24,
    "start_time": "2023-12-24T07:40:55.064Z"
   },
   {
    "duration": 16,
    "start_time": "2023-12-24T07:40:55.090Z"
   },
   {
    "duration": 5,
    "start_time": "2023-12-24T07:40:55.108Z"
   },
   {
    "duration": 5,
    "start_time": "2023-12-24T07:40:55.115Z"
   },
   {
    "duration": 17,
    "start_time": "2023-12-24T07:40:55.121Z"
   },
   {
    "duration": 9,
    "start_time": "2023-12-24T07:40:55.140Z"
   },
   {
    "duration": 35,
    "start_time": "2023-12-24T07:40:55.151Z"
   },
   {
    "duration": 25,
    "start_time": "2023-12-24T07:40:55.187Z"
   },
   {
    "duration": 26,
    "start_time": "2023-12-24T07:40:55.214Z"
   },
   {
    "duration": 149,
    "start_time": "2023-12-24T07:40:55.242Z"
   },
   {
    "duration": 4,
    "start_time": "2023-12-24T07:40:55.393Z"
   },
   {
    "duration": 172,
    "start_time": "2023-12-24T07:40:55.399Z"
   },
   {
    "duration": 3,
    "start_time": "2023-12-24T07:40:55.573Z"
   },
   {
    "duration": 28,
    "start_time": "2023-12-24T07:40:55.578Z"
   },
   {
    "duration": 19,
    "start_time": "2023-12-24T07:40:55.607Z"
   },
   {
    "duration": 28,
    "start_time": "2023-12-24T07:40:55.628Z"
   },
   {
    "duration": 24,
    "start_time": "2023-12-24T07:40:55.657Z"
   },
   {
    "duration": 49,
    "start_time": "2023-12-25T02:59:36.817Z"
   },
   {
    "duration": 886,
    "start_time": "2023-12-25T02:59:44.825Z"
   },
   {
    "duration": 197,
    "start_time": "2023-12-25T02:59:45.712Z"
   },
   {
    "duration": 11,
    "start_time": "2023-12-25T02:59:45.910Z"
   },
   {
    "duration": 19,
    "start_time": "2023-12-25T02:59:45.923Z"
   },
   {
    "duration": 20,
    "start_time": "2023-12-25T02:59:45.943Z"
   },
   {
    "duration": 9,
    "start_time": "2023-12-25T02:59:45.965Z"
   },
   {
    "duration": 12,
    "start_time": "2023-12-25T02:59:45.975Z"
   },
   {
    "duration": 17,
    "start_time": "2023-12-25T02:59:45.989Z"
   },
   {
    "duration": 11,
    "start_time": "2023-12-25T02:59:46.008Z"
   },
   {
    "duration": 6,
    "start_time": "2023-12-25T02:59:46.022Z"
   },
   {
    "duration": 8,
    "start_time": "2023-12-25T02:59:46.029Z"
   },
   {
    "duration": 6,
    "start_time": "2023-12-25T02:59:46.039Z"
   },
   {
    "duration": 6,
    "start_time": "2023-12-25T02:59:46.047Z"
   },
   {
    "duration": 6,
    "start_time": "2023-12-25T02:59:46.055Z"
   },
   {
    "duration": 7,
    "start_time": "2023-12-25T02:59:46.062Z"
   },
   {
    "duration": 46,
    "start_time": "2023-12-25T02:59:46.071Z"
   },
   {
    "duration": 7,
    "start_time": "2023-12-25T02:59:46.119Z"
   },
   {
    "duration": 12,
    "start_time": "2023-12-25T02:59:46.128Z"
   },
   {
    "duration": 12,
    "start_time": "2023-12-25T02:59:46.141Z"
   },
   {
    "duration": 9,
    "start_time": "2023-12-25T02:59:46.154Z"
   },
   {
    "duration": 5,
    "start_time": "2023-12-25T02:59:46.164Z"
   },
   {
    "duration": 46,
    "start_time": "2023-12-25T02:59:46.170Z"
   },
   {
    "duration": 5,
    "start_time": "2023-12-25T02:59:46.217Z"
   },
   {
    "duration": 544,
    "start_time": "2023-12-25T02:59:46.224Z"
   },
   {
    "duration": 5,
    "start_time": "2023-12-25T02:59:46.769Z"
   },
   {
    "duration": 5,
    "start_time": "2023-12-25T02:59:46.776Z"
   },
   {
    "duration": 16,
    "start_time": "2023-12-25T02:59:46.782Z"
   },
   {
    "duration": 125,
    "start_time": "2023-12-25T02:59:46.802Z"
   },
   {
    "duration": 3,
    "start_time": "2023-12-25T02:59:46.928Z"
   },
   {
    "duration": 198,
    "start_time": "2023-12-25T02:59:46.932Z"
   },
   {
    "duration": 8,
    "start_time": "2023-12-25T02:59:47.132Z"
   },
   {
    "duration": 10,
    "start_time": "2023-12-25T02:59:47.141Z"
   },
   {
    "duration": 255,
    "start_time": "2023-12-25T02:59:47.152Z"
   },
   {
    "duration": 198,
    "start_time": "2023-12-25T02:59:47.408Z"
   },
   {
    "duration": 99,
    "start_time": "2023-12-25T02:59:47.607Z"
   },
   {
    "duration": 157,
    "start_time": "2023-12-25T02:59:47.708Z"
   },
   {
    "duration": 107,
    "start_time": "2023-12-25T02:59:47.867Z"
   },
   {
    "duration": 9,
    "start_time": "2023-12-25T02:59:47.976Z"
   },
   {
    "duration": 425,
    "start_time": "2023-12-25T02:59:47.987Z"
   },
   {
    "duration": 338,
    "start_time": "2023-12-25T02:59:48.415Z"
   },
   {
    "duration": 24,
    "start_time": "2023-12-25T02:59:48.755Z"
   },
   {
    "duration": 43,
    "start_time": "2023-12-25T02:59:48.781Z"
   },
   {
    "duration": 10,
    "start_time": "2023-12-25T02:59:48.825Z"
   },
   {
    "duration": 13,
    "start_time": "2023-12-25T02:59:48.836Z"
   },
   {
    "duration": 17,
    "start_time": "2023-12-25T02:59:48.850Z"
   },
   {
    "duration": 11,
    "start_time": "2023-12-25T02:59:48.868Z"
   },
   {
    "duration": 12,
    "start_time": "2023-12-25T02:59:48.880Z"
   },
   {
    "duration": 11,
    "start_time": "2023-12-25T02:59:48.915Z"
   },
   {
    "duration": 3,
    "start_time": "2023-12-25T02:59:48.928Z"
   },
   {
    "duration": 163,
    "start_time": "2023-12-25T02:59:48.932Z"
   },
   {
    "duration": 157,
    "start_time": "2023-12-25T02:59:49.096Z"
   },
   {
    "duration": 163,
    "start_time": "2023-12-25T02:59:49.255Z"
   },
   {
    "duration": 3,
    "start_time": "2023-12-25T02:59:49.420Z"
   },
   {
    "duration": 47,
    "start_time": "2023-12-25T02:59:49.425Z"
   },
   {
    "duration": 26,
    "start_time": "2023-12-25T02:59:49.474Z"
   },
   {
    "duration": 34,
    "start_time": "2023-12-25T02:59:49.502Z"
   },
   {
    "duration": 17,
    "start_time": "2023-12-25T02:59:49.537Z"
   },
   {
    "duration": 4,
    "start_time": "2023-12-25T02:59:49.555Z"
   },
   {
    "duration": 22,
    "start_time": "2023-12-25T02:59:49.560Z"
   },
   {
    "duration": 38,
    "start_time": "2023-12-25T02:59:49.583Z"
   },
   {
    "duration": 5,
    "start_time": "2023-12-25T02:59:49.622Z"
   },
   {
    "duration": 3,
    "start_time": "2023-12-25T02:59:49.628Z"
   },
   {
    "duration": 16,
    "start_time": "2023-12-25T02:59:49.633Z"
   },
   {
    "duration": 6,
    "start_time": "2023-12-25T02:59:49.650Z"
   },
   {
    "duration": 5,
    "start_time": "2023-12-25T02:59:49.657Z"
   },
   {
    "duration": 7,
    "start_time": "2023-12-25T02:59:49.663Z"
   },
   {
    "duration": 14,
    "start_time": "2023-12-25T02:59:49.672Z"
   },
   {
    "duration": 6,
    "start_time": "2023-12-25T02:59:49.687Z"
   },
   {
    "duration": 26,
    "start_time": "2023-12-25T02:59:49.695Z"
   },
   {
    "duration": 3,
    "start_time": "2023-12-25T02:59:49.722Z"
   },
   {
    "duration": 9,
    "start_time": "2023-12-25T02:59:49.726Z"
   },
   {
    "duration": 141,
    "start_time": "2023-12-25T02:59:49.736Z"
   },
   {
    "duration": 5,
    "start_time": "2023-12-25T02:59:49.879Z"
   },
   {
    "duration": 129,
    "start_time": "2023-12-25T02:59:49.886Z"
   },
   {
    "duration": 3,
    "start_time": "2023-12-25T02:59:50.017Z"
   },
   {
    "duration": 9,
    "start_time": "2023-12-25T02:59:50.021Z"
   },
   {
    "duration": 7,
    "start_time": "2023-12-25T02:59:50.031Z"
   },
   {
    "duration": 6,
    "start_time": "2023-12-25T02:59:50.040Z"
   },
   {
    "duration": 5,
    "start_time": "2023-12-25T02:59:50.048Z"
   },
   {
    "duration": 51,
    "start_time": "2025-02-10T01:37:00.930Z"
   },
   {
    "duration": 826,
    "start_time": "2025-02-10T01:37:09.367Z"
   },
   {
    "duration": 60,
    "start_time": "2025-02-10T01:37:10.195Z"
   },
   {
    "duration": 11,
    "start_time": "2025-02-10T01:37:10.257Z"
   },
   {
    "duration": 14,
    "start_time": "2025-02-10T01:37:10.270Z"
   },
   {
    "duration": 10,
    "start_time": "2025-02-10T01:37:10.286Z"
   },
   {
    "duration": 10,
    "start_time": "2025-02-10T01:37:10.298Z"
   },
   {
    "duration": 11,
    "start_time": "2025-02-10T01:37:10.309Z"
   },
   {
    "duration": 40,
    "start_time": "2025-02-10T01:37:10.322Z"
   },
   {
    "duration": 10,
    "start_time": "2025-02-10T01:37:10.364Z"
   },
   {
    "duration": 8,
    "start_time": "2025-02-10T01:37:10.377Z"
   },
   {
    "duration": 8,
    "start_time": "2025-02-10T01:37:10.386Z"
   },
   {
    "duration": 8,
    "start_time": "2025-02-10T01:37:10.396Z"
   },
   {
    "duration": 8,
    "start_time": "2025-02-10T01:37:10.405Z"
   },
   {
    "duration": 47,
    "start_time": "2025-02-10T01:37:10.414Z"
   },
   {
    "duration": 7,
    "start_time": "2025-02-10T01:37:10.463Z"
   },
   {
    "duration": 8,
    "start_time": "2025-02-10T01:37:10.471Z"
   },
   {
    "duration": 11,
    "start_time": "2025-02-10T01:37:10.480Z"
   },
   {
    "duration": 11,
    "start_time": "2025-02-10T01:37:10.493Z"
   },
   {
    "duration": 12,
    "start_time": "2025-02-10T01:37:10.506Z"
   },
   {
    "duration": 7,
    "start_time": "2025-02-10T01:37:10.520Z"
   },
   {
    "duration": 5,
    "start_time": "2025-02-10T01:37:10.562Z"
   },
   {
    "duration": 4,
    "start_time": "2025-02-10T01:37:10.569Z"
   },
   {
    "duration": 5,
    "start_time": "2025-02-10T01:37:10.575Z"
   },
   {
    "duration": 583,
    "start_time": "2025-02-10T01:37:10.581Z"
   },
   {
    "duration": 6,
    "start_time": "2025-02-10T01:37:11.166Z"
   },
   {
    "duration": 4,
    "start_time": "2025-02-10T01:37:11.173Z"
   },
   {
    "duration": 5,
    "start_time": "2025-02-10T01:37:11.179Z"
   },
   {
    "duration": 162,
    "start_time": "2025-02-10T01:37:11.188Z"
   },
   {
    "duration": 9,
    "start_time": "2025-02-10T01:37:11.352Z"
   },
   {
    "duration": 205,
    "start_time": "2025-02-10T01:37:11.363Z"
   },
   {
    "duration": 8,
    "start_time": "2025-02-10T01:37:11.570Z"
   },
   {
    "duration": 10,
    "start_time": "2025-02-10T01:37:11.580Z"
   },
   {
    "duration": 290,
    "start_time": "2025-02-10T01:37:11.592Z"
   },
   {
    "duration": 206,
    "start_time": "2025-02-10T01:37:11.883Z"
   },
   {
    "duration": 116,
    "start_time": "2025-02-10T01:37:12.090Z"
   },
   {
    "duration": 163,
    "start_time": "2025-02-10T01:37:12.207Z"
   },
   {
    "duration": 107,
    "start_time": "2025-02-10T01:37:12.372Z"
   },
   {
    "duration": 8,
    "start_time": "2025-02-10T01:37:12.480Z"
   },
   {
    "duration": 426,
    "start_time": "2025-02-10T01:37:12.490Z"
   },
   {
    "duration": 370,
    "start_time": "2025-02-10T01:37:12.918Z"
   },
   {
    "duration": 24,
    "start_time": "2025-02-10T01:37:13.290Z"
   },
   {
    "duration": 25,
    "start_time": "2025-02-10T01:37:13.315Z"
   },
   {
    "duration": 27,
    "start_time": "2025-02-10T01:37:13.341Z"
   },
   {
    "duration": 13,
    "start_time": "2025-02-10T01:37:13.370Z"
   },
   {
    "duration": 11,
    "start_time": "2025-02-10T01:37:13.385Z"
   },
   {
    "duration": 7,
    "start_time": "2025-02-10T01:37:13.398Z"
   },
   {
    "duration": 19,
    "start_time": "2025-02-10T01:37:13.406Z"
   },
   {
    "duration": 42,
    "start_time": "2025-02-10T01:37:13.427Z"
   },
   {
    "duration": 3,
    "start_time": "2025-02-10T01:37:13.471Z"
   },
   {
    "duration": 171,
    "start_time": "2025-02-10T01:37:13.476Z"
   },
   {
    "duration": 167,
    "start_time": "2025-02-10T01:37:13.661Z"
   },
   {
    "duration": 189,
    "start_time": "2025-02-10T01:37:13.830Z"
   },
   {
    "duration": 4,
    "start_time": "2025-02-10T01:37:14.020Z"
   },
   {
    "duration": 42,
    "start_time": "2025-02-10T01:37:14.025Z"
   },
   {
    "duration": 34,
    "start_time": "2025-02-10T01:37:14.069Z"
   },
   {
    "duration": 40,
    "start_time": "2025-02-10T01:37:14.104Z"
   },
   {
    "duration": 27,
    "start_time": "2025-02-10T01:37:14.146Z"
   },
   {
    "duration": 6,
    "start_time": "2025-02-10T01:37:14.174Z"
   },
   {
    "duration": 29,
    "start_time": "2025-02-10T01:37:14.182Z"
   },
   {
    "duration": 13,
    "start_time": "2025-02-10T01:37:14.212Z"
   },
   {
    "duration": 10,
    "start_time": "2025-02-10T01:37:14.227Z"
   },
   {
    "duration": 19,
    "start_time": "2025-02-10T01:37:14.239Z"
   },
   {
    "duration": 6,
    "start_time": "2025-02-10T01:37:14.261Z"
   },
   {
    "duration": 11,
    "start_time": "2025-02-10T01:37:14.269Z"
   },
   {
    "duration": 11,
    "start_time": "2025-02-10T01:37:14.281Z"
   },
   {
    "duration": 17,
    "start_time": "2025-02-10T01:37:14.293Z"
   },
   {
    "duration": 42,
    "start_time": "2025-02-10T01:37:14.311Z"
   },
   {
    "duration": 17,
    "start_time": "2025-02-10T01:37:14.355Z"
   },
   {
    "duration": 11,
    "start_time": "2025-02-10T01:37:14.373Z"
   },
   {
    "duration": 18,
    "start_time": "2025-02-10T01:37:14.386Z"
   },
   {
    "duration": 46,
    "start_time": "2025-02-10T01:37:14.406Z"
   },
   {
    "duration": 138,
    "start_time": "2025-02-10T01:37:14.454Z"
   },
   {
    "duration": 5,
    "start_time": "2025-02-10T01:37:14.593Z"
   },
   {
    "duration": 127,
    "start_time": "2025-02-10T01:37:14.599Z"
   },
   {
    "duration": 2,
    "start_time": "2025-02-10T01:37:14.728Z"
   },
   {
    "duration": 13,
    "start_time": "2025-02-10T01:37:14.732Z"
   },
   {
    "duration": 4,
    "start_time": "2025-02-10T01:37:14.747Z"
   },
   {
    "duration": 6,
    "start_time": "2025-02-10T01:37:14.760Z"
   },
   {
    "duration": 9,
    "start_time": "2025-02-10T01:37:14.768Z"
   },
   {
    "duration": 247,
    "start_time": "2025-02-10T01:50:46.945Z"
   },
   {
    "duration": 116,
    "start_time": "2025-02-10T01:51:44.833Z"
   },
   {
    "duration": 118,
    "start_time": "2025-02-10T01:52:08.778Z"
   },
   {
    "duration": 321,
    "start_time": "2025-02-10T01:52:44.917Z"
   },
   {
    "duration": 327,
    "start_time": "2025-02-10T01:52:53.311Z"
   },
   {
    "duration": 36,
    "start_time": "2025-02-10T01:57:18.018Z"
   },
   {
    "duration": 144,
    "start_time": "2025-02-10T01:57:48.249Z"
   },
   {
    "duration": 138,
    "start_time": "2025-02-10T01:57:55.031Z"
   },
   {
    "duration": 249,
    "start_time": "2025-02-10T01:58:56.469Z"
   },
   {
    "duration": 116,
    "start_time": "2025-02-10T02:16:42.897Z"
   },
   {
    "duration": 3,
    "start_time": "2025-02-10T02:18:16.896Z"
   },
   {
    "duration": 3,
    "start_time": "2025-02-10T02:18:33.730Z"
   },
   {
    "duration": 4,
    "start_time": "2025-02-10T02:18:36.482Z"
   },
   {
    "duration": 6,
    "start_time": "2025-02-10T02:19:11.118Z"
   },
   {
    "duration": 5,
    "start_time": "2025-02-10T02:19:24.017Z"
   },
   {
    "duration": 886,
    "start_time": "2025-02-10T02:20:28.437Z"
   },
   {
    "duration": 60,
    "start_time": "2025-02-10T02:20:29.325Z"
   },
   {
    "duration": 13,
    "start_time": "2025-02-10T02:20:29.387Z"
   },
   {
    "duration": 16,
    "start_time": "2025-02-10T02:20:29.402Z"
   },
   {
    "duration": 12,
    "start_time": "2025-02-10T02:20:29.419Z"
   },
   {
    "duration": 9,
    "start_time": "2025-02-10T02:20:29.433Z"
   },
   {
    "duration": 22,
    "start_time": "2025-02-10T02:20:29.443Z"
   },
   {
    "duration": 9,
    "start_time": "2025-02-10T02:20:29.468Z"
   },
   {
    "duration": 9,
    "start_time": "2025-02-10T02:20:29.479Z"
   },
   {
    "duration": 19,
    "start_time": "2025-02-10T02:20:29.490Z"
   },
   {
    "duration": 15,
    "start_time": "2025-02-10T02:20:29.511Z"
   },
   {
    "duration": 8,
    "start_time": "2025-02-10T02:20:29.527Z"
   },
   {
    "duration": 29,
    "start_time": "2025-02-10T02:20:29.537Z"
   },
   {
    "duration": 9,
    "start_time": "2025-02-10T02:20:29.568Z"
   },
   {
    "duration": 7,
    "start_time": "2025-02-10T02:20:29.578Z"
   },
   {
    "duration": 7,
    "start_time": "2025-02-10T02:20:29.586Z"
   },
   {
    "duration": 10,
    "start_time": "2025-02-10T02:20:29.594Z"
   },
   {
    "duration": 12,
    "start_time": "2025-02-10T02:20:29.605Z"
   },
   {
    "duration": 45,
    "start_time": "2025-02-10T02:20:29.618Z"
   },
   {
    "duration": 9,
    "start_time": "2025-02-10T02:20:29.665Z"
   },
   {
    "duration": 5,
    "start_time": "2025-02-10T02:20:29.676Z"
   },
   {
    "duration": 4,
    "start_time": "2025-02-10T02:20:29.682Z"
   },
   {
    "duration": 5,
    "start_time": "2025-02-10T02:20:29.688Z"
   },
   {
    "duration": 426,
    "start_time": "2025-02-10T02:20:29.694Z"
   },
   {
    "duration": 6,
    "start_time": "2025-02-10T02:20:30.121Z"
   },
   {
    "duration": 33,
    "start_time": "2025-02-10T02:20:30.129Z"
   },
   {
    "duration": 4,
    "start_time": "2025-02-10T02:20:30.164Z"
   },
   {
    "duration": 142,
    "start_time": "2025-02-10T02:20:30.172Z"
   },
   {
    "duration": 2,
    "start_time": "2025-02-10T02:20:30.316Z"
   },
   {
    "duration": 198,
    "start_time": "2025-02-10T02:20:30.320Z"
   },
   {
    "duration": 10,
    "start_time": "2025-02-10T02:20:30.520Z"
   },
   {
    "duration": 8,
    "start_time": "2025-02-10T02:20:30.531Z"
   },
   {
    "duration": 257,
    "start_time": "2025-02-10T02:20:30.540Z"
   },
   {
    "duration": 203,
    "start_time": "2025-02-10T02:20:30.798Z"
   },
   {
    "duration": 116,
    "start_time": "2025-02-10T02:20:31.002Z"
   },
   {
    "duration": 162,
    "start_time": "2025-02-10T02:20:31.119Z"
   },
   {
    "duration": 116,
    "start_time": "2025-02-10T02:20:31.283Z"
   },
   {
    "duration": 8,
    "start_time": "2025-02-10T02:20:31.401Z"
   },
   {
    "duration": 439,
    "start_time": "2025-02-10T02:20:31.410Z"
   },
   {
    "duration": 352,
    "start_time": "2025-02-10T02:20:31.851Z"
   },
   {
    "duration": 25,
    "start_time": "2025-02-10T02:20:32.204Z"
   },
   {
    "duration": 43,
    "start_time": "2025-02-10T02:20:32.231Z"
   },
   {
    "duration": 10,
    "start_time": "2025-02-10T02:20:32.275Z"
   },
   {
    "duration": 19,
    "start_time": "2025-02-10T02:20:32.287Z"
   },
   {
    "duration": 26,
    "start_time": "2025-02-10T02:20:32.307Z"
   },
   {
    "duration": 7,
    "start_time": "2025-02-10T02:20:32.334Z"
   },
   {
    "duration": 27,
    "start_time": "2025-02-10T02:20:32.343Z"
   },
   {
    "duration": 37,
    "start_time": "2025-02-10T02:20:32.372Z"
   },
   {
    "duration": 11,
    "start_time": "2025-02-10T02:20:32.410Z"
   },
   {
    "duration": 161,
    "start_time": "2025-02-10T02:20:32.423Z"
   },
   {
    "duration": 171,
    "start_time": "2025-02-10T02:20:32.586Z"
   },
   {
    "duration": 5,
    "start_time": "2025-02-10T02:20:32.761Z"
   },
   {
    "duration": 42,
    "start_time": "2025-02-10T02:20:32.769Z"
   },
   {
    "duration": 54,
    "start_time": "2025-02-10T02:20:32.813Z"
   },
   {
    "duration": 34,
    "start_time": "2025-02-10T02:20:32.869Z"
   },
   {
    "duration": 18,
    "start_time": "2025-02-10T02:20:32.905Z"
   },
   {
    "duration": 24,
    "start_time": "2025-02-10T02:20:32.924Z"
   },
   {
    "duration": 30,
    "start_time": "2025-02-10T02:20:32.951Z"
   },
   {
    "duration": 17,
    "start_time": "2025-02-10T02:20:32.983Z"
   },
   {
    "duration": 18,
    "start_time": "2025-02-10T02:20:33.002Z"
   },
   {
    "duration": 22,
    "start_time": "2025-02-10T02:20:33.021Z"
   },
   {
    "duration": 38,
    "start_time": "2025-02-10T02:20:33.044Z"
   },
   {
    "duration": 30,
    "start_time": "2025-02-10T02:20:33.084Z"
   },
   {
    "duration": 43,
    "start_time": "2025-02-10T02:20:33.116Z"
   },
   {
    "duration": 13,
    "start_time": "2025-02-10T02:20:33.161Z"
   },
   {
    "duration": 142,
    "start_time": "2025-02-10T02:20:33.176Z"
   },
   {
    "duration": 15,
    "start_time": "2025-02-10T02:20:33.320Z"
   },
   {
    "duration": 119,
    "start_time": "2025-02-10T02:20:33.337Z"
   },
   {
    "duration": 3,
    "start_time": "2025-02-10T02:20:33.458Z"
   },
   {
    "duration": 8,
    "start_time": "2025-02-10T02:20:33.463Z"
   },
   {
    "duration": 13,
    "start_time": "2025-02-10T02:20:33.473Z"
   },
   {
    "duration": 7,
    "start_time": "2025-02-10T02:20:33.487Z"
   },
   {
    "duration": 21,
    "start_time": "2025-02-10T02:20:33.495Z"
   }
  ],
  "kernelspec": {
   "display_name": "Python 3 (ipykernel)",
   "language": "python",
   "name": "python3"
  },
  "language_info": {
   "codemirror_mode": {
    "name": "ipython",
    "version": 3
   },
   "file_extension": ".py",
   "mimetype": "text/x-python",
   "name": "python",
   "nbconvert_exporter": "python",
   "pygments_lexer": "ipython3",
   "version": "3.11.9"
  },
  "toc": {
   "base_numbering": 1,
   "nav_menu": {},
   "number_sections": true,
   "sideBar": true,
   "skip_h1_title": true,
   "title_cell": "Table of Contents",
   "title_sidebar": "Contents",
   "toc_cell": false,
   "toc_position": {
    "height": "calc(100% - 180px)",
    "left": "10px",
    "top": "150px",
    "width": "384px"
   },
   "toc_section_display": true,
   "toc_window_display": true
  }
 },
 "nbformat": 4,
 "nbformat_minor": 5
}
