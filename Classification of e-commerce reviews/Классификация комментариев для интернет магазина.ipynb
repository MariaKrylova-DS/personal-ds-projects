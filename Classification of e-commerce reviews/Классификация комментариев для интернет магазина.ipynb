{
 "cells": [
  {
   "cell_type": "markdown",
   "metadata": {},
   "source": [
    "# Проект для интернет магазина"
   ]
  },
  {
   "cell_type": "markdown",
   "metadata": {
    "toc": true
   },
   "source": [
    "<h1>Содержание<span class=\"tocSkip\"></span></h1>\n",
    "<div class=\"toc\"><ul class=\"toc-item\"><li><span><a href=\"#Подготовка\" data-toc-modified-id=\"Подготовка-1\"><span class=\"toc-item-num\">1&nbsp;&nbsp;</span>Подготовка</a></span><ul class=\"toc-item\"><li><ul class=\"toc-item\"><li><span><a href=\"#Импорт-библиотек-и-данных\" data-toc-modified-id=\"Импорт-библиотек-и-данных-1.0.1\"><span class=\"toc-item-num\">1.0.1&nbsp;&nbsp;</span>Импорт библиотек и данных</a></span></li><li><span><a href=\"#Изучение-данных\" data-toc-modified-id=\"Изучение-данных-1.0.2\"><span class=\"toc-item-num\">1.0.2&nbsp;&nbsp;</span>Изучение данных</a></span></li><li><span><a href=\"#Предобработка-данных\" data-toc-modified-id=\"Предобработка-данных-1.0.3\"><span class=\"toc-item-num\">1.0.3&nbsp;&nbsp;</span>Предобработка данных</a></span></li></ul></li></ul></li><li><span><a href=\"#Обучение\" data-toc-modified-id=\"Обучение-2\"><span class=\"toc-item-num\">2&nbsp;&nbsp;</span>Обучение</a></span><ul class=\"toc-item\"><li><ul class=\"toc-item\"><li><span><a href=\"#Анализ-целевого-признака\" data-toc-modified-id=\"Анализ-целевого-признака-2.0.1\"><span class=\"toc-item-num\">2.0.1&nbsp;&nbsp;</span>Анализ целевого признака</a></span></li><li><span><a href=\"#Пайплайн-и-моделирование\" data-toc-modified-id=\"Пайплайн-и-моделирование-2.0.2\"><span class=\"toc-item-num\">2.0.2&nbsp;&nbsp;</span>Пайплайн и моделирование</a></span></li></ul></li></ul></li><li><span><a href=\"#Выводы\" data-toc-modified-id=\"Выводы-3\"><span class=\"toc-item-num\">3&nbsp;&nbsp;</span>Выводы</a></span></li><li><span><a href=\"#Чек-лист-проверки\" data-toc-modified-id=\"Чек-лист-проверки-4\"><span class=\"toc-item-num\">4&nbsp;&nbsp;</span>Чек-лист проверки</a></span></li></ul></div>"
   ]
  },
  {
   "cell_type": "markdown",
   "metadata": {},
   "source": [
    "Интернет-магазин запускает новый сервис, в котором пользователи могут редактировать и дополнять описания товаров, как в вики-сообществах, клиенты предлагают свои правки и комментируют изменения других. Магазину нужен инструмент, который будет искать токсичные комментарии и отправлять их на модерацию. Будет обучена модель для классификации комментариев на позитивные и негативные со значением метрики качества *F1* не меньше 0.75. Предоставлен набор данных с разметкой о токсичности правок.\n",
    "\n",
    "- text - текст комментария,\n",
    "- toxic - целевой признак."
   ]
  },
  {
   "cell_type": "markdown",
   "metadata": {},
   "source": [
    "## Подготовка"
   ]
  },
  {
   "cell_type": "markdown",
   "metadata": {},
   "source": [
    "#### Импорт библиотек и данных"
   ]
  },
  {
   "cell_type": "code",
   "execution_count": 5,
   "metadata": {},
   "outputs": [
    {
     "name": "stdout",
     "output_type": "stream",
     "text": [
      "total 65K\r\n",
      "drwsrwsr-x 1 jovyan users 4.0K Nov 14 01:00 .\r\n",
      "drwxr-xr-x 1 root   root  4.0K Jul  8  2021 ..\r\n",
      "-rw-rw-r-- 1 jovyan users  220 Feb 25  2020 .bash_logout\r\n",
      "-rw-rw-r-- 1 jovyan users 3.8K Jul  8  2021 .bashrc\r\n",
      "drwsrwsr-x 1 jovyan users 4.0K Nov 14 00:59 .cache\r\n",
      "drwsrwsr-x 1 jovyan users 4.0K Jul  8  2021 .conda\r\n",
      "drwxr-sr-x 5 jovyan users 4.0K Nov 14 01:00 .ipython\r\n",
      "drwsrws--- 2 jovyan users 4.0K Jul  8  2021 .jupyter\r\n",
      "drwxr-sr-x 2 jovyan users 4.0K Aug 31  2022 .keras\r\n",
      "drwxr-sr-x 1 jovyan users 4.0K Nov 14 00:59 .local\r\n",
      "drwxr-sr-x 4 jovyan users 4.0K Aug 31  2022 nltk_data\r\n",
      "drwsrwsr-x 2 jovyan users 4.0K Jul  8  2021 .npm\r\n",
      "-rw-rw-r-- 1 jovyan users  807 Feb 25  2020 .profile\r\n",
      "-rw-rw-r-- 1 jovyan users  227 Jul  8  2021 .wget-hsts\r\n",
      "drwxr-xr-x 1 jovyan users    0 Aug  8  2023 work\r\n"
     ]
    }
   ],
   "source": [
    "!ls -lah .."
   ]
  },
  {
   "cell_type": "code",
   "execution_count": 1,
   "metadata": {
    "collapsed": true
   },
   "outputs": [
    {
     "name": "stdout",
     "output_type": "stream",
     "text": [
      "Collecting imbalanced-learn\n",
      "  Downloading imbalanced_learn-0.12.4-py3-none-any.whl (258 kB)\n",
      "\u001b[K     |████████████████████████████████| 258 kB 1.4 MB/s eta 0:00:01\n",
      "\u001b[?25hCollecting scikit-learn>=1.0.2\n",
      "  Downloading scikit_learn-1.5.2-cp39-cp39-manylinux_2_17_x86_64.manylinux2014_x86_64.whl (13.4 MB)\n",
      "\u001b[K     |████████████████████████████████| 13.4 MB 18.7 MB/s eta 0:00:01\n",
      "\u001b[?25hRequirement already satisfied: threadpoolctl>=2.0.0 in /opt/conda/lib/python3.9/site-packages (from imbalanced-learn) (3.1.0)\n",
      "Collecting joblib>=1.1.1\n",
      "  Downloading joblib-1.4.2-py3-none-any.whl (301 kB)\n",
      "\u001b[K     |████████████████████████████████| 301 kB 103.5 MB/s eta 0:00:01\n",
      "\u001b[?25hRequirement already satisfied: numpy>=1.17.3 in /opt/conda/lib/python3.9/site-packages (from imbalanced-learn) (1.21.1)\n",
      "Requirement already satisfied: scipy>=1.5.0 in /opt/conda/lib/python3.9/site-packages (from imbalanced-learn) (1.9.1)\n",
      "Installing collected packages: joblib, scikit-learn, imbalanced-learn\n",
      "  Attempting uninstall: joblib\n",
      "    Found existing installation: joblib 1.1.0\n",
      "    Uninstalling joblib-1.1.0:\n",
      "      Successfully uninstalled joblib-1.1.0\n",
      "  Attempting uninstall: scikit-learn\n",
      "    Found existing installation: scikit-learn 0.24.1\n",
      "    Uninstalling scikit-learn-0.24.1:\n",
      "      Successfully uninstalled scikit-learn-0.24.1\n",
      "Successfully installed imbalanced-learn-0.12.4 joblib-1.4.2 scikit-learn-1.5.2\n",
      "Note: you may need to restart the kernel to use updated packages.\n"
     ]
    }
   ],
   "source": [
    "pip install imbalanced-learn "
   ]
  },
  {
   "cell_type": "code",
   "execution_count": 2,
   "metadata": {},
   "outputs": [],
   "source": [
    "import matplotlib.pyplot as plt\n",
    "import nltk\n",
    "import joblib\n",
    "import numpy as np\n",
    "from nltk.corpus import stopwords as nltk_stopwords\n",
    "import pandas as pd\n",
    "import torch\n",
    "import transformers\n",
    "from sklearn.linear_model import LogisticRegression\n",
    "from sklearn.model_selection import cross_val_score, train_test_split\n",
    "from sklearn.feature_extraction.text import TfidfVectorizer\n",
    "from tqdm import tqdm\n",
    "from sklearn.metrics import accuracy_score\n",
    "from sklearn.metrics import f1_score\n",
    "from imblearn.over_sampling import RandomOverSampler\n",
    "from sklearn.dummy import DummyClassifier\n",
    "from sklearn.tree import DecisionTreeClassifier\n",
    "from sklearn.model_selection import RandomizedSearchCV, GridSearchCV"
   ]
  },
  {
   "cell_type": "code",
   "execution_count": 3,
   "metadata": {},
   "outputs": [],
   "source": [
    "#Import Tokenizer\n",
    "from nltk.tokenize import RegexpTokenizer\n",
    "#Import Lemmatizer\n",
    "from nltk.stem import WordNetLemmatizer"
   ]
  },
  {
   "cell_type": "code",
   "execution_count": 4,
   "metadata": {},
   "outputs": [
    {
     "name": "stderr",
     "output_type": "stream",
     "text": [
      "[nltk_data] Downloading package averaged_perceptron_tagger to\n",
      "[nltk_data]     /home/jovyan/nltk_data...\n",
      "[nltk_data]   Unzipping taggers/averaged_perceptron_tagger.zip.\n"
     ]
    },
    {
     "data": {
      "text/plain": [
       "True"
      ]
     },
     "execution_count": 4,
     "metadata": {},
     "output_type": "execute_result"
    }
   ],
   "source": [
    "nltk.download('averaged_perceptron_tagger')"
   ]
  },
  {
   "cell_type": "code",
   "execution_count": 5,
   "metadata": {},
   "outputs": [],
   "source": [
    "from nltk.corpus import wordnet"
   ]
  },
  {
   "cell_type": "code",
   "execution_count": 6,
   "metadata": {},
   "outputs": [],
   "source": [
    "tqdm.pandas()"
   ]
  },
  {
   "cell_type": "code",
   "execution_count": 7,
   "metadata": {},
   "outputs": [],
   "source": [
    "data = pd.read_csv(r\"\")"
   ]
  },
  {
   "cell_type": "markdown",
   "metadata": {},
   "source": [
    "#### Изучение данных"
   ]
  },
  {
   "cell_type": "code",
   "execution_count": 8,
   "metadata": {},
   "outputs": [
    {
     "data": {
      "text/plain": [
       "126       Ahh, Hello Witzeman \\n\\n203.92.84.161  \\nSymbo...\n",
       "1900      Hi, 牛岩, and welcome to Wikipedia! I hope you l...\n",
       "2645      I understand your difficulty. I am able to rea...\n",
       "6488                        Lol, my major issue P:))  спойт\n",
       "7628      \"\\nComment Hi There, In spite all my effort, I...\n",
       "                                ...                        \n",
       "146599    To let the he-goat into the kitchen-garden \\nT...\n",
       "148752    \"\\n\\nI appreciate your opinion and that is why...\n",
       "149481    \"\\nIt's OK. Moves are performed by clicking on...\n",
       "155970    \"\\n\\n\"\"Omega and Chaos\"\"\\n\\nIn a certain mytho...\n",
       "158411    \"* The Russian idiom \"\"to let the he-goat into...\n",
       "Name: text, Length: 71, dtype: object"
      ]
     },
     "execution_count": 8,
     "metadata": {},
     "output_type": "execute_result"
    }
   ],
   "source": [
    "data[data[\"text\"].str.lower().str.contains(\"п\")][\"text\"]\n",
    "# Предоставлен англоязычный текст с немногочисленными крмментариями на других языках.\n",
    "# Основной язык - английский."
   ]
  },
  {
   "cell_type": "code",
   "execution_count": 9,
   "metadata": {},
   "outputs": [
    {
     "name": "stdout",
     "output_type": "stream",
     "text": [
      "<class 'pandas.core.frame.DataFrame'>\n",
      "RangeIndex: 159292 entries, 0 to 159291\n",
      "Data columns (total 3 columns):\n",
      " #   Column      Non-Null Count   Dtype \n",
      "---  ------      --------------   ----- \n",
      " 0   Unnamed: 0  159292 non-null  int64 \n",
      " 1   text        159292 non-null  object\n",
      " 2   toxic       159292 non-null  int64 \n",
      "dtypes: int64(2), object(1)\n",
      "memory usage: 3.6+ MB\n"
     ]
    },
    {
     "data": {
      "text/html": [
       "<div>\n",
       "<style scoped>\n",
       "    .dataframe tbody tr th:only-of-type {\n",
       "        vertical-align: middle;\n",
       "    }\n",
       "\n",
       "    .dataframe tbody tr th {\n",
       "        vertical-align: top;\n",
       "    }\n",
       "\n",
       "    .dataframe thead th {\n",
       "        text-align: right;\n",
       "    }\n",
       "</style>\n",
       "<table border=\"1\" class=\"dataframe\">\n",
       "  <thead>\n",
       "    <tr style=\"text-align: right;\">\n",
       "      <th></th>\n",
       "      <th>Unnamed: 0</th>\n",
       "      <th>text</th>\n",
       "      <th>toxic</th>\n",
       "    </tr>\n",
       "  </thead>\n",
       "  <tbody>\n",
       "    <tr>\n",
       "      <th>0</th>\n",
       "      <td>0</td>\n",
       "      <td>Explanation\\nWhy the edits made under my usern...</td>\n",
       "      <td>0</td>\n",
       "    </tr>\n",
       "    <tr>\n",
       "      <th>1</th>\n",
       "      <td>1</td>\n",
       "      <td>D'aww! He matches this background colour I'm s...</td>\n",
       "      <td>0</td>\n",
       "    </tr>\n",
       "    <tr>\n",
       "      <th>2</th>\n",
       "      <td>2</td>\n",
       "      <td>Hey man, I'm really not trying to edit war. It...</td>\n",
       "      <td>0</td>\n",
       "    </tr>\n",
       "    <tr>\n",
       "      <th>3</th>\n",
       "      <td>3</td>\n",
       "      <td>\"\\nMore\\nI can't make any real suggestions on ...</td>\n",
       "      <td>0</td>\n",
       "    </tr>\n",
       "    <tr>\n",
       "      <th>4</th>\n",
       "      <td>4</td>\n",
       "      <td>You, sir, are my hero. Any chance you remember...</td>\n",
       "      <td>0</td>\n",
       "    </tr>\n",
       "  </tbody>\n",
       "</table>\n",
       "</div>"
      ],
      "text/plain": [
       "   Unnamed: 0                                               text  toxic\n",
       "0           0  Explanation\\nWhy the edits made under my usern...      0\n",
       "1           1  D'aww! He matches this background colour I'm s...      0\n",
       "2           2  Hey man, I'm really not trying to edit war. It...      0\n",
       "3           3  \"\\nMore\\nI can't make any real suggestions on ...      0\n",
       "4           4  You, sir, are my hero. Any chance you remember...      0"
      ]
     },
     "metadata": {},
     "output_type": "display_data"
    }
   ],
   "source": [
    "data.info()\n",
    "display(data.head())"
   ]
  },
  {
   "cell_type": "code",
   "execution_count": 10,
   "metadata": {},
   "outputs": [
    {
     "data": {
      "image/png": "[encoded data removed]",
      "text/plain": [
       "<Figure size 432x288 with 1 Axes>"
      ]
     },
     "metadata": {
      "needs_background": "light"
     },
     "output_type": "display_data"
    }
   ],
   "source": [
    "# Классы целевого признака распределены неравномерно, превалирует класс 0 (положительные твиты),\n",
    "# Однако вычислить надо отрицательные твит, относящиеся к классу 1.\n",
    "data[\"toxic\"].value_counts().plot(kind=\"bar\")\n",
    "plt.title(\"Распределение классов\");"
   ]
  },
  {
   "cell_type": "code",
   "execution_count": 11,
   "metadata": {},
   "outputs": [
    {
     "data": {
      "text/plain": [
       "6              COCKSUCKER BEFORE YOU PISS AROUND ON MY WORK\n",
       "12        Hey... what is it..\\n@ | talk .\\nWhat is it......\n",
       "16        Bye! \\n\\nDon't look, come or think of comming ...\n",
       "42        You are gay or antisemmitian? \\n\\nArchangel WH...\n",
       "43                 FUCK YOUR FILTHY MOTHER IN THE ASS, DRY!\n",
       "                                ...                        \n",
       "159215    \"\\n\\n our previous conversation \\n\\nyou fuckin...\n",
       "159235                    YOU ARE A MISCHIEVIOUS PUBIC HAIR\n",
       "159262    Your absurd edits \\n\\nYour absurd edits on gre...\n",
       "159267    \"\\n\\nHey listen don't you ever!!!! Delete my e...\n",
       "159275    and i'm going to keep posting the stuff u dele...\n",
       "Name: text, Length: 16186, dtype: object"
      ]
     },
     "execution_count": 11,
     "metadata": {},
     "output_type": "execute_result"
    }
   ],
   "source": [
    "# Просмотр орицателньных твитов. Действительно, с ними надо поработать.\n",
    "data[data[\"toxic\"] == 1][\"text\"]"
   ]
  },
  {
   "cell_type": "markdown",
   "metadata": {},
   "source": [
    "Итоги:\n",
    "\n",
    "- данные успешно загружены\n",
    "- данные на английском языке\n",
    "- В целовом признаке два класса: 0 - положительные твиты (большинство), 1 - отрицательные твиты (меньшинство)."
   ]
  },
  {
   "cell_type": "markdown",
   "metadata": {},
   "source": [
    "#### Предобработка данных"
   ]
  },
  {
   "cell_type": "code",
   "execution_count": 15,
   "metadata": {},
   "outputs": [],
   "source": [
    "# Исключение знаков препинания - один из вариантов\n",
    "import string\n",
    "def remove_punctuation(text):\n",
    "    no_punct=''.join(c for c in text if c not in string.punctuation)\n",
    "    return no_punct"
   ]
  },
  {
   "cell_type": "code",
   "execution_count": 16,
   "metadata": {},
   "outputs": [
    {
     "name": "stdout",
     "output_type": "stream",
     "text": [
      "До работы с пунктуацией 0    Explanation\\nWhy the edits made under my usern...\n",
      "1    D'aww! He matches this background colour I'm s...\n",
      "2    Hey man, I'm really not trying to edit war. It...\n",
      "Name: text, dtype: object\n"
     ]
    }
   ],
   "source": [
    "print('До работы с пунктуацией', data['text'].head(3))"
   ]
  },
  {
   "cell_type": "code",
   "execution_count": 17,
   "metadata": {},
   "outputs": [
    {
     "name": "stdout",
     "output_type": "stream",
     "text": [
      "После работы с пунктуацией 0    Explanation\\nWhy the edits made under my usern...\n",
      "1    Daww He matches this background colour Im seem...\n",
      "2    Hey man Im really not trying to edit war Its j...\n",
      "Name: text_no_punct, dtype: object\n"
     ]
    }
   ],
   "source": [
    "#  Токенизирование\n",
    "data['text_no_punct']=data['text'].apply(lambda x: remove_punctuation(x))\n",
    "print('После работы с пунктуацией', data['text_no_punct'].head(3))"
   ]
  },
  {
   "cell_type": "code",
   "execution_count": 18,
   "metadata": {},
   "outputs": [],
   "source": [
    "#Токенизирование (убирает и пунктуацию)\n",
    "tokenizer=RegexpTokenizer(r'\\w+')"
   ]
  },
  {
   "cell_type": "code",
   "execution_count": 19,
   "metadata": {},
   "outputs": [
    {
     "data": {
      "text/plain": [
       "0    [explanation, why, the, edits, made, under, my...\n",
       "1    [d, aww, he, matches, this, background, colour...\n",
       "2    [hey, man, i, m, really, not, trying, to, edit...\n",
       "Name: text_token, dtype: object"
      ]
     },
     "execution_count": 19,
     "metadata": {},
     "output_type": "execute_result"
    }
   ],
   "source": [
    "data['text_token']=data['text'].apply(lambda x: tokenizer.tokenize(x.lower()))\n",
    "data['text_token'].head(3)"
   ]
  },
  {
   "cell_type": "code",
   "execution_count": 20,
   "metadata": {},
   "outputs": [
    {
     "name": "stderr",
     "output_type": "stream",
     "text": [
      "[nltk_data] Downloading package stopwords to /home/jovyan/nltk_data...\n",
      "[nltk_data]   Package stopwords is already up-to-date!\n"
     ]
    },
    {
     "data": {
      "text/plain": [
       "['at', 'on', 'about', 'itself', 're', 'that', 'i', 'which', 'by', 'her']"
      ]
     },
     "execution_count": 20,
     "metadata": {},
     "output_type": "execute_result"
    }
   ],
   "source": [
    "# Удаление стоп слов\n",
    "nltk.download(\"stopwords\")\n",
    "stopwords = list(set(nltk_stopwords.words(\"english\")))\n",
    "stopwords[:100:10]"
   ]
  },
  {
   "cell_type": "code",
   "execution_count": 21,
   "metadata": {},
   "outputs": [],
   "source": [
    "def remove_stopwords(text):\n",
    "    words=[w for w in text if w not in stopwords]\n",
    "    return words"
   ]
  },
  {
   "cell_type": "code",
   "execution_count": 22,
   "metadata": {},
   "outputs": [
    {
     "data": {
      "text/plain": [
       "pandas.core.series.Series"
      ]
     },
     "execution_count": 22,
     "metadata": {},
     "output_type": "execute_result"
    }
   ],
   "source": [
    "type(data['text_token'])"
   ]
  },
  {
   "cell_type": "code",
   "execution_count": 23,
   "metadata": {},
   "outputs": [
    {
     "name": "stderr",
     "output_type": "stream",
     "text": [
      "100%|██████████| 159292/159292 [00:19<00:00, 8105.34it/s]\n"
     ]
    },
    {
     "data": {
      "text/plain": [
       "0    [explanation, edits, made, username, hardcore,...\n",
       "1    [aww, matches, background, colour, seemingly, ...\n",
       "2    [hey, man, really, trying, edit, war, guy, con...\n",
       "3    [make, real, suggestions, improvement, wondere...\n",
       "4                  [sir, hero, chance, remember, page]\n",
       "Name: text_token_stopwords, dtype: object"
      ]
     },
     "execution_count": 23,
     "metadata": {},
     "output_type": "execute_result"
    }
   ],
   "source": [
    "data['text_token_stopwords']=data['text_token'].progress_apply(lambda x: remove_stopwords(x))\n",
    "data['text_token_stopwords'].head()"
   ]
  },
  {
   "cell_type": "code",
   "execution_count": 24,
   "metadata": {},
   "outputs": [],
   "source": [
    "#Леммитизация с определением части речи POS\n",
    "def get_wordnet_pos(word):\n",
    "    \"\"\"Map POS tag to first character lemmatize() accepts\"\"\"\n",
    "    tag = nltk.pos_tag([word])[0][1][0].upper()\n",
    "    tag_dict = {\"J\": wordnet.ADJ,\n",
    "                \"N\": wordnet.NOUN,\n",
    "                \"V\": wordnet.VERB,\n",
    "                \"R\": wordnet.ADV}\n",
    "    return tag_dict.get(tag, wordnet.NOUN)\n",
    "# 1. Init Lemmatizer\n",
    "lemmatizer = WordNetLemmatizer()\n",
    "def word_lemmatizer(text):\n",
    "    lem_text = \" \".join([lemmatizer.lemmatize(i, get_wordnet_pos(i)) for i in text])\n",
    "    return lem_text"
   ]
  },
  {
   "cell_type": "code",
   "execution_count": 25,
   "metadata": {},
   "outputs": [
    {
     "data": {
      "text/html": [
       "<div>\n",
       "<style scoped>\n",
       "    .dataframe tbody tr th:only-of-type {\n",
       "        vertical-align: middle;\n",
       "    }\n",
       "\n",
       "    .dataframe tbody tr th {\n",
       "        vertical-align: top;\n",
       "    }\n",
       "\n",
       "    .dataframe thead th {\n",
       "        text-align: right;\n",
       "    }\n",
       "</style>\n",
       "<table border=\"1\" class=\"dataframe\">\n",
       "  <thead>\n",
       "    <tr style=\"text-align: right;\">\n",
       "      <th></th>\n",
       "      <th>text</th>\n",
       "    </tr>\n",
       "  </thead>\n",
       "  <tbody>\n",
       "    <tr>\n",
       "      <th>0</th>\n",
       "      <td>[The, striped, bats, are, hanging, on, their, ...</td>\n",
       "    </tr>\n",
       "    <tr>\n",
       "      <th>1</th>\n",
       "      <td>[you, should, be, ashamed, of, yourself, went,...</td>\n",
       "    </tr>\n",
       "  </tbody>\n",
       "</table>\n",
       "</div>"
      ],
      "text/plain": [
       "                                                text\n",
       "0  [The, striped, bats, are, hanging, on, their, ...\n",
       "1  [you, should, be, ashamed, of, yourself, went,..."
      ]
     },
     "execution_count": 25,
     "metadata": {},
     "output_type": "execute_result"
    }
   ],
   "source": [
    "# Проверка на малом объеме данных\n",
    "sentence1 = \"The striped bats are hanging on their feet for best\"\n",
    "sentence2 = \"you should be ashamed of yourself went worked\"\n",
    "df_my = pd.DataFrame([sentence1, sentence2], columns = ['text'])\n",
    "df_my['text'] = df_my.text.str.split()\n",
    "df_my"
   ]
  },
  {
   "cell_type": "code",
   "execution_count": 26,
   "metadata": {
    "scrolled": true
   },
   "outputs": [
    {
     "data": {
      "text/plain": [
       "['The strip bat be hang on their foot for best',\n",
       " 'you should be ashamed of yourself go work']"
      ]
     },
     "execution_count": 26,
     "metadata": {},
     "output_type": "execute_result"
    }
   ],
   "source": [
    "# Tест пройден удачно\n",
    "df_my['text'].apply(word_lemmatizer).tolist()"
   ]
  },
  {
   "cell_type": "code",
   "execution_count": 27,
   "metadata": {},
   "outputs": [
    {
     "name": "stderr",
     "output_type": "stream",
     "text": [
      "100%|██████████| 159292/159292 [11:12<00:00, 236.79it/s]\n"
     ]
    },
    {
     "data": {
      "text/html": [
       "<div>\n",
       "<style scoped>\n",
       "    .dataframe tbody tr th:only-of-type {\n",
       "        vertical-align: middle;\n",
       "    }\n",
       "\n",
       "    .dataframe tbody tr th {\n",
       "        vertical-align: top;\n",
       "    }\n",
       "\n",
       "    .dataframe thead th {\n",
       "        text-align: right;\n",
       "    }\n",
       "</style>\n",
       "<table border=\"1\" class=\"dataframe\">\n",
       "  <thead>\n",
       "    <tr style=\"text-align: right;\">\n",
       "      <th></th>\n",
       "      <th>Unnamed: 0</th>\n",
       "      <th>text</th>\n",
       "      <th>toxic</th>\n",
       "      <th>text_no_punct</th>\n",
       "      <th>text_token</th>\n",
       "      <th>text_token_stopwords</th>\n",
       "      <th>text_token_stopwords_lemm</th>\n",
       "    </tr>\n",
       "  </thead>\n",
       "  <tbody>\n",
       "    <tr>\n",
       "      <th>0</th>\n",
       "      <td>0</td>\n",
       "      <td>Explanation\\nWhy the edits made under my usern...</td>\n",
       "      <td>0</td>\n",
       "      <td>Explanation\\nWhy the edits made under my usern...</td>\n",
       "      <td>[explanation, why, the, edits, made, under, my...</td>\n",
       "      <td>[explanation, edits, made, username, hardcore,...</td>\n",
       "      <td>explanation edits make username hardcore metal...</td>\n",
       "    </tr>\n",
       "    <tr>\n",
       "      <th>1</th>\n",
       "      <td>1</td>\n",
       "      <td>D'aww! He matches this background colour I'm s...</td>\n",
       "      <td>0</td>\n",
       "      <td>Daww He matches this background colour Im seem...</td>\n",
       "      <td>[d, aww, he, matches, this, background, colour...</td>\n",
       "      <td>[aww, matches, background, colour, seemingly, ...</td>\n",
       "      <td>aww match background colour seemingly stuck th...</td>\n",
       "    </tr>\n",
       "    <tr>\n",
       "      <th>2</th>\n",
       "      <td>2</td>\n",
       "      <td>Hey man, I'm really not trying to edit war. It...</td>\n",
       "      <td>0</td>\n",
       "      <td>Hey man Im really not trying to edit war Its j...</td>\n",
       "      <td>[hey, man, i, m, really, not, trying, to, edit...</td>\n",
       "      <td>[hey, man, really, trying, edit, war, guy, con...</td>\n",
       "      <td>hey man really try edit war guy constantly rem...</td>\n",
       "    </tr>\n",
       "  </tbody>\n",
       "</table>\n",
       "</div>"
      ],
      "text/plain": [
       "   Unnamed: 0                                               text  toxic  \\\n",
       "0           0  Explanation\\nWhy the edits made under my usern...      0   \n",
       "1           1  D'aww! He matches this background colour I'm s...      0   \n",
       "2           2  Hey man, I'm really not trying to edit war. It...      0   \n",
       "\n",
       "                                       text_no_punct  \\\n",
       "0  Explanation\\nWhy the edits made under my usern...   \n",
       "1  Daww He matches this background colour Im seem...   \n",
       "2  Hey man Im really not trying to edit war Its j...   \n",
       "\n",
       "                                          text_token  \\\n",
       "0  [explanation, why, the, edits, made, under, my...   \n",
       "1  [d, aww, he, matches, this, background, colour...   \n",
       "2  [hey, man, i, m, really, not, trying, to, edit...   \n",
       "\n",
       "                                text_token_stopwords  \\\n",
       "0  [explanation, edits, made, username, hardcore,...   \n",
       "1  [aww, matches, background, colour, seemingly, ...   \n",
       "2  [hey, man, really, trying, edit, war, guy, con...   \n",
       "\n",
       "                           text_token_stopwords_lemm  \n",
       "0  explanation edits make username hardcore metal...  \n",
       "1  aww match background colour seemingly stuck th...  \n",
       "2  hey man really try edit war guy constantly rem...  "
      ]
     },
     "execution_count": 27,
     "metadata": {},
     "output_type": "execute_result"
    }
   ],
   "source": [
    "#Применение на всех данных\n",
    "data['text_token_stopwords_lemm']=data['text_token_stopwords'].progress_apply(lambda x: word_lemmatizer(x))\n",
    "data.head(3)"
   ]
  },
  {
   "cell_type": "code",
   "execution_count": 28,
   "metadata": {
    "scrolled": true
   },
   "outputs": [],
   "source": [
    "# Сохранение промежуточных результатов.\n",
    "data[['text_token_stopwords_lemm', 'toxic']].to_csv('interm_res.csv', index=False)"
   ]
  },
  {
   "cell_type": "code",
   "execution_count": 29,
   "metadata": {},
   "outputs": [
    {
     "data": {
      "text/html": [
       "<div>\n",
       "<style scoped>\n",
       "    .dataframe tbody tr th:only-of-type {\n",
       "        vertical-align: middle;\n",
       "    }\n",
       "\n",
       "    .dataframe tbody tr th {\n",
       "        vertical-align: top;\n",
       "    }\n",
       "\n",
       "    .dataframe thead th {\n",
       "        text-align: right;\n",
       "    }\n",
       "</style>\n",
       "<table border=\"1\" class=\"dataframe\">\n",
       "  <thead>\n",
       "    <tr style=\"text-align: right;\">\n",
       "      <th></th>\n",
       "      <th>text_token_stopwords_lemm</th>\n",
       "      <th>toxic</th>\n",
       "    </tr>\n",
       "  </thead>\n",
       "  <tbody>\n",
       "    <tr>\n",
       "      <th>0</th>\n",
       "      <td>explanation edits make username hardcore metal...</td>\n",
       "      <td>0</td>\n",
       "    </tr>\n",
       "    <tr>\n",
       "      <th>1</th>\n",
       "      <td>aww match background colour seemingly stuck th...</td>\n",
       "      <td>0</td>\n",
       "    </tr>\n",
       "    <tr>\n",
       "      <th>2</th>\n",
       "      <td>hey man really try edit war guy constantly rem...</td>\n",
       "      <td>0</td>\n",
       "    </tr>\n",
       "    <tr>\n",
       "      <th>3</th>\n",
       "      <td>make real suggestion improvement wonder sectio...</td>\n",
       "      <td>0</td>\n",
       "    </tr>\n",
       "    <tr>\n",
       "      <th>4</th>\n",
       "      <td>sir hero chance remember page</td>\n",
       "      <td>0</td>\n",
       "    </tr>\n",
       "  </tbody>\n",
       "</table>\n",
       "</div>"
      ],
      "text/plain": [
       "                           text_token_stopwords_lemm  toxic\n",
       "0  explanation edits make username hardcore metal...      0\n",
       "1  aww match background colour seemingly stuck th...      0\n",
       "2  hey man really try edit war guy constantly rem...      0\n",
       "3  make real suggestion improvement wonder sectio...      0\n",
       "4                      sir hero chance remember page      0"
      ]
     },
     "execution_count": 29,
     "metadata": {},
     "output_type": "execute_result"
    }
   ],
   "source": [
    "# Читаю из файла полученные результаты.\n",
    "data = pd.read_csv('interm_res.csv')\n",
    "data.head()"
   ]
  },
  {
   "cell_type": "markdown",
   "metadata": {},
   "source": [
    "Итоги: \n",
    "Загружены и импортированы библиотеки и модули, данные. Проведена токенизация, из текстов убраны стоп слова, сделана лемматизация с POS. Результаты сохранены в файл. Визуализирован дисбаланс классов для целевого признака."
   ]
  },
  {
   "cell_type": "markdown",
   "metadata": {},
   "source": [
    "## Обучение"
   ]
  },
  {
   "cell_type": "markdown",
   "metadata": {},
   "source": [
    "#### Анализ целевого признака"
   ]
  },
  {
   "cell_type": "markdown",
   "metadata": {},
   "source": [
    "Подготовка:\n",
    "- при разбивке, чтобы не нарушить соотношение классов в тренировочной и тестовой выборках, использована стратификацию.\n",
    "- метрика Accuracy не чувствительна к дисбалансу классов, а F1 чувствительна. Это среднее гармоническое precision и recall, поэтому она будет показывать низкое качество модели, если хотя бы одна из его составляющих даёт низкую оценку. Нужно сделать оверсемплинг.\n",
    "- также надо проверить сначала модель Dummy классификатором на адекватность, стратегию можно выбрать по моде 'most frequent'."
   ]
  },
  {
   "cell_type": "code",
   "execution_count": 33,
   "metadata": {
    "scrolled": false
   },
   "outputs": [
    {
     "name": "stdout",
     "output_type": "stream",
     "text": [
      "Процентное соотношение классов\n",
      "0    0.898388\n",
      "1    0.101612\n",
      "Name: toxic, dtype: float64\n"
     ]
    },
    {
     "data": {
      "image/png": "[encoded data removed]",
      "text/plain": [
       "<Figure size 432x288 with 1 Axes>"
      ]
     },
     "metadata": {
      "needs_background": "light"
     },
     "output_type": "display_data"
    }
   ],
   "source": [
    "#Визуализация проблемы с дисбалансом и вычисления.\n",
    "print('Процентное соотношение классов')\n",
    "print(data['toxic'].value_counts(normalize=True))\n",
    "data['toxic'].value_counts(normalize=True).plot(kind='bar')\n",
    "plt.title('Дисбаланс классов до оверсемплинга');"
   ]
  },
  {
   "cell_type": "markdown",
   "metadata": {},
   "source": [
    "#### Пайплайн и моделирование"
   ]
  },
  {
   "cell_type": "markdown",
   "metadata": {},
   "source": [
    "\n",
    "- Пайплайн включает в себя и TF-IDF, RandomOverSampler и моделирование\n",
    "- Дамми Классификатор представлен DummyClassifier(strategy = 'constant', constant = 1)\n",
    "- Метрика на тестовой выборке считается только в конце, для лучшей модели "
   ]
  },
  {
   "cell_type": "code",
   "execution_count": 43,
   "metadata": {},
   "outputs": [
    {
     "data": {
      "text/plain": [
       "text_token_stopwords_lemm    25\n",
       "toxic                         0\n",
       "dtype: int64"
      ]
     },
     "execution_count": 43,
     "metadata": {},
     "output_type": "execute_result"
    }
   ],
   "source": [
    "data.isna().sum()"
   ]
  },
  {
   "cell_type": "code",
   "execution_count": 44,
   "metadata": {},
   "outputs": [],
   "source": [
    "data.dropna(inplace=True)"
   ]
  },
  {
   "cell_type": "code",
   "execution_count": 45,
   "metadata": {},
   "outputs": [],
   "source": [
    "# Создание разбивки и указание констант\n",
    "RANDOM_STATE=42\n",
    "X, y = data['text_token_stopwords_lemm'], data['toxic']\n",
    "X_train, X_test, y_train, y_test = train_test_split(X, y, test_size=0.2, random_state=RANDOM_STATE, stratify=y)"
   ]
  },
  {
   "cell_type": "code",
   "execution_count": 46,
   "metadata": {},
   "outputs": [],
   "source": [
    "#Создание пайплайна\n",
    "from imblearn.pipeline import Pipeline\n",
    "\n",
    "pipeline_new = Pipeline([\n",
    "    ('tfidf', TfidfVectorizer()),\n",
    "    ('sampler', RandomOverSampler(random_state=RANDOM_STATE)),\n",
    "    ('models', DummyClassifier(strategy = 'constant', constant = 1)),\n",
    "    ])\n"
   ]
  },
  {
   "cell_type": "code",
   "execution_count": 47,
   "metadata": {},
   "outputs": [],
   "source": [
    "params_new=[\n",
    "    # словарь для модели DecisionTreeClassifier()\n",
    "    {\n",
    "        \"models\": [DecisionTreeClassifier(random_state=RANDOM_STATE)],\n",
    "        \"models__max_depth\": range(2, 5),\n",
    "    },\n",
    "    # словарь для модели LogisticRegression()\n",
    "    {\n",
    "        \"models\": [\n",
    "            LogisticRegression(\n",
    "                random_state=RANDOM_STATE, max_iter=100\n",
    "            )\n",
    "        ],\n",
    "        \"models__C\": range(4, 8), #регуляризация\n",
    "    },\n",
    "   \n",
    "]"
   ]
  },
  {
   "cell_type": "code",
   "execution_count": 48,
   "metadata": {},
   "outputs": [],
   "source": [
    "grid = GridSearchCV(\n",
    "    pipeline_new, \n",
    "    cv=5, \n",
    "    n_jobs=-1, \n",
    "    param_grid=params_new, \n",
    "    scoring='f1',\n",
    "    verbose=2\n",
    ")\n"
   ]
  },
  {
   "cell_type": "code",
   "execution_count": 49,
   "metadata": {
    "scrolled": true
   },
   "outputs": [
    {
     "name": "stdout",
     "output_type": "stream",
     "text": [
      "Fitting 5 folds for each of 7 candidates, totalling 35 fits\n",
      "[CV] END models=DecisionTreeClassifier(random_state=42), models__max_depth=2; total time=   4.9s\n",
      "[CV] END models=DecisionTreeClassifier(random_state=42), models__max_depth=2; total time=   5.0s\n",
      "[CV] END models=DecisionTreeClassifier(random_state=42), models__max_depth=2; total time=   5.1s\n",
      "[CV] END models=DecisionTreeClassifier(random_state=42), models__max_depth=2; total time=   5.0s\n",
      "[CV] END models=DecisionTreeClassifier(random_state=42), models__max_depth=2; total time=   5.1s\n",
      "[CV] END models=DecisionTreeClassifier(random_state=42), models__max_depth=3; total time=   5.7s\n",
      "[CV] END models=DecisionTreeClassifier(random_state=42), models__max_depth=3; total time=   5.6s\n",
      "[CV] END models=DecisionTreeClassifier(random_state=42), models__max_depth=3; total time=   5.5s\n",
      "[CV] END models=DecisionTreeClassifier(random_state=42), models__max_depth=3; total time=   5.5s\n",
      "[CV] END models=DecisionTreeClassifier(random_state=42), models__max_depth=3; total time=   5.4s\n",
      "[CV] END models=DecisionTreeClassifier(random_state=42), models__max_depth=4; total time=   6.1s\n",
      "[CV] END models=DecisionTreeClassifier(random_state=42), models__max_depth=4; total time=   6.2s\n",
      "[CV] END models=DecisionTreeClassifier(random_state=42), models__max_depth=4; total time=   6.2s\n",
      "[CV] END models=DecisionTreeClassifier(random_state=42), models__max_depth=4; total time=   6.2s\n",
      "[CV] END models=DecisionTreeClassifier(random_state=42), models__max_depth=4; total time=   6.2s\n",
      "[CV] END models=LogisticRegression(random_state=42), models__C=4; total time=  26.7s\n",
      "[CV] END models=LogisticRegression(random_state=42), models__C=4; total time=  24.9s\n",
      "[CV] END models=LogisticRegression(random_state=42), models__C=4; total time=  19.1s\n",
      "[CV] END models=LogisticRegression(random_state=42), models__C=4; total time=  28.2s\n",
      "[CV] END models=LogisticRegression(random_state=42), models__C=4; total time=  27.0s\n",
      "[CV] END models=LogisticRegression(random_state=42), models__C=5; total time=  29.7s\n",
      "[CV] END models=LogisticRegression(random_state=42), models__C=5; total time=  18.6s\n",
      "[CV] END models=LogisticRegression(random_state=42), models__C=5; total time=  24.7s\n",
      "[CV] END models=LogisticRegression(random_state=42), models__C=5; total time=  42.4s\n",
      "[CV] END models=LogisticRegression(random_state=42), models__C=5; total time=  31.5s\n",
      "[CV] END models=LogisticRegression(random_state=42), models__C=6; total time=  24.5s\n",
      "[CV] END models=LogisticRegression(random_state=42), models__C=6; total time=  17.1s\n",
      "[CV] END models=LogisticRegression(random_state=42), models__C=6; total time=  28.2s\n",
      "[CV] END models=LogisticRegression(random_state=42), models__C=6; total time=  19.8s\n",
      "[CV] END models=LogisticRegression(random_state=42), models__C=6; total time=  28.1s\n",
      "[CV] END models=LogisticRegression(random_state=42), models__C=7; total time=  24.5s\n",
      "[CV] END models=LogisticRegression(random_state=42), models__C=7; total time=  17.5s\n",
      "[CV] END models=LogisticRegression(random_state=42), models__C=7; total time=  27.4s\n",
      "[CV] END models=LogisticRegression(random_state=42), models__C=7; total time=  20.6s\n",
      "[CV] END models=LogisticRegression(random_state=42), models__C=7; total time=  28.9s\n",
      "Метрика на тестовых данных 0.7716921302969155\n",
      "Лучшая модель и её параметры:\n",
      "\n",
      " Pipeline(steps=[('tfidf', TfidfVectorizer()),\n",
      "                ('sampler', RandomOverSampler(random_state=42)),\n",
      "                ('models', LogisticRegression(C=5, random_state=42))])\n",
      "Метрика лучшей модели по кросс-валидации: 0.7653615360729791\n"
     ]
    }
   ],
   "source": [
    "grid.fit(X_train, y_train)\n",
    "print('Метрика на тестовых данных', grid.score(X_test, y_test))\n",
    "\n",
    "print('Лучшая модель и её параметры:\\n\\n', grid.best_estimator_)\n",
    "print ('Метрика лучшей модели по кросс-валидации:', grid.best_score_)"
   ]
  },
  {
   "cell_type": "code",
   "execution_count": 50,
   "metadata": {},
   "outputs": [
    {
     "name": "stdout",
     "output_type": "stream",
     "text": [
      "F1-score test = 0.77\n"
     ]
    }
   ],
   "source": [
    "y_test_pred = grid.predict(X_test)\n",
    "f1 = f1_score(y_test, y_test_pred, pos_label=1)\n",
    "print('F1-score test =', round(f1,2))"
   ]
  },
  {
   "cell_type": "markdown",
   "metadata": {},
   "source": [
    "- Все операции выполнены в пайплайне\n",
    "- Лучшая модель и её параметры: LogisticRegression(C=5, random_state=42)\n",
    "- Метрика лучшей модели по кросс-валидации: 0.7653615360729791\n",
    "- Метрика на тестовых данных 0.7716921302969155 (опять получилась чуть больше, чем по кросс-валидации. Но всего пол процента.)\n",
    "- Модель удовлетоворяет условия задачи."
   ]
  },
  {
   "cell_type": "markdown",
   "metadata": {},
   "source": [
    "## Выводы"
   ]
  },
  {
   "cell_type": "markdown",
   "metadata": {},
   "source": [
    "Проект состоит из 3-х глав:\n",
    "- Подготовка. Были импортированы библиотеки и данные. В целевом признаке два класса: 0 - положительные твиты, 1- отрицательные твиты. Текст был токенизирован, лемматизирован, были убраны стоп слова. Все сделано для английского языка, так как он превалирует в твитах. Далее текст преобразован в матрицу TF-IDF, которая отвечает за важность слов. Эти данные будут входным признаком для модели, которая определит токсичность твитов.\n",
    "- Обучение. Так как выявлен дисбаланс классов (90/10), то сделан оверсемплинг.  Адекватность модели проверена сначала Dummy Классификатором, который показал плохой результат, что доказывает необходимость проведения моделирования.Метрика F1 чувствительна к дисбалансу классов, так как это среднее гармоническое precision и recall, поэтому она будет показывать низкое качество модели, если хотя бы одна из его составляющих даёт низкую оценку. Соответственно, логистическая регрессия с оверсемплингом показала хороший результат (0.76)\n",
    "- Выводы. Лучшая модель по результатам исследований - LogisticRegression(C=5, random_state=42). Метрика лучшей модели по кросс-валидации: 0.7653615360729791. Метрика на тестовых данных 0.7716921302969155 (опять получилась чуть больше, чем по кросс-валидации. Но всего пол процента). Модель удовлетоворяет условия задачи. Соответственно, задача выполнена, в большинстве негативные твиты будут отслеживаться и удаляться."
   ]
  }
 ],
 "metadata": {
  "ExecuteTimeLog": [
   {
    "duration": 2327,
    "start_time": "2024-11-06T02:35:49.721Z"
   },
   {
    "duration": 1118,
    "start_time": "2024-11-06T02:36:11.332Z"
   },
   {
    "duration": 287,
    "start_time": "2024-11-06T02:36:23.689Z"
   },
   {
    "duration": 28,
    "start_time": "2024-11-06T02:36:39.667Z"
   },
   {
    "duration": 106,
    "start_time": "2024-11-06T02:36:49.901Z"
   },
   {
    "duration": 8,
    "start_time": "2024-11-06T02:36:59.785Z"
   },
   {
    "duration": 136,
    "start_time": "2024-11-06T02:44:17.247Z"
   },
   {
    "duration": 3,
    "start_time": "2024-11-06T02:44:27.027Z"
   },
   {
    "duration": 2,
    "start_time": "2024-11-06T02:44:41.964Z"
   },
   {
    "duration": 204,
    "start_time": "2024-11-06T02:45:11.854Z"
   },
   {
    "duration": 3,
    "start_time": "2024-11-06T02:46:34.472Z"
   },
   {
    "duration": 3,
    "start_time": "2024-11-06T02:46:59.938Z"
   },
   {
    "duration": 3,
    "start_time": "2024-11-06T02:47:03.245Z"
   },
   {
    "duration": 3,
    "start_time": "2024-11-06T02:48:05.114Z"
   },
   {
    "duration": 2801,
    "start_time": "2024-11-06T02:52:39.170Z"
   },
   {
    "duration": 456,
    "start_time": "2024-11-06T02:54:32.388Z"
   },
   {
    "duration": 2270,
    "start_time": "2024-11-06T02:54:45.433Z"
   },
   {
    "duration": 1033,
    "start_time": "2024-11-06T02:54:47.705Z"
   },
   {
    "duration": 281,
    "start_time": "2024-11-06T02:54:48.739Z"
   },
   {
    "duration": 27,
    "start_time": "2024-11-06T02:54:49.022Z"
   },
   {
    "duration": 119,
    "start_time": "2024-11-06T02:54:49.051Z"
   },
   {
    "duration": 8,
    "start_time": "2024-11-06T02:54:49.171Z"
   },
   {
    "duration": 222,
    "start_time": "2024-11-06T02:54:49.180Z"
   },
   {
    "duration": 3,
    "start_time": "2024-11-06T02:54:49.403Z"
   },
   {
    "duration": 2829,
    "start_time": "2024-11-06T02:54:49.407Z"
   },
   {
    "duration": 173,
    "start_time": "2024-11-06T02:54:52.239Z"
   },
   {
    "duration": 0,
    "start_time": "2024-11-06T02:54:52.413Z"
   },
   {
    "duration": 0,
    "start_time": "2024-11-06T02:54:52.414Z"
   },
   {
    "duration": 2342,
    "start_time": "2024-11-06T02:55:25.260Z"
   },
   {
    "duration": 1059,
    "start_time": "2024-11-06T02:55:27.604Z"
   },
   {
    "duration": 285,
    "start_time": "2024-11-06T02:55:28.664Z"
   },
   {
    "duration": 28,
    "start_time": "2024-11-06T02:55:28.951Z"
   },
   {
    "duration": 103,
    "start_time": "2024-11-06T02:55:28.980Z"
   },
   {
    "duration": 8,
    "start_time": "2024-11-06T02:55:29.084Z"
   },
   {
    "duration": 145,
    "start_time": "2024-11-06T02:55:29.093Z"
   },
   {
    "duration": 2,
    "start_time": "2024-11-06T02:55:29.240Z"
   },
   {
    "duration": 2831,
    "start_time": "2024-11-06T02:55:29.243Z"
   },
   {
    "duration": 174,
    "start_time": "2024-11-06T02:55:32.076Z"
   },
   {
    "duration": 0,
    "start_time": "2024-11-06T02:55:32.251Z"
   },
   {
    "duration": 0,
    "start_time": "2024-11-06T02:55:32.252Z"
   },
   {
    "duration": 2458,
    "start_time": "2024-11-06T02:58:09.251Z"
   },
   {
    "duration": 1031,
    "start_time": "2024-11-06T02:58:11.711Z"
   },
   {
    "duration": 314,
    "start_time": "2024-11-06T02:58:12.744Z"
   },
   {
    "duration": 28,
    "start_time": "2024-11-06T02:58:13.060Z"
   },
   {
    "duration": 123,
    "start_time": "2024-11-06T02:58:13.090Z"
   },
   {
    "duration": 7,
    "start_time": "2024-11-06T02:58:13.215Z"
   },
   {
    "duration": 213,
    "start_time": "2024-11-06T02:58:13.223Z"
   },
   {
    "duration": 2,
    "start_time": "2024-11-06T02:58:13.437Z"
   },
   {
    "duration": 2808,
    "start_time": "2024-11-06T02:58:13.440Z"
   },
   {
    "duration": 169,
    "start_time": "2024-11-06T02:58:16.251Z"
   },
   {
    "duration": 0,
    "start_time": "2024-11-06T02:58:16.421Z"
   },
   {
    "duration": 0,
    "start_time": "2024-11-06T02:58:16.422Z"
   },
   {
    "duration": 2334,
    "start_time": "2024-11-06T03:00:33.414Z"
   },
   {
    "duration": 1112,
    "start_time": "2024-11-06T03:00:35.750Z"
   },
   {
    "duration": 315,
    "start_time": "2024-11-06T03:00:36.863Z"
   },
   {
    "duration": 38,
    "start_time": "2024-11-06T03:00:37.180Z"
   },
   {
    "duration": 110,
    "start_time": "2024-11-06T03:00:37.219Z"
   },
   {
    "duration": 8,
    "start_time": "2024-11-06T03:00:37.330Z"
   },
   {
    "duration": 152,
    "start_time": "2024-11-06T03:00:37.339Z"
   },
   {
    "duration": 2,
    "start_time": "2024-11-06T03:00:37.493Z"
   },
   {
    "duration": 2260,
    "start_time": "2024-11-06T03:00:37.497Z"
   },
   {
    "duration": 0,
    "start_time": "2024-11-06T03:00:39.758Z"
   },
   {
    "duration": 0,
    "start_time": "2024-11-06T03:00:39.760Z"
   },
   {
    "duration": 0,
    "start_time": "2024-11-06T03:00:39.761Z"
   },
   {
    "duration": 391,
    "start_time": "2024-11-06T03:02:48.159Z"
   },
   {
    "duration": 2353,
    "start_time": "2024-11-06T03:03:01.798Z"
   },
   {
    "duration": 1071,
    "start_time": "2024-11-06T03:03:04.153Z"
   },
   {
    "duration": 288,
    "start_time": "2024-11-06T03:03:05.225Z"
   },
   {
    "duration": 28,
    "start_time": "2024-11-06T03:03:05.515Z"
   },
   {
    "duration": 118,
    "start_time": "2024-11-06T03:03:05.544Z"
   },
   {
    "duration": 10,
    "start_time": "2024-11-06T03:03:05.664Z"
   },
   {
    "duration": 223,
    "start_time": "2024-11-06T03:03:05.675Z"
   },
   {
    "duration": 1,
    "start_time": "2024-11-06T03:03:05.900Z"
   },
   {
    "duration": 2095,
    "start_time": "2024-11-06T03:03:05.902Z"
   },
   {
    "duration": 161,
    "start_time": "2024-11-06T03:03:07.998Z"
   },
   {
    "duration": 0,
    "start_time": "2024-11-06T03:03:08.160Z"
   },
   {
    "duration": 0,
    "start_time": "2024-11-06T03:03:08.161Z"
   },
   {
    "duration": 443,
    "start_time": "2024-11-06T03:05:05.007Z"
   },
   {
    "duration": 2347,
    "start_time": "2024-11-06T03:05:14.066Z"
   },
   {
    "duration": 1093,
    "start_time": "2024-11-06T03:05:16.414Z"
   },
   {
    "duration": 287,
    "start_time": "2024-11-06T03:05:17.509Z"
   },
   {
    "duration": 30,
    "start_time": "2024-11-06T03:05:17.797Z"
   },
   {
    "duration": 115,
    "start_time": "2024-11-06T03:05:17.828Z"
   },
   {
    "duration": 8,
    "start_time": "2024-11-06T03:05:17.944Z"
   },
   {
    "duration": 203,
    "start_time": "2024-11-06T03:05:17.953Z"
   },
   {
    "duration": 2,
    "start_time": "2024-11-06T03:05:18.157Z"
   },
   {
    "duration": 2065,
    "start_time": "2024-11-06T03:05:18.160Z"
   },
   {
    "duration": 153,
    "start_time": "2024-11-06T03:05:20.227Z"
   },
   {
    "duration": 0,
    "start_time": "2024-11-06T03:05:20.382Z"
   },
   {
    "duration": 0,
    "start_time": "2024-11-06T03:05:20.383Z"
   },
   {
    "duration": 3,
    "start_time": "2024-11-06T03:12:26.851Z"
   },
   {
    "duration": 140,
    "start_time": "2024-11-06T03:14:55.744Z"
   },
   {
    "duration": 3,
    "start_time": "2024-11-06T03:15:11.263Z"
   },
   {
    "duration": 2,
    "start_time": "2024-11-06T03:15:24.824Z"
   },
   {
    "duration": 7,
    "start_time": "2024-11-06T03:15:31.616Z"
   },
   {
    "duration": 0,
    "start_time": "2024-11-06T03:16:13.435Z"
   },
   {
    "duration": 308,
    "start_time": "2024-11-06T03:16:25.575Z"
   },
   {
    "duration": 279,
    "start_time": "2024-11-06T03:16:59.063Z"
   },
   {
    "duration": 14,
    "start_time": "2024-11-06T03:17:25.031Z"
   },
   {
    "duration": 40,
    "start_time": "2024-11-06T03:17:34.354Z"
   },
   {
    "duration": 2,
    "start_time": "2024-11-06T03:17:38.948Z"
   },
   {
    "duration": 647,
    "start_time": "2024-11-06T03:17:39.254Z"
   },
   {
    "duration": 4,
    "start_time": "2024-11-06T03:18:04.937Z"
   },
   {
    "duration": 143,
    "start_time": "2024-11-06T03:18:40.475Z"
   },
   {
    "duration": 10,
    "start_time": "2024-11-06T03:18:43.990Z"
   },
   {
    "duration": 7,
    "start_time": "2024-11-06T03:18:55.919Z"
   },
   {
    "duration": 3,
    "start_time": "2024-11-06T03:21:13.025Z"
   },
   {
    "duration": 2,
    "start_time": "2024-11-06T03:21:22.592Z"
   },
   {
    "duration": 1235,
    "start_time": "2024-11-06T03:21:43.974Z"
   },
   {
    "duration": 3,
    "start_time": "2024-11-06T03:21:51.818Z"
   },
   {
    "duration": 3,
    "start_time": "2024-11-06T03:21:56.950Z"
   },
   {
    "duration": 4,
    "start_time": "2024-11-06T03:22:06.614Z"
   },
   {
    "duration": 4,
    "start_time": "2024-11-06T03:22:22.711Z"
   },
   {
    "duration": 3,
    "start_time": "2024-11-06T03:22:26.486Z"
   },
   {
    "duration": 4,
    "start_time": "2024-11-06T03:24:18.385Z"
   },
   {
    "duration": 4,
    "start_time": "2024-11-06T03:24:28.822Z"
   },
   {
    "duration": 3,
    "start_time": "2024-11-06T03:24:53.745Z"
   },
   {
    "duration": 4,
    "start_time": "2024-11-06T03:26:05.279Z"
   },
   {
    "duration": 4,
    "start_time": "2024-11-06T03:26:15.762Z"
   },
   {
    "duration": 3,
    "start_time": "2024-11-06T03:27:23.481Z"
   },
   {
    "duration": 4,
    "start_time": "2024-11-06T03:27:27.199Z"
   },
   {
    "duration": 4,
    "start_time": "2024-11-06T03:27:49.438Z"
   },
   {
    "duration": 760,
    "start_time": "2024-11-06T03:28:15.725Z"
   },
   {
    "duration": 3,
    "start_time": "2024-11-06T03:28:32.566Z"
   },
   {
    "duration": 3,
    "start_time": "2024-11-06T03:28:39.367Z"
   },
   {
    "duration": 47407,
    "start_time": "2024-11-06T03:28:51.090Z"
   },
   {
    "duration": 11,
    "start_time": "2024-11-06T03:29:48.149Z"
   },
   {
    "duration": 3,
    "start_time": "2024-11-06T03:29:51.432Z"
   },
   {
    "duration": 643,
    "start_time": "2024-11-06T03:29:51.704Z"
   },
   {
    "duration": 6,
    "start_time": "2024-11-06T03:35:05.596Z"
   },
   {
    "duration": 44,
    "start_time": "2024-11-06T23:56:09.402Z"
   },
   {
    "duration": 6,
    "start_time": "2024-11-06T23:56:10.549Z"
   },
   {
    "duration": 3,
    "start_time": "2024-11-06T23:56:27.107Z"
   },
   {
    "duration": 73,
    "start_time": "2024-11-06T23:57:03.995Z"
   },
   {
    "duration": 73,
    "start_time": "2024-11-06T23:57:09.381Z"
   },
   {
    "duration": 6,
    "start_time": "2024-11-06T23:57:12.942Z"
   },
   {
    "duration": 2614,
    "start_time": "2024-11-06T23:57:21.562Z"
   },
   {
    "duration": 3,
    "start_time": "2024-11-06T23:57:24.178Z"
   },
   {
    "duration": 1226,
    "start_time": "2024-11-06T23:57:24.183Z"
   },
   {
    "duration": 299,
    "start_time": "2024-11-06T23:57:25.411Z"
   },
   {
    "duration": 28,
    "start_time": "2024-11-06T23:57:25.711Z"
   },
   {
    "duration": 110,
    "start_time": "2024-11-06T23:57:25.741Z"
   },
   {
    "duration": 8,
    "start_time": "2024-11-06T23:57:25.852Z"
   },
   {
    "duration": 163,
    "start_time": "2024-11-06T23:57:25.861Z"
   },
   {
    "duration": 2,
    "start_time": "2024-11-06T23:57:26.025Z"
   },
   {
    "duration": 14,
    "start_time": "2024-11-06T23:57:26.029Z"
   },
   {
    "duration": 702,
    "start_time": "2024-11-06T23:57:26.044Z"
   },
   {
    "duration": 169,
    "start_time": "2024-11-06T23:57:26.748Z"
   },
   {
    "duration": 0,
    "start_time": "2024-11-06T23:57:26.918Z"
   },
   {
    "duration": 0,
    "start_time": "2024-11-06T23:57:26.920Z"
   },
   {
    "duration": 3,
    "start_time": "2024-11-07T00:24:48.267Z"
   },
   {
    "duration": 447,
    "start_time": "2024-11-07T00:26:21.037Z"
   },
   {
    "duration": 420,
    "start_time": "2024-11-07T00:26:49.424Z"
   },
   {
    "duration": 3,
    "start_time": "2024-11-07T00:30:54.487Z"
   },
   {
    "duration": 5866,
    "start_time": "2024-11-07T00:32:13.892Z"
   },
   {
    "duration": 2467,
    "start_time": "2024-11-07T00:34:16.094Z"
   },
   {
    "duration": 3,
    "start_time": "2024-11-07T00:34:18.563Z"
   },
   {
    "duration": 832,
    "start_time": "2024-11-07T00:34:18.567Z"
   },
   {
    "duration": 331,
    "start_time": "2024-11-07T00:34:19.401Z"
   },
   {
    "duration": 29,
    "start_time": "2024-11-07T00:34:19.734Z"
   },
   {
    "duration": 137,
    "start_time": "2024-11-07T00:34:19.765Z"
   },
   {
    "duration": 9,
    "start_time": "2024-11-07T00:34:19.906Z"
   },
   {
    "duration": 216,
    "start_time": "2024-11-07T00:34:19.916Z"
   },
   {
    "duration": 3,
    "start_time": "2024-11-07T00:34:20.133Z"
   },
   {
    "duration": 32,
    "start_time": "2024-11-07T00:34:20.138Z"
   },
   {
    "duration": 663,
    "start_time": "2024-11-07T00:34:20.172Z"
   },
   {
    "duration": 3,
    "start_time": "2024-11-07T00:34:20.837Z"
   },
   {
    "duration": 11,
    "start_time": "2024-11-07T00:34:20.841Z"
   },
   {
    "duration": 16,
    "start_time": "2024-11-07T00:34:20.854Z"
   },
   {
    "duration": 5489,
    "start_time": "2024-11-07T00:34:20.872Z"
   },
   {
    "duration": 196,
    "start_time": "2024-11-07T00:34:26.363Z"
   },
   {
    "duration": 0,
    "start_time": "2024-11-07T00:34:26.560Z"
   },
   {
    "duration": 0,
    "start_time": "2024-11-07T00:34:26.561Z"
   },
   {
    "duration": 0,
    "start_time": "2024-11-07T00:34:26.562Z"
   },
   {
    "duration": 2,
    "start_time": "2024-11-07T00:35:45.830Z"
   },
   {
    "duration": 4,
    "start_time": "2024-11-07T00:40:49.176Z"
   },
   {
    "duration": 2,
    "start_time": "2024-11-07T00:41:04.727Z"
   },
   {
    "duration": 73,
    "start_time": "2024-11-07T00:43:07.552Z"
   },
   {
    "duration": 103,
    "start_time": "2024-11-07T00:43:29.495Z"
   },
   {
    "duration": 3393,
    "start_time": "2024-11-07T00:43:40.655Z"
   },
   {
    "duration": 4231,
    "start_time": "2024-11-07T00:44:30.074Z"
   },
   {
    "duration": 7,
    "start_time": "2024-11-07T00:50:38.086Z"
   },
   {
    "duration": 284,
    "start_time": "2024-11-07T00:54:18.090Z"
   },
   {
    "duration": 2,
    "start_time": "2024-11-07T00:54:28.986Z"
   },
   {
    "duration": 424,
    "start_time": "2024-11-07T00:54:29.447Z"
   },
   {
    "duration": 9,
    "start_time": "2024-11-07T00:56:15.466Z"
   },
   {
    "duration": 9,
    "start_time": "2024-11-07T00:56:25.593Z"
   },
   {
    "duration": 9,
    "start_time": "2024-11-07T00:56:56.803Z"
   },
   {
    "duration": 4,
    "start_time": "2024-11-07T00:57:05.147Z"
   },
   {
    "duration": 3,
    "start_time": "2024-11-07T00:57:21.724Z"
   },
   {
    "duration": 9,
    "start_time": "2024-11-07T00:57:43.272Z"
   },
   {
    "duration": 79,
    "start_time": "2024-11-07T01:01:20.031Z"
   },
   {
    "duration": 76,
    "start_time": "2024-11-07T01:02:46.957Z"
   },
   {
    "duration": 73,
    "start_time": "2024-11-07T01:03:00.375Z"
   },
   {
    "duration": 87,
    "start_time": "2024-11-07T01:03:03.159Z"
   },
   {
    "duration": 242,
    "start_time": "2024-11-07T01:03:48.068Z"
   },
   {
    "duration": 676,
    "start_time": "2024-11-07T01:04:10.809Z"
   },
   {
    "duration": 909,
    "start_time": "2024-11-07T01:04:16.561Z"
   },
   {
    "duration": 1302,
    "start_time": "2024-11-07T01:04:44.070Z"
   },
   {
    "duration": 1351,
    "start_time": "2024-11-07T01:04:48.410Z"
   },
   {
    "duration": 1311,
    "start_time": "2024-11-07T01:09:28.876Z"
   },
   {
    "duration": 3609,
    "start_time": "2024-11-07T01:09:34.916Z"
   },
   {
    "duration": 482,
    "start_time": "2024-11-07T01:09:38.526Z"
   },
   {
    "duration": 3372,
    "start_time": "2024-11-07T01:09:46.109Z"
   },
   {
    "duration": 513,
    "start_time": "2024-11-07T01:09:49.482Z"
   },
   {
    "duration": 298,
    "start_time": "2024-11-07T01:12:17.086Z"
   },
   {
    "duration": 4,
    "start_time": "2024-11-07T01:12:42.741Z"
   },
   {
    "duration": 3,
    "start_time": "2024-11-07T01:14:06.341Z"
   },
   {
    "duration": 3,
    "start_time": "2024-11-07T01:14:07.180Z"
   },
   {
    "duration": 38172,
    "start_time": "2024-11-07T01:14:07.984Z"
   },
   {
    "duration": 45467,
    "start_time": "2024-11-07T01:14:53.567Z"
   },
   {
    "duration": 0,
    "start_time": "2024-11-07T01:15:39.036Z"
   },
   {
    "duration": 3645,
    "start_time": "2024-11-07T01:15:58.582Z"
   },
   {
    "duration": 11,
    "start_time": "2024-11-07T01:16:02.231Z"
   },
   {
    "duration": 3,
    "start_time": "2024-11-07T01:16:02.463Z"
   },
   {
    "duration": 4,
    "start_time": "2024-11-07T01:16:04.727Z"
   },
   {
    "duration": 15776,
    "start_time": "2024-11-07T01:16:07.822Z"
   },
   {
    "duration": 2,
    "start_time": "2024-11-07T01:55:09.420Z"
   },
   {
    "duration": 18912,
    "start_time": "2024-11-07T01:55:10.218Z"
   },
   {
    "duration": 18343,
    "start_time": "2024-11-07T01:55:31.119Z"
   },
   {
    "duration": 16130,
    "start_time": "2024-11-07T02:12:50.791Z"
   },
   {
    "duration": 3,
    "start_time": "2024-11-07T02:13:06.923Z"
   },
   {
    "duration": 18857,
    "start_time": "2024-11-07T02:13:06.928Z"
   },
   {
    "duration": 12,
    "start_time": "2024-11-07T03:44:13.398Z"
   },
   {
    "duration": 18,
    "start_time": "2024-11-07T03:45:00.413Z"
   },
   {
    "duration": 17,
    "start_time": "2024-11-07T03:46:57.609Z"
   },
   {
    "duration": 6,
    "start_time": "2024-11-07T03:47:08.991Z"
   },
   {
    "duration": 6,
    "start_time": "2024-11-07T03:47:17.532Z"
   },
   {
    "duration": 7,
    "start_time": "2024-11-07T03:48:09.805Z"
   },
   {
    "duration": 12,
    "start_time": "2024-11-07T03:48:32.554Z"
   },
   {
    "duration": 4246,
    "start_time": "2024-11-07T03:48:47.698Z"
   },
   {
    "duration": 4287,
    "start_time": "2024-11-07T03:49:21.623Z"
   },
   {
    "duration": 2313,
    "start_time": "2024-11-07T03:51:48.617Z"
   },
   {
    "duration": 3,
    "start_time": "2024-11-07T03:51:50.932Z"
   },
   {
    "duration": 793,
    "start_time": "2024-11-07T03:51:50.936Z"
   },
   {
    "duration": 302,
    "start_time": "2024-11-07T03:51:51.730Z"
   },
   {
    "duration": 30,
    "start_time": "2024-11-07T03:51:52.034Z"
   },
   {
    "duration": 113,
    "start_time": "2024-11-07T03:51:52.065Z"
   },
   {
    "duration": 8,
    "start_time": "2024-11-07T03:51:52.180Z"
   },
   {
    "duration": 26,
    "start_time": "2024-11-07T03:51:52.190Z"
   },
   {
    "duration": 683,
    "start_time": "2024-11-07T03:51:52.217Z"
   },
   {
    "duration": 5,
    "start_time": "2024-11-07T03:51:52.902Z"
   },
   {
    "duration": 2,
    "start_time": "2024-11-07T03:51:52.908Z"
   },
   {
    "duration": 6,
    "start_time": "2024-11-07T03:51:52.911Z"
   },
   {
    "duration": 5187,
    "start_time": "2024-11-07T03:51:52.918Z"
   },
   {
    "duration": 2,
    "start_time": "2024-11-07T03:51:58.108Z"
   },
   {
    "duration": 3362,
    "start_time": "2024-11-07T03:51:58.112Z"
   },
   {
    "duration": 219,
    "start_time": "2024-11-07T03:52:01.476Z"
   },
   {
    "duration": 3,
    "start_time": "2024-11-07T03:52:01.696Z"
   },
   {
    "duration": 26,
    "start_time": "2024-11-07T03:52:01.700Z"
   },
   {
    "duration": 15273,
    "start_time": "2024-11-07T03:52:01.728Z"
   },
   {
    "duration": 16,
    "start_time": "2024-11-07T03:52:17.002Z"
   },
   {
    "duration": 20536,
    "start_time": "2024-11-07T03:52:17.020Z"
   },
   {
    "duration": 8,
    "start_time": "2024-11-07T03:52:37.558Z"
   },
   {
    "duration": 4665,
    "start_time": "2024-11-07T03:52:37.568Z"
   },
   {
    "duration": 164,
    "start_time": "2024-11-07T03:52:42.235Z"
   },
   {
    "duration": 2573,
    "start_time": "2024-11-08T01:08:53.997Z"
   },
   {
    "duration": 2,
    "start_time": "2024-11-08T01:08:56.572Z"
   },
   {
    "duration": 1166,
    "start_time": "2024-11-08T01:08:56.575Z"
   },
   {
    "duration": 306,
    "start_time": "2024-11-08T01:08:57.743Z"
   },
   {
    "duration": 28,
    "start_time": "2024-11-08T01:08:58.051Z"
   },
   {
    "duration": 114,
    "start_time": "2024-11-08T01:08:58.080Z"
   },
   {
    "duration": 15,
    "start_time": "2024-11-08T01:08:58.195Z"
   },
   {
    "duration": 33,
    "start_time": "2024-11-08T01:08:58.211Z"
   },
   {
    "duration": 715,
    "start_time": "2024-11-08T01:08:58.246Z"
   },
   {
    "duration": 5,
    "start_time": "2024-11-08T01:08:58.964Z"
   },
   {
    "duration": 5,
    "start_time": "2024-11-08T01:08:58.971Z"
   },
   {
    "duration": 9,
    "start_time": "2024-11-08T01:08:58.978Z"
   },
   {
    "duration": 5145,
    "start_time": "2024-11-08T01:08:58.988Z"
   },
   {
    "duration": 2,
    "start_time": "2024-11-08T01:09:04.135Z"
   },
   {
    "duration": 3352,
    "start_time": "2024-11-08T01:09:04.139Z"
   },
   {
    "duration": 226,
    "start_time": "2024-11-08T01:09:07.493Z"
   },
   {
    "duration": 2,
    "start_time": "2024-11-08T01:09:07.721Z"
   },
   {
    "duration": 38,
    "start_time": "2024-11-08T01:09:07.724Z"
   },
   {
    "duration": 13785,
    "start_time": "2024-11-08T01:09:07.763Z"
   },
   {
    "duration": 3,
    "start_time": "2024-11-08T01:09:21.550Z"
   },
   {
    "duration": 19684,
    "start_time": "2024-11-08T01:09:21.554Z"
   },
   {
    "duration": 9,
    "start_time": "2024-11-08T01:09:41.240Z"
   },
   {
    "duration": 4376,
    "start_time": "2024-11-08T01:09:41.250Z"
   },
   {
    "duration": 161,
    "start_time": "2024-11-08T01:09:45.627Z"
   },
   {
    "duration": 3,
    "start_time": "2024-11-08T01:10:11.165Z"
   },
   {
    "duration": 11,
    "start_time": "2024-11-08T01:17:29.375Z"
   },
   {
    "duration": 42636,
    "start_time": "2024-11-08T01:17:38.874Z"
   },
   {
    "duration": 3,
    "start_time": "2024-11-08T01:18:59.120Z"
   },
   {
    "duration": 10,
    "start_time": "2024-11-08T01:19:20.369Z"
   },
   {
    "duration": 3,
    "start_time": "2024-11-08T01:19:26.425Z"
   },
   {
    "duration": 47444,
    "start_time": "2024-11-08T01:25:18.467Z"
   },
   {
    "duration": 3,
    "start_time": "2024-11-08T01:42:41.835Z"
   },
   {
    "duration": 42479,
    "start_time": "2024-11-08T01:43:10.939Z"
   },
   {
    "duration": 3,
    "start_time": "2024-11-08T01:46:15.551Z"
   },
   {
    "duration": 43540,
    "start_time": "2024-11-08T01:46:20.985Z"
   },
   {
    "duration": 42464,
    "start_time": "2024-11-08T01:49:26.578Z"
   },
   {
    "duration": 76,
    "start_time": "2024-11-08T01:52:41.411Z"
   },
   {
    "duration": 86,
    "start_time": "2024-11-08T01:54:41.799Z"
   },
   {
    "duration": 11,
    "start_time": "2024-11-08T01:56:02.022Z"
   },
   {
    "duration": 7799,
    "start_time": "2024-11-08T01:56:49.401Z"
   },
   {
    "duration": 25,
    "start_time": "2024-11-08T01:56:57.202Z"
   },
   {
    "duration": 31,
    "start_time": "2024-11-08T01:57:37.336Z"
   },
   {
    "duration": 73,
    "start_time": "2024-11-08T02:01:15.668Z"
   },
   {
    "duration": 13,
    "start_time": "2024-11-08T02:04:48.138Z"
   },
   {
    "duration": 6,
    "start_time": "2024-11-08T02:08:08.739Z"
   },
   {
    "duration": 14,
    "start_time": "2024-11-08T02:09:05.756Z"
   },
   {
    "duration": 18,
    "start_time": "2024-11-08T02:09:38.328Z"
   },
   {
    "duration": 11,
    "start_time": "2024-11-08T02:12:12.672Z"
   },
   {
    "duration": 2626,
    "start_time": "2024-11-08T02:12:39.766Z"
   },
   {
    "duration": 2578,
    "start_time": "2024-11-08T02:12:42.395Z"
   },
   {
    "duration": 3,
    "start_time": "2024-11-08T02:12:44.975Z"
   },
   {
    "duration": 826,
    "start_time": "2024-11-08T02:12:44.979Z"
   },
   {
    "duration": 313,
    "start_time": "2024-11-08T02:12:45.807Z"
   },
   {
    "duration": 30,
    "start_time": "2024-11-08T02:12:46.122Z"
   },
   {
    "duration": 132,
    "start_time": "2024-11-08T02:12:46.153Z"
   },
   {
    "duration": 9,
    "start_time": "2024-11-08T02:12:46.286Z"
   },
   {
    "duration": 37,
    "start_time": "2024-11-08T02:12:46.296Z"
   },
   {
    "duration": 711,
    "start_time": "2024-11-08T02:12:46.335Z"
   },
   {
    "duration": 3,
    "start_time": "2024-11-08T02:12:47.048Z"
   },
   {
    "duration": 6,
    "start_time": "2024-11-08T02:12:47.053Z"
   },
   {
    "duration": 10,
    "start_time": "2024-11-08T02:12:47.061Z"
   },
   {
    "duration": 5270,
    "start_time": "2024-11-08T02:12:47.073Z"
   },
   {
    "duration": 3,
    "start_time": "2024-11-08T02:12:52.344Z"
   },
   {
    "duration": 3416,
    "start_time": "2024-11-08T02:12:52.348Z"
   },
   {
    "duration": 163,
    "start_time": "2024-11-08T02:12:55.766Z"
   },
   {
    "duration": 2,
    "start_time": "2024-11-08T02:12:55.930Z"
   },
   {
    "duration": 18,
    "start_time": "2024-11-08T02:12:55.934Z"
   },
   {
    "duration": 14340,
    "start_time": "2024-11-08T02:12:55.954Z"
   },
   {
    "duration": 2,
    "start_time": "2024-11-08T02:13:10.295Z"
   },
   {
    "duration": 9454,
    "start_time": "2024-11-08T02:13:10.306Z"
   },
   {
    "duration": 0,
    "start_time": "2024-11-08T02:13:19.761Z"
   },
   {
    "duration": 0,
    "start_time": "2024-11-08T02:13:19.762Z"
   },
   {
    "duration": 0,
    "start_time": "2024-11-08T02:13:19.763Z"
   },
   {
    "duration": 0,
    "start_time": "2024-11-08T02:13:19.764Z"
   },
   {
    "duration": 0,
    "start_time": "2024-11-08T02:13:19.765Z"
   },
   {
    "duration": 0,
    "start_time": "2024-11-08T02:13:19.767Z"
   },
   {
    "duration": 0,
    "start_time": "2024-11-08T02:13:19.768Z"
   },
   {
    "duration": 0,
    "start_time": "2024-11-08T02:13:19.768Z"
   },
   {
    "duration": 0,
    "start_time": "2024-11-08T02:13:19.769Z"
   },
   {
    "duration": 0,
    "start_time": "2024-11-08T02:13:19.770Z"
   },
   {
    "duration": 2589,
    "start_time": "2024-11-08T02:13:32.125Z"
   },
   {
    "duration": 2530,
    "start_time": "2024-11-08T02:13:34.716Z"
   },
   {
    "duration": 3,
    "start_time": "2024-11-08T02:13:37.248Z"
   },
   {
    "duration": 821,
    "start_time": "2024-11-08T02:13:37.253Z"
   },
   {
    "duration": 352,
    "start_time": "2024-11-08T02:13:38.077Z"
   },
   {
    "duration": 28,
    "start_time": "2024-11-08T02:13:38.431Z"
   },
   {
    "duration": 199,
    "start_time": "2024-11-08T02:13:38.461Z"
   },
   {
    "duration": 8,
    "start_time": "2024-11-08T02:13:38.661Z"
   },
   {
    "duration": 21,
    "start_time": "2024-11-08T02:13:38.670Z"
   },
   {
    "duration": 757,
    "start_time": "2024-11-08T02:13:38.692Z"
   },
   {
    "duration": 3,
    "start_time": "2024-11-08T02:13:39.451Z"
   },
   {
    "duration": 32,
    "start_time": "2024-11-08T02:13:39.455Z"
   },
   {
    "duration": 25,
    "start_time": "2024-11-08T02:13:39.488Z"
   },
   {
    "duration": 5248,
    "start_time": "2024-11-08T02:13:39.518Z"
   },
   {
    "duration": 3,
    "start_time": "2024-11-08T02:13:44.768Z"
   },
   {
    "duration": 3214,
    "start_time": "2024-11-08T02:13:44.772Z"
   },
   {
    "duration": 164,
    "start_time": "2024-11-08T02:13:47.988Z"
   },
   {
    "duration": 3,
    "start_time": "2024-11-08T02:13:48.153Z"
   },
   {
    "duration": 10,
    "start_time": "2024-11-08T02:13:48.157Z"
   },
   {
    "duration": 14581,
    "start_time": "2024-11-08T02:13:48.168Z"
   },
   {
    "duration": 3,
    "start_time": "2024-11-08T02:14:02.751Z"
   },
   {
    "duration": 20100,
    "start_time": "2024-11-08T02:14:02.755Z"
   },
   {
    "duration": 11,
    "start_time": "2024-11-08T02:14:22.856Z"
   },
   {
    "duration": 4246,
    "start_time": "2024-11-08T02:14:22.868Z"
   },
   {
    "duration": 4,
    "start_time": "2024-11-08T02:14:27.115Z"
   },
   {
    "duration": 97,
    "start_time": "2024-11-08T02:14:27.120Z"
   },
   {
    "duration": 67,
    "start_time": "2024-11-08T02:14:27.219Z"
   },
   {
    "duration": 33,
    "start_time": "2024-11-08T02:14:27.288Z"
   },
   {
    "duration": 15337,
    "start_time": "2024-11-08T02:14:27.323Z"
   },
   {
    "duration": 45,
    "start_time": "2024-11-08T02:14:42.662Z"
   },
   {
    "duration": 78,
    "start_time": "2024-11-08T02:14:42.708Z"
   },
   {
    "duration": 81,
    "start_time": "2024-11-08T02:16:12.660Z"
   },
   {
    "duration": 85,
    "start_time": "2024-11-08T02:19:29.500Z"
   },
   {
    "duration": 13717,
    "start_time": "2024-11-08T02:19:40.226Z"
   },
   {
    "duration": 14905,
    "start_time": "2024-11-08T02:23:38.046Z"
   },
   {
    "duration": 9451,
    "start_time": "2024-11-08T02:27:07.460Z"
   },
   {
    "duration": 3,
    "start_time": "2024-11-08T02:38:02.944Z"
   },
   {
    "duration": 3,
    "start_time": "2024-11-08T02:38:18.752Z"
   },
   {
    "duration": 14007,
    "start_time": "2024-11-08T02:38:31.601Z"
   },
   {
    "duration": 14849,
    "start_time": "2024-11-08T02:38:46.360Z"
   },
   {
    "duration": 15188,
    "start_time": "2024-11-08T02:39:02.722Z"
   },
   {
    "duration": 4,
    "start_time": "2024-11-08T03:04:56.031Z"
   },
   {
    "duration": 4,
    "start_time": "2024-11-08T03:13:15.861Z"
   },
   {
    "duration": 3,
    "start_time": "2024-11-08T03:13:28.641Z"
   },
   {
    "duration": 4,
    "start_time": "2024-11-08T03:13:30.490Z"
   },
   {
    "duration": 325690,
    "start_time": "2024-11-08T03:13:31.893Z"
   },
   {
    "duration": 0,
    "start_time": "2024-11-08T03:18:57.585Z"
   },
   {
    "duration": 0,
    "start_time": "2024-11-08T03:18:57.631Z"
   },
   {
    "duration": 0,
    "start_time": "2024-11-08T03:18:57.632Z"
   },
   {
    "duration": 2641,
    "start_time": "2024-11-08T03:23:28.337Z"
   },
   {
    "duration": 2640,
    "start_time": "2024-11-08T03:23:30.981Z"
   },
   {
    "duration": 4,
    "start_time": "2024-11-08T03:23:33.623Z"
   },
   {
    "duration": 852,
    "start_time": "2024-11-08T03:23:33.628Z"
   },
   {
    "duration": 362,
    "start_time": "2024-11-08T03:23:34.482Z"
   },
   {
    "duration": 29,
    "start_time": "2024-11-08T03:23:34.845Z"
   },
   {
    "duration": 232,
    "start_time": "2024-11-08T03:23:34.876Z"
   },
   {
    "duration": 9,
    "start_time": "2024-11-08T03:23:35.110Z"
   },
   {
    "duration": 17,
    "start_time": "2024-11-08T03:23:35.123Z"
   },
   {
    "duration": 734,
    "start_time": "2024-11-08T03:23:35.141Z"
   },
   {
    "duration": 3,
    "start_time": "2024-11-08T03:23:35.877Z"
   },
   {
    "duration": 38,
    "start_time": "2024-11-08T03:23:35.881Z"
   },
   {
    "duration": 25,
    "start_time": "2024-11-08T03:23:35.921Z"
   },
   {
    "duration": 5590,
    "start_time": "2024-11-08T03:23:35.950Z"
   },
   {
    "duration": 2,
    "start_time": "2024-11-08T03:23:41.542Z"
   },
   {
    "duration": 3546,
    "start_time": "2024-11-08T03:23:41.545Z"
   },
   {
    "duration": 206,
    "start_time": "2024-11-08T03:23:45.092Z"
   },
   {
    "duration": 3,
    "start_time": "2024-11-08T03:23:45.299Z"
   },
   {
    "duration": 38,
    "start_time": "2024-11-08T03:23:45.303Z"
   },
   {
    "duration": 15050,
    "start_time": "2024-11-08T03:23:45.343Z"
   },
   {
    "duration": 3,
    "start_time": "2024-11-08T03:24:00.394Z"
   },
   {
    "duration": 20993,
    "start_time": "2024-11-08T03:24:00.406Z"
   },
   {
    "duration": 16,
    "start_time": "2024-11-08T03:24:21.400Z"
   },
   {
    "duration": 4762,
    "start_time": "2024-11-08T03:24:21.418Z"
   },
   {
    "duration": 4,
    "start_time": "2024-11-08T03:24:26.181Z"
   },
   {
    "duration": 96,
    "start_time": "2024-11-08T03:24:26.186Z"
   },
   {
    "duration": 76,
    "start_time": "2024-11-08T03:24:26.283Z"
   },
   {
    "duration": 96,
    "start_time": "2024-11-08T03:24:26.360Z"
   },
   {
    "duration": 169,
    "start_time": "2024-11-08T03:24:26.457Z"
   },
   {
    "duration": 0,
    "start_time": "2024-11-08T03:24:26.628Z"
   },
   {
    "duration": 0,
    "start_time": "2024-11-08T03:24:26.629Z"
   },
   {
    "duration": 0,
    "start_time": "2024-11-08T03:24:26.630Z"
   },
   {
    "duration": 0,
    "start_time": "2024-11-08T03:24:26.632Z"
   },
   {
    "duration": 0,
    "start_time": "2024-11-08T03:24:26.633Z"
   },
   {
    "duration": 0,
    "start_time": "2024-11-08T03:24:26.634Z"
   },
   {
    "duration": 61,
    "start_time": "2024-11-08T03:25:00.001Z"
   },
   {
    "duration": 17754,
    "start_time": "2024-11-08T03:25:05.926Z"
   },
   {
    "duration": 10337,
    "start_time": "2024-11-08T03:25:23.682Z"
   },
   {
    "duration": 3,
    "start_time": "2024-11-08T03:25:34.021Z"
   },
   {
    "duration": 15,
    "start_time": "2024-11-08T03:25:34.026Z"
   },
   {
    "duration": 2909918,
    "start_time": "2024-11-08T03:25:34.043Z"
   },
   {
    "duration": 215630,
    "start_time": "2024-11-08T04:14:03.963Z"
   },
   {
    "duration": 0,
    "start_time": "2024-11-08T04:17:39.594Z"
   },
   {
    "duration": 3739,
    "start_time": "2024-11-08T04:20:33.141Z"
   },
   {
    "duration": 2726,
    "start_time": "2024-11-08T04:21:57.755Z"
   },
   {
    "duration": 4,
    "start_time": "2024-11-08T04:22:00.483Z"
   },
   {
    "duration": 79,
    "start_time": "2024-11-08T04:22:00.489Z"
   },
   {
    "duration": 1304,
    "start_time": "2024-11-08T04:22:00.570Z"
   },
   {
    "duration": 322,
    "start_time": "2024-11-08T04:22:01.876Z"
   },
   {
    "duration": 48,
    "start_time": "2024-11-08T04:22:02.200Z"
   },
   {
    "duration": 294,
    "start_time": "2024-11-08T04:22:02.250Z"
   },
   {
    "duration": 9,
    "start_time": "2024-11-08T04:22:02.546Z"
   },
   {
    "duration": 38,
    "start_time": "2024-11-08T04:22:02.556Z"
   },
   {
    "duration": 781,
    "start_time": "2024-11-08T04:22:02.596Z"
   },
   {
    "duration": 3,
    "start_time": "2024-11-08T04:22:03.379Z"
   },
   {
    "duration": 19,
    "start_time": "2024-11-08T04:22:03.383Z"
   },
   {
    "duration": 19,
    "start_time": "2024-11-08T04:22:03.403Z"
   },
   {
    "duration": 5723,
    "start_time": "2024-11-08T04:22:03.425Z"
   },
   {
    "duration": 2,
    "start_time": "2024-11-08T04:22:09.149Z"
   },
   {
    "duration": 3542,
    "start_time": "2024-11-08T04:22:09.153Z"
   },
   {
    "duration": 154,
    "start_time": "2024-11-08T04:22:12.697Z"
   },
   {
    "duration": 3,
    "start_time": "2024-11-08T04:22:12.852Z"
   },
   {
    "duration": 15,
    "start_time": "2024-11-08T04:22:12.856Z"
   },
   {
    "duration": 15547,
    "start_time": "2024-11-08T04:22:12.873Z"
   },
   {
    "duration": 4,
    "start_time": "2024-11-08T04:22:28.422Z"
   },
   {
    "duration": 21339,
    "start_time": "2024-11-08T04:22:28.427Z"
   },
   {
    "duration": 8,
    "start_time": "2024-11-08T04:22:49.767Z"
   },
   {
    "duration": 4585,
    "start_time": "2024-11-08T04:22:49.777Z"
   },
   {
    "duration": 3,
    "start_time": "2024-11-08T04:22:54.363Z"
   },
   {
    "duration": 114,
    "start_time": "2024-11-08T04:22:54.367Z"
   },
   {
    "duration": 84,
    "start_time": "2024-11-08T04:22:54.483Z"
   },
   {
    "duration": 101,
    "start_time": "2024-11-08T04:22:54.568Z"
   },
   {
    "duration": 81,
    "start_time": "2024-11-08T04:22:54.670Z"
   },
   {
    "duration": 17802,
    "start_time": "2024-11-08T04:22:54.753Z"
   },
   {
    "duration": 9369,
    "start_time": "2024-11-08T04:23:12.556Z"
   },
   {
    "duration": 3,
    "start_time": "2024-11-08T04:23:21.927Z"
   },
   {
    "duration": 8,
    "start_time": "2024-11-08T04:23:21.933Z"
   },
   {
    "duration": 0,
    "start_time": "2024-11-08T05:07:33.231Z"
   },
   {
    "duration": 0,
    "start_time": "2024-11-08T05:07:33.232Z"
   },
   {
    "duration": 0,
    "start_time": "2024-11-08T05:07:33.234Z"
   },
   {
    "duration": 0,
    "start_time": "2024-11-08T05:07:33.235Z"
   },
   {
    "duration": 0,
    "start_time": "2024-11-08T05:07:33.236Z"
   },
   {
    "duration": 2680,
    "start_time": "2024-11-08T05:07:41.548Z"
   },
   {
    "duration": 2573,
    "start_time": "2024-11-08T05:07:44.230Z"
   },
   {
    "duration": 3,
    "start_time": "2024-11-08T05:07:46.804Z"
   },
   {
    "duration": 866,
    "start_time": "2024-11-08T05:07:46.809Z"
   },
   {
    "duration": 336,
    "start_time": "2024-11-08T05:07:47.677Z"
   },
   {
    "duration": 32,
    "start_time": "2024-11-08T05:07:48.015Z"
   },
   {
    "duration": 194,
    "start_time": "2024-11-08T05:07:48.049Z"
   },
   {
    "duration": 9,
    "start_time": "2024-11-08T05:07:48.244Z"
   },
   {
    "duration": 14,
    "start_time": "2024-11-08T05:07:48.255Z"
   },
   {
    "duration": 729,
    "start_time": "2024-11-08T05:07:48.271Z"
   },
   {
    "duration": 6,
    "start_time": "2024-11-08T05:07:49.001Z"
   },
   {
    "duration": 7,
    "start_time": "2024-11-08T05:07:49.008Z"
   },
   {
    "duration": 10,
    "start_time": "2024-11-08T05:07:49.016Z"
   },
   {
    "duration": 5437,
    "start_time": "2024-11-08T05:07:49.027Z"
   },
   {
    "duration": 2,
    "start_time": "2024-11-08T05:07:54.466Z"
   },
   {
    "duration": 3418,
    "start_time": "2024-11-08T05:07:54.469Z"
   },
   {
    "duration": 230,
    "start_time": "2024-11-08T05:07:57.889Z"
   },
   {
    "duration": 4,
    "start_time": "2024-11-08T05:07:58.121Z"
   },
   {
    "duration": 6,
    "start_time": "2024-11-08T05:07:58.126Z"
   },
   {
    "duration": 15083,
    "start_time": "2024-11-08T05:07:58.133Z"
   },
   {
    "duration": 4,
    "start_time": "2024-11-08T05:08:13.218Z"
   },
   {
    "duration": 20707,
    "start_time": "2024-11-08T05:08:13.225Z"
   },
   {
    "duration": 13,
    "start_time": "2024-11-08T05:08:33.934Z"
   },
   {
    "duration": 4761,
    "start_time": "2024-11-08T05:08:33.948Z"
   },
   {
    "duration": 4,
    "start_time": "2024-11-08T05:08:38.711Z"
   },
   {
    "duration": 96,
    "start_time": "2024-11-08T05:08:38.718Z"
   },
   {
    "duration": 73,
    "start_time": "2024-11-08T05:08:38.815Z"
   },
   {
    "duration": 107,
    "start_time": "2024-11-08T05:08:38.891Z"
   },
   {
    "duration": 71,
    "start_time": "2024-11-08T05:08:38.999Z"
   },
   {
    "duration": 18111,
    "start_time": "2024-11-08T05:08:39.072Z"
   },
   {
    "duration": 10922,
    "start_time": "2024-11-08T05:08:57.185Z"
   },
   {
    "duration": 3,
    "start_time": "2024-11-08T05:09:08.108Z"
   },
   {
    "duration": 20,
    "start_time": "2024-11-08T05:09:08.114Z"
   },
   {
    "duration": 367581,
    "start_time": "2024-11-08T05:09:08.135Z"
   },
   {
    "duration": 0,
    "start_time": "2024-11-08T05:15:15.718Z"
   },
   {
    "duration": 0,
    "start_time": "2024-11-08T05:15:15.719Z"
   },
   {
    "duration": 25862,
    "start_time": "2024-11-08T05:15:20.826Z"
   },
   {
    "duration": 62307,
    "start_time": "2024-11-08T05:15:48.993Z"
   },
   {
    "duration": 6,
    "start_time": "2024-11-08T05:17:10.915Z"
   },
   {
    "duration": 12,
    "start_time": "2024-11-08T05:17:18.808Z"
   },
   {
    "duration": 8304,
    "start_time": "2024-11-08T05:17:29.693Z"
   },
   {
    "duration": 111529,
    "start_time": "2024-11-08T05:17:41.874Z"
   },
   {
    "duration": 8510,
    "start_time": "2024-11-08T05:19:55.807Z"
   },
   {
    "duration": 7804,
    "start_time": "2024-11-08T05:20:04.319Z"
   },
   {
    "duration": 3,
    "start_time": "2024-11-08T05:20:12.125Z"
   },
   {
    "duration": 3405,
    "start_time": "2024-11-08T05:20:12.130Z"
   },
   {
    "duration": 1298,
    "start_time": "2024-11-08T05:20:15.537Z"
   },
   {
    "duration": 91,
    "start_time": "2024-11-08T05:20:16.837Z"
   },
   {
    "duration": 418,
    "start_time": "2024-11-08T05:20:16.929Z"
   },
   {
    "duration": 66,
    "start_time": "2024-11-08T05:20:17.349Z"
   },
   {
    "duration": 21,
    "start_time": "2024-11-08T05:20:17.417Z"
   },
   {
    "duration": 1584,
    "start_time": "2024-11-08T05:20:17.439Z"
   },
   {
    "duration": 3,
    "start_time": "2024-11-08T05:20:19.025Z"
   },
   {
    "duration": 9,
    "start_time": "2024-11-08T05:20:19.029Z"
   },
   {
    "duration": 19,
    "start_time": "2024-11-08T05:20:19.039Z"
   },
   {
    "duration": 6083,
    "start_time": "2024-11-08T05:20:19.061Z"
   },
   {
    "duration": 2,
    "start_time": "2024-11-08T05:20:25.146Z"
   },
   {
    "duration": 3443,
    "start_time": "2024-11-08T05:20:25.149Z"
   },
   {
    "duration": 164,
    "start_time": "2024-11-08T05:20:28.593Z"
   },
   {
    "duration": 3,
    "start_time": "2024-11-08T05:20:28.758Z"
   },
   {
    "duration": 9,
    "start_time": "2024-11-08T05:20:28.762Z"
   },
   {
    "duration": 15757,
    "start_time": "2024-11-08T05:20:28.773Z"
   },
   {
    "duration": 3,
    "start_time": "2024-11-08T05:20:44.532Z"
   },
   {
    "duration": 20946,
    "start_time": "2024-11-08T05:20:44.537Z"
   },
   {
    "duration": 9,
    "start_time": "2024-11-08T05:21:05.485Z"
   },
   {
    "duration": 4420,
    "start_time": "2024-11-08T05:21:05.507Z"
   },
   {
    "duration": 3,
    "start_time": "2024-11-08T05:21:09.929Z"
   },
   {
    "duration": 109,
    "start_time": "2024-11-08T05:21:09.933Z"
   },
   {
    "duration": 97,
    "start_time": "2024-11-08T05:21:10.043Z"
   },
   {
    "duration": 100,
    "start_time": "2024-11-08T05:21:10.141Z"
   },
   {
    "duration": 71,
    "start_time": "2024-11-08T05:21:10.242Z"
   },
   {
    "duration": 17362,
    "start_time": "2024-11-08T05:21:10.315Z"
   },
   {
    "duration": 9840,
    "start_time": "2024-11-08T05:21:27.678Z"
   },
   {
    "duration": 3,
    "start_time": "2024-11-08T05:21:37.520Z"
   },
   {
    "duration": 49,
    "start_time": "2024-11-08T05:21:37.525Z"
   },
   {
    "duration": 149161,
    "start_time": "2024-11-08T05:21:37.575Z"
   },
   {
    "duration": 0,
    "start_time": "2024-11-08T05:24:06.738Z"
   },
   {
    "duration": 0,
    "start_time": "2024-11-08T05:24:06.739Z"
   },
   {
    "duration": 62452,
    "start_time": "2024-11-08T05:24:39.457Z"
   },
   {
    "duration": 0,
    "start_time": "2024-11-08T05:25:41.914Z"
   },
   {
    "duration": 3,
    "start_time": "2024-11-08T05:25:47.082Z"
   },
   {
    "duration": 123106,
    "start_time": "2024-11-08T05:26:35.843Z"
   },
   {
    "duration": 11,
    "start_time": "2024-11-08T05:29:04.559Z"
   },
   {
    "duration": 2,
    "start_time": "2024-11-08T05:29:07.985Z"
   },
   {
    "duration": 13,
    "start_time": "2024-11-08T05:29:09.941Z"
   },
   {
    "duration": 4,
    "start_time": "2024-11-08T05:29:30.927Z"
   },
   {
    "duration": 0,
    "start_time": "2024-11-08T05:34:32.127Z"
   },
   {
    "duration": 0,
    "start_time": "2024-11-08T05:34:32.128Z"
   },
   {
    "duration": 0,
    "start_time": "2024-11-08T05:34:32.129Z"
   },
   {
    "duration": 0,
    "start_time": "2024-11-08T05:34:32.131Z"
   },
   {
    "duration": 2630,
    "start_time": "2024-11-08T05:34:37.931Z"
   },
   {
    "duration": 2517,
    "start_time": "2024-11-08T05:34:40.563Z"
   },
   {
    "duration": 3,
    "start_time": "2024-11-08T05:34:43.082Z"
   },
   {
    "duration": 831,
    "start_time": "2024-11-08T05:34:43.086Z"
   },
   {
    "duration": 312,
    "start_time": "2024-11-08T05:34:43.919Z"
   },
   {
    "duration": 29,
    "start_time": "2024-11-08T05:34:44.233Z"
   },
   {
    "duration": 204,
    "start_time": "2024-11-08T05:34:44.263Z"
   },
   {
    "duration": 11,
    "start_time": "2024-11-08T05:34:44.469Z"
   },
   {
    "duration": 43,
    "start_time": "2024-11-08T05:34:44.481Z"
   },
   {
    "duration": 715,
    "start_time": "2024-11-08T05:34:44.525Z"
   },
   {
    "duration": 3,
    "start_time": "2024-11-08T05:34:45.242Z"
   },
   {
    "duration": 59,
    "start_time": "2024-11-08T05:34:45.247Z"
   },
   {
    "duration": 77,
    "start_time": "2024-11-08T05:34:45.308Z"
   },
   {
    "duration": 5296,
    "start_time": "2024-11-08T05:34:45.389Z"
   },
   {
    "duration": 3,
    "start_time": "2024-11-08T05:34:50.686Z"
   },
   {
    "duration": 3317,
    "start_time": "2024-11-08T05:34:50.690Z"
   },
   {
    "duration": 235,
    "start_time": "2024-11-08T05:34:54.009Z"
   },
   {
    "duration": 2,
    "start_time": "2024-11-08T05:34:54.246Z"
   },
   {
    "duration": 19,
    "start_time": "2024-11-08T05:34:54.249Z"
   },
   {
    "duration": 13891,
    "start_time": "2024-11-08T05:34:54.269Z"
   },
   {
    "duration": 3,
    "start_time": "2024-11-08T05:35:08.161Z"
   },
   {
    "duration": 19679,
    "start_time": "2024-11-08T05:35:08.165Z"
   },
   {
    "duration": 9,
    "start_time": "2024-11-08T05:35:27.846Z"
   },
   {
    "duration": 4330,
    "start_time": "2024-11-08T05:35:27.856Z"
   },
   {
    "duration": 3,
    "start_time": "2024-11-08T05:35:32.188Z"
   },
   {
    "duration": 101,
    "start_time": "2024-11-08T05:35:32.192Z"
   },
   {
    "duration": 79,
    "start_time": "2024-11-08T05:35:32.294Z"
   },
   {
    "duration": 88,
    "start_time": "2024-11-08T05:35:32.374Z"
   },
   {
    "duration": 93,
    "start_time": "2024-11-08T05:35:32.464Z"
   },
   {
    "duration": 15555,
    "start_time": "2024-11-08T05:35:32.559Z"
   },
   {
    "duration": 8671,
    "start_time": "2024-11-08T05:35:48.115Z"
   },
   {
    "duration": 3,
    "start_time": "2024-11-08T05:35:56.788Z"
   },
   {
    "duration": 15,
    "start_time": "2024-11-08T05:35:56.793Z"
   },
   {
    "duration": 166,
    "start_time": "2024-11-08T05:35:56.809Z"
   },
   {
    "duration": 0,
    "start_time": "2024-11-08T05:35:56.977Z"
   },
   {
    "duration": 0,
    "start_time": "2024-11-08T05:35:56.978Z"
   },
   {
    "duration": 483555,
    "start_time": "2024-11-08T05:36:13.910Z"
   },
   {
    "duration": 16,
    "start_time": "2024-11-08T05:47:00.171Z"
   },
   {
    "duration": 7673,
    "start_time": "2024-11-09T01:47:18.272Z"
   },
   {
    "duration": 2746,
    "start_time": "2024-11-09T01:47:25.946Z"
   },
   {
    "duration": 3,
    "start_time": "2024-11-09T01:47:35.072Z"
   },
   {
    "duration": 1140,
    "start_time": "2024-11-09T01:47:35.622Z"
   },
   {
    "duration": 301,
    "start_time": "2024-11-09T01:47:37.803Z"
   },
   {
    "duration": 41,
    "start_time": "2024-11-09T01:47:39.663Z"
   },
   {
    "duration": 202,
    "start_time": "2024-11-09T01:47:40.153Z"
   },
   {
    "duration": 8,
    "start_time": "2024-11-09T01:47:40.664Z"
   },
   {
    "duration": 12,
    "start_time": "2024-11-09T01:47:44.430Z"
   },
   {
    "duration": 697,
    "start_time": "2024-11-09T01:47:46.473Z"
   },
   {
    "duration": 3,
    "start_time": "2024-11-09T01:47:48.902Z"
   },
   {
    "duration": 3,
    "start_time": "2024-11-09T01:47:51.838Z"
   },
   {
    "duration": 5,
    "start_time": "2024-11-09T01:47:52.254Z"
   },
   {
    "duration": 5319,
    "start_time": "2024-11-09T01:47:53.446Z"
   },
   {
    "duration": 2,
    "start_time": "2024-11-09T01:47:58.767Z"
   },
   {
    "duration": 3335,
    "start_time": "2024-11-09T01:47:58.770Z"
   },
   {
    "duration": 136,
    "start_time": "2024-11-09T01:48:02.107Z"
   },
   {
    "duration": 5,
    "start_time": "2024-11-09T01:48:14.918Z"
   },
   {
    "duration": 5,
    "start_time": "2024-11-09T01:48:20.519Z"
   },
   {
    "duration": 3,
    "start_time": "2024-11-09T01:48:26.678Z"
   },
   {
    "duration": 3,
    "start_time": "2024-11-09T01:48:27.381Z"
   },
   {
    "duration": 14781,
    "start_time": "2024-11-09T01:48:30.958Z"
   },
   {
    "duration": 7,
    "start_time": "2024-11-09T01:49:34.942Z"
   },
   {
    "duration": 4,
    "start_time": "2024-11-09T01:52:50.430Z"
   },
   {
    "duration": 558,
    "start_time": "2024-11-09T01:53:13.453Z"
   },
   {
    "duration": 537,
    "start_time": "2024-11-09T01:53:51.233Z"
   },
   {
    "duration": 4,
    "start_time": "2024-11-09T01:53:54.294Z"
   },
   {
    "duration": 2019,
    "start_time": "2024-11-09T01:53:58.118Z"
   },
   {
    "duration": 18,
    "start_time": "2024-11-09T01:54:09.991Z"
   },
   {
    "duration": 1427,
    "start_time": "2024-11-09T01:54:39.230Z"
   },
   {
    "duration": 5,
    "start_time": "2024-11-09T01:55:03.583Z"
   },
   {
    "duration": 15,
    "start_time": "2024-11-09T01:55:20.342Z"
   },
   {
    "duration": 10,
    "start_time": "2024-11-09T01:56:12.431Z"
   },
   {
    "duration": 6,
    "start_time": "2024-11-09T01:56:16.974Z"
   },
   {
    "duration": 8,
    "start_time": "2024-11-09T01:57:24.247Z"
   },
   {
    "duration": 667659,
    "start_time": "2024-11-09T01:57:30.068Z"
   },
   {
    "duration": 15358,
    "start_time": "2024-11-09T02:09:21.886Z"
   },
   {
    "duration": 5307,
    "start_time": "2024-11-09T02:09:52.854Z"
   },
   {
    "duration": 1961,
    "start_time": "2024-11-09T02:10:11.776Z"
   },
   {
    "duration": 711,
    "start_time": "2024-11-09T02:10:15.191Z"
   },
   {
    "duration": 7,
    "start_time": "2024-11-09T02:10:17.542Z"
   },
   {
    "duration": 2660,
    "start_time": "2024-11-09T02:12:34.174Z"
   },
   {
    "duration": 2606,
    "start_time": "2024-11-09T02:12:36.836Z"
   },
   {
    "duration": 3,
    "start_time": "2024-11-09T02:12:39.444Z"
   },
   {
    "duration": 856,
    "start_time": "2024-11-09T02:12:39.448Z"
   },
   {
    "duration": 363,
    "start_time": "2024-11-09T02:12:40.305Z"
   },
   {
    "duration": 38,
    "start_time": "2024-11-09T02:12:40.670Z"
   },
   {
    "duration": 201,
    "start_time": "2024-11-09T02:12:40.709Z"
   },
   {
    "duration": 8,
    "start_time": "2024-11-09T02:12:40.911Z"
   },
   {
    "duration": 46,
    "start_time": "2024-11-09T02:12:40.920Z"
   },
   {
    "duration": 736,
    "start_time": "2024-11-09T02:12:40.968Z"
   },
   {
    "duration": 4,
    "start_time": "2024-11-09T02:12:41.708Z"
   },
   {
    "duration": 12,
    "start_time": "2024-11-09T02:12:41.713Z"
   },
   {
    "duration": 17,
    "start_time": "2024-11-09T02:12:41.727Z"
   },
   {
    "duration": 5706,
    "start_time": "2024-11-09T02:12:41.746Z"
   },
   {
    "duration": 3,
    "start_time": "2024-11-09T02:12:47.454Z"
   },
   {
    "duration": 3361,
    "start_time": "2024-11-09T02:12:47.459Z"
   },
   {
    "duration": 145,
    "start_time": "2024-11-09T02:12:50.822Z"
   },
   {
    "duration": 2,
    "start_time": "2024-11-09T02:12:50.969Z"
   },
   {
    "duration": 7,
    "start_time": "2024-11-09T02:12:50.972Z"
   },
   {
    "duration": 14798,
    "start_time": "2024-11-09T02:12:50.981Z"
   },
   {
    "duration": 9,
    "start_time": "2024-11-09T02:13:05.781Z"
   },
   {
    "duration": 144,
    "start_time": "2024-11-09T02:13:05.791Z"
   },
   {
    "duration": 59,
    "start_time": "2024-11-09T02:13:05.936Z"
   },
   {
    "duration": 1954,
    "start_time": "2024-11-09T02:13:05.996Z"
   },
   {
    "duration": 663743,
    "start_time": "2024-11-09T02:13:07.951Z"
   },
   {
    "duration": 2185,
    "start_time": "2024-11-09T02:24:11.696Z"
   },
   {
    "duration": 787,
    "start_time": "2024-11-09T02:24:13.883Z"
   },
   {
    "duration": 190,
    "start_time": "2024-11-09T02:24:14.674Z"
   },
   {
    "duration": 0,
    "start_time": "2024-11-09T02:24:14.866Z"
   },
   {
    "duration": 0,
    "start_time": "2024-11-09T02:24:14.867Z"
   },
   {
    "duration": 0,
    "start_time": "2024-11-09T02:24:14.868Z"
   },
   {
    "duration": 0,
    "start_time": "2024-11-09T02:24:14.869Z"
   },
   {
    "duration": 0,
    "start_time": "2024-11-09T02:24:14.870Z"
   },
   {
    "duration": 0,
    "start_time": "2024-11-09T02:24:14.871Z"
   },
   {
    "duration": 0,
    "start_time": "2024-11-09T02:24:14.871Z"
   },
   {
    "duration": 0,
    "start_time": "2024-11-09T02:24:14.873Z"
   },
   {
    "duration": 0,
    "start_time": "2024-11-09T02:24:14.873Z"
   },
   {
    "duration": 0,
    "start_time": "2024-11-09T02:24:14.874Z"
   },
   {
    "duration": 0,
    "start_time": "2024-11-09T02:24:14.875Z"
   },
   {
    "duration": 0,
    "start_time": "2024-11-09T02:24:14.876Z"
   },
   {
    "duration": 0,
    "start_time": "2024-11-09T02:24:14.876Z"
   },
   {
    "duration": 2662,
    "start_time": "2024-11-09T04:55:54.020Z"
   },
   {
    "duration": 2568,
    "start_time": "2024-11-09T04:55:56.684Z"
   },
   {
    "duration": 2,
    "start_time": "2024-11-09T04:55:59.254Z"
   },
   {
    "duration": 206,
    "start_time": "2024-11-09T04:55:59.257Z"
   },
   {
    "duration": 2,
    "start_time": "2024-11-09T04:55:59.465Z"
   },
   {
    "duration": 2,
    "start_time": "2024-11-09T04:56:04.068Z"
   },
   {
    "duration": 806,
    "start_time": "2024-11-09T04:56:04.532Z"
   },
   {
    "duration": 334,
    "start_time": "2024-11-09T04:56:07.260Z"
   },
   {
    "duration": 42,
    "start_time": "2024-11-09T04:56:07.858Z"
   },
   {
    "duration": 228,
    "start_time": "2024-11-09T04:56:09.245Z"
   },
   {
    "duration": 9,
    "start_time": "2024-11-09T04:56:10.406Z"
   },
   {
    "duration": 2,
    "start_time": "2024-11-09T04:56:15.135Z"
   },
   {
    "duration": 3,
    "start_time": "2024-11-09T04:56:16.614Z"
   },
   {
    "duration": 2,
    "start_time": "2024-11-09T04:56:17.232Z"
   },
   {
    "duration": 3,
    "start_time": "2024-11-09T04:56:19.400Z"
   },
   {
    "duration": 4,
    "start_time": "2024-11-09T04:56:19.913Z"
   },
   {
    "duration": 5253,
    "start_time": "2024-11-09T04:56:20.495Z"
   },
   {
    "duration": 2,
    "start_time": "2024-11-09T04:56:25.749Z"
   },
   {
    "duration": 3265,
    "start_time": "2024-11-09T04:56:28.795Z"
   },
   {
    "duration": 7,
    "start_time": "2024-11-09T04:56:32.062Z"
   },
   {
    "duration": 2,
    "start_time": "2024-11-09T04:56:32.071Z"
   },
   {
    "duration": 3,
    "start_time": "2024-11-09T04:56:33.853Z"
   },
   {
    "duration": 14751,
    "start_time": "2024-11-09T04:56:35.757Z"
   },
   {
    "duration": 4,
    "start_time": "2024-11-09T04:56:50.509Z"
   },
   {
    "duration": 23,
    "start_time": "2024-11-09T04:56:50.515Z"
   },
   {
    "duration": 1957,
    "start_time": "2024-11-09T04:56:50.539Z"
   },
   {
    "duration": 1079,
    "start_time": "2024-11-09T04:56:55.189Z"
   },
   {
    "duration": 826,
    "start_time": "2024-11-09T04:57:05.817Z"
   },
   {
    "duration": 49,
    "start_time": "2024-11-09T05:25:20.743Z"
   },
   {
    "duration": 2747,
    "start_time": "2024-11-09T05:32:12.479Z"
   },
   {
    "duration": 2684,
    "start_time": "2024-11-09T05:32:15.229Z"
   },
   {
    "duration": 3,
    "start_time": "2024-11-09T05:32:17.915Z"
   },
   {
    "duration": 133,
    "start_time": "2024-11-09T05:32:17.921Z"
   },
   {
    "duration": 2,
    "start_time": "2024-11-09T05:32:18.056Z"
   },
   {
    "duration": 14,
    "start_time": "2024-11-09T05:32:18.059Z"
   },
   {
    "duration": 878,
    "start_time": "2024-11-09T05:32:18.075Z"
   },
   {
    "duration": 344,
    "start_time": "2024-11-09T05:32:18.955Z"
   },
   {
    "duration": 40,
    "start_time": "2024-11-09T05:32:19.301Z"
   },
   {
    "duration": 217,
    "start_time": "2024-11-09T05:32:19.344Z"
   },
   {
    "duration": 8,
    "start_time": "2024-11-09T05:32:19.562Z"
   },
   {
    "duration": 20,
    "start_time": "2024-11-09T05:32:19.571Z"
   },
   {
    "duration": 8,
    "start_time": "2024-11-09T05:32:19.592Z"
   },
   {
    "duration": 26,
    "start_time": "2024-11-09T05:32:19.601Z"
   },
   {
    "duration": 10,
    "start_time": "2024-11-09T05:32:19.629Z"
   },
   {
    "duration": 10,
    "start_time": "2024-11-09T05:32:19.641Z"
   },
   {
    "duration": 5749,
    "start_time": "2024-11-09T05:32:19.652Z"
   },
   {
    "duration": 4,
    "start_time": "2024-11-09T05:32:25.403Z"
   },
   {
    "duration": 3472,
    "start_time": "2024-11-09T05:32:25.416Z"
   },
   {
    "duration": 6,
    "start_time": "2024-11-09T05:32:28.889Z"
   },
   {
    "duration": 14,
    "start_time": "2024-11-09T05:32:28.907Z"
   },
   {
    "duration": 4,
    "start_time": "2024-11-09T05:32:28.922Z"
   },
   {
    "duration": 15944,
    "start_time": "2024-11-09T05:32:28.927Z"
   },
   {
    "duration": 5,
    "start_time": "2024-11-09T05:32:44.873Z"
   },
   {
    "duration": 19,
    "start_time": "2024-11-09T05:32:44.880Z"
   },
   {
    "duration": 2151,
    "start_time": "2024-11-09T05:32:44.901Z"
   },
   {
    "duration": 722429,
    "start_time": "2024-11-09T05:32:47.053Z"
   },
   {
    "duration": 2636,
    "start_time": "2024-11-09T05:44:49.486Z"
   },
   {
    "duration": 1008,
    "start_time": "2024-11-09T05:44:52.124Z"
   },
   {
    "duration": 2,
    "start_time": "2024-11-09T05:44:53.134Z"
   },
   {
    "duration": 8,
    "start_time": "2024-11-09T05:44:53.137Z"
   },
   {
    "duration": 8,
    "start_time": "2024-11-09T05:44:53.146Z"
   },
   {
    "duration": 122,
    "start_time": "2024-11-09T05:44:53.156Z"
   },
   {
    "duration": 188,
    "start_time": "2024-11-09T05:44:53.280Z"
   },
   {
    "duration": 0,
    "start_time": "2024-11-09T05:44:53.470Z"
   },
   {
    "duration": 0,
    "start_time": "2024-11-09T05:44:53.471Z"
   },
   {
    "duration": 0,
    "start_time": "2024-11-09T05:44:53.472Z"
   },
   {
    "duration": 0,
    "start_time": "2024-11-09T05:44:53.473Z"
   },
   {
    "duration": 0,
    "start_time": "2024-11-09T05:44:53.474Z"
   },
   {
    "duration": 1,
    "start_time": "2024-11-09T05:44:53.474Z"
   },
   {
    "duration": 0,
    "start_time": "2024-11-09T05:44:53.475Z"
   },
   {
    "duration": 0,
    "start_time": "2024-11-09T05:44:53.477Z"
   },
   {
    "duration": 0,
    "start_time": "2024-11-09T05:44:53.477Z"
   },
   {
    "duration": 0,
    "start_time": "2024-11-09T05:44:53.479Z"
   },
   {
    "duration": 0,
    "start_time": "2024-11-09T05:44:53.479Z"
   },
   {
    "duration": 0,
    "start_time": "2024-11-09T05:44:53.481Z"
   },
   {
    "duration": 0,
    "start_time": "2024-11-09T05:44:53.481Z"
   },
   {
    "duration": 0,
    "start_time": "2024-11-09T05:44:53.482Z"
   },
   {
    "duration": 0,
    "start_time": "2024-11-09T05:44:53.484Z"
   },
   {
    "duration": 92,
    "start_time": "2024-11-09T05:45:29.386Z"
   },
   {
    "duration": 3,
    "start_time": "2024-11-09T05:45:30.273Z"
   },
   {
    "duration": 3,
    "start_time": "2024-11-09T05:45:30.952Z"
   },
   {
    "duration": 3,
    "start_time": "2024-11-09T05:45:33.376Z"
   },
   {
    "duration": 2,
    "start_time": "2024-11-09T05:45:34.382Z"
   },
   {
    "duration": 3,
    "start_time": "2024-11-09T05:45:34.921Z"
   },
   {
    "duration": 2,
    "start_time": "2024-11-09T05:45:37.380Z"
   },
   {
    "duration": 2,
    "start_time": "2024-11-09T05:45:37.876Z"
   },
   {
    "duration": 2,
    "start_time": "2024-11-09T05:45:38.470Z"
   },
   {
    "duration": 3,
    "start_time": "2024-11-09T05:45:39.968Z"
   },
   {
    "duration": 57,
    "start_time": "2024-11-09T05:45:41.196Z"
   },
   {
    "duration": 4,
    "start_time": "2024-11-09T05:45:42.144Z"
   },
   {
    "duration": 5,
    "start_time": "2024-11-09T05:46:05.021Z"
   },
   {
    "duration": 3,
    "start_time": "2024-11-09T05:47:10.638Z"
   },
   {
    "duration": 3,
    "start_time": "2024-11-09T05:47:17.331Z"
   },
   {
    "duration": 3,
    "start_time": "2024-11-09T05:47:19.441Z"
   },
   {
    "duration": 40,
    "start_time": "2024-11-09T05:47:23.160Z"
   },
   {
    "duration": 2,
    "start_time": "2024-11-09T05:48:26.834Z"
   },
   {
    "duration": 3,
    "start_time": "2024-11-09T05:48:27.378Z"
   },
   {
    "duration": 8,
    "start_time": "2024-11-09T05:48:27.921Z"
   },
   {
    "duration": 421,
    "start_time": "2024-11-09T05:48:29.407Z"
   },
   {
    "duration": 7001,
    "start_time": "2024-11-09T19:26:35.930Z"
   },
   {
    "duration": 2673,
    "start_time": "2024-11-09T19:26:42.933Z"
   },
   {
    "duration": 3,
    "start_time": "2024-11-09T19:26:45.607Z"
   },
   {
    "duration": 715,
    "start_time": "2024-11-09T19:26:45.612Z"
   },
   {
    "duration": 2,
    "start_time": "2024-11-09T19:26:46.329Z"
   },
   {
    "duration": 4,
    "start_time": "2024-11-09T19:26:46.333Z"
   },
   {
    "duration": 1098,
    "start_time": "2024-11-09T19:26:46.339Z"
   },
   {
    "duration": 279,
    "start_time": "2024-11-09T19:26:47.438Z"
   },
   {
    "duration": 28,
    "start_time": "2024-11-09T19:26:47.718Z"
   },
   {
    "duration": 174,
    "start_time": "2024-11-09T19:26:47.757Z"
   },
   {
    "duration": 8,
    "start_time": "2024-11-09T19:26:47.932Z"
   },
   {
    "duration": 2,
    "start_time": "2024-11-09T19:26:47.941Z"
   },
   {
    "duration": 13,
    "start_time": "2024-11-09T19:26:47.944Z"
   },
   {
    "duration": 3,
    "start_time": "2024-11-09T19:26:47.958Z"
   },
   {
    "duration": 3,
    "start_time": "2024-11-09T19:26:47.962Z"
   },
   {
    "duration": 3,
    "start_time": "2024-11-09T19:26:47.967Z"
   },
   {
    "duration": 5842,
    "start_time": "2024-11-09T19:26:47.972Z"
   },
   {
    "duration": 3,
    "start_time": "2024-11-09T19:26:53.815Z"
   },
   {
    "duration": 3268,
    "start_time": "2024-11-09T19:26:53.820Z"
   },
   {
    "duration": 7,
    "start_time": "2024-11-09T19:26:57.089Z"
   },
   {
    "duration": 6,
    "start_time": "2024-11-09T19:26:57.098Z"
   },
   {
    "duration": 4,
    "start_time": "2024-11-09T19:26:57.106Z"
   },
   {
    "duration": 14313,
    "start_time": "2024-11-09T19:26:57.111Z"
   },
   {
    "duration": 4,
    "start_time": "2024-11-09T19:27:11.425Z"
   },
   {
    "duration": 16,
    "start_time": "2024-11-09T19:27:11.430Z"
   },
   {
    "duration": 1937,
    "start_time": "2024-11-09T19:27:11.447Z"
   },
   {
    "duration": 390645,
    "start_time": "2024-11-09T19:27:13.385Z"
   },
   {
    "duration": 0,
    "start_time": "2024-11-09T19:33:44.033Z"
   },
   {
    "duration": 0,
    "start_time": "2024-11-09T19:33:44.033Z"
   },
   {
    "duration": 0,
    "start_time": "2024-11-09T19:33:44.034Z"
   },
   {
    "duration": 0,
    "start_time": "2024-11-09T19:33:44.035Z"
   },
   {
    "duration": 0,
    "start_time": "2024-11-09T19:33:44.036Z"
   },
   {
    "duration": 0,
    "start_time": "2024-11-09T19:33:44.037Z"
   },
   {
    "duration": 0,
    "start_time": "2024-11-09T19:33:44.038Z"
   },
   {
    "duration": 0,
    "start_time": "2024-11-09T19:33:44.039Z"
   },
   {
    "duration": 0,
    "start_time": "2024-11-09T19:33:44.040Z"
   },
   {
    "duration": 1,
    "start_time": "2024-11-09T19:33:44.040Z"
   },
   {
    "duration": 0,
    "start_time": "2024-11-09T19:33:44.041Z"
   },
   {
    "duration": 0,
    "start_time": "2024-11-09T19:33:44.043Z"
   },
   {
    "duration": 0,
    "start_time": "2024-11-09T19:33:44.044Z"
   },
   {
    "duration": 0,
    "start_time": "2024-11-09T19:33:44.045Z"
   },
   {
    "duration": 0,
    "start_time": "2024-11-09T19:33:44.046Z"
   },
   {
    "duration": 0,
    "start_time": "2024-11-09T19:33:44.047Z"
   },
   {
    "duration": 0,
    "start_time": "2024-11-09T19:33:44.048Z"
   },
   {
    "duration": 0,
    "start_time": "2024-11-09T19:33:44.049Z"
   },
   {
    "duration": 0,
    "start_time": "2024-11-09T19:33:44.051Z"
   },
   {
    "duration": 0,
    "start_time": "2024-11-09T19:33:44.052Z"
   },
   {
    "duration": 0,
    "start_time": "2024-11-09T19:33:44.053Z"
   },
   {
    "duration": 16,
    "start_time": "2024-11-09T19:33:49.998Z"
   },
   {
    "duration": 833,
    "start_time": "2024-11-09T19:34:15.245Z"
   },
   {
    "duration": 92,
    "start_time": "2024-11-09T19:34:22.011Z"
   },
   {
    "duration": 2,
    "start_time": "2024-11-09T19:34:24.579Z"
   },
   {
    "duration": 3,
    "start_time": "2024-11-09T19:34:24.851Z"
   },
   {
    "duration": 58,
    "start_time": "2024-11-09T19:34:34.372Z"
   },
   {
    "duration": 3,
    "start_time": "2024-11-09T19:34:35.638Z"
   },
   {
    "duration": 4,
    "start_time": "2024-11-09T19:34:36.334Z"
   },
   {
    "duration": 3,
    "start_time": "2024-11-09T19:34:48.893Z"
   },
   {
    "duration": 289,
    "start_time": "2024-11-09T19:34:57.759Z"
   },
   {
    "duration": 4,
    "start_time": "2024-11-09T19:39:33.570Z"
   },
   {
    "duration": 3,
    "start_time": "2024-11-09T19:40:17.140Z"
   },
   {
    "duration": 3,
    "start_time": "2024-11-09T19:41:29.435Z"
   },
   {
    "duration": 3,
    "start_time": "2024-11-09T19:41:55.512Z"
   },
   {
    "duration": 2,
    "start_time": "2024-11-09T19:41:56.847Z"
   },
   {
    "duration": 274,
    "start_time": "2024-11-09T19:41:58.610Z"
   },
   {
    "duration": 3,
    "start_time": "2024-11-09T19:43:58.106Z"
   },
   {
    "duration": 3,
    "start_time": "2024-11-09T19:43:59.289Z"
   },
   {
    "duration": 3,
    "start_time": "2024-11-09T19:44:01.067Z"
   },
   {
    "duration": 3247,
    "start_time": "2024-11-09T19:44:01.863Z"
   },
   {
    "duration": 16,
    "start_time": "2024-11-09T19:45:36.406Z"
   },
   {
    "duration": 887,
    "start_time": "2024-11-09T19:48:08.197Z"
   },
   {
    "duration": 805,
    "start_time": "2024-11-09T19:48:28.218Z"
   },
   {
    "duration": 23,
    "start_time": "2024-11-09T19:49:31.575Z"
   },
   {
    "duration": 55,
    "start_time": "2024-11-09T19:49:32.296Z"
   },
   {
    "duration": 4,
    "start_time": "2024-11-09T19:49:34.078Z"
   },
   {
    "duration": 3,
    "start_time": "2024-11-09T19:49:34.580Z"
   },
   {
    "duration": 3,
    "start_time": "2024-11-09T19:49:35.245Z"
   },
   {
    "duration": 66642,
    "start_time": "2024-11-09T19:49:37.655Z"
   },
   {
    "duration": 1251,
    "start_time": "2024-11-09T19:51:01.379Z"
   },
   {
    "duration": 92,
    "start_time": "2024-11-09T19:51:07.213Z"
   },
   {
    "duration": 18,
    "start_time": "2024-11-09T19:51:15.928Z"
   },
   {
    "duration": 23,
    "start_time": "2024-11-09T19:51:24.248Z"
   },
   {
    "duration": 55,
    "start_time": "2024-11-09T19:51:25.133Z"
   },
   {
    "duration": 4,
    "start_time": "2024-11-09T19:51:25.801Z"
   },
   {
    "duration": 3,
    "start_time": "2024-11-09T19:51:26.295Z"
   },
   {
    "duration": 2,
    "start_time": "2024-11-09T19:51:26.752Z"
   },
   {
    "duration": 587928,
    "start_time": "2024-11-09T19:51:28.372Z"
   },
   {
    "duration": 792,
    "start_time": "2024-11-09T20:01:16.302Z"
   },
   {
    "duration": 780,
    "start_time": "2024-11-09T20:02:00.773Z"
   },
   {
    "duration": 3,
    "start_time": "2024-11-09T20:04:16.727Z"
   },
   {
    "duration": 10,
    "start_time": "2024-11-09T20:04:17.141Z"
   },
   {
    "duration": 577198,
    "start_time": "2024-11-09T20:04:23.599Z"
   },
   {
    "duration": 950,
    "start_time": "2024-11-09T20:14:00.799Z"
   },
   {
    "duration": 6840,
    "start_time": "2024-11-10T05:20:27.549Z"
   },
   {
    "duration": 2767,
    "start_time": "2024-11-10T05:20:34.391Z"
   },
   {
    "duration": 3,
    "start_time": "2024-11-10T05:20:37.160Z"
   },
   {
    "duration": 724,
    "start_time": "2024-11-10T05:20:37.165Z"
   },
   {
    "duration": 2,
    "start_time": "2024-11-10T05:20:37.891Z"
   },
   {
    "duration": 18,
    "start_time": "2024-11-10T05:20:37.895Z"
   },
   {
    "duration": 3746,
    "start_time": "2024-11-10T05:20:37.914Z"
   },
   {
    "duration": 390,
    "start_time": "2024-11-10T05:20:41.662Z"
   },
   {
    "duration": 36,
    "start_time": "2024-11-10T05:20:42.053Z"
   },
   {
    "duration": 208,
    "start_time": "2024-11-10T05:20:42.092Z"
   },
   {
    "duration": 8,
    "start_time": "2024-11-10T05:20:42.302Z"
   },
   {
    "duration": 2,
    "start_time": "2024-11-10T05:20:42.321Z"
   },
   {
    "duration": 3,
    "start_time": "2024-11-10T05:20:42.324Z"
   },
   {
    "duration": 8,
    "start_time": "2024-11-10T05:20:42.329Z"
   },
   {
    "duration": 23,
    "start_time": "2024-11-10T05:20:42.338Z"
   },
   {
    "duration": 9,
    "start_time": "2024-11-10T05:20:42.363Z"
   },
   {
    "duration": 5964,
    "start_time": "2024-11-10T05:20:42.373Z"
   },
   {
    "duration": 3,
    "start_time": "2024-11-10T05:20:48.339Z"
   },
   {
    "duration": 3683,
    "start_time": "2024-11-10T05:20:48.343Z"
   },
   {
    "duration": 7,
    "start_time": "2024-11-10T05:20:52.027Z"
   },
   {
    "duration": 3,
    "start_time": "2024-11-10T05:20:52.036Z"
   },
   {
    "duration": 9,
    "start_time": "2024-11-10T05:20:52.040Z"
   },
   {
    "duration": 19672,
    "start_time": "2024-11-10T05:20:52.050Z"
   },
   {
    "duration": 4,
    "start_time": "2024-11-10T05:21:11.723Z"
   },
   {
    "duration": 11,
    "start_time": "2024-11-10T05:21:11.728Z"
   },
   {
    "duration": 2198,
    "start_time": "2024-11-10T05:21:11.740Z"
   },
   {
    "duration": 672728,
    "start_time": "2024-11-10T05:21:13.939Z"
   },
   {
    "duration": 2176,
    "start_time": "2024-11-10T05:32:26.671Z"
   },
   {
    "duration": 965,
    "start_time": "2024-11-10T05:32:28.849Z"
   },
   {
    "duration": 5,
    "start_time": "2024-11-10T05:32:29.816Z"
   },
   {
    "duration": 59,
    "start_time": "2024-11-10T05:32:29.822Z"
   },
   {
    "duration": 21,
    "start_time": "2024-11-10T05:32:29.883Z"
   },
   {
    "duration": 99,
    "start_time": "2024-11-10T05:32:29.905Z"
   },
   {
    "duration": 3,
    "start_time": "2024-11-10T05:32:30.005Z"
   },
   {
    "duration": 29,
    "start_time": "2024-11-10T05:32:30.009Z"
   },
   {
    "duration": 44,
    "start_time": "2024-11-10T05:32:30.040Z"
   },
   {
    "duration": 21,
    "start_time": "2024-11-10T05:32:30.086Z"
   },
   {
    "duration": 47,
    "start_time": "2024-11-10T05:32:30.109Z"
   },
   {
    "duration": 31,
    "start_time": "2024-11-10T05:32:30.157Z"
   },
   {
    "duration": 111,
    "start_time": "2024-11-10T05:32:30.190Z"
   },
   {
    "duration": 14,
    "start_time": "2024-11-10T05:32:30.303Z"
   },
   {
    "duration": 5,
    "start_time": "2024-11-10T05:32:30.319Z"
   },
   {
    "duration": 38,
    "start_time": "2024-11-10T05:32:30.325Z"
   },
   {
    "duration": 47,
    "start_time": "2024-11-10T05:32:30.365Z"
   },
   {
    "duration": 60,
    "start_time": "2024-11-10T05:32:30.414Z"
   },
   {
    "duration": 3,
    "start_time": "2024-11-10T05:32:30.475Z"
   },
   {
    "duration": 58,
    "start_time": "2024-11-10T05:32:30.480Z"
   },
   {
    "duration": 7,
    "start_time": "2024-11-10T05:32:30.539Z"
   },
   {
    "duration": 625628,
    "start_time": "2024-11-10T05:32:30.547Z"
   },
   {
    "duration": 895,
    "start_time": "2024-11-10T05:42:56.176Z"
   },
   {
    "duration": 842,
    "start_time": "2024-11-14T01:00:56.368Z"
   },
   {
    "duration": 48,
    "start_time": "2024-11-14T01:01:08.622Z"
   },
   {
    "duration": 870,
    "start_time": "2024-11-14T01:01:14.819Z"
   },
   {
    "duration": 863,
    "start_time": "2024-11-14T01:01:27.541Z"
   },
   {
    "duration": 838,
    "start_time": "2024-11-14T01:01:40.189Z"
   }
  ],
  "kernelspec": {
   "display_name": "Python 3 (ipykernel)",
   "language": "python",
   "name": "python3"
  },
  "language_info": {
   "codemirror_mode": {
    "name": "ipython",
    "version": 3
   },
   "file_extension": ".py",
   "mimetype": "text/x-python",
   "name": "python",
   "nbconvert_exporter": "python",
   "pygments_lexer": "ipython3",
   "version": "3.9.5"
  },
  "toc": {
   "base_numbering": 1,
   "nav_menu": {},
   "number_sections": true,
   "sideBar": true,
   "skip_h1_title": true,
   "title_cell": "Содержание",
   "title_sidebar": "Contents",
   "toc_cell": true,
   "toc_position": {
    "height": "calc(100% - 180px)",
    "left": "10px",
    "top": "150px",
    "width": "165px"
   },
   "toc_section_display": true,
   "toc_window_display": true
  }
 },
 "nbformat": 4,
 "nbformat_minor": 2
}
