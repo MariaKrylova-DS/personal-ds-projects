{
 "cells": [
  {
   "cell_type": "markdown",
   "metadata": {
    "toc": true
   },
   "source": [
    "<h1>Содержание<span class=\"tocSkip\"></span></h1>\n",
    "<div class=\"toc\"><ul class=\"toc-item\"><li><span><a href=\"#Preparation\" data-toc-modified-id=\"Preparation-1\"><span class=\"toc-item-num\">1&nbsp;&nbsp;</span>Preparation</a></span></li><li><span><a href=\"#Analysis\" data-toc-modified-id=\"Analysis-2\"><span class=\"toc-item-num\">2&nbsp;&nbsp;</span>Analysis</a></span></li><li><span><a href=\"#Training\" data-toc-modified-id=\"Training-3\"><span class=\"toc-item-num\">3&nbsp;&nbsp;</span>Training</a></span></li><li><span><a href=\"#Test\" data-toc-modified-id=\"Test-4\"><span class=\"toc-item-num\">4&nbsp;&nbsp;</span>Test</a></span></li></ul></div>"
   ]
  },
  {
   "cell_type": "markdown",
   "metadata": {},
   "source": [
    "#  Taxi Order Forecasting"
   ]
  },
  {
   "cell_type": "markdown",
   "metadata": {},
   "source": [
    "The company Taxi collected historical data on taxi orders at airports. To attract more drivers during peak hours, it is necessary to forecast the number of taxi orders for the next hour. A model was built for this prediction. The RMSE metric on the test dataset must not exceed 48.\n"
   ]
  },
  {
   "cell_type": "markdown",
   "metadata": {},
   "source": [
    "## Preparation"
   ]
  },
  {
   "cell_type": "markdown",
   "metadata": {},
   "source": [
    "In this section, the following steps will be carried out:\n",
    " - Load all required modules and libraries\n",
    " - Load the data and convert temporal data to the correct type\n",
    " - Check the dataset for missing values\n",
    " - Check the dataset for duplicates\n",
    " - Convert the zero column into an index"
   ]
  },
  {
   "cell_type": "code",
   "execution_count": 1,
   "metadata": {},
   "outputs": [],
   "source": [
    "# LOADING MODULES AND LIBRARIES\n",
    "\n",
    "import pandas as pd\n",
    "import numpy as np\n",
    "import matplotlib.pyplot as plt\n",
    "plt.rcParams[\"figure.figsize\"] = (5,5)\n",
    "import seaborn as sns\n",
    "\n",
    "from sklearn.pipeline import Pipeline\n",
    "from sklearn.dummy import DummyRegressor\n",
    "\n",
    "from sklearn.model_selection import train_test_split\n",
    "\n",
    "# Loading required models\n",
    "from sklearn.linear_model import LinearRegression\n",
    "from sklearn.tree import DecisionTreeRegressor\n",
    "\n",
    "\n",
    "# Model for trend and seasonality\n",
    "from statsmodels.tsa.seasonal import seasonal_decompose\n",
    "\n",
    "from sklearn.model_selection import RandomizedSearchCV, TimeSeriesSplit"
   ]
  },
  {
   "cell_type": "code",
   "execution_count": 2,
   "metadata": {},
   "outputs": [],
   "source": [
    "# Metrics\n",
    "from sklearn.metrics import mean_squared_error\n",
    "rmse=lambda y_actual, y_predicted: mean_squared_error(y_actual, y_predicted, squared=False)"
   ]
  },
  {
   "cell_type": "code",
   "execution_count": 3,
   "metadata": {},
   "outputs": [],
   "source": [
    "# LOADING DATA\n",
    "df=pd.read_csv(r\"\", parse_dates=[0])#сразу изменен тип данных"
   ]
  },
  {
   "cell_type": "code",
   "execution_count": 4,
   "metadata": {},
   "outputs": [
    {
     "name": "stdout",
     "output_type": "stream",
     "text": [
      "<class 'pandas.core.frame.DataFrame'>\n",
      "RangeIndex: 26496 entries, 0 to 26495\n",
      "Data columns (total 2 columns):\n",
      " #   Column      Non-Null Count  Dtype         \n",
      "---  ------      --------------  -----         \n",
      " 0   datetime    26496 non-null  datetime64[ns]\n",
      " 1   num_orders  26496 non-null  int64         \n",
      "dtypes: datetime64[ns](1), int64(1)\n",
      "memory usage: 414.1 KB\n"
     ]
    },
    {
     "data": {
      "text/html": [
       "<div>\n",
       "<style scoped>\n",
       "    .dataframe tbody tr th:only-of-type {\n",
       "        vertical-align: middle;\n",
       "    }\n",
       "\n",
       "    .dataframe tbody tr th {\n",
       "        vertical-align: top;\n",
       "    }\n",
       "\n",
       "    .dataframe thead th {\n",
       "        text-align: right;\n",
       "    }\n",
       "</style>\n",
       "<table border=\"1\" class=\"dataframe\">\n",
       "  <thead>\n",
       "    <tr style=\"text-align: right;\">\n",
       "      <th></th>\n",
       "      <th>datetime</th>\n",
       "      <th>num_orders</th>\n",
       "    </tr>\n",
       "  </thead>\n",
       "  <tbody>\n",
       "    <tr>\n",
       "      <th>0</th>\n",
       "      <td>2018-03-01 00:00:00</td>\n",
       "      <td>9</td>\n",
       "    </tr>\n",
       "    <tr>\n",
       "      <th>1</th>\n",
       "      <td>2018-03-01 00:10:00</td>\n",
       "      <td>14</td>\n",
       "    </tr>\n",
       "    <tr>\n",
       "      <th>2</th>\n",
       "      <td>2018-03-01 00:20:00</td>\n",
       "      <td>28</td>\n",
       "    </tr>\n",
       "    <tr>\n",
       "      <th>3</th>\n",
       "      <td>2018-03-01 00:30:00</td>\n",
       "      <td>20</td>\n",
       "    </tr>\n",
       "    <tr>\n",
       "      <th>4</th>\n",
       "      <td>2018-03-01 00:40:00</td>\n",
       "      <td>32</td>\n",
       "    </tr>\n",
       "  </tbody>\n",
       "</table>\n",
       "</div>"
      ],
      "text/plain": [
       "             datetime  num_orders\n",
       "0 2018-03-01 00:00:00           9\n",
       "1 2018-03-01 00:10:00          14\n",
       "2 2018-03-01 00:20:00          28\n",
       "3 2018-03-01 00:30:00          20\n",
       "4 2018-03-01 00:40:00          32"
      ]
     },
     "metadata": {},
     "output_type": "display_data"
    },
    {
     "name": "stdout",
     "output_type": "stream",
     "text": [
      "Количество дубликатов в датафрейме равно 0\n"
     ]
    }
   ],
   "source": [
    "# MISSING VALUES AND DUPLICATES IN DATA\n",
    "df.info()\n",
    "display(df.head(5))\n",
    "print('Количество дубликатов в датафрейме равно', df.duplicated().sum())"
   ]
  },
  {
   "cell_type": "code",
   "execution_count": 5,
   "metadata": {},
   "outputs": [
    {
     "data": {
      "text/html": [
       "<div>\n",
       "<style scoped>\n",
       "    .dataframe tbody tr th:only-of-type {\n",
       "        vertical-align: middle;\n",
       "    }\n",
       "\n",
       "    .dataframe tbody tr th {\n",
       "        vertical-align: top;\n",
       "    }\n",
       "\n",
       "    .dataframe thead th {\n",
       "        text-align: right;\n",
       "    }\n",
       "</style>\n",
       "<table border=\"1\" class=\"dataframe\">\n",
       "  <thead>\n",
       "    <tr style=\"text-align: right;\">\n",
       "      <th></th>\n",
       "      <th>num_orders</th>\n",
       "    </tr>\n",
       "    <tr>\n",
       "      <th>datetime</th>\n",
       "      <th></th>\n",
       "    </tr>\n",
       "  </thead>\n",
       "  <tbody>\n",
       "    <tr>\n",
       "      <th>2018-03-01 00:00:00</th>\n",
       "      <td>9</td>\n",
       "    </tr>\n",
       "    <tr>\n",
       "      <th>2018-03-01 00:10:00</th>\n",
       "      <td>14</td>\n",
       "    </tr>\n",
       "    <tr>\n",
       "      <th>2018-03-01 00:20:00</th>\n",
       "      <td>28</td>\n",
       "    </tr>\n",
       "    <tr>\n",
       "      <th>2018-03-01 00:30:00</th>\n",
       "      <td>20</td>\n",
       "    </tr>\n",
       "    <tr>\n",
       "      <th>2018-03-01 00:40:00</th>\n",
       "      <td>32</td>\n",
       "    </tr>\n",
       "  </tbody>\n",
       "</table>\n",
       "</div>"
      ],
      "text/plain": [
       "                     num_orders\n",
       "datetime                       \n",
       "2018-03-01 00:00:00           9\n",
       "2018-03-01 00:10:00          14\n",
       "2018-03-01 00:20:00          28\n",
       "2018-03-01 00:30:00          20\n",
       "2018-03-01 00:40:00          32"
      ]
     },
     "execution_count": 5,
     "metadata": {},
     "output_type": "execute_result"
    }
   ],
   "source": [
    "# CHANGING THE INDEX\n",
    "df=df.set_index('datetime')\n",
    "df.sort_index(inplace=True)\n",
    "df.head()"
   ]
  },
  {
   "cell_type": "markdown",
   "metadata": {},
   "source": [
    "Results: \n",
    " - Data loaded, temporal fields converted to the correct type\n",
    " - The dataset represents a time series (historical data on taxi orders at airports)\n",
    " - No missing values or duplicates found\n",
    " - The datetime column was set as the index"
   ]
  },
  {
   "cell_type": "markdown",
   "metadata": {},
   "source": [
    "## Analysis"
   ]
  },
  {
   "cell_type": "markdown",
   "metadata": {},
   "source": [
    "In this section, the following steps will be carried out:\n",
    " - Resampling by one hour\n",
    " - Adding and analyzing features (rolling window method, trend and seasonality, stationarity)"
   ]
  },
  {
   "cell_type": "code",
   "execution_count": 7,
   "metadata": {},
   "outputs": [
    {
     "data": {
      "image/png": "[encoded data removed]",
      "text/plain": [
       "<Figure size 360x360 with 1 Axes>"
      ]
     },
     "metadata": {
      "needs_background": "light"
     },
     "output_type": "display_data"
    }
   ],
   "source": [
    "# RESAMPLING BY 1 HOUR \n",
    "df = df.resample('1H').sum()# Total orders per hour\n",
    "df.plot();"
   ]
  },
  {
   "cell_type": "code",
   "execution_count": 8,
   "metadata": {},
   "outputs": [
    {
     "data": {
      "image/png": "[encoded data removed]",
      "text/plain": [
       "<Figure size 360x360 with 1 Axes>"
      ]
     },
     "metadata": {
      "needs_background": "light"
     },
     "output_type": "display_data"
    }
   ],
   "source": [
    "# TREND ANALYSIS USING MOVING WINDOW\n",
    "df['rolling_mean'] = df.rolling(10).mean()# value 10 selected experimentally\n",
    "df.plot();"
   ]
  },
  {
   "cell_type": "code",
   "execution_count": 10,
   "metadata": {},
   "outputs": [
    {
     "data": {
      "text/plain": [
       "Text(0.5, 1.0, 'Trend')"
      ]
     },
     "execution_count": 10,
     "metadata": {},
     "output_type": "execute_result"
    },
    {
     "data": {
      "image/png": "[encoded data removed]",
      "text/plain": [
       "<Figure size 432x576 with 1 Axes>"
      ]
     },
     "metadata": {
      "needs_background": "light"
     },
     "output_type": "display_data"
    }
   ],
   "source": [
    "# YEARLY TREND \n",
    "# Trend – by summer the number of orders increases. \n",
    "decomposed = seasonal_decompose(df['num_orders'])# The original time series is passed to the function  \n",
    "# Trend visualization \n",
    "plt.subplot(311)\n",
    "decomposed.trend.plot(ax=plt.gca())\n",
    "plt.title('Trend')"
   ]
  },
  {
   "cell_type": "code",
   "execution_count": 11,
   "metadata": {},
   "outputs": [
    {
     "data": {
      "text/plain": [
       "Text(0.5, 1.0, 'Trend')"
      ]
     },
     "execution_count": 11,
     "metadata": {},
     "output_type": "execute_result"
    },
    {
     "data": {
      "image/png": "[encoded data removed]",
      "text/plain": [
       "<Figure size 432x576 with 1 Axes>"
      ]
     },
     "metadata": {
      "needs_background": "light"
     },
     "output_type": "display_data"
    }
   ],
   "source": [
    "# WEEKLY TREND \n",
    "# Trend – on weekends the number of orders increases. People take taxis for leisure trips.  \n",
    "decomposed = seasonal_decompose(df['2018-07-02 00:00:00': '2018-07-09 00:00:00']['num_orders'])\n",
    "plt.figure(figsize=(6, 8))\n",
    "# Trend Visualization\n",
    "plt.subplot(311)\n",
    "decomposed.trend.plot(ax=plt.gca())\n",
    "plt.title('Trend')"
   ]
  },
  {
   "cell_type": "code",
   "execution_count": 12,
   "metadata": {},
   "outputs": [
    {
     "data": {
      "image/png": "[encoded data removed]",
      "text/plain": [
       "<Figure size 360x360 with 2 Axes>"
      ]
     },
     "metadata": {
      "needs_background": "light"
     },
     "output_type": "display_data"
    }
   ],
   "source": [
    "# DAILY SEASONALITY\n",
    "# Although seasonality differs slightly depending on the type of day (weekends or weekdays), the minima and maxima generally coincide.\n",
    "# People tend to order taxis more often in the morning, at lunchtime, and in the evening.\n",
    "decomposed_weekday = seasonal_decompose(df['2018-07-03 00:00:00': '2018-07-04 23:59:59']['num_orders'])\n",
    "decomposed_weekend = seasonal_decompose(df['2018-07-07 00:00:00': '2018-07-08 23:59:59']['num_orders'])\n",
    "plt.subplot(211)\n",
    "decomposed_weekday.seasonal.plot()\n",
    "plt.title('Seasonality hours (weekday)')\n",
    "# Visualization of weekend seasonality by hours\n",
    "plt.subplot(212)\n",
    "decomposed_weekend.seasonal.plot()\n",
    "plt.title('Seasonality hours (weekend)')\n",
    "plt.tight_layout()"
   ]
  },
  {
   "cell_type": "code",
   "execution_count": 13,
   "metadata": {},
   "outputs": [
    {
     "data": {
      "image/png": "[encoded data removed]",
      "text/plain": [
       "<Figure size 360x360 with 1 Axes>"
      ]
     },
     "metadata": {
      "needs_background": "light"
     },
     "output_type": "display_data"
    }
   ],
   "source": [
    "# CHECK FOR STATIONARITY\n",
    "# The mean and standard deviation change (increase in summer), the series is non-stationary\n",
    "df['rolling_std'] = df['num_orders'].rolling(10).std()\n",
    "df.plot();"
   ]
  },
  {
   "cell_type": "code",
   "execution_count": 14,
   "metadata": {},
   "outputs": [
    {
     "data": {
      "text/html": [
       "<div>\n",
       "<style scoped>\n",
       "    .dataframe tbody tr th:only-of-type {\n",
       "        vertical-align: middle;\n",
       "    }\n",
       "\n",
       "    .dataframe tbody tr th {\n",
       "        vertical-align: top;\n",
       "    }\n",
       "\n",
       "    .dataframe thead th {\n",
       "        text-align: right;\n",
       "    }\n",
       "</style>\n",
       "<table border=\"1\" class=\"dataframe\">\n",
       "  <thead>\n",
       "    <tr style=\"text-align: right;\">\n",
       "      <th></th>\n",
       "      <th>num_orders</th>\n",
       "      <th>mean</th>\n",
       "      <th>std</th>\n",
       "    </tr>\n",
       "    <tr>\n",
       "      <th>datetime</th>\n",
       "      <th></th>\n",
       "      <th></th>\n",
       "      <th></th>\n",
       "    </tr>\n",
       "  </thead>\n",
       "  <tbody>\n",
       "    <tr>\n",
       "      <th>2018-03-01 00:00:00</th>\n",
       "      <td>0.0</td>\n",
       "      <td>NaN</td>\n",
       "      <td>NaN</td>\n",
       "    </tr>\n",
       "    <tr>\n",
       "      <th>2018-03-01 01:00:00</th>\n",
       "      <td>-39.0</td>\n",
       "      <td>NaN</td>\n",
       "      <td>NaN</td>\n",
       "    </tr>\n",
       "    <tr>\n",
       "      <th>2018-03-01 02:00:00</th>\n",
       "      <td>-14.0</td>\n",
       "      <td>NaN</td>\n",
       "      <td>NaN</td>\n",
       "    </tr>\n",
       "    <tr>\n",
       "      <th>2018-03-01 03:00:00</th>\n",
       "      <td>-5.0</td>\n",
       "      <td>NaN</td>\n",
       "      <td>NaN</td>\n",
       "    </tr>\n",
       "    <tr>\n",
       "      <th>2018-03-01 04:00:00</th>\n",
       "      <td>-23.0</td>\n",
       "      <td>NaN</td>\n",
       "      <td>NaN</td>\n",
       "    </tr>\n",
       "  </tbody>\n",
       "</table>\n",
       "</div>"
      ],
      "text/plain": [
       "                     num_orders  mean  std\n",
       "datetime                                  \n",
       "2018-03-01 00:00:00         0.0   NaN  NaN\n",
       "2018-03-01 01:00:00       -39.0   NaN  NaN\n",
       "2018-03-01 02:00:00       -14.0   NaN  NaN\n",
       "2018-03-01 03:00:00        -5.0   NaN  NaN\n",
       "2018-03-01 04:00:00       -23.0   NaN  NaN"
      ]
     },
     "metadata": {},
     "output_type": "display_data"
    },
    {
     "data": {
      "image/png": "[encoded data removed]",
      "text/plain": [
       "<Figure size 360x360 with 1 Axes>"
      ]
     },
     "metadata": {
      "needs_background": "light"
     },
     "output_type": "display_data"
    }
   ],
   "source": [
    "# Transforming the series to make it more stationary.\n",
    "# However, since the trend is already linear, this step is not mandatory.\n",
    "df2=(df['num_orders']-df['num_orders'].shift()).fillna(0).to_frame()# Difference\n",
    "df2['mean'] = df2.num_orders.rolling(10).mean()\n",
    "df2['std'] = df2.num_orders.rolling(10).std()\n",
    "display(df2.head(5))\n",
    "df2.plot();"
   ]
  },
  {
   "cell_type": "markdown",
   "metadata": {},
   "source": [
    "RESULTS:\n",
    " - The time series was resampled by hour.\n",
    " - Then, the main trend was analyzed using a moving window of size 50. The average number of taxi orders per hour was calculated. It is noticeable that in summer the number of orders increases, apparently because people tend to travel more during the warm season.\n",
    " - The data covers only one year, so seasonality is not observed, only the trend. However, to avoid relying solely on visual inspection, the trend, seasonality, and noise were visualized. This analysis confirms the absence of seasonality.\n",
    " - Since the mean and the standard deviation change over time, the time series is not stationary. However, as the trend is already linear, applying differencing to the time series does not provide much benefit. This can also be seen in the differenced series plots: although the new series became more stationary, the trend itself did not change.\n"
   ]
  },
  {
   "cell_type": "markdown",
   "metadata": {},
   "source": [
    "## Training"
   ]
  },
  {
   "cell_type": "markdown",
   "metadata": {},
   "source": [
    "In this chapter, we will:\n",
    "- Create additional features using a function and assemble the final dataset\n",
    "- Split the data into training and test sets (the test set will be 10% of the data)\n",
    "- First, forecast the time series without training (using two approaches: 1) all values are predicted by the median, 2) the next value is predicted by the previous value of the series)\n",
    "- Then, train different models: linear regression and decision tree with various hyperparameters.\n"
   ]
  },
  {
   "cell_type": "code",
   "execution_count": 15,
   "metadata": {},
   "outputs": [
    {
     "data": {
      "text/html": [
       "<div>\n",
       "<style scoped>\n",
       "    .dataframe tbody tr th:only-of-type {\n",
       "        vertical-align: middle;\n",
       "    }\n",
       "\n",
       "    .dataframe tbody tr th {\n",
       "        vertical-align: top;\n",
       "    }\n",
       "\n",
       "    .dataframe thead th {\n",
       "        text-align: right;\n",
       "    }\n",
       "</style>\n",
       "<table border=\"1\" class=\"dataframe\">\n",
       "  <thead>\n",
       "    <tr style=\"text-align: right;\">\n",
       "      <th></th>\n",
       "      <th>num_orders</th>\n",
       "      <th>rolling_mean</th>\n",
       "    </tr>\n",
       "    <tr>\n",
       "      <th>datetime</th>\n",
       "      <th></th>\n",
       "      <th></th>\n",
       "    </tr>\n",
       "  </thead>\n",
       "  <tbody>\n",
       "    <tr>\n",
       "      <th>2018-03-01 00:00:00</th>\n",
       "      <td>124</td>\n",
       "      <td>NaN</td>\n",
       "    </tr>\n",
       "    <tr>\n",
       "      <th>2018-03-01 01:00:00</th>\n",
       "      <td>85</td>\n",
       "      <td>NaN</td>\n",
       "    </tr>\n",
       "    <tr>\n",
       "      <th>2018-03-01 02:00:00</th>\n",
       "      <td>71</td>\n",
       "      <td>NaN</td>\n",
       "    </tr>\n",
       "    <tr>\n",
       "      <th>2018-03-01 03:00:00</th>\n",
       "      <td>66</td>\n",
       "      <td>NaN</td>\n",
       "    </tr>\n",
       "    <tr>\n",
       "      <th>2018-03-01 04:00:00</th>\n",
       "      <td>43</td>\n",
       "      <td>NaN</td>\n",
       "    </tr>\n",
       "  </tbody>\n",
       "</table>\n",
       "</div>"
      ],
      "text/plain": [
       "                     num_orders  rolling_mean\n",
       "datetime                                     \n",
       "2018-03-01 00:00:00         124           NaN\n",
       "2018-03-01 01:00:00          85           NaN\n",
       "2018-03-01 02:00:00          71           NaN\n",
       "2018-03-01 03:00:00          66           NaN\n",
       "2018-03-01 04:00:00          43           NaN"
      ]
     },
     "execution_count": 15,
     "metadata": {},
     "output_type": "execute_result"
    }
   ],
   "source": [
    "# DATASET FOR MODELING\n",
    "df_final=df.drop(columns=['rolling_std'])\n",
    "df_final.head()"
   ]
  },
  {
   "cell_type": "code",
   "execution_count": 17,
   "metadata": {},
   "outputs": [
    {
     "data": {
      "text/html": [
       "<div>\n",
       "<style scoped>\n",
       "    .dataframe tbody tr th:only-of-type {\n",
       "        vertical-align: middle;\n",
       "    }\n",
       "\n",
       "    .dataframe tbody tr th {\n",
       "        vertical-align: top;\n",
       "    }\n",
       "\n",
       "    .dataframe thead th {\n",
       "        text-align: right;\n",
       "    }\n",
       "</style>\n",
       "<table border=\"1\" class=\"dataframe\">\n",
       "  <thead>\n",
       "    <tr style=\"text-align: right;\">\n",
       "      <th></th>\n",
       "      <th>num_orders</th>\n",
       "      <th>rolling_mean</th>\n",
       "      <th>dayofweek</th>\n",
       "      <th>hour</th>\n",
       "      <th>lag_1</th>\n",
       "    </tr>\n",
       "    <tr>\n",
       "      <th>datetime</th>\n",
       "      <th></th>\n",
       "      <th></th>\n",
       "      <th></th>\n",
       "      <th></th>\n",
       "      <th></th>\n",
       "    </tr>\n",
       "  </thead>\n",
       "  <tbody>\n",
       "    <tr>\n",
       "      <th>2018-03-01 00:00:00</th>\n",
       "      <td>124</td>\n",
       "      <td>NaN</td>\n",
       "      <td>3</td>\n",
       "      <td>0</td>\n",
       "      <td>NaN</td>\n",
       "    </tr>\n",
       "    <tr>\n",
       "      <th>2018-03-01 01:00:00</th>\n",
       "      <td>85</td>\n",
       "      <td>NaN</td>\n",
       "      <td>3</td>\n",
       "      <td>1</td>\n",
       "      <td>124.0</td>\n",
       "    </tr>\n",
       "    <tr>\n",
       "      <th>2018-03-01 02:00:00</th>\n",
       "      <td>71</td>\n",
       "      <td>NaN</td>\n",
       "      <td>3</td>\n",
       "      <td>2</td>\n",
       "      <td>85.0</td>\n",
       "    </tr>\n",
       "    <tr>\n",
       "      <th>2018-03-01 03:00:00</th>\n",
       "      <td>66</td>\n",
       "      <td>NaN</td>\n",
       "      <td>3</td>\n",
       "      <td>3</td>\n",
       "      <td>71.0</td>\n",
       "    </tr>\n",
       "    <tr>\n",
       "      <th>2018-03-01 04:00:00</th>\n",
       "      <td>43</td>\n",
       "      <td>NaN</td>\n",
       "      <td>3</td>\n",
       "      <td>4</td>\n",
       "      <td>66.0</td>\n",
       "    </tr>\n",
       "  </tbody>\n",
       "</table>\n",
       "</div>"
      ],
      "text/plain": [
       "                     num_orders  rolling_mean  dayofweek  hour  lag_1\n",
       "datetime                                                             \n",
       "2018-03-01 00:00:00         124           NaN          3     0    NaN\n",
       "2018-03-01 01:00:00          85           NaN          3     1  124.0\n",
       "2018-03-01 02:00:00          71           NaN          3     2   85.0\n",
       "2018-03-01 03:00:00          66           NaN          3     3   71.0\n",
       "2018-03-01 04:00:00          43           NaN          3     4   66.0"
      ]
     },
     "execution_count": 17,
     "metadata": {},
     "output_type": "execute_result"
    }
   ],
   "source": [
    "# CREATING ADDITIONAL FEATURES\n",
    "def make_features(df_final, max_lag, rolling_mean_size):\n",
    "    df_final['dayofweek'] = df_final.index.dayofweek\n",
    "    df_final['hour'] = df_final.index.hour\n",
    "    \n",
    "    for lag in range(1, max_lag + 1):\n",
    "        df_final['lag_{}'.format(lag)] = df_final['num_orders'].shift(lag)\n",
    "\n",
    "    df_final['rolling_mean'] = df_final['num_orders'].shift().rolling(rolling_mean_size).mean()\n",
    "\n",
    "\n",
    "make_features(df_final, 1, 10)\n",
    "df_final.head()"
   ]
  },
  {
   "cell_type": "code",
   "execution_count": 18,
   "metadata": {
    "scrolled": true
   },
   "outputs": [
    {
     "name": "stdout",
     "output_type": "stream",
     "text": [
      "train_min 2018-03-01 00:00:00 train_max 2018-08-13 13:00:00\n",
      "test_min 2018-08-13 14:00:00 test_max 2018-08-31 23:00:00\n"
     ]
    }
   ],
   "source": [
    "# TRAIN-TEST SPLIT\n",
    "train, test = train_test_split(df_final, shuffle=False, test_size=0.1)\n",
    "# Displaying values to verify the correctness of the split. The train set should precede the test set.\n",
    "print('train_min', train.index.min(), 'train_max', train.index.max())\n",
    "print('test_min', test.index.min(), 'test_max', test.index.max())"
   ]
  },
  {
   "cell_type": "code",
   "execution_count": 19,
   "metadata": {},
   "outputs": [],
   "source": [
    "# SPLITTING INTO FEATURES AND TARGET\n",
    "train = train.dropna()\n",
    "X_train = train.drop(columns='lag_1')\n",
    "y_train = train['lag_1']\n",
    "X_test = test.drop(columns='lag_1')\n",
    "y_test = test['lag_1']"
   ]
  },
  {
   "cell_type": "code",
   "execution_count": 20,
   "metadata": {
    "scrolled": true
   },
   "outputs": [
    {
     "name": "stdout",
     "output_type": "stream",
     "text": [
      "Среднее количество вызовов таки в час: 139.36199095022624\n",
      "RMSE: 86.95832985529172\n",
      "RMSE: 58.864269828508355\n"
     ]
    }
   ],
   "source": [
    "# FORECAST WITHOUT TRAINING\n",
    "print(\"Среднее количество вызовов таки в час:\", y_test.mean())\n",
    "\n",
    "pred_median = np.ones(y_test.shape) * y_train.median()\n",
    "print(\"RMSE:\", rmse(pred_median, y_test))\n",
    "\n",
    "pred_previous = y_test.shift()\n",
    "pred_previous.iloc[0] =  y_train.iloc[-1] # for filling the first value\n",
    "print(\"RMSE:\", mean_squared_error(pred_previous, y_test, squared=False))"
   ]
  },
  {
   "cell_type": "code",
   "execution_count": 23,
   "metadata": {},
   "outputs": [],
   "source": [
    "# PIPELINE\n",
    "pipe_final = Pipeline(\n",
    "    [\n",
    "        (\"models\", DummyRegressor(strategy='mean')),\n",
    "    ]\n",
    ")"
   ]
  },
  {
   "cell_type": "code",
   "execution_count": 24,
   "metadata": {},
   "outputs": [],
   "source": [
    "# DICTIONARY OF MODELS WITH HYPERPARAMETERS\n",
    "param_grid = [\n",
    "    \n",
    "    {\n",
    "        \"models\": [DecisionTreeRegressor(random_state=42)],\n",
    "        \"models__max_depth\": range(2, 15),\n",
    "        'models__min_samples_split': range(2, 8),\n",
    "        'models__min_samples_leaf': range(1,6),\n",
    "        'models__max_features': range(1, 5),\n",
    "    },\n",
    "    \n",
    "    {\n",
    "        \"models\": [LinearRegression()],\n",
    "    }\n",
    "]"
   ]
  },
  {
   "cell_type": "code",
   "execution_count": 26,
   "metadata": {},
   "outputs": [],
   "source": [
    "tscv = TimeSeriesSplit(n_splits=5)\n",
    "\n",
    "randomized_search = RandomizedSearchCV(\n",
    "    pipe_final,\n",
    "    param_grid,\n",
    "    scoring=\"neg_root_mean_squared_error\",\n",
    "    error_score='raise',\n",
    "    random_state=42,\n",
    "    cv=tscv,  \n",
    ")"
   ]
  },
  {
   "cell_type": "code",
   "execution_count": 27,
   "metadata": {},
   "outputs": [
    {
     "name": "stdout",
     "output_type": "stream",
     "text": [
      "Лучшая модель и её параметры:\n",
      "\n",
      " Pipeline(steps=[('models',\n",
      "                 DecisionTreeRegressor(max_depth=10, max_features=3,\n",
      "                                       min_samples_leaf=5, random_state=42))])\n",
      "Лучшее значение метрики:\n",
      "\n",
      " 27.024145947423115\n"
     ]
    }
   ],
   "source": [
    "randomized_search.fit(X_train, y_train) # TRAINING\n",
    "print('Лучшая модель и её параметры:\\n\\n', randomized_search.best_estimator_)\n",
    "print('Лучшее значение метрики:\\n\\n', abs(randomized_search.best_score_))"
   ]
  },
  {
   "cell_type": "markdown",
   "metadata": {},
   "source": [
    "RESULTS:\n",
    "\n",
    " - It is possible that when forecasting time series, the correct creation of additional features plays a greater role, as well as the proper choice of lag or moving window. The larger the window, the better the training results will be. If these manipulations do not distort the data, then it may be more worthwhile to focus on tuning the parameters of the make_features function rather than on hyperparameter tuning across different models.\n",
    "\n",
    " - According to the results, the best model is the decision tree with hyperparameters: max_depth=10, max_features=3, min_samples_leaf=5. The cross-validation metric is RMSE=24.8\n"
   ]
  },
  {
   "cell_type": "markdown",
   "metadata": {},
   "source": [
    "## Test"
   ]
  },
  {
   "cell_type": "markdown",
   "metadata": {},
   "source": [
    "In this chapter:\n",
    "- The data will be evaluated on the test set. The RMSE metric on the test set should not exceed 48. Conclusions will be drawn.\n"
   ]
  },
  {
   "cell_type": "code",
   "execution_count": 30,
   "metadata": {},
   "outputs": [
    {
     "name": "stdout",
     "output_type": "stream",
     "text": [
      "Метрика RMSE на тестовой выборке: 43.13539661510642\n"
     ]
    }
   ],
   "source": [
    "# FORECAST OF THE BEST MODEL ON THE TEST SET\n",
    "y_pred = randomized_search.predict(X_test)\n",
    "print(f'Метрика RMSE на тестовой выборке: {rmse(y_test, y_pred)}')"
   ]
  },
  {
   "cell_type": "code",
   "execution_count": 31,
   "metadata": {},
   "outputs": [
    {
     "data": {
      "image/png": "[encoded data removed]",
      "text/plain": [
       "<Figure size 360x360 with 1 Axes>"
      ]
     },
     "metadata": {
      "needs_background": "light"
     },
     "output_type": "display_data"
    }
   ],
   "source": [
    "analysis=y_test.to_frame()\n",
    "analysis['prediction']=y_pred\n",
    "analysis.plot();"
   ]
  },
  {
   "cell_type": "markdown",
   "metadata": {},
   "source": [
    "CONCLUSIONS OF THE ANALYSIS:\n",
    " - According to the results, the best model on the test set showed an error of RMSE=43.13. This satisfies the condition RMSE < 48. The plot shows that the prediction represents a more stationary series than the test data. This means that the prediction captures only the obvious trends and may miss some details. However, there are also fewer spikes in the prediction.\n"
   ]
  },
  {
   "cell_type": "markdown",
   "metadata": {},
   "source": [
    "PROJECT CONCLUSIONS:\n",
    " - In the preparation chapter, the data was loaded and checked for missing values, duplicates, and correct data types.\n",
    " - In the analysis chapter, the time series was analyzed using a moving window method, the trend and seasonality were examined, and the series was tested for stationarity.\n",
    " - In the training chapter, additional features were created using a function and the final dataset was assembled. This step had a significant impact on the final result. The data was split into training and test sets in a 4-to-1 ratio. Time series were first forecast without training; however, the error was too high (RMSE=256). Then, linear regression and decision tree models with various hyperparameters were trained. The linear regression model was chosen as the final one. RMSE on the test set was 7.25, which meets the condition. The prediction plots show a continuing upward trend in taxi orders. From this, it can be concluded that the number of cars can be increased and the fare prices raised in the near future.\n"
   ]
  },
  {
   "cell_type": "code",
   "execution_count": null,
   "metadata": {},
   "outputs": [],
   "source": []
  }
 ],
 "metadata": {
  "ExecuteTimeLog": [
   {
    "duration": 45,
    "start_time": "2024-10-20T02:49:52.538Z"
   },
   {
    "duration": 1270,
    "start_time": "2024-10-20T02:49:58.968Z"
   },
   {
    "duration": 0,
    "start_time": "2024-10-20T02:50:00.239Z"
   },
   {
    "duration": 3446,
    "start_time": "2024-10-20T02:50:22.322Z"
   },
   {
    "duration": 308,
    "start_time": "2024-10-20T02:50:25.770Z"
   },
   {
    "duration": 93,
    "start_time": "2024-10-20T02:50:26.080Z"
   },
   {
    "duration": 11,
    "start_time": "2024-10-20T02:51:18.917Z"
   },
   {
    "duration": 9,
    "start_time": "2024-10-20T02:52:19.930Z"
   },
   {
    "duration": 27,
    "start_time": "2024-10-20T02:52:38.927Z"
   },
   {
    "duration": 11,
    "start_time": "2024-10-20T02:53:11.700Z"
   },
   {
    "duration": 16,
    "start_time": "2024-10-20T02:53:29.877Z"
   },
   {
    "duration": 15,
    "start_time": "2024-10-20T02:54:09.328Z"
   },
   {
    "duration": 20,
    "start_time": "2024-10-20T02:55:48.268Z"
   },
   {
    "duration": 15,
    "start_time": "2024-10-20T02:56:06.189Z"
   },
   {
    "duration": 14,
    "start_time": "2024-10-20T02:56:25.201Z"
   },
   {
    "duration": 13,
    "start_time": "2024-10-20T02:56:30.315Z"
   },
   {
    "duration": 20,
    "start_time": "2024-10-20T02:57:23.454Z"
   },
   {
    "duration": 23,
    "start_time": "2024-10-20T02:59:37.345Z"
   },
   {
    "duration": 98,
    "start_time": "2024-10-20T03:02:47.576Z"
   },
   {
    "duration": 44,
    "start_time": "2024-10-20T03:02:55.578Z"
   },
   {
    "duration": 13,
    "start_time": "2024-10-20T03:02:56.597Z"
   },
   {
    "duration": 2499,
    "start_time": "2024-10-20T03:03:26.922Z"
   },
   {
    "duration": 5,
    "start_time": "2024-10-20T03:03:29.423Z"
   },
   {
    "duration": 51,
    "start_time": "2024-10-20T03:03:29.429Z"
   },
   {
    "duration": 14,
    "start_time": "2024-10-20T03:03:29.481Z"
   },
   {
    "duration": 45,
    "start_time": "2024-10-20T03:04:00.100Z"
   },
   {
    "duration": 15,
    "start_time": "2024-10-20T03:04:00.658Z"
   },
   {
    "duration": 2,
    "start_time": "2024-10-20T03:04:01.432Z"
   },
   {
    "duration": 7,
    "start_time": "2024-10-20T03:05:30.368Z"
   },
   {
    "duration": 17,
    "start_time": "2024-10-20T03:07:19.904Z"
   },
   {
    "duration": 2585,
    "start_time": "2024-10-20T03:07:30.577Z"
   },
   {
    "duration": 4,
    "start_time": "2024-10-20T03:07:33.165Z"
   },
   {
    "duration": 101,
    "start_time": "2024-10-20T03:07:33.171Z"
   },
   {
    "duration": 17,
    "start_time": "2024-10-20T03:07:33.274Z"
   },
   {
    "duration": 42,
    "start_time": "2024-10-20T03:07:33.292Z"
   },
   {
    "duration": 216,
    "start_time": "2024-10-20T03:14:02.203Z"
   },
   {
    "duration": 253,
    "start_time": "2024-10-20T03:14:07.034Z"
   },
   {
    "duration": 11,
    "start_time": "2024-10-20T03:14:31.067Z"
   },
   {
    "duration": 4,
    "start_time": "2024-10-20T03:14:36.155Z"
   },
   {
    "duration": 45,
    "start_time": "2024-10-20T03:14:36.642Z"
   },
   {
    "duration": 17,
    "start_time": "2024-10-20T03:14:37.117Z"
   },
   {
    "duration": 8,
    "start_time": "2024-10-20T03:14:39.118Z"
   },
   {
    "duration": 11,
    "start_time": "2024-10-20T03:14:44.153Z"
   },
   {
    "duration": 2478,
    "start_time": "2024-10-20T03:14:54.712Z"
   },
   {
    "duration": 1366,
    "start_time": "2024-10-20T03:14:57.192Z"
   },
   {
    "duration": 46,
    "start_time": "2024-10-20T03:14:58.560Z"
   },
   {
    "duration": 44,
    "start_time": "2024-10-20T03:14:58.607Z"
   },
   {
    "duration": 7,
    "start_time": "2024-10-20T03:14:58.653Z"
   },
   {
    "duration": 220,
    "start_time": "2024-10-20T03:14:58.661Z"
   },
   {
    "duration": 226,
    "start_time": "2024-10-20T03:16:31.152Z"
   },
   {
    "duration": 172,
    "start_time": "2024-10-20T03:17:28.582Z"
   },
   {
    "duration": 184,
    "start_time": "2024-10-20T03:18:43.385Z"
   },
   {
    "duration": 67,
    "start_time": "2024-10-20T03:21:10.496Z"
   },
   {
    "duration": 93,
    "start_time": "2024-10-20T03:21:16.350Z"
   },
   {
    "duration": 110,
    "start_time": "2024-10-20T03:21:21.625Z"
   },
   {
    "duration": 212,
    "start_time": "2024-10-20T03:21:29.032Z"
   },
   {
    "duration": 201,
    "start_time": "2024-10-20T03:21:36.686Z"
   },
   {
    "duration": 210,
    "start_time": "2024-10-20T03:21:41.136Z"
   },
   {
    "duration": 104,
    "start_time": "2024-10-20T03:25:43.438Z"
   },
   {
    "duration": 14,
    "start_time": "2024-10-20T03:29:16.068Z"
   },
   {
    "duration": 9,
    "start_time": "2024-10-20T03:30:16.282Z"
   },
   {
    "duration": 573,
    "start_time": "2024-10-20T03:30:27.578Z"
   },
   {
    "duration": 5,
    "start_time": "2024-10-20T03:31:07.564Z"
   },
   {
    "duration": 5,
    "start_time": "2024-10-20T03:31:38.319Z"
   },
   {
    "duration": 5,
    "start_time": "2024-10-20T03:31:48.684Z"
   },
   {
    "duration": 576,
    "start_time": "2024-10-20T03:31:51.595Z"
   },
   {
    "duration": 709,
    "start_time": "2024-10-20T03:32:07.131Z"
   },
   {
    "duration": 9,
    "start_time": "2024-10-20T03:32:25.820Z"
   },
   {
    "duration": 10,
    "start_time": "2024-10-20T03:32:52.448Z"
   },
   {
    "duration": 631,
    "start_time": "2024-10-20T03:33:25.518Z"
   },
   {
    "duration": 8,
    "start_time": "2024-10-20T03:39:55.818Z"
   },
   {
    "duration": 8,
    "start_time": "2024-10-20T03:40:00.679Z"
   },
   {
    "duration": 1258,
    "start_time": "2024-10-20T03:40:06.813Z"
   },
   {
    "duration": 299,
    "start_time": "2024-10-20T03:40:21.108Z"
   },
   {
    "duration": 335,
    "start_time": "2024-10-20T03:40:24.958Z"
   },
   {
    "duration": 231,
    "start_time": "2024-10-20T03:40:32.448Z"
   },
   {
    "duration": 10,
    "start_time": "2024-10-20T03:48:26.243Z"
   },
   {
    "duration": 1837,
    "start_time": "2024-10-20T03:48:51.578Z"
   },
   {
    "duration": 169,
    "start_time": "2024-10-20T03:49:05.487Z"
   },
   {
    "duration": 1369,
    "start_time": "2024-10-20T03:49:22.495Z"
   },
   {
    "duration": 180,
    "start_time": "2024-10-20T03:49:30.171Z"
   },
   {
    "duration": 175,
    "start_time": "2024-10-20T03:49:40.197Z"
   },
   {
    "duration": 1331,
    "start_time": "2024-10-20T03:49:42.847Z"
   },
   {
    "duration": 37,
    "start_time": "2024-10-20T03:50:01.101Z"
   },
   {
    "duration": 391,
    "start_time": "2024-10-20T03:50:16.204Z"
   },
   {
    "duration": 7,
    "start_time": "2024-10-20T04:00:34.885Z"
   },
   {
    "duration": 313,
    "start_time": "2024-10-20T04:00:55.340Z"
   },
   {
    "duration": 4,
    "start_time": "2024-10-20T04:11:39.244Z"
   },
   {
    "duration": 354,
    "start_time": "2024-10-20T04:12:34.598Z"
   },
   {
    "duration": 507,
    "start_time": "2024-10-20T04:12:57.685Z"
   },
   {
    "duration": 5,
    "start_time": "2024-10-20T04:13:21.147Z"
   },
   {
    "duration": 14,
    "start_time": "2024-10-20T04:13:28.102Z"
   },
   {
    "duration": 6,
    "start_time": "2024-10-20T04:13:35.452Z"
   },
   {
    "duration": 5,
    "start_time": "2024-10-20T04:13:48.519Z"
   },
   {
    "duration": 6,
    "start_time": "2024-10-20T04:16:14.455Z"
   },
   {
    "duration": 6,
    "start_time": "2024-10-20T04:16:23.400Z"
   },
   {
    "duration": 6,
    "start_time": "2024-10-20T04:16:38.719Z"
   },
   {
    "duration": 338,
    "start_time": "2024-10-20T04:17:19.744Z"
   },
   {
    "duration": 7,
    "start_time": "2024-10-20T04:17:57.626Z"
   },
   {
    "duration": 2,
    "start_time": "2024-10-20T04:18:16.376Z"
   },
   {
    "duration": 5,
    "start_time": "2024-10-20T04:18:21.253Z"
   },
   {
    "duration": 1134,
    "start_time": "2024-10-20T04:18:41.263Z"
   },
   {
    "duration": 10,
    "start_time": "2024-10-20T04:19:06.321Z"
   },
   {
    "duration": 253,
    "start_time": "2024-10-20T04:19:27.202Z"
   },
   {
    "duration": 268,
    "start_time": "2024-10-20T04:19:49.029Z"
   },
   {
    "duration": 233,
    "start_time": "2024-10-20T04:19:50.934Z"
   },
   {
    "duration": 10,
    "start_time": "2024-10-20T04:20:38.956Z"
   },
   {
    "duration": 241,
    "start_time": "2024-10-20T04:23:57.421Z"
   },
   {
    "duration": 244,
    "start_time": "2024-10-20T04:25:53.780Z"
   },
   {
    "duration": 2539,
    "start_time": "2024-10-20T04:26:31.795Z"
   },
   {
    "duration": 1480,
    "start_time": "2024-10-20T04:26:34.336Z"
   },
   {
    "duration": 47,
    "start_time": "2024-10-20T04:26:35.817Z"
   },
   {
    "duration": 29,
    "start_time": "2024-10-20T04:26:35.866Z"
   },
   {
    "duration": 61,
    "start_time": "2024-10-20T04:26:35.897Z"
   },
   {
    "duration": 294,
    "start_time": "2024-10-20T04:26:35.960Z"
   },
   {
    "duration": 293,
    "start_time": "2024-10-20T04:26:36.255Z"
   },
   {
    "duration": 635,
    "start_time": "2024-10-20T04:26:36.550Z"
   },
   {
    "duration": 284,
    "start_time": "2024-10-20T04:26:37.187Z"
   },
   {
    "duration": 118,
    "start_time": "2024-10-20T04:26:37.472Z"
   },
   {
    "duration": 0,
    "start_time": "2024-10-20T04:26:37.591Z"
   },
   {
    "duration": 338,
    "start_time": "2024-10-20T04:27:06.537Z"
   },
   {
    "duration": 5,
    "start_time": "2024-10-20T04:28:49.089Z"
   },
   {
    "duration": 1647,
    "start_time": "2024-10-20T04:29:38.275Z"
   },
   {
    "duration": 2559,
    "start_time": "2024-10-20T04:30:04.935Z"
   },
   {
    "duration": 1363,
    "start_time": "2024-10-20T04:30:07.496Z"
   },
   {
    "duration": 45,
    "start_time": "2024-10-20T04:30:08.860Z"
   },
   {
    "duration": 23,
    "start_time": "2024-10-20T04:30:08.907Z"
   },
   {
    "duration": 6,
    "start_time": "2024-10-20T04:30:08.931Z"
   },
   {
    "duration": 223,
    "start_time": "2024-10-20T04:30:08.939Z"
   },
   {
    "duration": 275,
    "start_time": "2024-10-20T04:30:09.164Z"
   },
   {
    "duration": 618,
    "start_time": "2024-10-20T04:30:09.441Z"
   },
   {
    "duration": 240,
    "start_time": "2024-10-20T04:30:10.061Z"
   },
   {
    "duration": 330,
    "start_time": "2024-10-20T04:30:10.303Z"
   },
   {
    "duration": 10,
    "start_time": "2024-10-20T04:30:10.634Z"
   },
   {
    "duration": 133,
    "start_time": "2024-10-20T04:31:15.336Z"
   },
   {
    "duration": 11,
    "start_time": "2024-10-20T04:31:21.830Z"
   },
   {
    "duration": 9,
    "start_time": "2024-10-20T05:46:27.758Z"
   },
   {
    "duration": 6,
    "start_time": "2024-10-20T05:46:38.159Z"
   },
   {
    "duration": 98,
    "start_time": "2024-10-20T05:47:47.366Z"
   },
   {
    "duration": 4,
    "start_time": "2024-10-20T05:47:55.949Z"
   },
   {
    "duration": 12,
    "start_time": "2024-10-20T05:50:04.312Z"
   },
   {
    "duration": 2509,
    "start_time": "2024-10-20T05:50:21.485Z"
   },
   {
    "duration": 1339,
    "start_time": "2024-10-20T05:50:23.996Z"
   },
   {
    "duration": 46,
    "start_time": "2024-10-20T05:50:25.337Z"
   },
   {
    "duration": 20,
    "start_time": "2024-10-20T05:50:25.385Z"
   },
   {
    "duration": 20,
    "start_time": "2024-10-20T05:50:25.407Z"
   },
   {
    "duration": 232,
    "start_time": "2024-10-20T05:50:25.428Z"
   },
   {
    "duration": 284,
    "start_time": "2024-10-20T05:50:25.661Z"
   },
   {
    "duration": 617,
    "start_time": "2024-10-20T05:50:25.947Z"
   },
   {
    "duration": 229,
    "start_time": "2024-10-20T05:50:26.565Z"
   },
   {
    "duration": 319,
    "start_time": "2024-10-20T05:50:26.795Z"
   },
   {
    "duration": 10,
    "start_time": "2024-10-20T05:50:27.116Z"
   },
   {
    "duration": 6,
    "start_time": "2024-10-20T05:50:27.127Z"
   },
   {
    "duration": 1354,
    "start_time": "2024-10-20T05:50:27.134Z"
   },
   {
    "duration": 10,
    "start_time": "2024-10-20T05:51:16.767Z"
   },
   {
    "duration": 9,
    "start_time": "2024-10-20T05:52:26.237Z"
   },
   {
    "duration": 4,
    "start_time": "2024-10-20T05:52:33.343Z"
   },
   {
    "duration": 3,
    "start_time": "2024-10-20T05:52:34.130Z"
   },
   {
    "duration": 9,
    "start_time": "2024-10-20T05:52:38.456Z"
   },
   {
    "duration": 8,
    "start_time": "2024-10-20T05:52:46.822Z"
   },
   {
    "duration": 12,
    "start_time": "2024-10-20T05:54:16.153Z"
   },
   {
    "duration": 9,
    "start_time": "2024-10-20T05:56:44.049Z"
   },
   {
    "duration": 10,
    "start_time": "2024-10-20T05:58:46.078Z"
   },
   {
    "duration": 8,
    "start_time": "2024-10-20T06:04:35.646Z"
   },
   {
    "duration": 4,
    "start_time": "2024-10-20T06:05:02.280Z"
   },
   {
    "duration": 8,
    "start_time": "2024-10-20T06:05:30.694Z"
   },
   {
    "duration": 2463,
    "start_time": "2024-10-20T06:05:49.601Z"
   },
   {
    "duration": 1362,
    "start_time": "2024-10-20T06:05:52.066Z"
   },
   {
    "duration": 2,
    "start_time": "2024-10-20T06:05:53.430Z"
   },
   {
    "duration": 50,
    "start_time": "2024-10-20T06:05:53.434Z"
   },
   {
    "duration": 20,
    "start_time": "2024-10-20T06:05:53.486Z"
   },
   {
    "duration": 6,
    "start_time": "2024-10-20T06:05:53.507Z"
   },
   {
    "duration": 214,
    "start_time": "2024-10-20T06:05:53.514Z"
   },
   {
    "duration": 263,
    "start_time": "2024-10-20T06:05:53.729Z"
   },
   {
    "duration": 604,
    "start_time": "2024-10-20T06:05:53.993Z"
   },
   {
    "duration": 263,
    "start_time": "2024-10-20T06:05:54.599Z"
   },
   {
    "duration": 335,
    "start_time": "2024-10-20T06:05:54.864Z"
   },
   {
    "duration": 13,
    "start_time": "2024-10-20T06:05:55.201Z"
   },
   {
    "duration": 119,
    "start_time": "2024-10-20T06:05:55.215Z"
   },
   {
    "duration": 1,
    "start_time": "2024-10-20T06:05:55.335Z"
   },
   {
    "duration": 0,
    "start_time": "2024-10-20T06:05:55.337Z"
   },
   {
    "duration": 0,
    "start_time": "2024-10-20T06:05:55.338Z"
   },
   {
    "duration": 7,
    "start_time": "2024-10-20T06:06:08.102Z"
   },
   {
    "duration": 15,
    "start_time": "2024-10-20T06:06:58.792Z"
   },
   {
    "duration": 1362,
    "start_time": "2024-10-20T06:07:15.812Z"
   },
   {
    "duration": 6,
    "start_time": "2024-10-20T06:07:38.280Z"
   },
   {
    "duration": 12,
    "start_time": "2024-10-20T06:08:50.733Z"
   },
   {
    "duration": 2493,
    "start_time": "2024-10-20T06:10:39.138Z"
   },
   {
    "duration": 1378,
    "start_time": "2024-10-20T06:10:41.633Z"
   },
   {
    "duration": 3,
    "start_time": "2024-10-20T06:10:43.012Z"
   },
   {
    "duration": 127,
    "start_time": "2024-10-20T06:10:43.016Z"
   },
   {
    "duration": 33,
    "start_time": "2024-10-20T06:10:43.145Z"
   },
   {
    "duration": 6,
    "start_time": "2024-10-20T06:10:43.179Z"
   },
   {
    "duration": 215,
    "start_time": "2024-10-20T06:10:43.186Z"
   },
   {
    "duration": 276,
    "start_time": "2024-10-20T06:10:43.402Z"
   },
   {
    "duration": 581,
    "start_time": "2024-10-20T06:10:43.680Z"
   },
   {
    "duration": 246,
    "start_time": "2024-10-20T06:10:44.263Z"
   },
   {
    "duration": 325,
    "start_time": "2024-10-20T06:10:44.510Z"
   },
   {
    "duration": 7,
    "start_time": "2024-10-20T06:10:44.837Z"
   },
   {
    "duration": 23,
    "start_time": "2024-10-20T06:10:44.845Z"
   },
   {
    "duration": 6,
    "start_time": "2024-10-20T06:10:44.869Z"
   },
   {
    "duration": 38,
    "start_time": "2024-10-20T06:10:44.876Z"
   },
   {
    "duration": 110,
    "start_time": "2024-10-20T06:10:44.916Z"
   },
   {
    "duration": 7,
    "start_time": "2024-10-20T06:17:01.615Z"
   },
   {
    "duration": 17,
    "start_time": "2024-10-20T06:18:43.127Z"
   },
   {
    "duration": 22,
    "start_time": "2024-10-20T06:19:02.825Z"
   },
   {
    "duration": 14,
    "start_time": "2024-10-20T06:19:18.223Z"
   },
   {
    "duration": 12,
    "start_time": "2024-10-20T06:20:02.369Z"
   },
   {
    "duration": 1407,
    "start_time": "2024-10-20T06:21:56.706Z"
   },
   {
    "duration": 3,
    "start_time": "2024-10-20T06:21:58.115Z"
   },
   {
    "duration": 172,
    "start_time": "2024-10-20T06:21:58.119Z"
   },
   {
    "duration": 22,
    "start_time": "2024-10-20T06:21:58.293Z"
   },
   {
    "duration": 8,
    "start_time": "2024-10-20T06:21:58.317Z"
   },
   {
    "duration": 217,
    "start_time": "2024-10-20T06:21:58.326Z"
   },
   {
    "duration": 287,
    "start_time": "2024-10-20T06:21:58.545Z"
   },
   {
    "duration": 626,
    "start_time": "2024-10-20T06:21:58.833Z"
   },
   {
    "duration": 242,
    "start_time": "2024-10-20T06:21:59.460Z"
   },
   {
    "duration": 260,
    "start_time": "2024-10-20T06:21:59.707Z"
   },
   {
    "duration": 8,
    "start_time": "2024-10-20T06:21:59.968Z"
   },
   {
    "duration": 41,
    "start_time": "2024-10-20T06:21:59.978Z"
   },
   {
    "duration": 42,
    "start_time": "2024-10-20T06:22:00.020Z"
   },
   {
    "duration": 91,
    "start_time": "2024-10-20T06:22:00.063Z"
   },
   {
    "duration": 6,
    "start_time": "2024-10-20T06:22:00.155Z"
   },
   {
    "duration": 58,
    "start_time": "2024-10-20T06:22:00.163Z"
   },
   {
    "duration": 292,
    "start_time": "2024-10-20T06:22:00.222Z"
   },
   {
    "duration": 3,
    "start_time": "2024-10-20T06:24:32.236Z"
   },
   {
    "duration": 8,
    "start_time": "2024-10-20T06:24:52.178Z"
   },
   {
    "duration": 4,
    "start_time": "2024-10-20T06:25:36.437Z"
   },
   {
    "duration": 9,
    "start_time": "2024-10-20T06:25:42.036Z"
   },
   {
    "duration": 9,
    "start_time": "2024-10-20T06:25:53.211Z"
   },
   {
    "duration": 2,
    "start_time": "2024-10-20T06:32:36.725Z"
   },
   {
    "duration": 3,
    "start_time": "2024-10-20T06:33:27.249Z"
   },
   {
    "duration": 3,
    "start_time": "2024-10-20T06:33:47.927Z"
   },
   {
    "duration": 23,
    "start_time": "2024-10-20T06:33:48.650Z"
   },
   {
    "duration": 1284,
    "start_time": "2024-10-20T06:35:52.863Z"
   },
   {
    "duration": 3,
    "start_time": "2024-10-20T06:35:54.149Z"
   },
   {
    "duration": 82,
    "start_time": "2024-10-20T06:35:54.153Z"
   },
   {
    "duration": 25,
    "start_time": "2024-10-20T06:35:54.237Z"
   },
   {
    "duration": 7,
    "start_time": "2024-10-20T06:35:54.263Z"
   },
   {
    "duration": 257,
    "start_time": "2024-10-20T06:35:54.272Z"
   },
   {
    "duration": 273,
    "start_time": "2024-10-20T06:35:54.530Z"
   },
   {
    "duration": 609,
    "start_time": "2024-10-20T06:35:54.804Z"
   },
   {
    "duration": 233,
    "start_time": "2024-10-20T06:35:55.415Z"
   },
   {
    "duration": 257,
    "start_time": "2024-10-20T06:35:55.650Z"
   },
   {
    "duration": 7,
    "start_time": "2024-10-20T06:35:55.909Z"
   },
   {
    "duration": 14,
    "start_time": "2024-10-20T06:35:55.917Z"
   },
   {
    "duration": 6,
    "start_time": "2024-10-20T06:35:55.932Z"
   },
   {
    "duration": 103,
    "start_time": "2024-10-20T06:35:55.939Z"
   },
   {
    "duration": 7,
    "start_time": "2024-10-20T06:35:56.043Z"
   },
   {
    "duration": 62,
    "start_time": "2024-10-20T06:35:56.051Z"
   },
   {
    "duration": 93,
    "start_time": "2024-10-20T06:35:56.114Z"
   },
   {
    "duration": 5,
    "start_time": "2024-10-20T06:35:56.209Z"
   },
   {
    "duration": 177,
    "start_time": "2024-10-20T06:35:56.216Z"
   },
   {
    "duration": 0,
    "start_time": "2024-10-20T06:35:56.394Z"
   },
   {
    "duration": 3,
    "start_time": "2024-10-20T06:36:30.148Z"
   },
   {
    "duration": 22,
    "start_time": "2024-10-20T06:36:30.929Z"
   },
   {
    "duration": 2,
    "start_time": "2024-10-20T06:36:37.683Z"
   },
   {
    "duration": 2,
    "start_time": "2024-10-20T06:36:38.217Z"
   },
   {
    "duration": 473,
    "start_time": "2024-10-20T06:36:38.777Z"
   },
   {
    "duration": 3,
    "start_time": "2024-10-20T06:37:01.486Z"
   },
   {
    "duration": 2,
    "start_time": "2024-10-20T06:37:02.027Z"
   },
   {
    "duration": 240,
    "start_time": "2024-10-20T06:37:02.819Z"
   },
   {
    "duration": 2,
    "start_time": "2024-10-20T06:37:11.668Z"
   },
   {
    "duration": 3,
    "start_time": "2024-10-20T06:37:12.142Z"
   },
   {
    "duration": 22,
    "start_time": "2024-10-20T06:37:12.640Z"
   },
   {
    "duration": 3,
    "start_time": "2024-10-20T06:37:21.782Z"
   },
   {
    "duration": 2,
    "start_time": "2024-10-20T06:37:22.275Z"
   },
   {
    "duration": 453,
    "start_time": "2024-10-20T06:37:22.833Z"
   },
   {
    "duration": 8,
    "start_time": "2024-10-20T06:37:30.427Z"
   },
   {
    "duration": 3,
    "start_time": "2024-10-20T06:40:59.841Z"
   },
   {
    "duration": 3,
    "start_time": "2024-10-20T06:41:00.529Z"
   },
   {
    "duration": 439,
    "start_time": "2024-10-20T06:41:01.220Z"
   },
   {
    "duration": 3,
    "start_time": "2024-10-20T06:41:50.289Z"
   },
   {
    "duration": 3,
    "start_time": "2024-10-20T06:41:50.788Z"
   },
   {
    "duration": 455,
    "start_time": "2024-10-20T06:41:51.314Z"
   },
   {
    "duration": 421,
    "start_time": "2024-10-20T06:42:12.055Z"
   },
   {
    "duration": 8,
    "start_time": "2024-10-20T06:42:23.590Z"
   },
   {
    "duration": 20,
    "start_time": "2024-10-20T06:45:31.057Z"
   },
   {
    "duration": 10,
    "start_time": "2024-10-20T06:46:22.649Z"
   },
   {
    "duration": 442,
    "start_time": "2024-10-20T06:46:33.004Z"
   },
   {
    "duration": 3,
    "start_time": "2024-10-20T06:46:46.730Z"
   },
   {
    "duration": 3,
    "start_time": "2024-10-20T06:46:47.229Z"
   },
   {
    "duration": 421,
    "start_time": "2024-10-20T06:46:47.984Z"
   },
   {
    "duration": 10,
    "start_time": "2024-10-20T06:47:07.500Z"
   },
   {
    "duration": 1485,
    "start_time": "2024-10-20T06:47:19.605Z"
   },
   {
    "duration": 3,
    "start_time": "2024-10-20T06:47:21.093Z"
   },
   {
    "duration": 100,
    "start_time": "2024-10-20T06:47:21.098Z"
   },
   {
    "duration": 77,
    "start_time": "2024-10-20T06:47:21.200Z"
   },
   {
    "duration": 20,
    "start_time": "2024-10-20T06:47:21.279Z"
   },
   {
    "duration": 277,
    "start_time": "2024-10-20T06:47:21.300Z"
   },
   {
    "duration": 285,
    "start_time": "2024-10-20T06:47:21.578Z"
   },
   {
    "duration": 610,
    "start_time": "2024-10-20T06:47:21.864Z"
   },
   {
    "duration": 265,
    "start_time": "2024-10-20T06:47:22.476Z"
   },
   {
    "duration": 275,
    "start_time": "2024-10-20T06:47:22.743Z"
   },
   {
    "duration": 8,
    "start_time": "2024-10-20T06:47:23.019Z"
   },
   {
    "duration": 53,
    "start_time": "2024-10-20T06:47:23.028Z"
   },
   {
    "duration": 5,
    "start_time": "2024-10-20T06:47:23.083Z"
   },
   {
    "duration": 96,
    "start_time": "2024-10-20T06:47:23.090Z"
   },
   {
    "duration": 7,
    "start_time": "2024-10-20T06:47:23.187Z"
   },
   {
    "duration": 111,
    "start_time": "2024-10-20T06:47:23.195Z"
   },
   {
    "duration": 5,
    "start_time": "2024-10-20T06:47:23.309Z"
   },
   {
    "duration": 99,
    "start_time": "2024-10-20T06:47:23.316Z"
   },
   {
    "duration": 391,
    "start_time": "2024-10-20T06:47:23.417Z"
   },
   {
    "duration": 9,
    "start_time": "2024-10-20T06:47:23.809Z"
   },
   {
    "duration": 120,
    "start_time": "2024-10-20T06:47:23.820Z"
   },
   {
    "duration": 0,
    "start_time": "2024-10-20T06:47:23.942Z"
   },
   {
    "duration": 390,
    "start_time": "2024-10-20T06:48:04.435Z"
   },
   {
    "duration": 336,
    "start_time": "2024-10-20T06:48:15.204Z"
   },
   {
    "duration": 11,
    "start_time": "2024-10-20T06:48:34.868Z"
   },
   {
    "duration": 11,
    "start_time": "2024-10-20T06:48:41.354Z"
   },
   {
    "duration": 4,
    "start_time": "2024-10-20T06:49:11.373Z"
   },
   {
    "duration": 2,
    "start_time": "2024-10-20T06:51:11.804Z"
   },
   {
    "duration": 2,
    "start_time": "2024-10-20T06:51:41.877Z"
   },
   {
    "duration": 3,
    "start_time": "2024-10-20T06:51:42.660Z"
   },
   {
    "duration": 384,
    "start_time": "2024-10-20T06:51:43.385Z"
   },
   {
    "duration": 7,
    "start_time": "2024-10-20T06:51:48.026Z"
   },
   {
    "duration": 10,
    "start_time": "2024-10-20T06:52:03.480Z"
   },
   {
    "duration": 5,
    "start_time": "2024-10-20T06:52:53.262Z"
   },
   {
    "duration": 2,
    "start_time": "2024-10-20T06:53:13.320Z"
   },
   {
    "duration": 3,
    "start_time": "2024-10-20T06:53:13.958Z"
   },
   {
    "duration": 369,
    "start_time": "2024-10-20T06:53:14.541Z"
   },
   {
    "duration": 3,
    "start_time": "2024-10-20T06:53:19.790Z"
   },
   {
    "duration": 3,
    "start_time": "2024-10-20T06:53:21.763Z"
   },
   {
    "duration": 367,
    "start_time": "2024-10-20T06:53:22.295Z"
   },
   {
    "duration": 6,
    "start_time": "2024-10-20T06:54:13.454Z"
   },
   {
    "duration": 3,
    "start_time": "2024-10-20T06:54:48.054Z"
   },
   {
    "duration": 10,
    "start_time": "2024-10-20T06:55:06.608Z"
   },
   {
    "duration": 2,
    "start_time": "2024-10-20T06:55:15.473Z"
   },
   {
    "duration": 3,
    "start_time": "2024-10-20T06:55:16.020Z"
   },
   {
    "duration": 433,
    "start_time": "2024-10-20T06:55:17.806Z"
   },
   {
    "duration": 8,
    "start_time": "2024-10-20T07:02:14.160Z"
   },
   {
    "duration": 9,
    "start_time": "2024-10-20T07:02:47.361Z"
   },
   {
    "duration": 8,
    "start_time": "2024-10-20T07:03:32.453Z"
   },
   {
    "duration": 5,
    "start_time": "2024-10-20T07:03:42.749Z"
   },
   {
    "duration": 112,
    "start_time": "2024-10-20T07:03:58.025Z"
   },
   {
    "duration": 8,
    "start_time": "2024-10-20T07:04:45.721Z"
   },
   {
    "duration": 102,
    "start_time": "2024-10-20T07:04:54.681Z"
   },
   {
    "duration": 5,
    "start_time": "2024-10-20T07:05:26.429Z"
   },
   {
    "duration": 3,
    "start_time": "2024-10-20T07:05:35.848Z"
   },
   {
    "duration": 7,
    "start_time": "2024-10-20T07:05:46.044Z"
   },
   {
    "duration": 3,
    "start_time": "2024-10-20T07:07:36.721Z"
   },
   {
    "duration": 9,
    "start_time": "2024-10-20T07:07:45.843Z"
   },
   {
    "duration": 4,
    "start_time": "2024-10-20T07:08:17.584Z"
   },
   {
    "duration": 7,
    "start_time": "2024-10-20T07:08:27.082Z"
   },
   {
    "duration": 216,
    "start_time": "2024-10-20T07:08:55.832Z"
   },
   {
    "duration": 197,
    "start_time": "2024-10-20T07:08:59.466Z"
   },
   {
    "duration": 1307,
    "start_time": "2024-10-20T07:19:02.590Z"
   },
   {
    "duration": 3,
    "start_time": "2024-10-20T07:19:03.899Z"
   },
   {
    "duration": 51,
    "start_time": "2024-10-20T07:19:03.904Z"
   },
   {
    "duration": 21,
    "start_time": "2024-10-20T07:19:03.957Z"
   },
   {
    "duration": 6,
    "start_time": "2024-10-20T07:19:03.980Z"
   },
   {
    "duration": 222,
    "start_time": "2024-10-20T07:19:03.988Z"
   },
   {
    "duration": 284,
    "start_time": "2024-10-20T07:19:04.212Z"
   },
   {
    "duration": 597,
    "start_time": "2024-10-20T07:19:04.497Z"
   },
   {
    "duration": 237,
    "start_time": "2024-10-20T07:19:05.095Z"
   },
   {
    "duration": 264,
    "start_time": "2024-10-20T07:19:05.334Z"
   },
   {
    "duration": 12,
    "start_time": "2024-10-20T07:19:05.600Z"
   },
   {
    "duration": 29,
    "start_time": "2024-10-20T07:19:05.613Z"
   },
   {
    "duration": 35,
    "start_time": "2024-10-20T07:19:05.643Z"
   },
   {
    "duration": 113,
    "start_time": "2024-10-20T07:19:05.679Z"
   },
   {
    "duration": 7,
    "start_time": "2024-10-20T07:19:05.793Z"
   },
   {
    "duration": 53,
    "start_time": "2024-10-20T07:19:05.801Z"
   },
   {
    "duration": 152,
    "start_time": "2024-10-20T07:19:05.856Z"
   },
   {
    "duration": 6,
    "start_time": "2024-10-20T07:19:06.009Z"
   },
   {
    "duration": 445,
    "start_time": "2024-10-20T07:19:06.016Z"
   },
   {
    "duration": 3,
    "start_time": "2024-10-20T07:19:06.463Z"
   },
   {
    "duration": 247,
    "start_time": "2024-10-20T07:19:06.467Z"
   },
   {
    "duration": 1190,
    "start_time": "2024-10-20T08:35:26.927Z"
   },
   {
    "duration": 3,
    "start_time": "2024-10-20T08:35:28.119Z"
   },
   {
    "duration": 104,
    "start_time": "2024-10-20T08:35:28.123Z"
   },
   {
    "duration": 18,
    "start_time": "2024-10-20T08:35:28.229Z"
   },
   {
    "duration": 5,
    "start_time": "2024-10-20T08:35:28.249Z"
   },
   {
    "duration": 232,
    "start_time": "2024-10-20T08:35:28.255Z"
   },
   {
    "duration": 217,
    "start_time": "2024-10-20T08:35:28.489Z"
   },
   {
    "duration": 650,
    "start_time": "2024-10-20T08:35:28.708Z"
   },
   {
    "duration": 239,
    "start_time": "2024-10-20T08:35:29.359Z"
   },
   {
    "duration": 269,
    "start_time": "2024-10-20T08:35:29.600Z"
   },
   {
    "duration": 8,
    "start_time": "2024-10-20T08:35:29.870Z"
   },
   {
    "duration": 20,
    "start_time": "2024-10-20T08:35:29.879Z"
   },
   {
    "duration": 14,
    "start_time": "2024-10-20T08:35:29.900Z"
   },
   {
    "duration": 25,
    "start_time": "2024-10-20T08:35:29.915Z"
   },
   {
    "duration": 12,
    "start_time": "2024-10-20T08:35:44.186Z"
   },
   {
    "duration": 12,
    "start_time": "2024-10-20T08:36:18.257Z"
   },
   {
    "duration": 4,
    "start_time": "2024-10-20T08:37:58.060Z"
   },
   {
    "duration": 11,
    "start_time": "2024-10-20T08:38:14.909Z"
   },
   {
    "duration": 122,
    "start_time": "2024-10-20T08:38:43.606Z"
   },
   {
    "duration": 13,
    "start_time": "2024-10-20T08:39:02.754Z"
   },
   {
    "duration": 4,
    "start_time": "2024-10-20T08:39:35.284Z"
   },
   {
    "duration": 3,
    "start_time": "2024-10-20T08:39:48.520Z"
   },
   {
    "duration": 72,
    "start_time": "2024-10-20T08:40:14.674Z"
   },
   {
    "duration": 4,
    "start_time": "2024-10-20T08:40:22.495Z"
   },
   {
    "duration": 13,
    "start_time": "2024-10-20T08:41:59.577Z"
   },
   {
    "duration": 4,
    "start_time": "2024-10-20T08:42:18.281Z"
   },
   {
    "duration": 6,
    "start_time": "2024-10-20T08:42:30.704Z"
   },
   {
    "duration": 5,
    "start_time": "2024-10-20T08:42:43.277Z"
   },
   {
    "duration": 5,
    "start_time": "2024-10-20T08:42:50.014Z"
   },
   {
    "duration": 6,
    "start_time": "2024-10-20T08:43:11.969Z"
   },
   {
    "duration": 62,
    "start_time": "2024-10-20T08:45:27.983Z"
   },
   {
    "duration": 15,
    "start_time": "2024-10-20T08:45:38.299Z"
   },
   {
    "duration": 7,
    "start_time": "2024-10-20T08:49:11.179Z"
   },
   {
    "duration": 1101,
    "start_time": "2024-10-20T08:56:09.396Z"
   },
   {
    "duration": 3,
    "start_time": "2024-10-20T08:56:10.499Z"
   },
   {
    "duration": 51,
    "start_time": "2024-10-20T08:56:10.503Z"
   },
   {
    "duration": 20,
    "start_time": "2024-10-20T08:56:10.556Z"
   },
   {
    "duration": 7,
    "start_time": "2024-10-20T08:56:10.577Z"
   },
   {
    "duration": 223,
    "start_time": "2024-10-20T08:56:10.586Z"
   },
   {
    "duration": 210,
    "start_time": "2024-10-20T08:56:10.811Z"
   },
   {
    "duration": 686,
    "start_time": "2024-10-20T08:56:11.022Z"
   },
   {
    "duration": 237,
    "start_time": "2024-10-20T08:56:11.709Z"
   },
   {
    "duration": 249,
    "start_time": "2024-10-20T08:56:11.948Z"
   },
   {
    "duration": 7,
    "start_time": "2024-10-20T08:56:12.198Z"
   },
   {
    "duration": 7,
    "start_time": "2024-10-20T08:56:12.207Z"
   },
   {
    "duration": 13,
    "start_time": "2024-10-20T08:56:12.215Z"
   },
   {
    "duration": 8,
    "start_time": "2024-10-20T08:56:12.229Z"
   },
   {
    "duration": 28,
    "start_time": "2024-10-20T08:56:12.238Z"
   },
   {
    "duration": 7,
    "start_time": "2024-10-20T08:56:12.267Z"
   },
   {
    "duration": 81,
    "start_time": "2024-10-20T08:56:12.275Z"
   },
   {
    "duration": 3,
    "start_time": "2024-10-20T08:56:12.361Z"
   },
   {
    "duration": 95,
    "start_time": "2024-10-20T08:56:12.366Z"
   },
   {
    "duration": 379,
    "start_time": "2024-10-20T08:56:12.463Z"
   },
   {
    "duration": 4,
    "start_time": "2024-10-20T08:56:12.843Z"
   },
   {
    "duration": 252,
    "start_time": "2024-10-20T08:56:12.857Z"
   },
   {
    "duration": 59,
    "start_time": "2024-10-21T03:45:24.996Z"
   },
   {
    "duration": 4,
    "start_time": "2024-10-21T03:46:06.446Z"
   },
   {
    "duration": 1498,
    "start_time": "2024-10-21T03:46:16.014Z"
   },
   {
    "duration": 2,
    "start_time": "2024-10-21T03:46:17.514Z"
   },
   {
    "duration": 236,
    "start_time": "2024-10-21T03:46:17.517Z"
   },
   {
    "duration": 39,
    "start_time": "2024-10-21T03:46:17.755Z"
   },
   {
    "duration": 33,
    "start_time": "2024-10-21T03:46:17.795Z"
   },
   {
    "duration": 11,
    "start_time": "2024-10-21T03:46:17.829Z"
   },
   {
    "duration": 225,
    "start_time": "2024-10-21T03:46:17.841Z"
   },
   {
    "duration": 114,
    "start_time": "2024-10-21T03:46:18.067Z"
   },
   {
    "duration": 0,
    "start_time": "2024-10-21T03:46:18.182Z"
   },
   {
    "duration": 0,
    "start_time": "2024-10-21T03:46:18.184Z"
   },
   {
    "duration": 0,
    "start_time": "2024-10-21T03:46:18.185Z"
   },
   {
    "duration": 0,
    "start_time": "2024-10-21T03:46:18.186Z"
   },
   {
    "duration": 0,
    "start_time": "2024-10-21T03:46:18.186Z"
   },
   {
    "duration": 0,
    "start_time": "2024-10-21T03:46:18.188Z"
   },
   {
    "duration": 0,
    "start_time": "2024-10-21T03:46:18.189Z"
   },
   {
    "duration": 0,
    "start_time": "2024-10-21T03:46:18.190Z"
   },
   {
    "duration": 0,
    "start_time": "2024-10-21T03:46:18.191Z"
   },
   {
    "duration": 0,
    "start_time": "2024-10-21T03:46:18.206Z"
   },
   {
    "duration": 0,
    "start_time": "2024-10-21T03:46:18.208Z"
   },
   {
    "duration": 0,
    "start_time": "2024-10-21T03:46:18.208Z"
   },
   {
    "duration": 0,
    "start_time": "2024-10-21T03:46:18.210Z"
   },
   {
    "duration": 0,
    "start_time": "2024-10-21T03:46:18.211Z"
   },
   {
    "duration": 0,
    "start_time": "2024-10-21T03:46:18.212Z"
   },
   {
    "duration": 0,
    "start_time": "2024-10-21T03:46:18.213Z"
   },
   {
    "duration": 250,
    "start_time": "2024-10-21T03:46:56.791Z"
   },
   {
    "duration": 203,
    "start_time": "2024-10-21T03:48:02.715Z"
   },
   {
    "duration": 661,
    "start_time": "2024-10-21T03:48:07.344Z"
   },
   {
    "duration": 10,
    "start_time": "2024-10-21T04:11:57.827Z"
   },
   {
    "duration": 3,
    "start_time": "2024-10-21T04:13:52.550Z"
   },
   {
    "duration": 14,
    "start_time": "2024-10-21T04:14:13.104Z"
   },
   {
    "duration": 6,
    "start_time": "2024-10-21T04:14:52.504Z"
   },
   {
    "duration": 13,
    "start_time": "2024-10-21T04:15:30.611Z"
   },
   {
    "duration": 440,
    "start_time": "2024-10-21T04:16:00.606Z"
   },
   {
    "duration": 438,
    "start_time": "2024-10-21T04:16:16.531Z"
   },
   {
    "duration": 9,
    "start_time": "2024-10-21T04:17:24.428Z"
   },
   {
    "duration": 12,
    "start_time": "2024-10-21T04:17:30.897Z"
   },
   {
    "duration": 12,
    "start_time": "2024-10-21T04:18:34.277Z"
   },
   {
    "duration": 10,
    "start_time": "2024-10-21T04:18:43.711Z"
   },
   {
    "duration": 12,
    "start_time": "2024-10-21T04:19:42.334Z"
   },
   {
    "duration": 13,
    "start_time": "2024-10-21T04:19:52.141Z"
   },
   {
    "duration": 81,
    "start_time": "2024-10-21T04:20:16.861Z"
   },
   {
    "duration": 12,
    "start_time": "2024-10-21T04:20:36.237Z"
   },
   {
    "duration": 404,
    "start_time": "2024-10-21T04:20:45.260Z"
   },
   {
    "duration": 381,
    "start_time": "2024-10-21T04:21:47.876Z"
   },
   {
    "duration": 17,
    "start_time": "2024-10-21T04:26:15.537Z"
   },
   {
    "duration": 289,
    "start_time": "2024-10-21T04:26:36.548Z"
   },
   {
    "duration": 316,
    "start_time": "2024-10-21T04:27:04.934Z"
   },
   {
    "duration": 342,
    "start_time": "2024-10-21T04:27:36.908Z"
   },
   {
    "duration": 504,
    "start_time": "2024-10-21T04:28:06.931Z"
   },
   {
    "duration": 362,
    "start_time": "2024-10-21T04:29:18.531Z"
   },
   {
    "duration": 206,
    "start_time": "2024-10-21T04:30:45.820Z"
   },
   {
    "duration": 195,
    "start_time": "2024-10-21T04:30:49.882Z"
   },
   {
    "duration": 166,
    "start_time": "2024-10-21T04:31:46.504Z"
   },
   {
    "duration": 113,
    "start_time": "2024-10-21T04:34:28.985Z"
   },
   {
    "duration": 12,
    "start_time": "2024-10-21T04:34:47.908Z"
   },
   {
    "duration": 12,
    "start_time": "2024-10-21T04:35:08.013Z"
   },
   {
    "duration": 12,
    "start_time": "2024-10-21T04:35:19.827Z"
   },
   {
    "duration": 11,
    "start_time": "2024-10-21T04:35:46.246Z"
   },
   {
    "duration": 11,
    "start_time": "2024-10-21T04:36:37.040Z"
   },
   {
    "duration": 15,
    "start_time": "2024-10-21T04:37:08.339Z"
   },
   {
    "duration": 11,
    "start_time": "2024-10-21T04:37:14.088Z"
   },
   {
    "duration": 10,
    "start_time": "2024-10-21T04:37:43.284Z"
   },
   {
    "duration": 129,
    "start_time": "2024-10-21T04:37:50.177Z"
   },
   {
    "duration": 11,
    "start_time": "2024-10-21T05:23:02.041Z"
   },
   {
    "duration": 11,
    "start_time": "2024-10-21T05:28:47.976Z"
   },
   {
    "duration": 139,
    "start_time": "2024-10-21T05:28:58.248Z"
   },
   {
    "duration": 11,
    "start_time": "2024-10-21T05:29:44.724Z"
   },
   {
    "duration": 10,
    "start_time": "2024-10-21T05:30:37.686Z"
   },
   {
    "duration": 13,
    "start_time": "2024-10-21T05:31:23.571Z"
   },
   {
    "duration": 17,
    "start_time": "2024-10-21T05:32:13.167Z"
   },
   {
    "duration": 27,
    "start_time": "2024-10-21T05:32:50.354Z"
   },
   {
    "duration": 327,
    "start_time": "2024-10-21T05:33:14.268Z"
   },
   {
    "duration": 3,
    "start_time": "2024-10-21T05:33:37.011Z"
   },
   {
    "duration": 346,
    "start_time": "2024-10-21T05:34:46.020Z"
   },
   {
    "duration": 250,
    "start_time": "2024-10-21T05:36:32.039Z"
   },
   {
    "duration": 319,
    "start_time": "2024-10-21T05:36:47.925Z"
   },
   {
    "duration": 10,
    "start_time": "2024-10-21T05:37:02.605Z"
   },
   {
    "duration": 7,
    "start_time": "2024-10-21T05:37:13.940Z"
   },
   {
    "duration": 14,
    "start_time": "2024-10-21T05:37:37.940Z"
   },
   {
    "duration": 12,
    "start_time": "2024-10-21T05:38:02.678Z"
   },
   {
    "duration": 8,
    "start_time": "2024-10-21T05:38:08.157Z"
   },
   {
    "duration": 7,
    "start_time": "2024-10-21T05:38:08.913Z"
   },
   {
    "duration": 13,
    "start_time": "2024-10-21T05:38:09.445Z"
   },
   {
    "duration": 11,
    "start_time": "2024-10-21T05:41:11.996Z"
   },
   {
    "duration": 7,
    "start_time": "2024-10-21T05:41:41.032Z"
   },
   {
    "duration": 2,
    "start_time": "2024-10-21T05:41:58.785Z"
   },
   {
    "duration": 11,
    "start_time": "2024-10-21T05:41:59.256Z"
   },
   {
    "duration": 13,
    "start_time": "2024-10-21T05:42:32.257Z"
   },
   {
    "duration": 8,
    "start_time": "2024-10-21T05:44:47.114Z"
   },
   {
    "duration": 12,
    "start_time": "2024-10-21T05:44:58.714Z"
   },
   {
    "duration": 9,
    "start_time": "2024-10-21T05:53:37.514Z"
   },
   {
    "duration": 6,
    "start_time": "2024-10-21T05:53:43.521Z"
   },
   {
    "duration": 6,
    "start_time": "2024-10-21T05:53:43.884Z"
   },
   {
    "duration": 85,
    "start_time": "2024-10-21T05:55:43.778Z"
   },
   {
    "duration": 11,
    "start_time": "2024-10-21T05:55:49.570Z"
   },
   {
    "duration": 2,
    "start_time": "2024-10-21T05:55:51.898Z"
   },
   {
    "duration": 70,
    "start_time": "2024-10-21T05:55:53.687Z"
   },
   {
    "duration": 75,
    "start_time": "2024-10-21T05:56:04.638Z"
   },
   {
    "duration": 108,
    "start_time": "2024-10-21T05:56:32.303Z"
   },
   {
    "duration": 3,
    "start_time": "2024-10-21T05:56:43.085Z"
   },
   {
    "duration": 426,
    "start_time": "2024-10-21T05:56:46.991Z"
   },
   {
    "duration": 403,
    "start_time": "2024-10-21T05:56:54.055Z"
   },
   {
    "duration": 399,
    "start_time": "2024-10-21T05:56:57.695Z"
   },
   {
    "duration": 3,
    "start_time": "2024-10-21T05:56:59.784Z"
   },
   {
    "duration": 404,
    "start_time": "2024-10-21T05:57:00.138Z"
   },
   {
    "duration": 2,
    "start_time": "2024-10-21T05:57:09.112Z"
   },
   {
    "duration": 410,
    "start_time": "2024-10-21T05:57:09.766Z"
   },
   {
    "duration": 2,
    "start_time": "2024-10-21T05:57:52.946Z"
   },
   {
    "duration": 405,
    "start_time": "2024-10-21T05:57:54.591Z"
   },
   {
    "duration": 3,
    "start_time": "2024-10-21T06:03:37.000Z"
   },
   {
    "duration": 10,
    "start_time": "2024-10-21T06:05:18.923Z"
   },
   {
    "duration": 8,
    "start_time": "2024-10-21T06:06:48.258Z"
   },
   {
    "duration": 4,
    "start_time": "2024-10-21T06:07:08.843Z"
   },
   {
    "duration": 4,
    "start_time": "2024-10-21T06:07:11.342Z"
   },
   {
    "duration": 9,
    "start_time": "2024-10-21T06:07:12.695Z"
   },
   {
    "duration": 3,
    "start_time": "2024-10-21T06:07:17.890Z"
   },
   {
    "duration": 3,
    "start_time": "2024-10-21T06:07:37.180Z"
   },
   {
    "duration": 3,
    "start_time": "2024-10-21T06:07:37.659Z"
   },
   {
    "duration": 122,
    "start_time": "2024-10-21T06:07:38.284Z"
   },
   {
    "duration": 3,
    "start_time": "2024-10-21T06:07:47.814Z"
   },
   {
    "duration": 22,
    "start_time": "2024-10-21T06:07:49.510Z"
   },
   {
    "duration": 2,
    "start_time": "2024-10-21T06:08:27.053Z"
   },
   {
    "duration": 3,
    "start_time": "2024-10-21T06:08:27.699Z"
   },
   {
    "duration": 20,
    "start_time": "2024-10-21T06:08:28.324Z"
   },
   {
    "duration": 3,
    "start_time": "2024-10-21T06:08:58.223Z"
   },
   {
    "duration": 3,
    "start_time": "2024-10-21T06:08:58.866Z"
   },
   {
    "duration": 20,
    "start_time": "2024-10-21T06:08:59.680Z"
   },
   {
    "duration": 3,
    "start_time": "2024-10-21T06:09:52.055Z"
   },
   {
    "duration": 4,
    "start_time": "2024-10-21T06:09:52.666Z"
   },
   {
    "duration": 20,
    "start_time": "2024-10-21T06:09:53.249Z"
   },
   {
    "duration": 3,
    "start_time": "2024-10-21T06:11:21.155Z"
   },
   {
    "duration": 2,
    "start_time": "2024-10-21T06:11:21.829Z"
   },
   {
    "duration": 459,
    "start_time": "2024-10-21T06:11:22.617Z"
   },
   {
    "duration": 3,
    "start_time": "2024-10-21T06:12:02.034Z"
   },
   {
    "duration": 3,
    "start_time": "2024-10-21T06:12:05.131Z"
   },
   {
    "duration": 393,
    "start_time": "2024-10-21T06:12:06.054Z"
   },
   {
    "duration": 92,
    "start_time": "2024-10-21T06:24:14.986Z"
   },
   {
    "duration": 10,
    "start_time": "2024-10-21T06:32:35.379Z"
   },
   {
    "duration": 5,
    "start_time": "2024-10-21T06:32:44.670Z"
   },
   {
    "duration": 195,
    "start_time": "2024-10-21T06:34:38.580Z"
   },
   {
    "duration": 1381,
    "start_time": "2024-10-21T06:37:48.298Z"
   },
   {
    "duration": 3,
    "start_time": "2024-10-21T06:37:49.680Z"
   },
   {
    "duration": 74,
    "start_time": "2024-10-21T06:37:49.685Z"
   },
   {
    "duration": 27,
    "start_time": "2024-10-21T06:37:49.761Z"
   },
   {
    "duration": 62,
    "start_time": "2024-10-21T06:37:49.790Z"
   },
   {
    "duration": 128,
    "start_time": "2024-10-21T06:37:49.853Z"
   },
   {
    "duration": 325,
    "start_time": "2024-10-21T06:37:49.983Z"
   },
   {
    "duration": 265,
    "start_time": "2024-10-21T06:37:50.310Z"
   },
   {
    "duration": 2,
    "start_time": "2024-10-21T06:37:50.577Z"
   },
   {
    "duration": 194,
    "start_time": "2024-10-21T06:37:50.582Z"
   },
   {
    "duration": 121,
    "start_time": "2024-10-21T06:37:50.778Z"
   },
   {
    "duration": 353,
    "start_time": "2024-10-21T06:37:50.901Z"
   },
   {
    "duration": 247,
    "start_time": "2024-10-21T06:37:51.256Z"
   },
   {
    "duration": 270,
    "start_time": "2024-10-21T06:37:51.504Z"
   },
   {
    "duration": 8,
    "start_time": "2024-10-21T06:37:51.775Z"
   },
   {
    "duration": 25,
    "start_time": "2024-10-21T06:37:51.784Z"
   },
   {
    "duration": 97,
    "start_time": "2024-10-21T06:37:51.810Z"
   },
   {
    "duration": 26,
    "start_time": "2024-10-21T06:37:51.908Z"
   },
   {
    "duration": 14,
    "start_time": "2024-10-21T06:37:51.935Z"
   },
   {
    "duration": 87,
    "start_time": "2024-10-21T06:37:51.950Z"
   },
   {
    "duration": 2,
    "start_time": "2024-10-21T06:37:52.038Z"
   },
   {
    "duration": 10,
    "start_time": "2024-10-21T06:37:52.041Z"
   },
   {
    "duration": 22,
    "start_time": "2024-10-21T06:37:52.052Z"
   },
   {
    "duration": 34,
    "start_time": "2024-10-21T06:37:52.075Z"
   },
   {
    "duration": 16,
    "start_time": "2024-10-21T06:37:52.110Z"
   },
   {
    "duration": 389,
    "start_time": "2024-10-21T06:37:52.127Z"
   },
   {
    "duration": 2,
    "start_time": "2024-10-21T06:37:52.518Z"
   },
   {
    "duration": 43,
    "start_time": "2024-10-21T06:37:52.522Z"
   },
   {
    "duration": 18,
    "start_time": "2024-10-21T06:37:52.566Z"
   },
   {
    "duration": 197,
    "start_time": "2024-10-21T06:37:52.586Z"
   },
   {
    "duration": 2,
    "start_time": "2024-10-21T06:43:31.379Z"
   },
   {
    "duration": 396,
    "start_time": "2024-10-21T06:43:33.561Z"
   },
   {
    "duration": 1268,
    "start_time": "2024-10-21T06:44:21.451Z"
   },
   {
    "duration": 2,
    "start_time": "2024-10-21T06:44:22.721Z"
   },
   {
    "duration": 59,
    "start_time": "2024-10-21T06:44:22.724Z"
   },
   {
    "duration": 20,
    "start_time": "2024-10-21T06:44:22.785Z"
   },
   {
    "duration": 13,
    "start_time": "2024-10-21T06:44:22.806Z"
   },
   {
    "duration": 7,
    "start_time": "2024-10-21T06:44:22.821Z"
   },
   {
    "duration": 245,
    "start_time": "2024-10-21T06:44:22.830Z"
   },
   {
    "duration": 300,
    "start_time": "2024-10-21T06:44:23.077Z"
   },
   {
    "duration": 2,
    "start_time": "2024-10-21T06:44:23.379Z"
   },
   {
    "duration": 184,
    "start_time": "2024-10-21T06:44:23.383Z"
   },
   {
    "duration": 124,
    "start_time": "2024-10-21T06:44:23.569Z"
   },
   {
    "duration": 340,
    "start_time": "2024-10-21T06:44:23.694Z"
   },
   {
    "duration": 228,
    "start_time": "2024-10-21T06:44:24.035Z"
   },
   {
    "duration": 252,
    "start_time": "2024-10-21T06:44:24.265Z"
   },
   {
    "duration": 9,
    "start_time": "2024-10-21T06:44:24.519Z"
   },
   {
    "duration": 67,
    "start_time": "2024-10-21T06:44:24.529Z"
   },
   {
    "duration": 48,
    "start_time": "2024-10-21T06:44:24.597Z"
   },
   {
    "duration": 23,
    "start_time": "2024-10-21T06:44:24.647Z"
   },
   {
    "duration": 12,
    "start_time": "2024-10-21T06:44:24.672Z"
   },
   {
    "duration": 122,
    "start_time": "2024-10-21T06:44:24.685Z"
   },
   {
    "duration": 15,
    "start_time": "2024-10-21T06:44:24.808Z"
   },
   {
    "duration": 41,
    "start_time": "2024-10-21T06:44:24.824Z"
   },
   {
    "duration": 8,
    "start_time": "2024-10-21T06:44:24.866Z"
   },
   {
    "duration": 9,
    "start_time": "2024-10-21T06:44:24.875Z"
   },
   {
    "duration": 10,
    "start_time": "2024-10-21T06:44:24.885Z"
   },
   {
    "duration": 395,
    "start_time": "2024-10-21T06:44:24.896Z"
   },
   {
    "duration": 2,
    "start_time": "2024-10-21T06:44:25.293Z"
   },
   {
    "duration": 2,
    "start_time": "2024-10-21T06:44:25.306Z"
   },
   {
    "duration": 27,
    "start_time": "2024-10-21T06:44:25.310Z"
   },
   {
    "duration": 252,
    "start_time": "2024-10-21T06:44:25.338Z"
   },
   {
    "duration": 1578,
    "start_time": "2024-10-22T00:54:06.704Z"
   },
   {
    "duration": 4,
    "start_time": "2024-10-22T00:54:38.271Z"
   },
   {
    "duration": 5,
    "start_time": "2024-10-22T00:54:38.277Z"
   },
   {
    "duration": 96,
    "start_time": "2024-10-22T00:54:38.283Z"
   },
   {
    "duration": 21,
    "start_time": "2024-10-22T00:54:38.380Z"
   },
   {
    "duration": 6,
    "start_time": "2024-10-22T00:54:38.403Z"
   },
   {
    "duration": 4,
    "start_time": "2024-10-22T00:54:38.411Z"
   },
   {
    "duration": 202,
    "start_time": "2024-10-22T00:54:38.416Z"
   },
   {
    "duration": 248,
    "start_time": "2024-10-22T00:54:38.620Z"
   },
   {
    "duration": 2,
    "start_time": "2024-10-22T00:54:38.870Z"
   },
   {
    "duration": 176,
    "start_time": "2024-10-22T00:54:38.873Z"
   },
   {
    "duration": 122,
    "start_time": "2024-10-22T00:54:39.050Z"
   },
   {
    "duration": 410,
    "start_time": "2024-10-22T00:54:39.174Z"
   },
   {
    "duration": 217,
    "start_time": "2024-10-22T00:54:39.586Z"
   },
   {
    "duration": 241,
    "start_time": "2024-10-22T00:54:39.804Z"
   },
   {
    "duration": 8,
    "start_time": "2024-10-22T00:54:40.046Z"
   },
   {
    "duration": 30,
    "start_time": "2024-10-22T00:54:40.055Z"
   },
   {
    "duration": 19,
    "start_time": "2024-10-22T00:54:40.087Z"
   },
   {
    "duration": 6,
    "start_time": "2024-10-22T00:54:40.107Z"
   },
   {
    "duration": 14,
    "start_time": "2024-10-22T00:54:40.114Z"
   },
   {
    "duration": 80,
    "start_time": "2024-10-22T00:54:40.129Z"
   },
   {
    "duration": 2,
    "start_time": "2024-10-22T00:54:40.210Z"
   },
   {
    "duration": 10,
    "start_time": "2024-10-22T00:54:40.213Z"
   },
   {
    "duration": 12,
    "start_time": "2024-10-22T00:54:40.224Z"
   },
   {
    "duration": 15,
    "start_time": "2024-10-22T00:54:40.239Z"
   },
   {
    "duration": 105,
    "start_time": "2024-10-22T00:54:40.255Z"
   },
   {
    "duration": 0,
    "start_time": "2024-10-22T00:54:40.362Z"
   },
   {
    "duration": 0,
    "start_time": "2024-10-22T00:54:40.362Z"
   },
   {
    "duration": 0,
    "start_time": "2024-10-22T00:54:40.363Z"
   },
   {
    "duration": 0,
    "start_time": "2024-10-22T00:54:40.364Z"
   },
   {
    "duration": 0,
    "start_time": "2024-10-22T00:54:40.365Z"
   },
   {
    "duration": 0,
    "start_time": "2024-10-22T00:54:40.366Z"
   },
   {
    "duration": 0,
    "start_time": "2024-10-22T00:54:40.366Z"
   },
   {
    "duration": 3,
    "start_time": "2024-10-22T00:54:53.419Z"
   },
   {
    "duration": 328,
    "start_time": "2024-10-22T00:54:56.763Z"
   },
   {
    "duration": 1286,
    "start_time": "2024-10-22T00:59:58.353Z"
   },
   {
    "duration": 3,
    "start_time": "2024-10-22T00:59:59.641Z"
   },
   {
    "duration": 90,
    "start_time": "2024-10-22T00:59:59.645Z"
   },
   {
    "duration": 21,
    "start_time": "2024-10-22T00:59:59.736Z"
   },
   {
    "duration": 6,
    "start_time": "2024-10-22T00:59:59.759Z"
   },
   {
    "duration": 6,
    "start_time": "2024-10-22T00:59:59.766Z"
   },
   {
    "duration": 207,
    "start_time": "2024-10-22T00:59:59.773Z"
   },
   {
    "duration": 287,
    "start_time": "2024-10-22T00:59:59.981Z"
   },
   {
    "duration": 2,
    "start_time": "2024-10-22T01:00:00.270Z"
   },
   {
    "duration": 219,
    "start_time": "2024-10-22T01:00:00.274Z"
   },
   {
    "duration": 113,
    "start_time": "2024-10-22T01:00:00.494Z"
   },
   {
    "duration": 381,
    "start_time": "2024-10-22T01:00:00.608Z"
   },
   {
    "duration": 233,
    "start_time": "2024-10-22T01:00:00.990Z"
   },
   {
    "duration": 258,
    "start_time": "2024-10-22T01:00:01.226Z"
   },
   {
    "duration": 7,
    "start_time": "2024-10-22T01:00:01.485Z"
   },
   {
    "duration": 52,
    "start_time": "2024-10-22T01:00:01.494Z"
   },
   {
    "duration": 217,
    "start_time": "2024-10-22T01:00:01.548Z"
   },
   {
    "duration": 67,
    "start_time": "2024-10-22T01:00:01.766Z"
   },
   {
    "duration": 39,
    "start_time": "2024-10-22T01:00:01.834Z"
   },
   {
    "duration": 123,
    "start_time": "2024-10-22T01:00:01.875Z"
   },
   {
    "duration": 2,
    "start_time": "2024-10-22T01:00:01.999Z"
   },
   {
    "duration": 31,
    "start_time": "2024-10-22T01:00:02.002Z"
   },
   {
    "duration": 13,
    "start_time": "2024-10-22T01:00:02.034Z"
   },
   {
    "duration": 23,
    "start_time": "2024-10-22T01:00:02.048Z"
   },
   {
    "duration": 51,
    "start_time": "2024-10-22T01:00:02.073Z"
   },
   {
    "duration": 21,
    "start_time": "2024-10-22T01:00:02.125Z"
   },
   {
    "duration": 366,
    "start_time": "2024-10-22T01:00:02.148Z"
   },
   {
    "duration": 3,
    "start_time": "2024-10-22T01:00:02.515Z"
   },
   {
    "duration": 180,
    "start_time": "2024-10-22T01:00:02.519Z"
   },
   {
    "duration": 78,
    "start_time": "2024-10-22T01:00:02.700Z"
   },
   {
    "duration": 248,
    "start_time": "2024-10-22T01:00:02.779Z"
   },
   {
    "duration": 3,
    "start_time": "2024-10-22T01:01:52.695Z"
   },
   {
    "duration": 4,
    "start_time": "2024-10-22T01:02:17.339Z"
   },
   {
    "duration": 4,
    "start_time": "2024-10-22T01:02:18.745Z"
   },
   {
    "duration": 4,
    "start_time": "2024-10-22T01:02:19.936Z"
   },
   {
    "duration": 4,
    "start_time": "2024-10-22T01:02:21.094Z"
   },
   {
    "duration": 4,
    "start_time": "2024-10-22T01:02:22.998Z"
   },
   {
    "duration": 3,
    "start_time": "2024-10-22T01:02:24.713Z"
   },
   {
    "duration": 4,
    "start_time": "2024-10-22T01:02:56.200Z"
   },
   {
    "duration": 3,
    "start_time": "2024-10-22T01:02:57.857Z"
   },
   {
    "duration": 4,
    "start_time": "2024-10-22T01:02:59.017Z"
   },
   {
    "duration": 4,
    "start_time": "2024-10-22T01:03:00.097Z"
   },
   {
    "duration": 1298,
    "start_time": "2024-10-22T01:04:01.424Z"
   },
   {
    "duration": 2,
    "start_time": "2024-10-22T01:04:02.724Z"
   },
   {
    "duration": 95,
    "start_time": "2024-10-22T01:04:02.727Z"
   },
   {
    "duration": 21,
    "start_time": "2024-10-22T01:04:02.824Z"
   },
   {
    "duration": 7,
    "start_time": "2024-10-22T01:04:02.846Z"
   },
   {
    "duration": 16,
    "start_time": "2024-10-22T01:04:02.854Z"
   },
   {
    "duration": 282,
    "start_time": "2024-10-22T01:04:02.871Z"
   },
   {
    "duration": 279,
    "start_time": "2024-10-22T01:04:03.154Z"
   },
   {
    "duration": 2,
    "start_time": "2024-10-22T01:04:03.435Z"
   },
   {
    "duration": 183,
    "start_time": "2024-10-22T01:04:03.442Z"
   },
   {
    "duration": 114,
    "start_time": "2024-10-22T01:04:03.626Z"
   },
   {
    "duration": 353,
    "start_time": "2024-10-22T01:04:03.741Z"
   },
   {
    "duration": 234,
    "start_time": "2024-10-22T01:04:04.096Z"
   },
   {
    "duration": 247,
    "start_time": "2024-10-22T01:04:04.331Z"
   },
   {
    "duration": 7,
    "start_time": "2024-10-22T01:04:04.580Z"
   },
   {
    "duration": 24,
    "start_time": "2024-10-22T01:04:04.589Z"
   },
   {
    "duration": 17,
    "start_time": "2024-10-22T01:04:04.615Z"
   },
   {
    "duration": 16,
    "start_time": "2024-10-22T01:04:04.633Z"
   },
   {
    "duration": 37,
    "start_time": "2024-10-22T01:04:04.650Z"
   },
   {
    "duration": 79,
    "start_time": "2024-10-22T01:04:04.689Z"
   },
   {
    "duration": 17,
    "start_time": "2024-10-22T01:04:04.769Z"
   },
   {
    "duration": 17,
    "start_time": "2024-10-22T01:04:04.787Z"
   },
   {
    "duration": 7,
    "start_time": "2024-10-22T01:04:04.805Z"
   },
   {
    "duration": 4,
    "start_time": "2024-10-22T01:04:04.813Z"
   },
   {
    "duration": 12,
    "start_time": "2024-10-22T01:04:04.818Z"
   },
   {
    "duration": 6,
    "start_time": "2024-10-22T01:04:04.831Z"
   },
   {
    "duration": 320,
    "start_time": "2024-10-22T01:04:04.838Z"
   },
   {
    "duration": 2,
    "start_time": "2024-10-22T01:04:05.161Z"
   },
   {
    "duration": 37,
    "start_time": "2024-10-22T01:04:05.164Z"
   },
   {
    "duration": 10,
    "start_time": "2024-10-22T01:04:05.202Z"
   },
   {
    "duration": 221,
    "start_time": "2024-10-22T01:04:05.214Z"
   }
  ],
  "kernelspec": {
   "display_name": "Python 3 (ipykernel)",
   "language": "python",
   "name": "python3"
  },
  "language_info": {
   "codemirror_mode": {
    "name": "ipython",
    "version": 3
   },
   "file_extension": ".py",
   "mimetype": "text/x-python",
   "name": "python",
   "nbconvert_exporter": "python",
   "pygments_lexer": "ipython3",
   "version": "3.9.5"
  },
  "toc": {
   "base_numbering": 1,
   "nav_menu": {},
   "number_sections": true,
   "sideBar": true,
   "skip_h1_title": true,
   "title_cell": "Содержание",
   "title_sidebar": "Contents",
   "toc_cell": true,
   "toc_position": {
    "height": "calc(100% - 180px)",
    "left": "10px",
    "top": "150px",
    "width": "165px"
   },
   "toc_section_display": true,
   "toc_window_display": true
  }
 },
 "nbformat": 4,
 "nbformat_minor": 2
}
